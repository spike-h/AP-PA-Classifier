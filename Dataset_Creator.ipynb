{
  "nbformat": 4,
  "nbformat_minor": 0,
  "metadata": {
    "colab": {
      "name": "Dataset Creator",
      "provenance": [],
      "collapsed_sections": [
        "0No-SI7bGxFN",
        "YhBQihc69OqV",
        "qVVGY7_JfAiY",
        "Vq1fjygmokq8",
        "rT3siDHbb6Vp",
        "DKSclpJAe8G7",
        "eVZhVfN2fO2U"
      ],
      "machine_shape": "hm",
      "include_colab_link": true
    },
    "kernelspec": {
      "name": "python3",
      "display_name": "Python 3"
    },
    "language_info": {
      "name": "python"
    },
    "accelerator": "GPU"
  },
  "cells": [
    {
      "cell_type": "markdown",
      "metadata": {
        "id": "view-in-github",
        "colab_type": "text"
      },
      "source": [
        "<a href=\"https://colab.research.google.com/github/spike-h/AP-PA-Classifier/blob/main/Dataset_Creator.ipynb\" target=\"_parent\"><img src=\"https://colab.research.google.com/assets/colab-badge.svg\" alt=\"Open In Colab\"/></a>"
      ]
    },
    {
      "cell_type": "code",
      "metadata": {
        "id": "FSccms5KbUNx",
        "colab": {
          "base_uri": "https://localhost:8080/"
        },
        "outputId": "69011e5c-a583-4537-d852-97921157d08d"
      },
      "source": [
        "from google.colab import drive\n",
        "drive.mount('/content/drive')"
      ],
      "execution_count": null,
      "outputs": [
        {
          "output_type": "stream",
          "name": "stdout",
          "text": [
            "Mounted at /content/drive\n"
          ]
        }
      ]
    },
    {
      "cell_type": "markdown",
      "metadata": {
        "id": "xUeddQizbU-1"
      },
      "source": [
        "#Imports"
      ]
    },
    {
      "cell_type": "markdown",
      "metadata": {
        "id": "v2GQzSrPGuA1"
      },
      "source": [
        "##Pips (restart runtime after running)"
      ]
    },
    {
      "cell_type": "code",
      "metadata": {
        "id": "ISptNvTabNba",
        "colab": {
          "base_uri": "https://localhost:8080/"
        },
        "outputId": "cf89b544-878b-44dd-b10b-a01d9fb12188"
      },
      "source": [
        "'''\n",
        " importing from https://github.com/Engineero/tf_sprinkles\n",
        "'''\n",
        "!pip install tf_sprinkles &> /dev/null\n",
        "!pip install pydicom &> /dev/null\n",
        "!pip install pylibjpeg pylibjpeg-libjpeg  &> /dev/null\n",
        "!pip install python-gdcm &> /dev/null\n",
        "!pip install -q tensorflow-io &> /dev/null\n",
        "!pip install numpy --upgrade"
      ],
      "execution_count": null,
      "outputs": [
        {
          "output_type": "stream",
          "name": "stdout",
          "text": [
            "Requirement already satisfied: numpy in /usr/local/lib/python3.7/dist-packages (1.19.5)\n",
            "Collecting numpy\n",
            "  Downloading numpy-1.21.2-cp37-cp37m-manylinux_2_12_x86_64.manylinux2010_x86_64.whl (15.7 MB)\n",
            "\u001b[K     |████████████████████████████████| 15.7 MB 309 kB/s \n",
            "\u001b[?25hInstalling collected packages: numpy\n",
            "  Attempting uninstall: numpy\n",
            "    Found existing installation: numpy 1.19.5\n",
            "    Uninstalling numpy-1.19.5:\n",
            "      Successfully uninstalled numpy-1.19.5\n",
            "\u001b[31mERROR: pip's dependency resolver does not currently take into account all the packages that are installed. This behaviour is the source of the following dependency conflicts.\n",
            "tensorflow 2.6.0 requires numpy~=1.19.2, but you have numpy 1.21.2 which is incompatible.\n",
            "datascience 0.10.6 requires folium==0.2.1, but you have folium 0.8.3 which is incompatible.\n",
            "albumentations 0.1.12 requires imgaug<0.2.7,>=0.2.5, but you have imgaug 0.2.9 which is incompatible.\u001b[0m\n",
            "Successfully installed numpy-1.21.2\n"
          ]
        },
        {
          "output_type": "display_data",
          "data": {
            "application/vnd.colab-display-data+json": {
              "pip_warning": {
                "packages": [
                  "numpy"
                ]
              }
            }
          },
          "metadata": {}
        }
      ]
    },
    {
      "cell_type": "markdown",
      "metadata": {
        "id": "0No-SI7bGxFN"
      },
      "source": [
        "##imports"
      ]
    },
    {
      "cell_type": "code",
      "metadata": {
        "colab": {
          "base_uri": "https://localhost:8080/"
        },
        "id": "qSJpJOKOGG5-",
        "outputId": "ea750791-37f4-47b2-e1b6-8ec1af07491b"
      },
      "source": [
        "import os\n",
        "\n",
        "import matplotlib.pylab as plt\n",
        "import numpy as np\n",
        "import pandas as pd\n",
        "import random\n",
        "from tf_sprinkles import Sprinkles\n",
        "import pydicom\n",
        "from tqdm import tqdm\n",
        "import pylibjpeg\n",
        "import gdcm\n",
        "import tensorflow_io as tfio\n",
        "import time\n",
        "# import tracemalloc\n",
        "\n",
        "import tensorflow as tf\n",
        "import tensorflow_hub as hub\n",
        "\n",
        "print(\"TF version:\", tf.__version__)\n",
        "print(\"Hub version:\", hub.__version__)"
      ],
      "execution_count": null,
      "outputs": [
        {
          "output_type": "stream",
          "name": "stdout",
          "text": [
            "TF version: 2.6.0\n",
            "Hub version: 0.12.0\n"
          ]
        }
      ]
    },
    {
      "cell_type": "code",
      "metadata": {
        "id": "onDAy5-lpCE9"
      },
      "source": [
        "colabDir = '/content/drive/MyDrive/AP PA Stuff/Datasets/Original/'\n",
        "tensorflowDir = '/content/drive/MyDrive/AP PA Stuff/Datasets/Tensorflow/'"
      ],
      "execution_count": null,
      "outputs": []
    },
    {
      "cell_type": "markdown",
      "metadata": {
        "id": "Rxi1_0x7WadX"
      },
      "source": [
        "#Creating tf.data.Dataset Datasets"
      ]
    },
    {
      "cell_type": "markdown",
      "metadata": {
        "id": "5BZ9VuWc-It7"
      },
      "source": [
        "##Helper/Starter functions"
      ]
    },
    {
      "cell_type": "code",
      "metadata": {
        "id": "rUHBLeTEEcZV"
      },
      "source": [
        "class_distributions = {}"
      ],
      "execution_count": null,
      "outputs": []
    },
    {
      "cell_type": "code",
      "metadata": {
        "id": "eIMUy9Awcd2w"
      },
      "source": [
        "#Sprinkles augmentation setup\n",
        "\n",
        "#Set sprinkles to make 50-100 square holes in the image with side length of 10 pixels 30% ofthe time\n",
        "class RandomSprinkles(tf.keras.layers.Layer):\n",
        "  def __init__(self, **kwargs):\n",
        "    super().__init__()\n",
        "\n",
        "  def call(self, image):\n",
        "    if random.random() < .3:\n",
        "      sprinkles = Sprinkles(num_holes=random.randint(50,100), side_length=10)\n",
        "      return sprinkles(image)\n",
        "    return image"
      ],
      "execution_count": null,
      "outputs": []
    },
    {
      "cell_type": "code",
      "metadata": {
        "id": "VCZaec9y2t22"
      },
      "source": [
        "#Helper functions to create and augment the tf.data.Datasets\n",
        "IMG_SIZE = 256 #IF CHANGE HERE THEN ALSO CHANGE IN TRAIN MODEL.py\n",
        "BATCH_SIZE = 16 #IF CHANGE HERE THEN ALSO CHANGE IN TRAIN MODEL.py\n",
        "rngJesus = 8679309 #set seed for consistency when running but doesnt affect sprinkles soooooo maybe pointless\n",
        "\n",
        "def read_image(filename, label, bmp=None):\n",
        "  image_string = tf.io.read_file(filename)\n",
        "  image_decoded = tf.image.decode_image(image_string, channels=3, expand_animations=False)\n",
        "  image = tf.cast(image_decoded, tf.float32) / 255.0\n",
        "  image = tf.image.resize(image, [IMG_SIZE, IMG_SIZE])\n",
        "  return image, label\n",
        "\n",
        "def read_dicom_image(dcmFile, label):\n",
        "  # image_decoded = tf.convert_to_tensor(dcmFile)\n",
        "  # image_decoded = tf.expand_dims(image_decoded, axis=-1)\n",
        "  image = tf.image.grayscale_to_rgb(dcmFile)\n",
        "  print('a')\n",
        "  image = tf.cast(image, tf.float32) / 255.0\n",
        "  print('b')\n",
        "  # image = tf.image.resize(image, [IMG_SIZE, IMG_SIZE])\n",
        "  return image, label\n",
        "\n",
        "preprocessing_model = tf.keras.Sequential([\n",
        "  RandomSprinkles(),\n",
        "  tf.keras.layers.RandomFlip(\"horizontal\", seed=rngJesus),\n",
        "  tf.keras.layers.RandomContrast(factor=0.1, seed=rngJesus),\n",
        "  tf.keras.layers.RandomTranslation(0, 0.1, fill_mode='constant', seed=rngJesus),\n",
        "  tf.keras.layers.RandomTranslation(0.1, 0, fill_mode='constant', seed=rngJesus),\n",
        "  tf.keras.layers.RandomRotation(.069, fill_mode='constant', seed=rngJesus)\n",
        "])\n",
        "# preprocessing_model.add(\n",
        "#   tf.keras.layers.RandomRotation(.111, fill_mode='constant', seed=rngJesus)),\n",
        "# preprocessing_model.add(\n",
        "#   tf.keras.layers.RandomTranslation(0, 0.1, fill_mode='constant', seed=rngJesus))\n",
        "# preprocessing_model.add(\n",
        "#   tf.keras.layers.RandomTranslation(0.1, 0, fill_mode='constant', seed=rngJesus))\n",
        "# # preprocessing_model.add(\n",
        "# #   tf.keras.layers.RandomZoom(0.05, 0.05, fill_mode='constant', seed=rngJesus))\n",
        "# preprocessing_model.add(\n",
        "#   tf.keras.layers.RandomFlip(\"horizontal\", seed=rngJesus))\n",
        "# preprocessing_model.add(RandomSprinkles())\n",
        "\n",
        "#Function to show image\n",
        "def show_image(dataset):\n",
        "  dataset = dataset.take(1)\n",
        "  image, label = next(iter(dataset))\n",
        "  image = image[0,:,:,:]\n",
        "  plt.imshow(image)\n",
        "  plt.axis('off')\n",
        "  plt.show()\n",
        "\n",
        "#Training/Validation/Test Split\n",
        "def training_split(dataset, training_prop=0.8, validation_prop=0.1, testing_prop=0.1, train=False):\n",
        "  print('c')\n",
        "  dataset_size = dataset.cardinality().numpy()\n",
        "  print('d')\n",
        "  train_size = int(training_prop * dataset_size)\n",
        "  print('e')\n",
        "  val_size = int(validation_prop * dataset_size)\n",
        "  print('f')\n",
        "  test_size = int(testing_prop * dataset_size)\n",
        "  print('g')\n",
        "  \n",
        "  if not train:\n",
        "    train_ds = dataset.take(train_size).batch(BATCH_SIZE).prefetch(tf.data.AUTOTUNE)\n",
        "    #.prefetch(tf.data.AUTOTUNE)   \n",
        "    print('h') \n",
        "    val_ds = dataset.skip(train_size).take(val_size).batch(BATCH_SIZE).prefetch(tf.data.AUTOTUNE)\n",
        "    print('i')\n",
        "    test_ds = dataset.skip(train_size).skip(val_size).batch(BATCH_SIZE).prefetch(tf.data.AUTOTUNE)\n",
        "    print('j')\n",
        "  \n",
        "  else:\n",
        "    train_ds = dataset.take(train_size)\n",
        "    #.prefetch(tf.data.AUTOTUNE)   \n",
        "    print('h') \n",
        "    val_ds = dataset.skip(train_size).take(val_size)\n",
        "    print('i')\n",
        "    test_ds = dataset.skip(train_size).skip(val_size)\n",
        "    print('j')\n",
        "  \n",
        "  return train_ds, val_ds, test_ds\n",
        "\n",
        "def normalize(image, label):\n",
        "  image = tf.cast(image, tf.float32) / 255.0\n",
        "  return image, label"
      ],
      "execution_count": 69,
      "outputs": []
    },
    {
      "cell_type": "markdown",
      "metadata": {
        "id": "JNF2CKvdNtl3"
      },
      "source": [
        "While many of the cells will look mostly the same, the difference lies in the file paths and metadata csv fields (and some variable names)"
      ]
    },
    {
      "cell_type": "markdown",
      "metadata": {
        "id": "YhBQihc69OqV"
      },
      "source": [
        "##Training\n"
      ]
    },
    {
      "cell_type": "code",
      "metadata": {
        "id": "tB8IG1pCbzp1"
      },
      "source": [
        "def random_shard(shard_size, dataset_size):\n",
        "  num_shards = -(-dataset_size // shard_size)  # Ceil division.\n",
        "  offsets = np.linspace(\n",
        "      0, dataset_size, num=num_shards, endpoint=False, dtype=np.int64)\n",
        "\n",
        "  def _random_shard(dataset):\n",
        "    sharded_dataset = tf.data.Dataset.from_tensor_slices(offsets)\n",
        "    sharded_dataset = sharded_dataset.shuffle(num_shards)\n",
        "    sharded_dataset = sharded_dataset.map(\n",
        "        lambda offset: dataset.skip(offset).take(shard_size))\n",
        "    print(sharded_dataset)\n",
        "    return sharded_dataset\n",
        "\n",
        "  return _random_shard\n"
      ],
      "execution_count": null,
      "outputs": []
    },
    {
      "cell_type": "code",
      "metadata": {
        "id": "zxzhZXTbQ_8W"
      },
      "source": [
        "import gc\n",
        "count = 0\n",
        "def read_training_dataset(file_name, label):\n",
        "  image = tf.io.read_file(file_name)\n",
        "  if label == 999.0:\n",
        "    label = tfio.image.decode_dicom_data(image, tags=[tfio.image.dicom_tags.SeriesDescription])[0]\n",
        "    image = tfio.image.decode_dicom_image(image)[0,:,:,:]\n",
        "    image = tf.image.resize(image, [IMG_SIZE, IMG_SIZE])\n",
        "    image = tf.image.grayscale_to_rgb(image)\n",
        "    if tf.strings.regex_full_match(label, \"(.*AP.*)\"):\n",
        "      label = 0.0\n",
        "    elif tf.strings.regex_full_match(label, \"(.*PA.*)\"):\n",
        "      label = 1.0\n",
        "    else:\n",
        "      label = 999.0\n",
        "      print(label)\n",
        "  else:\n",
        "    image = tf.image.decode_jpeg(image, channels=3)\n",
        "    image = tf.image.resize(image, [IMG_SIZE, IMG_SIZE])\n",
        "  time.sleep(.002)\n",
        "  gc.collect()\n",
        "  return image, label\n"
      ],
      "execution_count": null,
      "outputs": []
    },
    {
      "cell_type": "code",
      "metadata": {
        "id": "j8js-YjFHiCM"
      },
      "source": [
        "def better_sharding(dataset, num_shards):\n",
        "  return tf.data.Dataset.from_tensor_slices([dataset.shard(num_shards, i) for i in range(0,num_shards)])"
      ],
      "execution_count": null,
      "outputs": []
    },
    {
      "cell_type": "code",
      "metadata": {
        "id": "GRmAf54gZSst"
      },
      "source": [
        "#TEST ON 13-24 FILE GROUPS AND KAGGLE TEST"
      ],
      "execution_count": null,
      "outputs": []
    },
    {
      "cell_type": "code",
      "metadata": {
        "id": "uTK_NmeUDisa"
      },
      "source": [
        "Kaggle_AP = 0\n",
        "Kaggle_PA = 0\n",
        "IEEE_PA = 0\n",
        "IEEE_AP = 0\n",
        "epoch_number = 9\n",
        "num_shards = 4\n",
        "\n",
        "def train_gen(half=None):\n",
        "  global file_count\n",
        "  global Kaggle_AP\n",
        "  global Kaggle_PA\n",
        "  global IEEE_AP\n",
        "  global IEEE_PA\n",
        "\n",
        "  dataDir = 'stage_2_train_images/'\n",
        "\n",
        "  #Getting dcm file paths from premade folders\n",
        "  #I manually Separated dcm into seperate folders bc google couldnt read 26k files in one line\n",
        "  file_paths = []\n",
        "  labels = []\n",
        "  dcm_dir_names = [str(i) for i in range(1,25)]\n",
        "  for name in dcm_dir_names:\n",
        "    dcm_dir = colabDir + dataDir + name + '/'\n",
        "    files = os.listdir(dcm_dir)\n",
        "    for file in files:\n",
        "      file_paths.append(dcm_dir + file)\n",
        "      labels.append(999.0)\n",
        "\n",
        "  # dataDir = 'stage_2_test_images/'\n",
        "  # dcm_files = os.listdir(colabDir + dataDir)\n",
        "  # for dcm in dcm_files:\n",
        "  #   file_paths.append(colabDir + dataDir + dcm)\n",
        "  #   labels.append('placeholder')\n",
        "\n",
        "  # ind=0\n",
        "  # if half:\n",
        "  #   half = 10000\n",
        "  # while ind<len(file_paths[:half]):\n",
        "  #   dcm = pydicom.dcmread(file_paths[ind])\n",
        "  #   image = dcm.pixel_array\n",
        "  #   image = tf.image.resize(tf.expand_dims(image, axis=-1), [IMG_SIZE, IMG_SIZE])\n",
        "  #   image = tf.image.grayscale_to_rgb(image)\n",
        "  #   label = dcm.SeriesDescription\n",
        "  #   if 'AP' in label:\n",
        "  #     Kaggle_AP += 1\n",
        "  #     label = 0.0\n",
        "  #   elif 'PA' in label:\n",
        "  #     Kaggle_PA += 1\n",
        "  #     label = 1.0\n",
        "  #   yield image, label\n",
        "  #   ind+=1\n",
        "\n",
        "  dataDir = 'covid-chestxray-dataset-master/covid-chestxray-dataset-master/'\n",
        "\n",
        "  METADATA_CSV_PATH = colabDir + dataDir + 'metadata.csv' #train metadata path\n",
        "  metadata = pd.read_csv(METADATA_CSV_PATH)\n",
        "\n",
        "  #Only taking the rows that contain a value for view position\n",
        "  metadata = metadata[metadata['view'].str.contains('AP|PA', case=False, regex=True, na=False)]\n",
        "\n",
        "  #Getting image file paths from csv\n",
        "  IEEE_file_paths = metadata['filename'].values\n",
        "\n",
        "  #Colab file path example: /content/drive/MyDrive/AP PA Stuff/Datasets/Original/CheXpert-v1.0-small/train/patient00001/study1/view1_frontal.jpg\n",
        "  #Change file paths to work with colab\n",
        "  for ind, path in enumerate(IEEE_file_paths):\n",
        "    IEEE_file_paths[ind] = colabDir + dataDir + 'images/' + path\n",
        "  file_paths.extend(IEEE_file_paths)\n",
        "\n",
        "  #Get AP/PA label\n",
        "  IEEE_labels = metadata['view'].values\n",
        "  labels.extend(IEEE_labels)\n",
        "\n",
        "  #if ap/pa label has extra words then it'll cut that out & gets counts of each label & converts labels into 1 and 0\n",
        "  # for ind, label in enumerate(labels):\n",
        "\n",
        "  #oop cheXpert time (run that cell first)\n",
        "  file_paths.extend(cheXpert_train_files_and_labels[0])\n",
        "  labels.extend(cheXpert_train_files_and_labels[1])\n",
        "\n",
        "  for ind, label in enumerate(labels):\n",
        "    if label == 999.0 or label == 0.0 or label == 1.0:\n",
        "      continue\n",
        "    elif 'AP' in label:\n",
        "      labels[ind] = 0.0\n",
        "    elif 'PA' in label:\n",
        "      labels[ind] = 1.0\n",
        "\n",
        "  zipped = list(zip(file_paths, labels))\n",
        "  random.shuffle(zipped)\n",
        "\n",
        "  ind=0\n",
        "  while ind<len(zipped):\n",
        "    # image = tf.io.read_file(file_paths[ind])\n",
        "    # image = tf.image.decode_jpeg(image, channels=3)\n",
        "    # image = tf.image.resize(image, [IMG_SIZE, IMG_SIZE])\n",
        "    # label = labels[ind]\n",
        "    yield zipped[ind][0], zipped[ind][1]\n",
        "    ind+=1"
      ],
      "execution_count": null,
      "outputs": []
    },
    {
      "cell_type": "code",
      "metadata": {
        "colab": {
          "base_uri": "https://localhost:8080/"
        },
        "id": "YJbjJw_WBTeO",
        "outputId": "9df2ce52-d903-443b-a8c7-f65e30b716c4"
      },
      "source": [
        "def create_train():\n",
        "  dataset = tf.data.Dataset.from_generator(train_gen, output_signature=(tf.TensorSpec(shape=(), dtype=tf.string), tf.TensorSpec(shape=(), dtype=tf.float32)))\n",
        "  dataset = dataset.apply(tf.data.experimental.assert_cardinality(47466)) #26684(kaggle) + 782(IEEE) + 20000(CheXpert)\n",
        "  dataset_length = dataset.cardinality().numpy()\n",
        "  buffer_size = int(.25 * dataset_length)\n",
        "  # shard_size = -(-dataset_size // num_shards)\n",
        "  \n",
        "  # shuffled_shards = []\n",
        "  # for i in shards:\n",
        "  #     subshard = shard(i)\n",
        "  #     subshard = subshard.interleave(lambda x: x, cycle_length=4, block_length=1)\n",
        "  #     shuffled_shards.append(subshard.shuffle(buffer_size=buffer_size))\n",
        "  # shuffled_shards = tf.data.Dataset.from_tensor_slices(shuffled_shards)\n",
        "  # dataset = shuffled_shards.interleave(lambda x: x, cycle_length=4, block_length=1)\n",
        "  # dataset = dataset.shuffle(num_shards)\n",
        "  # print(dataset)\n",
        "  dataset = dataset.shuffle(buffer_size=buffer_size)\n",
        "  dataset = dataset.map(read_training_dataset, num_parallel_calls=tf.data.AUTOTUNE)\n",
        "\n",
        "  print(dataset)\n",
        "  dataset = dataset.map(normalize)\n",
        "  train_ds, valid_ds, test_ds = training_split(dataset, training_prop=.8, validation_prop=.2, testing_prop=0, train=True)\n",
        "  train_ds = train_ds.map(lambda images, labels: (preprocessing_model(images), labels))\n",
        "  train_ds = train_ds.batch(BATCH_SIZE).repeat().prefetch(tf.data.AUTOTUNE)\n",
        "  valid_ds = valid_ds.batch(BATCH_SIZE).repeat().prefetch(tf.data.AUTOTUNE)\n",
        "  # test_ds = test_ds.batch(BATCH_SIZE).prefetch(tf.data.AUTOTUNE)\n",
        "  return dataset_length, train_ds, valid_ds, test_ds\n",
        "dataset_length, train_ds, valid_ds, test_ds = create_train()"
      ],
      "execution_count": null,
      "outputs": [
        {
          "output_type": "stream",
          "name": "stdout",
          "text": [
            "999.0\n",
            "<ParallelMapDataset shapes: ((256, 256, 3), ()), types: (tf.float32, tf.float32)>\n",
            "c\n",
            "d\n",
            "e\n",
            "f\n",
            "g\n",
            "h\n",
            "i\n",
            "j\n"
          ]
        }
      ]
    },
    {
      "cell_type": "code",
      "metadata": {
        "colab": {
          "base_uri": "https://localhost:8080/",
          "height": 191
        },
        "id": "b7Pa6RjN9YJm",
        "outputId": "21454021-817f-4603-f1a1-63c41a7a757a"
      },
      "source": [
        "'''\n",
        "def Construct_IEEE(TrainSplit, ValSplit, TestSplit, augment=False, NumImages=None): \n",
        "  # Creating ieee8023 Dataset (Covid-19 Image Data Collection)\n",
        "  # returns list: [train_ds(augmented), valid_ds, test_ds]\n",
        "  # augment used to check if should apply random flip, rotation, etc.\n",
        "  # NumImages used to determine how many images to include in database (if left blank then it takes all images)\n",
        "  # TrainSplit, ValSplit, TestSplit used to determine proportion of dataset for each split\n",
        "\n",
        "  name ='Ieee8023 Dataset'\n",
        "  dataDir = 'covid-chestxray-dataset-master/covid-chestxray-dataset-master/'\n",
        "\n",
        "  METADATA_CSV_PATH = colabDir + dataDir + 'metadata.csv' #train metadata path\n",
        "  metadata = pd.read_csv(METADATA_CSV_PATH)\n",
        "\n",
        "  #Only taking the rows that contain a value for view position\n",
        "  metadata = metadata[metadata['view'].str.contains('AP|PA', case=False, regex=True, na=False)]\n",
        "\n",
        "  #Getting image file paths from csv\n",
        "  file_paths = metadata['filename'].values\n",
        "\n",
        "  #Colab file path example: /content/drive/MyDrive/AP PA Stuff/Datasets/Original/CheXpert-v1.0-small/train/patient00001/study1/view1_frontal.jpg\n",
        "  #Change file paths to work with colab\n",
        "  for ind, path in enumerate(file_paths):\n",
        "    file_paths[ind] = colabDir + dataDir + 'images/' + path\n",
        "\n",
        "  #Get AP/PA label\n",
        "  labels = metadata['view'].values\n",
        "\n",
        "  #if ap/pa label has extra words then it'll cut that out & gets counts of each label & converts labels into 1 and 0\n",
        "  AP_Count = 0\n",
        "  PA_Count = 0\n",
        "  for ind, label in enumerate(labels):\n",
        "    if 'AP' in label:\n",
        "      labels[ind] = 0\n",
        "      AP_Count += 1\n",
        "    elif 'PA' in label:\n",
        "      labels[ind] = 1\n",
        "      PA_Count += 1\n",
        "  class_distributions[name] = {'AP':AP_Count,\n",
        "                               'PA':PA_Count,\n",
        "                               'Total': [f'Total Images = {AP_Count+PA_Count}',\n",
        "                                         f'AP Percentage = {AP_Count/(AP_Count+PA_Count):.3f}',\n",
        "                                         f'PA Percentage = {PA_Count/(AP_Count+PA_Count):.3f}']}\n",
        "\n",
        "  labels = np.asarray(labels).astype('float32')\n",
        "\n",
        "  dataset = tf.data.Dataset.from_tensor_slices((file_paths, labels))\n",
        "  dataset = dataset.shuffle(buffer_size=100000, seed=rngJesus)\n",
        "\n",
        "  if NumImages:\n",
        "    dataset = dataset.take(NumImages)\n",
        "\n",
        "  dataset = dataset.map(read_image)\n",
        "  train_ds, valid_ds, test_ds = training_split(dataset, training_prop=TrainSplit, validation_prop=ValSplit, testing_prop=TestSplit)\n",
        "\n",
        "  #If data is used for training then give option to augment the data\n",
        "  if augment:\n",
        "    train_ds = train_ds.map(lambda images, labels:\n",
        "              (preprocessing_model(images), labels))\n",
        "    \n",
        "  return [train_ds, valid_ds, test_ds]\n",
        "\n",
        "IEEE_ds = Construct_IEEE(.8,.2,0,augment=True)\n",
        "'''"
      ],
      "execution_count": null,
      "outputs": [
        {
          "output_type": "execute_result",
          "data": {
            "application/vnd.google.colaboratory.intrinsic+json": {
              "type": "string"
            },
            "text/plain": [
              "\"\\ndef Construct_IEEE(TrainSplit, ValSplit, TestSplit, augment=False, NumImages=None): \\n  # Creating ieee8023 Dataset (Covid-19 Image Data Collection)\\n  # returns list: [train_ds(augmented), valid_ds, test_ds]\\n  # augment used to check if should apply random flip, rotation, etc.\\n  # NumImages used to determine how many images to include in database (if left blank then it takes all images)\\n  # TrainSplit, ValSplit, TestSplit used to determine proportion of dataset for each split\\n\\n  name ='Ieee8023 Dataset'\\n  dataDir = 'covid-chestxray-dataset-master/covid-chestxray-dataset-master/'\\n\\n  METADATA_CSV_PATH = colabDir + dataDir + 'metadata.csv' #train metadata path\\n  metadata = pd.read_csv(METADATA_CSV_PATH)\\n\\n  #Only taking the rows that contain a value for view position\\n  metadata = metadata[metadata['view'].str.contains('AP|PA', case=False, regex=True, na=False)]\\n\\n  #Getting image file paths from csv\\n  file_paths = metadata['filename'].values\\n\\n  #Colab file path example: /content/drive/MyDrive/AP PA Stuff/Datasets/Original/CheXpert-v1.0-small/train/patient00001/study1/view1_frontal.jpg\\n  #Change file paths to work with colab\\n  for ind, path in enumerate(file_paths):\\n    file_paths[ind] = colabDir + dataDir + 'images/' + path\\n\\n  #Get AP/PA label\\n  labels = metadata['view'].values\\n\\n  #if ap/pa label has extra words then it'll cut that out & gets counts of each label & converts labels into 1 and 0\\n  AP_Count = 0\\n  PA_Count = 0\\n  for ind, label in enumerate(labels):\\n    if 'AP' in label:\\n      labels[ind] = 0\\n      AP_Count += 1\\n    elif 'PA' in label:\\n      labels[ind] = 1\\n      PA_Count += 1\\n  class_distributions[name] = {'AP':AP_Count,\\n                               'PA':PA_Count,\\n                               'Total': [f'Total Images = {AP_Count+PA_Count}',\\n                                         f'AP Percentage = {AP_Count/(AP_Count+PA_Count):.3f}',\\n                                         f'PA Percentage = {PA_Count/(AP_Count+PA_Count):.3f}']}\\n\\n  labels = np.asarray(labels).astype('float32')\\n\\n  dataset = tf.data.Dataset.from_tensor_slices((file_paths, labels))\\n  dataset = dataset.shuffle(buffer_size=100000, seed=rngJesus)\\n\\n  if NumImages:\\n    dataset = dataset.take(NumImages)\\n\\n  dataset = dataset.map(read_image)\\n  train_ds, valid_ds, test_ds = training_split(dataset, training_prop=TrainSplit, validation_prop=ValSplit, testing_prop=TestSplit)\\n\\n  #If data is used for training then give option to augment the data\\n  if augment:\\n    train_ds = train_ds.map(lambda images, labels:\\n              (preprocessing_model(images), labels))\\n    \\n  return [train_ds, valid_ds, test_ds]\\n\\nIEEE_ds = Construct_IEEE(.8,.2,0,augment=True)\\n\""
            ]
          },
          "metadata": {},
          "execution_count": 12
        }
      ]
    },
    {
      "cell_type": "markdown",
      "metadata": {
        "id": "qVVGY7_JfAiY"
      },
      "source": [
        "###KAGGLE Train"
      ]
    },
    {
      "cell_type": "code",
      "metadata": {
        "id": "0VSMqR_YySf8",
        "colab": {
          "base_uri": "https://localhost:8080/",
          "height": 191
        },
        "outputId": "9259504d-2f64-42cc-b554-a13458a490a6"
      },
      "source": [
        "'''\n",
        "def Construct_KaggleTrain(TrainSplit, ValSplit, TestSplit, augment=False, NumImages=None): \n",
        "  # Creating Kaggle Train Dataset \n",
        "  # returns list: [train_ds(augmented), valid_ds, test_ds]\n",
        "  # augment used to check if should apply random flip, rotation, etc.\n",
        "  # NumImages used to determine how many images to include in database (if left blank then it takes all images)\n",
        "  # TrainSplit, ValSplit, TestSplit used to determine proportion of dataset for each split\n",
        "\n",
        "  name ='Kaggle Train Dataset'\n",
        "  # dataDir = 'stage_2_train_images/'\n",
        "\n",
        "  #Getting dcm file paths from premade folders\n",
        "  #I manually Separated dcm into seperate folders bc google couldnt read 26k files in one line\n",
        "  # file_paths = []\n",
        "  # dcm_dir_names = [str(i) for i in range(1,2)]\n",
        "  # for name in dcm_dir_names:\n",
        "  #   dcm_dir = colabDir + dataDir + name + '/'\n",
        "  #   files = os.listdir(dcm_dir)\n",
        "  #   for file in files:\n",
        "  #     file_paths.append(dcm_dir + file)\n",
        "\n",
        "  \n",
        "  #Split file_paths list into 500 file chunks to avoid ram overload when converting to tensor array\n",
        "  # file_groups = [file_paths[i:i + 500] for i in range(0, len(file_paths), 500)]\n",
        "  # ds_list = []\n",
        "\n",
        "  # for group in tqdm(file_groups):\n",
        "  # dcm_pixel_arrays = []\n",
        "  # labels = []\n",
        "  # for path in file_paths:\n",
        "  #   dcm = pydicom.dcmread(path)\n",
        "  #   image = dcm.pixel_array\n",
        "  #   image = tf.image.resize(tf.expand_dims(image, axis=-1), [IMG_SIZE, IMG_SIZE])\n",
        "  #   dcm_pixel_arrays.append(image)\n",
        "  #   labels.append(dcm.SeriesDescription)\n",
        "\n",
        "  # for ind, label in enumerate(labels):\n",
        "  #   if 'AP' in label:\n",
        "  #     labels[ind] = 0.0\n",
        "  #     AP_Count += 1\n",
        "  #   elif 'PA' in label:\n",
        "  #     labels[ind] = 1.0\n",
        "  #     PA_Count += 1\n",
        "        \n",
        "  dataset = tf.data.Dataset.from_generator(kaggle_train_gen, output_shapes=((256, 256, 1), ()), output_types=(tf.float32, tf.float32))\n",
        "\n",
        "  # dcm_pixel_arrays = []\n",
        "  # labels = []\n",
        "\n",
        "  #if ap/pa label has extra words then it'll cut that out & gets counts of each label & converts labels into 1 and 0\n",
        "\n",
        "  dataset = dataset.shuffle(buffer_size=100000, seed=rngJesus)\n",
        "\n",
        "  # if NumImages:\n",
        "  #   dataset = dataset.take(NumImages)\n",
        "\n",
        "  dataset = dataset.map(read_dicom_image)\n",
        "  # print(3)\n",
        "  train_ds, valid_ds, test_ds = training_split(dataset, training_prop=TrainSplit, validation_prop=ValSplit, testing_prop=TestSplit)\n",
        "  # class_distributions[name] = {'AP':AP_Count,\n",
        "  #                              'PA':PA_Count,\n",
        "  #                              'Total': [f'Total Images = {AP_Count+PA_Count}',\n",
        "  #                                        f'AP Percentage = {AP_Count/(AP_Count+PA_Count):.3f}',\n",
        "  #                                        f'PA Percentage = {PA_Count/(AP_Count+PA_Count):.3f}']}\n",
        "  # print(4)\n",
        "  # # train_ds2, valid_ds2, test_ds2 = training_split(dataset, training_prop=0, validation_prop=0, testing_prop=1)\n",
        "\n",
        "  # #If data is used for training then give option to augment the data\n",
        "  if augment:\n",
        "    train_ds = train_ds.map(lambda images, labels:\n",
        "              (preprocessing_model(images), labels))\n",
        "  #   print(5)\n",
        "\n",
        "  return [train_ds.batch(BATCH_SIZE).prefetch(tf.data.AUTOTUNE), valid_ds.batch(BATCH_SIZE).prefetch(tf.data.AUTOTUNE), test_ds.batch(BATCH_SIZE).prefetch(tf.data.AUTOTUNE)]\n",
        "\n",
        "Kaggle_Train_ds = Construct_KaggleTrain(.8,.2,0,augment=True)\n",
        "'''"
      ],
      "execution_count": null,
      "outputs": [
        {
          "output_type": "execute_result",
          "data": {
            "application/vnd.google.colaboratory.intrinsic+json": {
              "type": "string"
            },
            "text/plain": [
              "\"\\ndef Construct_KaggleTrain(TrainSplit, ValSplit, TestSplit, augment=False, NumImages=None): \\n  # Creating Kaggle Train Dataset \\n  # returns list: [train_ds(augmented), valid_ds, test_ds]\\n  # augment used to check if should apply random flip, rotation, etc.\\n  # NumImages used to determine how many images to include in database (if left blank then it takes all images)\\n  # TrainSplit, ValSplit, TestSplit used to determine proportion of dataset for each split\\n\\n  name ='Kaggle Train Dataset'\\n  # dataDir = 'stage_2_train_images/'\\n\\n  #Getting dcm file paths from premade folders\\n  #I manually Separated dcm into seperate folders bc google couldnt read 26k files in one line\\n  # file_paths = []\\n  # dcm_dir_names = [str(i) for i in range(1,2)]\\n  # for name in dcm_dir_names:\\n  #   dcm_dir = colabDir + dataDir + name + '/'\\n  #   files = os.listdir(dcm_dir)\\n  #   for file in files:\\n  #     file_paths.append(dcm_dir + file)\\n\\n  \\n  #Split file_paths list into 500 file chunks to avoid ram overload when converting to tensor array\\n  # file_groups = [file_paths[i:i + 500] for i in range(0, len(file_paths), 500)]\\n  # ds_list = []\\n\\n  # for group in tqdm(file_groups):\\n  # dcm_pixel_arrays = []\\n  # labels = []\\n  # for path in file_paths:\\n  #   dcm = pydicom.dcmread(path)\\n  #   image = dcm.pixel_array\\n  #   image = tf.image.resize(tf.expand_dims(image, axis=-1), [IMG_SIZE, IMG_SIZE])\\n  #   dcm_pixel_arrays.append(image)\\n  #   labels.append(dcm.SeriesDescription)\\n\\n  # for ind, label in enumerate(labels):\\n  #   if 'AP' in label:\\n  #     labels[ind] = 0.0\\n  #     AP_Count += 1\\n  #   elif 'PA' in label:\\n  #     labels[ind] = 1.0\\n  #     PA_Count += 1\\n        \\n  dataset = tf.data.Dataset.from_generator(kaggle_train_gen, output_shapes=((256, 256, 1), ()), output_types=(tf.float32, tf.float32))\\n\\n  # dcm_pixel_arrays = []\\n  # labels = []\\n\\n  #if ap/pa label has extra words then it'll cut that out & gets counts of each label & converts labels into 1 and 0\\n\\n  dataset = dataset.shuffle(buffer_size=100000, seed=rngJesus)\\n\\n  # if NumImages:\\n  #   dataset = dataset.take(NumImages)\\n\\n  dataset = dataset.map(read_dicom_image)\\n  # print(3)\\n  train_ds, valid_ds, test_ds = training_split(dataset, training_prop=TrainSplit, validation_prop=ValSplit, testing_prop=TestSplit)\\n  # class_distributions[name] = {'AP':AP_Count,\\n  #                              'PA':PA_Count,\\n  #                              'Total': [f'Total Images = {AP_Count+PA_Count}',\\n  #                                        f'AP Percentage = {AP_Count/(AP_Count+PA_Count):.3f}',\\n  #                                        f'PA Percentage = {PA_Count/(AP_Count+PA_Count):.3f}']}\\n  # print(4)\\n  # # train_ds2, valid_ds2, test_ds2 = training_split(dataset, training_prop=0, validation_prop=0, testing_prop=1)\\n\\n  # #If data is used for training then give option to augment the data\\n  if augment:\\n    train_ds = train_ds.map(lambda images, labels:\\n              (preprocessing_model(images), labels))\\n  #   print(5)\\n\\n  return [train_ds.batch(BATCH_SIZE).prefetch(tf.data.AUTOTUNE), valid_ds.batch(BATCH_SIZE).prefetch(tf.data.AUTOTUNE), test_ds.batch(BATCH_SIZE).prefetch(tf.data.AUTOTUNE)]\\n\\nKaggle_Train_ds = Construct_KaggleTrain(.8,.2,0,augment=True)\\n\""
            ]
          },
          "metadata": {},
          "execution_count": 13
        }
      ]
    },
    {
      "cell_type": "code",
      "metadata": {
        "colab": {
          "base_uri": "https://localhost:8080/",
          "height": 35
        },
        "id": "sVpwI_KGDT0q",
        "outputId": "53ddaad1-829d-4d57-adf2-e4ba6f9f1b93"
      },
      "source": [
        "'''\n",
        "Kaggle_Train_ds\n",
        "'''"
      ],
      "execution_count": null,
      "outputs": [
        {
          "output_type": "execute_result",
          "data": {
            "application/vnd.google.colaboratory.intrinsic+json": {
              "type": "string"
            },
            "text/plain": [
              "'\\nKaggle_Train_ds\\n'"
            ]
          },
          "metadata": {},
          "execution_count": 14
        }
      ]
    },
    {
      "cell_type": "code",
      "metadata": {
        "id": "q3aITjTa82t1"
      },
      "source": [
        "# Kaggle_Train_Snapshot = Kaggle_Train_ds[0].snapshot(tensorflowDir + 'Kaggle Train Dataset')\n",
        "# Kaggle_Train_Snapshot = tf.data.Dataset.snapshot(tensorflowDir + 'Kaggle Train Dataset')\n",
        "# Kaggle_Valid_Snapshot = Kaggle_Train_ds[1].snapshot(tensorflowDir + 'Kaggle Valid Dataset')"
      ],
      "execution_count": null,
      "outputs": []
    },
    {
      "cell_type": "code",
      "metadata": {
        "id": "O7VOa6m3fKZy"
      },
      "source": [
        "#returns 2 lists with the second one being a test set in case I wanna flip it so i train on the kaggle test"
      ],
      "execution_count": null,
      "outputs": []
    },
    {
      "cell_type": "markdown",
      "metadata": {
        "id": "b4v4afK09eC-"
      },
      "source": [
        "##Test"
      ]
    },
    {
      "cell_type": "markdown",
      "metadata": {
        "id": "Vq1fjygmokq8"
      },
      "source": [
        "###CheXpert"
      ]
    },
    {
      "cell_type": "code",
      "metadata": {
        "id": "R0NxEHpuZt3U",
        "colab": {
          "base_uri": "https://localhost:8080/"
        },
        "outputId": "260aa3e0-87d0-4332-981e-ce71d2939b46"
      },
      "source": [
        "cheXpert_train_files_and_labels = [[],[]]\n",
        "def Construct_CheXpert(TrainSplit, ValSplit, TestSplit, augment=False, NumImages=None): \n",
        "  # Creating CheXpert Dataset\n",
        "  # returns list: [train_ds(augmented), valid_ds, test_ds]\n",
        "  # augment used to check if should apply random flip, rotation, etc. to training dataset\n",
        "  # int NumImages used to determine how many images to include in database (if left blank then it takes all images)\n",
        "  # float TrainSplit, ValSplit, TestSplit used to determine proportion of dataset for each split\n",
        "\n",
        "  name ='CheXpert Dataset'\n",
        "  dataDir = 'CheXpert-v1.0-small/'\n",
        "\n",
        "  #/content/drive/MyDrive/AP PA Stuff/Datasets/Original/CheXpert-v1.0-small/train.csv\n",
        "  #/content/drive/MyDrive/AP PA Stuff/Datasets/Original/CheXpert-v1.0-small/valid.csv\n",
        "  METADATA_CSV_PATH = colabDir + dataDir + 'train.csv' #train metadata path\n",
        "  METADATA_CSV_PATH2 = colabDir + dataDir + 'valid.csv' #validation metadata path\n",
        "  metadata = pd.read_csv(METADATA_CSV_PATH)\n",
        "  metadata2 = pd.read_csv(METADATA_CSV_PATH2)\n",
        "  metadata = pd.concat([metadata, metadata2], ignore_index=True)\n",
        "\n",
        "  #Only taking the rows that contain a value for view position\n",
        "  metadata = metadata[metadata['AP/PA'].str.contains('AP|PA', case=False, regex=True, na=False)]\n",
        "\n",
        "  #Getting image file paths from csv\n",
        "  file_paths = list(metadata['Path'].values)\n",
        "\n",
        "  #Colab file path example: /content/drive/MyDrive/AP PA Stuff/Datasets/Original/CheXpert-v1.0-small/train/patient00001/study1/view1_frontal.jpg\n",
        "  #Change file paths to work with colab\n",
        "  for ind, path in enumerate(file_paths):\n",
        "    file_paths[ind] = colabDir + path\n",
        "\n",
        "  #Get AP/PA label\n",
        "  labels = list(metadata['AP/PA'].values)\n",
        "  #Not really needed for CheXpert but if ap/pa label has extra words then it'll cut that out & also gets counts of each label\n",
        "  AP_Count = 0\n",
        "  PA_Count = 0\n",
        "  ap_indexes = []\n",
        "  pa_indexes = []\n",
        "  cheXpert_train_indexes = []\n",
        "  for ind, label in enumerate(labels):\n",
        "    if 'AP' in label:\n",
        "      labels[ind] = 0.0\n",
        "      ap_indexes.append(ind)\n",
        "      AP_Count += 1\n",
        "    elif 'PA' in label:\n",
        "      labels[ind] = 1.0\n",
        "      pa_indexes.append(ind)\n",
        "      PA_Count += 1\n",
        "  class_distributions[name] = {'AP':AP_Count,\n",
        "                               'PA':PA_Count,\n",
        "                               'Total': [f'Total Images = {AP_Count+PA_Count}',\n",
        "                                         f'AP Percentage = {AP_Count/(AP_Count+PA_Count):.3f}',\n",
        "                                         f'PA Percentage = {PA_Count/(AP_Count+PA_Count):.3f}']}\n",
        " \n",
        " \n",
        "  cheXpert_train_indexes.extend(ap_indexes[:10000])\n",
        "  cheXpert_train_indexes.extend(pa_indexes[:10000])\n",
        "  for index in sorted(cheXpert_train_indexes, reverse=True):\n",
        "    cheXpert_train_files_and_labels[0].append(file_paths[index])\n",
        "    cheXpert_train_files_and_labels[1].append(labels[index])\n",
        "    del labels[index]\n",
        "    del file_paths[index]\n",
        "\n",
        "  labels = np.asarray(labels).astype('float32')\n",
        "\n",
        "  cheXpert_ds = tf.data.Dataset.from_tensor_slices((file_paths, labels))\n",
        "  cheXpert_ds = cheXpert_ds.shuffle(buffer_size=100000, seed=rngJesus)\n",
        "\n",
        "  if NumImages:\n",
        "    cheXpert_ds = cheXpert_ds.take(NumImages)\n",
        "\n",
        "  cheXpert_ds = cheXpert_ds.map(read_image)\n",
        "  train_ds, valid_ds, test_ds = training_split(cheXpert_ds, training_prop=TrainSplit, validation_prop=ValSplit, testing_prop=TestSplit)\n",
        "  \n",
        "  #If data is used for training then give option to augment the data\n",
        "  if augment:\n",
        "    train_ds = train_ds.map(lambda images, labels:\n",
        "              (preprocessing_model(images), labels))\n",
        "    \n",
        "  return [train_ds, valid_ds, test_ds]\n",
        "  # do dataset.batch(BATCHSIZE)\n",
        "\n",
        "cheXpert_ds = Construct_CheXpert(augment=False, TrainSplit=0, ValSplit=0, TestSplit=1)\n",
        "# tf.data.experimental.save(cheXpert_ds, tensorflowDir+name)\n",
        "# new_dataset = tf.data.experimental.load(tensorflowDir+name)"
      ],
      "execution_count": null,
      "outputs": [
        {
          "output_type": "stream",
          "name": "stdout",
          "text": [
            "c\n",
            "d\n",
            "e\n",
            "f\n",
            "g\n",
            "h\n",
            "i\n",
            "j\n"
          ]
        }
      ]
    },
    {
      "cell_type": "markdown",
      "metadata": {
        "id": "rT3siDHbb6Vp"
      },
      "source": [
        "###CX-Net"
      ]
    },
    {
      "cell_type": "code",
      "metadata": {
        "id": "DokWshXnWFYA",
        "colab": {
          "base_uri": "https://localhost:8080/"
        },
        "outputId": "3831ef19-ac99-401a-8f35-c0a4b8a82014"
      },
      "source": [
        "weird=[]\n",
        "def Construct_CXNet(TrainSplit, ValSplit, TestSplit, augment=False, NumImages=None): \n",
        "  # Creating CX-Net Dataset \n",
        "  # returns list: [train_ds(augmented), valid_ds, test_ds]\n",
        "  # augment used to check if should apply random flip, rotation, etc.\n",
        "  # NumImages used to determine how many images to include in database (if left blank then it takes all images)\n",
        "  # TrainSplit, ValSplit, TestSplit used to determine proportion of dataset for each split\n",
        "\n",
        "  name ='CX-Net Dataset'\n",
        "  dataDir = 'covid_cxnet_dataset/'\n",
        "\n",
        "  METADATA_CSV_PATH = colabDir + dataDir + 'metadata.csv' #train metadata path\n",
        "  metadata = pd.read_csv(METADATA_CSV_PATH)\n",
        "\n",
        "  #Only taking the rows that contain a value for view position\n",
        "  metadata = metadata[metadata['view'].str.contains('AP|PA', case=False, regex=True, na=False)]\n",
        "  metadata = metadata[metadata['filename'].str.contains('jpg|png|jpeg', case=False, regex=True, na=False)]\n",
        "\n",
        "  #Getting image file paths from csv\n",
        "  file_paths2 = metadata['filename'].values\n",
        "  other_paths = os.listdir(colabDir + dataDir + 'covid19/')\n",
        "  temp = []\n",
        "  file_paths = []\n",
        "\n",
        "  for file_path in file_paths2:\n",
        "    temp.append(file_path.split('.')[0])\n",
        "  for file_path in other_paths:\n",
        "    file_name = file_path.split('.')\n",
        "    if file_name[0] in temp:\n",
        "      weird.append(file_name[1])\n",
        "      file_paths.append(file_path)\n",
        "\n",
        "  #Colab file path example: /content/drive/MyDrive/AP PA Stuff/Datasets/Original/CheXpert-v1.0-small/train/patient00001/study1/view1_frontal.jpg\n",
        "  #Change file paths to work with colab\n",
        "  for ind, path in enumerate(file_paths):\n",
        "    file_paths[ind] = colabDir + dataDir + 'covid19/' + path\n",
        "\n",
        "  #Get AP/PA label\n",
        "  labels = metadata['view'].values\n",
        "\n",
        "  #if ap/pa label has extra words then it'll cut that out & gets counts of each label & converts labels into 1 and 0\n",
        "  AP_Count = 0\n",
        "  PA_Count = 0\n",
        "  for ind, label in enumerate(labels):\n",
        "    if 'AP' in label:\n",
        "      labels[ind] = 0\n",
        "      AP_Count += 1\n",
        "    elif 'PA' in label:\n",
        "      labels[ind] = 1\n",
        "      PA_Count += 1\n",
        "  class_distributions[name] = {'AP':AP_Count,\n",
        "                               'PA':PA_Count,\n",
        "                               'Total': [f'Total Images = {AP_Count+PA_Count}',\n",
        "                                         f'AP Percentage = {AP_Count/(AP_Count+PA_Count):.3f}',\n",
        "                                         f'PA Percentage = {PA_Count/(AP_Count+PA_Count):.3f}']}\n",
        "\n",
        "  labels = np.asarray(labels).astype('float32')\n",
        "\n",
        "  dataset = tf.data.Dataset.from_tensor_slices((file_paths, labels))\n",
        "  dataset = dataset.shuffle(buffer_size=100000, seed=rngJesus)\n",
        "\n",
        "  if NumImages:\n",
        "    dataset = dataset.take(NumImages)\n",
        "\n",
        "  dataset = dataset.map(read_image)\n",
        "  train_ds, valid_ds, test_ds = training_split(dataset, training_prop=TrainSplit, validation_prop=ValSplit, testing_prop=TestSplit)\n",
        "\n",
        "  #If data is used for training then give option to augment the data\n",
        "  if augment:\n",
        "    train_ds = train_ds.map(lambda images, labels:\n",
        "              (preprocessing_model(images), labels))\n",
        "    \n",
        "  return [train_ds, valid_ds, test_ds]\n",
        "\n",
        "CXNet_ds = Construct_CXNet(0,0,1,augment=False)"
      ],
      "execution_count": 45,
      "outputs": [
        {
          "output_type": "stream",
          "name": "stdout",
          "text": [
            "c\n",
            "d\n",
            "e\n",
            "f\n",
            "g\n",
            "h\n",
            "i\n",
            "j\n"
          ]
        }
      ]
    },
    {
      "cell_type": "markdown",
      "metadata": {
        "id": "Ov4LYL6IaCFa"
      },
      "source": [
        "###ActualMed"
      ]
    },
    {
      "cell_type": "code",
      "metadata": {
        "id": "jhfH0jaJaMJD",
        "colab": {
          "base_uri": "https://localhost:8080/"
        },
        "outputId": "87c65436-b82d-4910-a573-7a41eb1cc804"
      },
      "source": [
        "def Construct_ActualMed(TrainSplit, ValSplit, TestSplit, augment=False, NumImages=None): \n",
        "  # Creating ActualMed Dataset \n",
        "  # returns list: [train_ds(augmented), valid_ds, test_ds]\n",
        "  # augment used to check if should apply random flip, rotation, etc.\n",
        "  # NumImages used to determine how many images to include in database (if left blank then it takes all images)\n",
        "  # TrainSplit, ValSplit, TestSplit used to determine proportion of dataset for each split\n",
        "\n",
        "  name ='ActualMed Dataset'\n",
        "  dataDir = 'Actualmed-COVID-chestxray-dataset-master/'\n",
        "\n",
        "  METADATA_CSV_PATH = colabDir + dataDir + 'metadata.csv' #train metadata path\n",
        "  metadata = pd.read_csv(METADATA_CSV_PATH)\n",
        "\n",
        "  #Only taking the rows that contain a value for view position\n",
        "  metadata = metadata[metadata['view'].str.contains('AP|PA', case=False, regex=True, na=False)]\n",
        "\n",
        "  #Getting image file paths from csv\n",
        "  file_paths = metadata['imagename'].values\n",
        "\n",
        "  #Colab file path example: /content/drive/MyDrive/AP PA Stuff/Datasets/Original/CheXpert-v1.0-small/train/patient00001/study1/view1_frontal.jpg\n",
        "  #Change file paths to work with colab\n",
        "  for ind, path in enumerate(file_paths):\n",
        "    file_paths[ind] = colabDir + dataDir + 'images/' + path\n",
        "\n",
        "  #Get AP/PA label\n",
        "  labels = metadata['view'].values\n",
        "\n",
        "  #if ap/pa label has extra words then it'll cut that out & gets counts of each label & converts labels into 1 and 0\n",
        "  AP_Count = 0\n",
        "  PA_Count = 0\n",
        "  for ind, label in enumerate(labels):\n",
        "    if 'AP' in label:\n",
        "      labels[ind] = 0\n",
        "      AP_Count += 1\n",
        "    elif 'PA' in label:\n",
        "      labels[ind] = 1\n",
        "      PA_Count += 1\n",
        "  class_distributions[name] = {'AP':AP_Count,\n",
        "                               'PA':PA_Count,\n",
        "                               'Total': [f'Total Images = {AP_Count+PA_Count}',\n",
        "                                         f'AP Percentage = {AP_Count/(AP_Count+PA_Count):.3f}',\n",
        "                                         f'PA Percentage = {PA_Count/(AP_Count+PA_Count):.3f}']}\n",
        "\n",
        "  labels = np.asarray(labels).astype('float32')\n",
        "\n",
        "  dataset = tf.data.Dataset.from_tensor_slices((file_paths, labels))\n",
        "  dataset = dataset.shuffle(buffer_size=100000, seed=rngJesus)\n",
        "\n",
        "  if NumImages:\n",
        "    dataset = dataset.take(NumImages)\n",
        "\n",
        "  dataset = dataset.map(read_image)\n",
        "  train_ds, valid_ds, test_ds = training_split(dataset, training_prop=TrainSplit, validation_prop=ValSplit, testing_prop=TestSplit)\n",
        "\n",
        "  #If data is used for training then give option to augment the data\n",
        "  if augment:\n",
        "    train_ds = train_ds.map(lambda images, labels:\n",
        "              (preprocessing_model(images), labels))\n",
        "    \n",
        "  return [train_ds, valid_ds, test_ds]\n",
        "\n",
        "ActualMed_ds = Construct_ActualMed(0,0,1,augment=False)"
      ],
      "execution_count": 70,
      "outputs": [
        {
          "output_type": "stream",
          "name": "stdout",
          "text": [
            "c\n",
            "d\n",
            "e\n",
            "f\n",
            "g\n",
            "h\n",
            "i\n",
            "j\n"
          ]
        }
      ]
    },
    {
      "cell_type": "markdown",
      "metadata": {
        "id": "RqIRNbC4bJy0"
      },
      "source": [
        "###Shenzhen"
      ]
    },
    {
      "cell_type": "code",
      "metadata": {
        "id": "JdRcwBhsbv4p",
        "colab": {
          "base_uri": "https://localhost:8080/"
        },
        "outputId": "7fb0598b-6a26-4577-988f-1b5c863f699b"
      },
      "source": [
        "def Construct_Shenzhen(TrainSplit, ValSplit, TestSplit, augment=False, NumImages=None): \n",
        "  # Creating Shenzhen Dataset \n",
        "  # returns list: [train_ds(augmented), valid_ds, test_ds]\n",
        "  # augment used to check if should apply random flip, rotation, etc.\n",
        "  # NumImages used to determine how many images to include in database (if left blank then it takes all images)\n",
        "  # TrainSplit, ValSplit, TestSplit used to determine proportion of dataset for each split\n",
        "\n",
        "  #Shenzhen dataset only has PA images so no metadata.csv checks\n",
        "\n",
        "  name ='Shenzhen Dataset'\n",
        "  dataDir = 'ChinaSet_AllFiles/ChinaSet_AllFiles/CXR_png/'\n",
        "\n",
        "  #Getting image file paths\n",
        "  file_paths = os.listdir(colabDir + dataDir)\n",
        "  for ind, path in enumerate(file_paths):\n",
        "    file_paths[ind] = colabDir+dataDir+path\n",
        "\n",
        "  #Get AP/PA label\n",
        "  #AP:0, PA:1\n",
        "  labels = [1 for i in file_paths]\n",
        "\n",
        "  #if ap/pa label has extra words then it'll cut that out & gets counts of each label & converts labels into 1 and 0\n",
        "  AP_Count = 0\n",
        "  PA_Count = len(labels)\n",
        "  class_distributions[name] = {'AP':AP_Count,\n",
        "                               'PA':PA_Count,\n",
        "                               'Total': [f'Total Images = {AP_Count+PA_Count}',\n",
        "                                         f'AP Percentage = {AP_Count/(AP_Count+PA_Count):.3f}',\n",
        "                                         f'PA Percentage = {PA_Count/(AP_Count+PA_Count):.3f}']}\n",
        "\n",
        "  labels = np.asarray(labels).astype('float32')\n",
        "\n",
        "  dataset = tf.data.Dataset.from_tensor_slices((file_paths, labels))\n",
        "  dataset = dataset.shuffle(buffer_size=100000, seed=rngJesus)\n",
        "\n",
        "  if NumImages:\n",
        "    dataset = dataset.take(NumImages)\n",
        "\n",
        "  dataset = dataset.map(read_image)\n",
        "  train_ds, valid_ds, test_ds = training_split(dataset, training_prop=TrainSplit, validation_prop=ValSplit, testing_prop=TestSplit)\n",
        "\n",
        "  #If data is used for training then give option to augment the data\n",
        "  if augment:\n",
        "    train_ds = train_ds.map(lambda images, labels:\n",
        "              (preprocessing_model(images), labels))\n",
        "    \n",
        "  return [train_ds, valid_ds, test_ds]\n",
        "\n",
        "Shenzhen_ds = Construct_Shenzhen(0,0,1,augment=False)"
      ],
      "execution_count": 73,
      "outputs": [
        {
          "output_type": "stream",
          "name": "stdout",
          "text": [
            "c\n",
            "d\n",
            "e\n",
            "f\n",
            "g\n",
            "h\n",
            "i\n",
            "j\n"
          ]
        }
      ]
    },
    {
      "cell_type": "markdown",
      "metadata": {
        "id": "0hsRAvV0d5oE"
      },
      "source": [
        "###Montgomery"
      ]
    },
    {
      "cell_type": "code",
      "metadata": {
        "id": "UmzM83M5d-ee",
        "colab": {
          "base_uri": "https://localhost:8080/"
        },
        "outputId": "6b651792-69bd-4021-ec0d-2ae3d69b275e"
      },
      "source": [
        "def Construct_Montgomery(TrainSplit, ValSplit, TestSplit, augment=False, NumImages=None): \n",
        "  # Creating Montgomery Dataset \n",
        "  # returns list: [train_ds(augmented), valid_ds, test_ds]\n",
        "  # augment used to check if should apply random flip, rotation, etc.\n",
        "  # NumImages used to determine how many images to include in database (if left blank then it takes all images)\n",
        "  # TrainSplit, ValSplit, TestSplit used to determine proportion of dataset for each split\n",
        "\n",
        "  #Montgomery dataset only has PA images so no metadata.csv checks\n",
        "\n",
        "  name ='Montgomery Dataset'\n",
        "  dataDir = 'NLM-MontgomeryCXRSet/MontgomerySet/CXR_png/'\n",
        "\n",
        "  #Getting image file paths\n",
        "  file_paths = os.listdir(colabDir + dataDir)\n",
        "  for ind, path in enumerate(file_paths):\n",
        "    file_paths[ind] = colabDir+dataDir+path\n",
        "\n",
        "  #Colab file path example: /content/drive/MyDrive/AP PA Stuff/Datasets/Original/CheXpert-v1.0-small/train/patient00001/study1/view1_frontal.jpg\n",
        "  #Change file paths to work with colab\n",
        "  for ind, path in enumerate(file_paths):\n",
        "    file_paths[ind] = colabDir + dataDir + 'images/' + path\n",
        "\n",
        "  #Get AP/PA label\n",
        "  #AP:0, PA:1\n",
        "  labels = [1 for i in file_paths]\n",
        "\n",
        "  #if ap/pa label has extra words then it'll cut that out & gets counts of each label & converts labels into 1 and 0\n",
        "  AP_Count = 0\n",
        "  PA_Count = len(labels)\n",
        "  class_distributions[name] = {'AP':AP_Count,\n",
        "                               'PA':PA_Count,\n",
        "                               'Total': [f'Total Images = {AP_Count+PA_Count}',\n",
        "                                         f'AP Percentage = {AP_Count/(AP_Count+PA_Count):.3f}',\n",
        "                                         f'PA Percentage = {PA_Count/(AP_Count+PA_Count):.3f}']}\n",
        "\n",
        "  labels = np.asarray(labels).astype('float32')\n",
        "\n",
        "  dataset = tf.data.Dataset.from_tensor_slices((file_paths, labels))\n",
        "  dataset = dataset.shuffle(buffer_size=100000, seed=rngJesus)\n",
        "\n",
        "  if NumImages:\n",
        "    dataset = dataset.take(NumImages)\n",
        "\n",
        "  dataset = dataset.map(read_image)\n",
        "  train_ds, valid_ds, test_ds = training_split(dataset, training_prop=TrainSplit, validation_prop=ValSplit, testing_prop=TestSplit)\n",
        "\n",
        "  #If data is used for training then give option to augment the data\n",
        "  if augment:\n",
        "    train_ds = train_ds.map(lambda images, labels:\n",
        "              (preprocessing_model(images), labels))\n",
        "    \n",
        "  return [train_ds, valid_ds, test_ds]\n",
        "\n",
        "Montgomery_ds = Construct_Montgomery(0,0,1,augment=False)"
      ],
      "execution_count": 74,
      "outputs": [
        {
          "output_type": "stream",
          "name": "stdout",
          "text": [
            "c\n",
            "d\n",
            "e\n",
            "f\n",
            "g\n",
            "h\n",
            "i\n",
            "j\n"
          ]
        }
      ]
    },
    {
      "cell_type": "markdown",
      "metadata": {
        "id": "DKSclpJAe8G7"
      },
      "source": [
        "###RICORD"
      ]
    },
    {
      "cell_type": "code",
      "metadata": {
        "id": "yG22X20wH6WM",
        "colab": {
          "base_uri": "https://localhost:8080/"
        },
        "outputId": "5a47fcaf-8d7d-470e-baeb-30b9a3b9b6cf"
      },
      "source": [
        "def Construct_RICORD(TrainSplit, ValSplit, TestSplit, augment=False, NumImages=None): \n",
        "  # Creating RICORD Dataset \n",
        "  # returns list: [train_ds(augmented), valid_ds, test_ds]\n",
        "  # augment used to check if should apply random flip, rotation, etc.\n",
        "  # NumImages used to determine how many images to include in database (if left blank then it takes all images)\n",
        "  # TrainSplit, ValSplit, TestSplit used to determine proportion of dataset for each split\n",
        "\n",
        "  name ='RICORD Dataset'\n",
        "  dataDir = 'manifest-1610656454899/'\n",
        "\n",
        "  METADATA_CSV_PATH = colabDir + dataDir + 'metadata.csv' \n",
        "  metadata = pd.read_csv(METADATA_CSV_PATH)\n",
        "\n",
        "  #Only taking the rows that contain a value for view position\n",
        "  metadata = metadata[metadata['Series Description'].str.contains('AP|PA', case=False, regex=True, na=False)]\n",
        "\n",
        "  #Getting image file paths from csv\n",
        "  dcm_dirs = metadata['File Location'].values \n",
        "\n",
        "  #Colab file path example: /content/drive/MyDrive/AP PA Stuff/Datasets/Original/CheXpert-v1.0-small/train/patient00001/study1/view1_frontal.jpg\n",
        "  #Change file paths to work with colab\n",
        "  for ind, path in enumerate(dcm_dirs):\n",
        "    path = path[2:] + '/'\n",
        "    path = path.replace('\\\\', '/')\n",
        "    dcm_dirs[ind] = colabDir + dataDir + path\n",
        "\n",
        "  file_paths = []\n",
        "  for dcm_dir in dcm_dirs:\n",
        "    dcm_path = os.listdir(dcm_dir)\n",
        "    for path in dcm_path:\n",
        "      file_paths.append(dcm_dir + path)\n",
        "\n",
        "  dcm_pixel_arrays = []\n",
        "  for path in tqdm(file_paths):\n",
        "      dcm = pydicom.dcmread(path)\n",
        "      img = dcm.pixel_array\n",
        "      img_2d = img.astype(float)\n",
        "      img_2d_scaled = (np.maximum(img_2d,0) / img_2d.max()) * 255.0\n",
        "      img_2d_scaled = np.uint8(img_2d_scaled)\n",
        "      image = tf.image.resize(tf.expand_dims(img_2d_scaled, axis=-1), [IMG_SIZE, IMG_SIZE])\n",
        "      dcm_pixel_arrays.append(image)\n",
        "\n",
        "  #Get AP/PA label\n",
        "  labels = []\n",
        "  imageCount = metadata['Number of Images']\n",
        "  preLabels = metadata['Series Description']\n",
        "  for count, label in zip(imageCount, preLabels):\n",
        "    for i in range(count):\n",
        "      labels.append(label)\n",
        "\n",
        "  #if ap/pa label has extra words then it'll cut that out & gets counts of each label & converts labels into 1 and 0\n",
        "  AP_Count = 0\n",
        "  PA_Count = 0\n",
        "  for ind, label in enumerate(labels):\n",
        "    if 'AP' in label:\n",
        "      labels[ind] = 0\n",
        "      AP_Count += 1\n",
        "    elif 'PA' in label:\n",
        "      labels[ind] = 1\n",
        "      PA_Count += 1\n",
        "  class_distributions[name] = {'AP':AP_Count,\n",
        "                               'PA':PA_Count,\n",
        "                               'Total': [f'Total Images = {AP_Count+PA_Count}',\n",
        "                                         f'AP Percentage = {AP_Count/(AP_Count+PA_Count):.3f}',\n",
        "                                         f'PA Percentage = {PA_Count/(AP_Count+PA_Count):.3f}']}\n",
        "\n",
        "  labels = np.asarray(labels).astype('float32')\n",
        "\n",
        "  print(len(dcm_pixel_arrays))\n",
        "  print(len(labels))\n",
        "  dataset = tf.data.Dataset.from_tensor_slices((dcm_pixel_arrays, labels))\n",
        "  dataset = dataset.shuffle(buffer_size=100000, seed=rngJesus)\n",
        "\n",
        "  if NumImages:\n",
        "    dataset = dataset.take(NumImages)\n",
        "\n",
        "  dataset = dataset.map(read_dicom_image)\n",
        "  train_ds, valid_ds, test_ds = training_split(dataset, training_prop=TrainSplit, validation_prop=ValSplit, testing_prop=TestSplit)\n",
        "\n",
        "  #If data is used for training then give option to augment the data\n",
        "  if augment:\n",
        "    train_ds = train_ds.map(lambda images, labels:\n",
        "              (preprocessing_model(images), labels))\n",
        "    \n",
        "  return [train_ds, valid_ds, test_ds]\n",
        "\n",
        "RICORD_ds = Construct_RICORD(0,0,1,augment=False)\n",
        "# show_image(RICORD_ds[2])"
      ],
      "execution_count": null,
      "outputs": [
        {
          "output_type": "stream",
          "name": "stderr",
          "text": [
            "100%|██████████| 694/694 [11:54<00:00,  1.03s/it]"
          ]
        },
        {
          "output_type": "stream",
          "name": "stdout",
          "text": [
            "694\n",
            "694\n",
            "a\n",
            "b\n",
            "c\n",
            "d\n",
            "e\n",
            "f\n",
            "g\n",
            "h\n",
            "i\n",
            "j\n"
          ]
        },
        {
          "output_type": "stream",
          "name": "stderr",
          "text": [
            "\n"
          ]
        }
      ]
    },
    {
      "cell_type": "code",
      "metadata": {
        "id": "-ZSp0b-O7y26"
      },
      "source": [
        "RICORD_test_ds = RICORD_ds[2].cache(tensorflowDir+'RICORD Dataset')"
      ],
      "execution_count": null,
      "outputs": []
    },
    {
      "cell_type": "markdown",
      "metadata": {
        "id": "eVZhVfN2fO2U"
      },
      "source": [
        "###Kaggle Test"
      ]
    },
    {
      "cell_type": "code",
      "metadata": {
        "id": "w-E2T5QiMK0t",
        "colab": {
          "base_uri": "https://localhost:8080/"
        },
        "outputId": "14626abc-7003-4e6e-a38c-85cca98b3159"
      },
      "source": [
        "def Construct_KaggleTest(TrainSplit, ValSplit, TestSplit, augment=False, NumImages=None): \n",
        "  # Creating Kaggle Test Dataset \n",
        "  # returns list: [train_ds(augmented), valid_ds, test_ds]\n",
        "  # augment used to check if should apply random flip, rotation, etc.\n",
        "  # NumImages used to determine how many images to include in database (if left blank then it takes all images)\n",
        "  # TrainSplit, ValSplit, TestSplit used to determine proportion of dataset for each split\n",
        "\n",
        "  name ='Kaggle Test Dataset'\n",
        "  dataDir = 'stage_2_test_images/'\n",
        "\n",
        "  #Getting dcm file paths from premade folders\n",
        "  #I manually Separated dcm into seperate folders bc google couldnt read 26k files in one line\n",
        "  file_paths = []\n",
        "  dcm_files = os.listdir(colabDir + dataDir)\n",
        "  for dcm in dcm_files:\n",
        "    file_paths.append(colabDir + dataDir + dcm)\n",
        "  # dcm_dir_names = [str(i) for i in range(1,2)]\n",
        "  # for name in dcm_dir_names:\n",
        "  #   dcm_dir = colabDir + dataDir + name + '/'\n",
        "  #   files = os.listdir(dcm_dir)\n",
        "  #   for file in files:\n",
        "  #     file_paths.append(dcm_dir + file)\n",
        "\n",
        "  dcm_pixel_arrays = []\n",
        "  labels = []\n",
        "  for path in tqdm(file_paths):\n",
        "      dcm = pydicom.dcmread(path)\n",
        "      image = dcm.pixel_array\n",
        "      image = tf.image.resize(tf.expand_dims(image, axis=-1), [IMG_SIZE, IMG_SIZE])\n",
        "      dcm_pixel_arrays.append(image)\n",
        "      labels.append(dcm.SeriesDescription)\n",
        "\n",
        "  #if ap/pa label has extra words then it'll cut that out & gets counts of each label & converts labels into 1 and 0\n",
        "  AP_Count = 0\n",
        "  PA_Count = 0\n",
        "  for ind, label in enumerate(labels):\n",
        "    if 'AP' in label:\n",
        "      labels[ind] = 0\n",
        "      AP_Count += 1\n",
        "    elif 'PA' in label:\n",
        "      labels[ind] = 1\n",
        "      PA_Count += 1\n",
        "  class_distributions[name] = {'AP':AP_Count,\n",
        "                               'PA':PA_Count,\n",
        "                               'Total': [f'Total Images = {AP_Count+PA_Count}',\n",
        "                                         f'AP Percentage = {AP_Count/(AP_Count+PA_Count):.3f}',\n",
        "                                         f'PA Percentage = {PA_Count/(AP_Count+PA_Count):.3f}']}\n",
        "\n",
        "  labels = np.asarray(labels).astype('float32')\n",
        "\n",
        "  print(len(dcm_pixel_arrays))\n",
        "  print(len(labels))\n",
        "  dataset = tf.data.Dataset.from_tensor_slices((dcm_pixel_arrays, labels))\n",
        "  dataset = dataset.shuffle(buffer_size=100000, seed=rngJesus)\n",
        "\n",
        "  if NumImages:\n",
        "    dataset = dataset.take(NumImages)\n",
        "\n",
        "  dataset = dataset.map(read_dicom_image)\n",
        "  train_ds, valid_ds, test_ds = training_split(dataset, training_prop=TrainSplit, validation_prop=ValSplit, testing_prop=TestSplit)\n",
        "  # train_ds2, valid_ds2, test_ds2 = training_split(dataset, training_prop=.8, validation_prop=.2, testing_prop=0)\n",
        "\n",
        "  #If data is used for training then give option to augment the data\n",
        "  if augment:\n",
        "    train_ds = train_ds.map(lambda images, labels:\n",
        "              (preprocessing_model(images), labels))\n",
        "    \n",
        "  return train_ds, valid_ds, test_ds\n",
        "    \n",
        "  # return [train_ds2, valid_ds2, test_ds2]\n",
        "\n",
        "Kaggle_Test_ds = Construct_KaggleTest(0,0,1,augment=True)\n",
        "# show_image(RICORD_ds[2])"
      ],
      "execution_count": null,
      "outputs": [
        {
          "output_type": "stream",
          "name": "stderr",
          "text": [
            "100%|██████████| 3000/3000 [18:19<00:00,  2.73it/s]\n"
          ]
        },
        {
          "output_type": "stream",
          "name": "stdout",
          "text": [
            "3000\n",
            "3000\n",
            "a\n",
            "b\n",
            "c\n",
            "d\n",
            "e\n",
            "f\n",
            "g\n",
            "h\n",
            "i\n",
            "j\n"
          ]
        }
      ]
    },
    {
      "cell_type": "code",
      "metadata": {
        "id": "A6KOtYAXfQ4d"
      },
      "source": [
        "#returns 2 lists with the second one being a train set in case I wanna flip it so i train on the kaggle test"
      ],
      "execution_count": null,
      "outputs": []
    },
    {
      "cell_type": "markdown",
      "metadata": {
        "id": "lRFsXgIdFd6q"
      },
      "source": [
        "#Train Model"
      ]
    },
    {
      "cell_type": "code",
      "metadata": {
        "colab": {
          "base_uri": "https://localhost:8080/"
        },
        "id": "ivxguypWazSx",
        "outputId": "e00cdaaa-554b-43f0-b9a5-7dcc0c747330"
      },
      "source": [
        "#test cell to see if model works with dataset\n",
        "model_handle = 'https://tfhub.dev/google/imagenet/efficientnet_v2_imagenet21k_l/feature_vector/2'\n",
        "# classifier = hub.load(model_handle)\n",
        "print(\"Building model with\", model_handle)\n",
        "\n",
        "model = tf.keras.Sequential([\n",
        "    # Explicitly define the input shape so the model can be properly\n",
        "    # loaded by the TFLiteConverter\n",
        "    tf.keras.layers.InputLayer(input_shape=(IMG_SIZE,IMG_SIZE) + (3,)),\n",
        "    hub.KerasLayer(model_handle, trainable=True),\n",
        "    # tf.keras.layers.Dense(256),\n",
        "    # tf.keras.layers.Flatten(name=\"flatten\"),\n",
        "    tf.keras.layers.Dropout(0.1),\n",
        "    tf.keras.layers.Dense(1, activation=tf.keras.activations.sigmoid)\n",
        "])\n",
        "model.build((None,)+(IMG_SIZE,IMG_SIZE)+(3,))\n",
        "model.summary()\n",
        "\n"
      ],
      "execution_count": null,
      "outputs": [
        {
          "output_type": "stream",
          "name": "stdout",
          "text": [
            "Building model with https://tfhub.dev/google/imagenet/efficientnet_v2_imagenet21k_l/feature_vector/2\n",
            "Model: \"sequential_1\"\n",
            "_________________________________________________________________\n",
            "Layer (type)                 Output Shape              Param #   \n",
            "=================================================================\n",
            "keras_layer (KerasLayer)     (None, 1280)              117746848 \n",
            "_________________________________________________________________\n",
            "dropout (Dropout)            (None, 1280)              0         \n",
            "_________________________________________________________________\n",
            "dense (Dense)                (None, 1)                 1281      \n",
            "=================================================================\n",
            "Total params: 117,748,129\n",
            "Trainable params: 117,235,553\n",
            "Non-trainable params: 512,576\n",
            "_________________________________________________________________\n"
          ]
        }
      ]
    },
    {
      "cell_type": "code",
      "metadata": {
        "id": "59-ogqTMDNeD"
      },
      "source": [
        "#taken from https://ecode.dev/cnn-for-medical-imaging-using-tensorflow-2/\n",
        "from tensorflow.keras.metrics import TruePositives, FalsePositives, TrueNegatives, FalseNegatives, BinaryAccuracy, Precision, Recall, AUC\n",
        "from tensorflow.keras.metrics import SpecificityAtSensitivity\n",
        "\n",
        "METRICS = [\n",
        "      TruePositives(name='tp'),\n",
        "      FalsePositives(name='fp'),\n",
        "      TrueNegatives(name='tn'),\n",
        "      FalseNegatives(name='fn'), \n",
        "      BinaryAccuracy(name='accuracy'),\n",
        "      Precision(name='precision'),\n",
        "      Recall(name='recall'),\n",
        "      AUC(name='auc'),\n",
        "      SpecificityAtSensitivity(sensitivity=0.8, name='sensitivity')\n",
        "]"
      ],
      "execution_count": null,
      "outputs": []
    },
    {
      "cell_type": "code",
      "metadata": {
        "id": "4ty_wZtlazSz"
      },
      "source": [
        "model.compile(\n",
        "  optimizer=tf.keras.optimizers.Adam(learning_rate=0.001), \n",
        "  loss=tf.keras.losses.BinaryCrossentropy(),\n",
        "  metrics=METRICS)"
      ],
      "execution_count": null,
      "outputs": []
    },
    {
      "cell_type": "code",
      "metadata": {
        "id": "bTl6LPchTKEz"
      },
      "source": [
        "BetterDir = '/content/drive/MyDrive/AP PA Stuff/Datasets/Tensorflow/After/'\n",
        "checkpoint_path = BetterDir + \"cp.ckpt\"\n",
        "checkpoint_dir = os.path.dirname(checkpoint_path)\n",
        "\n",
        "# Create a callback that saves the model's weights\n",
        "cp_callback = tf.keras.callbacks.ModelCheckpoint(filepath=checkpoint_path,\n",
        "                                                 save_weights_only=True,\n",
        "                                                 verbose=1)"
      ],
      "execution_count": null,
      "outputs": []
    },
    {
      "cell_type": "code",
      "metadata": {
        "id": "d86nrk3d1Uye"
      },
      "source": [
        "class ClearStuff(tf.keras.callbacks.Callback):\n",
        "    def on_epoch_end(self, epoch, logs=None):\n",
        "        gc.collect()\n",
        "        tf.keras.backend.clear_session()"
      ],
      "execution_count": null,
      "outputs": []
    },
    {
      "cell_type": "code",
      "metadata": {
        "colab": {
          "base_uri": "https://localhost:8080/"
        },
        "id": "Z0u3769n4fKP",
        "outputId": "488b21d4-cab9-41e9-e1e8-d71156acbef8"
      },
      "source": [
        "latest = tf.train.latest_checkpoint(checkpoint_dir)\n",
        "model.load_weights(latest)"
      ],
      "execution_count": null,
      "outputs": [
        {
          "output_type": "execute_result",
          "data": {
            "text/plain": [
              "<tensorflow.python.training.tracking.util.CheckpointLoadStatus at 0x7fd1451a9a90>"
            ]
          },
          "metadata": {},
          "execution_count": 19
        }
      ]
    },
    {
      "cell_type": "code",
      "metadata": {
        "id": "k04LX9OkazS0",
        "colab": {
          "base_uri": "https://localhost:8080/"
        },
        "outputId": "4f905416-bc0b-4388-b6f7-053cb41e7704"
      },
      "source": [
        "steps_per_epoch = dataset_length*.8 // BATCH_SIZE\n",
        "validation_steps = dataset_length*.1 // BATCH_SIZE\n",
        "\n",
        "hist = model.fit(\n",
        "    train_ds,\n",
        "    epochs=epoch_number, steps_per_epoch=steps_per_epoch,\n",
        "    validation_data=valid_ds,\n",
        "    validation_steps=validation_steps,\n",
        "    callbacks=[cp_callback, ClearStuff()]).history \n"
      ],
      "execution_count": null,
      "outputs": [
        {
          "output_type": "stream",
          "name": "stdout",
          "text": [
            "Epoch 1/9\n",
            "2373/2373 [==============================] - 2010s 822ms/step - loss: 0.0586 - tp: 19471.0000 - fp: 174.0000 - tn: 17906.0000 - fn: 417.0000 - accuracy: 0.9844 - precision: 0.9911 - recall: 0.9790 - auc: 0.9958 - sensitivity: 0.9989 - val_loss: 0.0518 - val_tp: 2443.0000 - val_fp: 17.0000 - val_tn: 2232.0000 - val_fn: 44.0000 - val_accuracy: 0.9871 - val_precision: 0.9931 - val_recall: 0.9823 - val_auc: 0.9965 - val_sensitivity: 0.9996\n",
            "\n",
            "Epoch 00001: saving model to /content/drive/MyDrive/AP PA Stuff/Datasets/Tensorflow/After/cp.ckpt\n",
            "Epoch 2/9\n",
            "2373/2373 [==============================] - 1959s 819ms/step - loss: 0.0579 - tp: 19438.0000 - fp: 161.0000 - tn: 17934.0000 - fn: 423.0000 - accuracy: 0.9846 - precision: 0.9918 - recall: 0.9787 - auc: 0.9956 - sensitivity: 0.9985 - val_loss: 0.0715 - val_tp: 2353.0000 - val_fp: 7.0000 - val_tn: 2285.0000 - val_fn: 91.0000 - val_accuracy: 0.9793 - val_precision: 0.9970 - val_recall: 0.9628 - val_auc: 0.9957 - val_sensitivity: 0.9991\n",
            "\n",
            "Epoch 00002: saving model to /content/drive/MyDrive/AP PA Stuff/Datasets/Tensorflow/After/cp.ckpt\n",
            "Epoch 3/9\n",
            "2373/2373 [==============================] - 1959s 818ms/step - loss: 0.0554 - tp: 19473.0000 - fp: 165.0000 - tn: 17911.0000 - fn: 407.0000 - accuracy: 0.9849 - precision: 0.9916 - recall: 0.9795 - auc: 0.9961 - sensitivity: 0.9987 - val_loss: 0.0517 - val_tp: 2382.0000 - val_fp: 14.0000 - val_tn: 2289.0000 - val_fn: 51.0000 - val_accuracy: 0.9863 - val_precision: 0.9942 - val_recall: 0.9790 - val_auc: 0.9967 - val_sensitivity: 0.9991\n",
            "\n",
            "Epoch 00003: saving model to /content/drive/MyDrive/AP PA Stuff/Datasets/Tensorflow/After/cp.ckpt\n",
            "Epoch 4/9\n",
            "2373/2373 [==============================] - 1961s 819ms/step - loss: 0.0561 - tp: 19488.0000 - fp: 157.0000 - tn: 17894.0000 - fn: 417.0000 - accuracy: 0.9849 - precision: 0.9920 - recall: 0.9791 - auc: 0.9960 - sensitivity: 0.9989 - val_loss: 0.1103 - val_tp: 2319.0000 - val_fp: 9.0000 - val_tn: 2266.0000 - val_fn: 142.0000 - val_accuracy: 0.9681 - val_precision: 0.9961 - val_recall: 0.9423 - val_auc: 0.9926 - val_sensitivity: 0.9991\n",
            "\n",
            "Epoch 00004: saving model to /content/drive/MyDrive/AP PA Stuff/Datasets/Tensorflow/After/cp.ckpt\n",
            "Epoch 5/9\n",
            "2373/2373 [==============================] - 1958s 818ms/step - loss: 0.0537 - tp: 19476.0000 - fp: 170.0000 - tn: 17919.0000 - fn: 391.0000 - accuracy: 0.9852 - precision: 0.9913 - recall: 0.9803 - auc: 0.9963 - sensitivity: 0.9987 - val_loss: 0.0606 - val_tp: 2403.0000 - val_fp: 9.0000 - val_tn: 2271.0000 - val_fn: 53.0000 - val_accuracy: 0.9869 - val_precision: 0.9963 - val_recall: 0.9784 - val_auc: 0.9943 - val_sensitivity: 0.9982\n",
            "\n",
            "Epoch 00005: saving model to /content/drive/MyDrive/AP PA Stuff/Datasets/Tensorflow/After/cp.ckpt\n",
            "Epoch 6/9\n",
            "2373/2373 [==============================] - 1961s 819ms/step - loss: 0.0539 - tp: 19418.0000 - fp: 156.0000 - tn: 17983.0000 - fn: 399.0000 - accuracy: 0.9854 - precision: 0.9920 - recall: 0.9799 - auc: 0.9963 - sensitivity: 0.9988 - val_loss: 0.0495 - val_tp: 2457.0000 - val_fp: 9.0000 - val_tn: 2231.0000 - val_fn: 39.0000 - val_accuracy: 0.9899 - val_precision: 0.9964 - val_recall: 0.9844 - val_auc: 0.9951 - val_sensitivity: 0.9996\n",
            "\n",
            "Epoch 00006: saving model to /content/drive/MyDrive/AP PA Stuff/Datasets/Tensorflow/After/cp.ckpt\n",
            "Epoch 7/9\n",
            "2373/2373 [==============================] - 1967s 821ms/step - loss: 0.0541 - tp: 19419.0000 - fp: 172.0000 - tn: 17969.0000 - fn: 396.0000 - accuracy: 0.9850 - precision: 0.9912 - recall: 0.9800 - auc: 0.9963 - sensitivity: 0.9987 - val_loss: 0.0601 - val_tp: 2440.0000 - val_fp: 9.0000 - val_tn: 2233.0000 - val_fn: 54.0000 - val_accuracy: 0.9867 - val_precision: 0.9963 - val_recall: 0.9783 - val_auc: 0.9937 - val_sensitivity: 0.9987\n",
            "\n",
            "Epoch 00007: saving model to /content/drive/MyDrive/AP PA Stuff/Datasets/Tensorflow/After/cp.ckpt\n",
            "Epoch 8/9\n",
            "2373/2373 [==============================] - 1975s 825ms/step - loss: 0.0506 - tp: 19534.0000 - fp: 163.0000 - tn: 17894.0000 - fn: 365.0000 - accuracy: 0.9861 - precision: 0.9917 - recall: 0.9817 - auc: 0.9966 - sensitivity: 0.9987 - val_loss: 0.0612 - val_tp: 2433.0000 - val_fp: 7.0000 - val_tn: 2236.0000 - val_fn: 60.0000 - val_accuracy: 0.9859 - val_precision: 0.9971 - val_recall: 0.9759 - val_auc: 0.9948 - val_sensitivity: 0.9996\n",
            "\n",
            "Epoch 00008: saving model to /content/drive/MyDrive/AP PA Stuff/Datasets/Tensorflow/After/cp.ckpt\n",
            "Epoch 9/9\n",
            "2373/2373 [==============================] - 1996s 834ms/step - loss: 0.0514 - tp: 19518.0000 - fp: 165.0000 - tn: 17912.0000 - fn: 361.0000 - accuracy: 0.9861 - precision: 0.9916 - recall: 0.9818 - auc: 0.9967 - sensitivity: 0.9987 - val_loss: 0.0768 - val_tp: 2378.0000 - val_fp: 8.0000 - val_tn: 2261.0000 - val_fn: 89.0000 - val_accuracy: 0.9795 - val_precision: 0.9966 - val_recall: 0.9639 - val_auc: 0.9947 - val_sensitivity: 0.9991\n",
            "\n",
            "Epoch 00009: saving model to /content/drive/MyDrive/AP PA Stuff/Datasets/Tensorflow/After/cp.ckpt\n"
          ]
        }
      ]
    },
    {
      "cell_type": "code",
      "metadata": {
        "id": "7TAE7NRW8UlO"
      },
      "source": [
        "#before times \n",
        "epochs = [i for i in range(1,12)]\n",
        "accuracies = [0.9475,0.9675,0.9758,0.9758,0.9792,0.9811,0.9811,0.9818,0.9827,0.9828,0.9838]\n",
        "val_accuracies = [0.9719,0.9719,0.9688,0.9865,0.9683,0.9871,0.9867,0.9814,0.9884,0.9827,0.9829]\n",
        "losses = [0.1577,0.1132,0.0898,0.0863,0.0779,0.0732,0.0700,0.0669,0.0653,0.0653,0.0621]\n",
        "val_losses = [0.0967,0.1051,0.1346,0.0775,0.1336,0.0690,0.0527,0.0872,0.0581,0.0923,0.0619]"
      ],
      "execution_count": null,
      "outputs": []
    },
    {
      "cell_type": "code",
      "metadata": {
        "colab": {
          "base_uri": "https://localhost:8080/",
          "height": 549
        },
        "id": "yU0HxMW7HDkj",
        "outputId": "bb2c2a98-f317-474c-c836-6a295cd07c63"
      },
      "source": [
        "accuracies.extend(hist[\"accuracy\"])\n",
        "val_accuracies.extend(hist['val_accuracy'])\n",
        "losses.extend(hist['loss'])\n",
        "val_losses.extend(hist['val_loss'])\n",
        "plt.figure()\n",
        "plt.ylabel(\"Loss (training and validation)\")\n",
        "plt.xlabel(\"Epochs\")\n",
        "plt.ylim([0,2])\n",
        "plt.plot(losses, 'b', label='Training Loss')\n",
        "plt.plot(val_losses, 'r', label='Validatiton Loss')\n",
        "plt.legend()\n",
        "plt.show()\n",
        "\n",
        "plt.figure()\n",
        "plt.ylabel(\"Accuracy (training and validation)\")\n",
        "plt.xlabel(\"Epochs\")\n",
        "plt.ylim([0,1])\n",
        "plt.plot(accuracies, 'b', label='Training Accuracy')\n",
        "plt.plot(val_accuracies,'r', label='Validatiton Accuracy')\n",
        "plt.legend()\n",
        "plt.show()"
      ],
      "execution_count": null,
      "outputs": [
        {
          "output_type": "display_data",
          "data": {
            "image/png": "[encoded data removed]",
            "text/plain": [
              "<Figure size 432x288 with 1 Axes>"
            ]
          },
          "metadata": {
            "needs_background": "light"
          }
        },
        {
          "output_type": "display_data",
          "data": {
            "image/png": "[encoded data removed]",
            "text/plain": [
              "<Figure size 432x288 with 1 Axes>"
            ]
          },
          "metadata": {
            "needs_background": "light"
          }
        }
      ]
    },
    {
      "cell_type": "code",
      "metadata": {
        "colab": {
          "base_uri": "https://localhost:8080/",
          "height": 232
        },
        "id": "ySS2DTZJTsdm",
        "outputId": "32f1ec0d-3456-4e9f-93c6-e0dc8ccfa529"
      },
      "source": [
        "#bad one\n",
        "s\n",
        "plt.figure()\n",
        "plt.ylabel(\"Loss (training and validation)\")\n",
        "plt.xlabel(\"Training Steps\")\n",
        "plt.ylim([0,2])\n",
        "plt.plot(hist[\"loss\"])\n",
        "plt.plot(hist[\"val_loss\"])\n",
        "\n",
        "plt.figure()\n",
        "plt.ylabel(\"Accuracy (training and validation)\")\n",
        "plt.xlabel(\"Training Steps\")\n",
        "plt.ylim([0,1])\n",
        "plt.plot(hist[\"accuracy\"])\n",
        "plt.plot(hist[\"val_accuracy\"])\n",
        "\n",
        "plt.legend()\n",
        "plt.show()"
      ],
      "execution_count": null,
      "outputs": [
        {
          "output_type": "error",
          "ename": "NameError",
          "evalue": "ignored",
          "traceback": [
            "\u001b[0;31m---------------------------------------------------------------------------\u001b[0m",
            "\u001b[0;31mNameError\u001b[0m                                 Traceback (most recent call last)",
            "\u001b[0;32m<ipython-input-21-ca2744df5870>\u001b[0m in \u001b[0;36m<module>\u001b[0;34m()\u001b[0m\n\u001b[1;32m      1\u001b[0m \u001b[0;31m#bad one\u001b[0m\u001b[0;34m\u001b[0m\u001b[0;34m\u001b[0m\u001b[0;34m\u001b[0m\u001b[0m\n\u001b[0;32m----> 2\u001b[0;31m \u001b[0ms\u001b[0m\u001b[0;34m\u001b[0m\u001b[0;34m\u001b[0m\u001b[0m\n\u001b[0m\u001b[1;32m      3\u001b[0m \u001b[0mplt\u001b[0m\u001b[0;34m.\u001b[0m\u001b[0mfigure\u001b[0m\u001b[0;34m(\u001b[0m\u001b[0;34m)\u001b[0m\u001b[0;34m\u001b[0m\u001b[0;34m\u001b[0m\u001b[0m\n\u001b[1;32m      4\u001b[0m \u001b[0mplt\u001b[0m\u001b[0;34m.\u001b[0m\u001b[0mylabel\u001b[0m\u001b[0;34m(\u001b[0m\u001b[0;34m\"Loss (training and validation)\"\u001b[0m\u001b[0;34m)\u001b[0m\u001b[0;34m\u001b[0m\u001b[0;34m\u001b[0m\u001b[0m\n\u001b[1;32m      5\u001b[0m \u001b[0mplt\u001b[0m\u001b[0;34m.\u001b[0m\u001b[0mxlabel\u001b[0m\u001b[0;34m(\u001b[0m\u001b[0;34m\"Training Steps\"\u001b[0m\u001b[0;34m)\u001b[0m\u001b[0;34m\u001b[0m\u001b[0;34m\u001b[0m\u001b[0m\n",
            "\u001b[0;31mNameError\u001b[0m: name 's' is not defined"
          ]
        }
      ]
    },
    {
      "cell_type": "code",
      "metadata": {
        "id": "-LqP7UGFIU_n"
      },
      "source": [
        "# class_distributions['Kaggle'] = {'AP':Kaggle_AP,\n",
        "#                                'PA':Kaggle_PA,\n",
        "#                                'Total': [f'Total Images = {Kaggle_AP+Kaggle_PA}',\n",
        "#                                          f'AP Percentage = {Kaggle_AP/(Kaggle_AP+Kaggle_PA):.3f}',\n",
        "#                                          f'PA Percentage = {Kaggle_PA/(Kaggle_AP+Kaggle_PA):.3f}']}\n",
        "\n",
        "# class_distributions['IEEE'] = {'AP':IEEE_AP,\n",
        "#                                'PA':IEEE_PA,\n",
        "#                                'Total': [f'Total Images = {IEEE_AP+IEEE_PA}',\n",
        "#                                          f'AP Percentage = {IEEE_AP/(IEEE_AP+IEEE_PA):.3f}',\n",
        "#                                          f'PA Percentage = {IEEE_PA/(IEEE_AP+IEEE_PA):.3f}']}\n",
        "\n",
        "class_distributions"
      ],
      "execution_count": null,
      "outputs": []
    },
    {
      "cell_type": "code",
      "metadata": {
        "id": "9Ffaai3GVdjc"
      },
      "source": [
        "test_dses = {\n",
        "    # 'CheXpert': cheXpert_ds[2],\n",
        "    # 'CX-Net': CXNet_ds[2],\n",
        "    # 'ActualMed': ActualMed_ds[2],\n",
        "    'Shenzhen': Shenzhen_ds[2],\n",
        "    'Montgomery': Montgomery_ds[2],\n",
        "    'RICORD': RICORD_ds[2],\n",
        "    'Kaggle': Kaggle_Test_ds[2]\n",
        "}\n",
        "\n",
        "predictions = {}"
      ],
      "execution_count": 75,
      "outputs": []
    },
    {
      "cell_type": "code",
      "metadata": {
        "id": "HSJHOlCwT8Mm",
        "colab": {
          "base_uri": "https://localhost:8080/",
          "height": 679
        },
        "outputId": "70931736-667d-403d-906a-94624c02c725"
      },
      "source": [
        "#adapted from https://ecode.dev/cnn-for-medical-imaging-using-tensorflow-2/\n",
        "\n",
        "# Evaluate the model on the test data using `evaluate`\n",
        "print(\"Evaluate on test data\")\n",
        "for test_ds_name in test_dses:\n",
        "  print('-'*40)\n",
        "  print('Now evaluating '+ test_ds_name)\n",
        "  test_ds = test_dses[test_ds_name]\n",
        "  score_test = model.evaluate(test_ds)\n",
        "  predictions[test_ds_name] = model.predict(test_ds)\n",
        "  for name, value in zip(model.metrics_names, score_test):\n",
        "    print(name, ': ', value)\n",
        "  print('-'*40)\n",
        "\n",
        "from sklearn.metrics import confusion_matrix, roc_auc_score, roc_curve\n",
        "import seaborn as sns\n",
        "\n",
        "# notice the threshold\n",
        "def plot_cm(labels: numpy.ndarray, predictions: numpy.ndarray, p: float=0.5) -> ():\n",
        "    cm = confusion_matrix(labels, predictions > p)\n",
        "    # you can normalize the confusion matrix\n",
        "\n",
        "    plt.figure(figsize=(5,5))\n",
        "    sns.heatmap(cm, annot=True, fmt=\"d\")\n",
        "    plt.title('Confusion matrix @{:.2f}'.format(p))\n",
        "    plt.ylabel('Actual label')\n",
        "    plt.xlabel('Predicted label')\n",
        "\n",
        "    print('Lesions Detected (True Negatives): ', cm[0][0])\n",
        "    print('Lesions Incorrectly Detected (False Positives): ', cm[0][1])\n",
        "    print('No-Lesions Missed (False Negatives): ', cm[1][0])\n",
        "    print('No-Lesions Detected (True Positives): ', cm[1][1])\n",
        "    print('Total Lesions: ', np.sum(cm[1]))\n",
        "\n",
        "def plot_roc(name: str, labels: numpy.ndarray, predictions: numpy.ndarray, **kwargs) -> ():\n",
        "  fp, tp, _ = roc_curve(labels, predictions)\n",
        "  auc_roc = roc_auc_score(labels, predictions)\n",
        "  plt.plot(100*fp, 100*tp, label=name + \" (\" + str(round(auc_roc, 3)) + \")\", \n",
        "           linewidth=2, **kwargs)\n",
        "  plt.xlabel('False positives [%]')\n",
        "  plt.ylabel('True positives [%]')\n",
        "  plt.title('ROC curve')\n",
        "  plt.grid(True)\n",
        "  plt.legend(loc='best')\n",
        "  ax = plt.gca()\n",
        "  ax.set_aspect('equal')\n",
        "\n",
        "for name, test_ds, y_test_pred in zip(test_dses.keys, test_dses.values, predictions.values):\n",
        "  print('-'*40)\n",
        "  print('NOW SHOWING PLOTS FOR: ' + name)\n",
        "  y_test = np.concatenate([y for x, y in test_ds], axis=0)\n",
        "  plot_cm(y_test, y_test_pred)\n",
        "  plot_roc(\"Test Base\", y_test, y_test_pred, color=colors[0])\n",
        "  plt.legend(loc='lower right')\n",
        "  print('-'*40)"
      ],
      "execution_count": 76,
      "outputs": [
        {
          "output_type": "stream",
          "name": "stdout",
          "text": [
            "Evaluate on test data\n",
            "----------------------------------------\n",
            "Now evaluating Shenzhen\n",
            "27/42 [==================>...........] - ETA: 1:00 - loss: 0.3057 - tp: 387.0000 - fp: 0.0000e+00 - tn: 0.0000e+00 - fn: 45.0000 - accuracy: 0.8958 - precision: 1.0000 - recall: 0.8958 - auc: 0.0000e+00 - sensitivity: 0.0000e+00"
          ]
        },
        {
          "output_type": "error",
          "ename": "InvalidArgumentError",
          "evalue": "ignored",
          "traceback": [
            "\u001b[0;31m---------------------------------------------------------------------------\u001b[0m",
            "\u001b[0;31mInvalidArgumentError\u001b[0m                      Traceback (most recent call last)",
            "\u001b[0;32m<ipython-input-76-3051a494f172>\u001b[0m in \u001b[0;36m<module>\u001b[0;34m()\u001b[0m\n\u001b[1;32m      7\u001b[0m   \u001b[0mprint\u001b[0m\u001b[0;34m(\u001b[0m\u001b[0;34m'Now evaluating '\u001b[0m\u001b[0;34m+\u001b[0m \u001b[0mtest_ds_name\u001b[0m\u001b[0;34m)\u001b[0m\u001b[0;34m\u001b[0m\u001b[0;34m\u001b[0m\u001b[0m\n\u001b[1;32m      8\u001b[0m   \u001b[0mtest_ds\u001b[0m \u001b[0;34m=\u001b[0m \u001b[0mtest_dses\u001b[0m\u001b[0;34m[\u001b[0m\u001b[0mtest_ds_name\u001b[0m\u001b[0;34m]\u001b[0m\u001b[0;34m\u001b[0m\u001b[0;34m\u001b[0m\u001b[0m\n\u001b[0;32m----> 9\u001b[0;31m   \u001b[0mscore_test\u001b[0m \u001b[0;34m=\u001b[0m \u001b[0mmodel\u001b[0m\u001b[0;34m.\u001b[0m\u001b[0mevaluate\u001b[0m\u001b[0;34m(\u001b[0m\u001b[0mtest_ds\u001b[0m\u001b[0;34m)\u001b[0m\u001b[0;34m\u001b[0m\u001b[0;34m\u001b[0m\u001b[0m\n\u001b[0m\u001b[1;32m     10\u001b[0m   \u001b[0mpredictions\u001b[0m\u001b[0;34m[\u001b[0m\u001b[0mtest_ds_name\u001b[0m\u001b[0;34m]\u001b[0m \u001b[0;34m=\u001b[0m \u001b[0mmodel\u001b[0m\u001b[0;34m.\u001b[0m\u001b[0mpredict\u001b[0m\u001b[0;34m(\u001b[0m\u001b[0mtest_ds\u001b[0m\u001b[0;34m)\u001b[0m\u001b[0;34m\u001b[0m\u001b[0;34m\u001b[0m\u001b[0m\n\u001b[1;32m     11\u001b[0m   \u001b[0;32mfor\u001b[0m \u001b[0mname\u001b[0m\u001b[0;34m,\u001b[0m \u001b[0mvalue\u001b[0m \u001b[0;32min\u001b[0m \u001b[0mzip\u001b[0m\u001b[0;34m(\u001b[0m\u001b[0mmodel\u001b[0m\u001b[0;34m.\u001b[0m\u001b[0mmetrics_names\u001b[0m\u001b[0;34m,\u001b[0m \u001b[0mscore_test\u001b[0m\u001b[0;34m)\u001b[0m\u001b[0;34m:\u001b[0m\u001b[0;34m\u001b[0m\u001b[0;34m\u001b[0m\u001b[0m\n",
            "\u001b[0;32m/usr/local/lib/python3.7/dist-packages/keras/engine/training.py\u001b[0m in \u001b[0;36mevaluate\u001b[0;34m(self, x, y, batch_size, verbose, sample_weight, steps, callbacks, max_queue_size, workers, use_multiprocessing, return_dict, **kwargs)\u001b[0m\n\u001b[1;32m   1499\u001b[0m             \u001b[0;32mwith\u001b[0m \u001b[0mtf\u001b[0m\u001b[0;34m.\u001b[0m\u001b[0mprofiler\u001b[0m\u001b[0;34m.\u001b[0m\u001b[0mexperimental\u001b[0m\u001b[0;34m.\u001b[0m\u001b[0mTrace\u001b[0m\u001b[0;34m(\u001b[0m\u001b[0;34m'test'\u001b[0m\u001b[0;34m,\u001b[0m \u001b[0mstep_num\u001b[0m\u001b[0;34m=\u001b[0m\u001b[0mstep\u001b[0m\u001b[0;34m,\u001b[0m \u001b[0m_r\u001b[0m\u001b[0;34m=\u001b[0m\u001b[0;36m1\u001b[0m\u001b[0;34m)\u001b[0m\u001b[0;34m:\u001b[0m\u001b[0;34m\u001b[0m\u001b[0;34m\u001b[0m\u001b[0m\n\u001b[1;32m   1500\u001b[0m               \u001b[0mcallbacks\u001b[0m\u001b[0;34m.\u001b[0m\u001b[0mon_test_batch_begin\u001b[0m\u001b[0;34m(\u001b[0m\u001b[0mstep\u001b[0m\u001b[0;34m)\u001b[0m\u001b[0;34m\u001b[0m\u001b[0;34m\u001b[0m\u001b[0m\n\u001b[0;32m-> 1501\u001b[0;31m               \u001b[0mtmp_logs\u001b[0m \u001b[0;34m=\u001b[0m \u001b[0mself\u001b[0m\u001b[0;34m.\u001b[0m\u001b[0mtest_function\u001b[0m\u001b[0;34m(\u001b[0m\u001b[0miterator\u001b[0m\u001b[0;34m)\u001b[0m\u001b[0;34m\u001b[0m\u001b[0;34m\u001b[0m\u001b[0m\n\u001b[0m\u001b[1;32m   1502\u001b[0m               \u001b[0;32mif\u001b[0m \u001b[0mdata_handler\u001b[0m\u001b[0;34m.\u001b[0m\u001b[0mshould_sync\u001b[0m\u001b[0;34m:\u001b[0m\u001b[0;34m\u001b[0m\u001b[0;34m\u001b[0m\u001b[0m\n\u001b[1;32m   1503\u001b[0m                 \u001b[0mcontext\u001b[0m\u001b[0;34m.\u001b[0m\u001b[0masync_wait\u001b[0m\u001b[0;34m(\u001b[0m\u001b[0;34m)\u001b[0m\u001b[0;34m\u001b[0m\u001b[0;34m\u001b[0m\u001b[0m\n",
            "\u001b[0;32m/usr/local/lib/python3.7/dist-packages/tensorflow/python/eager/def_function.py\u001b[0m in \u001b[0;36m__call__\u001b[0;34m(self, *args, **kwds)\u001b[0m\n\u001b[1;32m    883\u001b[0m \u001b[0;34m\u001b[0m\u001b[0m\n\u001b[1;32m    884\u001b[0m       \u001b[0;32mwith\u001b[0m \u001b[0mOptionalXlaContext\u001b[0m\u001b[0;34m(\u001b[0m\u001b[0mself\u001b[0m\u001b[0;34m.\u001b[0m\u001b[0m_jit_compile\u001b[0m\u001b[0;34m)\u001b[0m\u001b[0;34m:\u001b[0m\u001b[0;34m\u001b[0m\u001b[0;34m\u001b[0m\u001b[0m\n\u001b[0;32m--> 885\u001b[0;31m         \u001b[0mresult\u001b[0m \u001b[0;34m=\u001b[0m \u001b[0mself\u001b[0m\u001b[0;34m.\u001b[0m\u001b[0m_call\u001b[0m\u001b[0;34m(\u001b[0m\u001b[0;34m*\u001b[0m\u001b[0margs\u001b[0m\u001b[0;34m,\u001b[0m \u001b[0;34m**\u001b[0m\u001b[0mkwds\u001b[0m\u001b[0;34m)\u001b[0m\u001b[0;34m\u001b[0m\u001b[0;34m\u001b[0m\u001b[0m\n\u001b[0m\u001b[1;32m    886\u001b[0m \u001b[0;34m\u001b[0m\u001b[0m\n\u001b[1;32m    887\u001b[0m       \u001b[0mnew_tracing_count\u001b[0m \u001b[0;34m=\u001b[0m \u001b[0mself\u001b[0m\u001b[0;34m.\u001b[0m\u001b[0mexperimental_get_tracing_count\u001b[0m\u001b[0;34m(\u001b[0m\u001b[0;34m)\u001b[0m\u001b[0;34m\u001b[0m\u001b[0;34m\u001b[0m\u001b[0m\n",
            "\u001b[0;32m/usr/local/lib/python3.7/dist-packages/tensorflow/python/eager/def_function.py\u001b[0m in \u001b[0;36m_call\u001b[0;34m(self, *args, **kwds)\u001b[0m\n\u001b[1;32m    922\u001b[0m       \u001b[0;31m# In this case we have not created variables on the first call. So we can\u001b[0m\u001b[0;34m\u001b[0m\u001b[0;34m\u001b[0m\u001b[0;34m\u001b[0m\u001b[0m\n\u001b[1;32m    923\u001b[0m       \u001b[0;31m# run the first trace but we should fail if variables are created.\u001b[0m\u001b[0;34m\u001b[0m\u001b[0;34m\u001b[0m\u001b[0;34m\u001b[0m\u001b[0m\n\u001b[0;32m--> 924\u001b[0;31m       \u001b[0mresults\u001b[0m \u001b[0;34m=\u001b[0m \u001b[0mself\u001b[0m\u001b[0;34m.\u001b[0m\u001b[0m_stateful_fn\u001b[0m\u001b[0;34m(\u001b[0m\u001b[0;34m*\u001b[0m\u001b[0margs\u001b[0m\u001b[0;34m,\u001b[0m \u001b[0;34m**\u001b[0m\u001b[0mkwds\u001b[0m\u001b[0;34m)\u001b[0m\u001b[0;34m\u001b[0m\u001b[0;34m\u001b[0m\u001b[0m\n\u001b[0m\u001b[1;32m    925\u001b[0m       \u001b[0;32mif\u001b[0m \u001b[0mself\u001b[0m\u001b[0;34m.\u001b[0m\u001b[0m_created_variables\u001b[0m \u001b[0;32mand\u001b[0m \u001b[0;32mnot\u001b[0m \u001b[0mALLOW_DYNAMIC_VARIABLE_CREATION\u001b[0m\u001b[0;34m:\u001b[0m\u001b[0;34m\u001b[0m\u001b[0;34m\u001b[0m\u001b[0m\n\u001b[1;32m    926\u001b[0m         raise ValueError(\"Creating variables on a non-first call to a function\"\n",
            "\u001b[0;32m/usr/local/lib/python3.7/dist-packages/tensorflow/python/eager/function.py\u001b[0m in \u001b[0;36m__call__\u001b[0;34m(self, *args, **kwargs)\u001b[0m\n\u001b[1;32m   3038\u001b[0m        filtered_flat_args) = self._maybe_define_function(args, kwargs)\n\u001b[1;32m   3039\u001b[0m     return graph_function._call_flat(\n\u001b[0;32m-> 3040\u001b[0;31m         filtered_flat_args, captured_inputs=graph_function.captured_inputs)  # pylint: disable=protected-access\n\u001b[0m\u001b[1;32m   3041\u001b[0m \u001b[0;34m\u001b[0m\u001b[0m\n\u001b[1;32m   3042\u001b[0m   \u001b[0;34m@\u001b[0m\u001b[0mproperty\u001b[0m\u001b[0;34m\u001b[0m\u001b[0;34m\u001b[0m\u001b[0m\n",
            "\u001b[0;32m/usr/local/lib/python3.7/dist-packages/tensorflow/python/eager/function.py\u001b[0m in \u001b[0;36m_call_flat\u001b[0;34m(self, args, captured_inputs, cancellation_manager)\u001b[0m\n\u001b[1;32m   1962\u001b[0m       \u001b[0;31m# No tape is watching; skip to running the function.\u001b[0m\u001b[0;34m\u001b[0m\u001b[0;34m\u001b[0m\u001b[0;34m\u001b[0m\u001b[0m\n\u001b[1;32m   1963\u001b[0m       return self._build_call_outputs(self._inference_function.call(\n\u001b[0;32m-> 1964\u001b[0;31m           ctx, args, cancellation_manager=cancellation_manager))\n\u001b[0m\u001b[1;32m   1965\u001b[0m     forward_backward = self._select_forward_and_backward_functions(\n\u001b[1;32m   1966\u001b[0m         \u001b[0margs\u001b[0m\u001b[0;34m,\u001b[0m\u001b[0;34m\u001b[0m\u001b[0;34m\u001b[0m\u001b[0m\n",
            "\u001b[0;32m/usr/local/lib/python3.7/dist-packages/tensorflow/python/eager/function.py\u001b[0m in \u001b[0;36mcall\u001b[0;34m(self, ctx, args, cancellation_manager)\u001b[0m\n\u001b[1;32m    594\u001b[0m               \u001b[0minputs\u001b[0m\u001b[0;34m=\u001b[0m\u001b[0margs\u001b[0m\u001b[0;34m,\u001b[0m\u001b[0;34m\u001b[0m\u001b[0;34m\u001b[0m\u001b[0m\n\u001b[1;32m    595\u001b[0m               \u001b[0mattrs\u001b[0m\u001b[0;34m=\u001b[0m\u001b[0mattrs\u001b[0m\u001b[0;34m,\u001b[0m\u001b[0;34m\u001b[0m\u001b[0;34m\u001b[0m\u001b[0m\n\u001b[0;32m--> 596\u001b[0;31m               ctx=ctx)\n\u001b[0m\u001b[1;32m    597\u001b[0m         \u001b[0;32melse\u001b[0m\u001b[0;34m:\u001b[0m\u001b[0;34m\u001b[0m\u001b[0;34m\u001b[0m\u001b[0m\n\u001b[1;32m    598\u001b[0m           outputs = execute.execute_with_cancellation(\n",
            "\u001b[0;32m/usr/local/lib/python3.7/dist-packages/tensorflow/python/eager/execute.py\u001b[0m in \u001b[0;36mquick_execute\u001b[0;34m(op_name, num_outputs, inputs, attrs, ctx, name)\u001b[0m\n\u001b[1;32m     58\u001b[0m     \u001b[0mctx\u001b[0m\u001b[0;34m.\u001b[0m\u001b[0mensure_initialized\u001b[0m\u001b[0;34m(\u001b[0m\u001b[0;34m)\u001b[0m\u001b[0;34m\u001b[0m\u001b[0;34m\u001b[0m\u001b[0m\n\u001b[1;32m     59\u001b[0m     tensors = pywrap_tfe.TFE_Py_Execute(ctx._handle, device_name, op_name,\n\u001b[0;32m---> 60\u001b[0;31m                                         inputs, attrs, num_outputs)\n\u001b[0m\u001b[1;32m     61\u001b[0m   \u001b[0;32mexcept\u001b[0m \u001b[0mcore\u001b[0m\u001b[0;34m.\u001b[0m\u001b[0m_NotOkStatusException\u001b[0m \u001b[0;32mas\u001b[0m \u001b[0me\u001b[0m\u001b[0;34m:\u001b[0m\u001b[0;34m\u001b[0m\u001b[0;34m\u001b[0m\u001b[0m\n\u001b[1;32m     62\u001b[0m     \u001b[0;32mif\u001b[0m \u001b[0mname\u001b[0m \u001b[0;32mis\u001b[0m \u001b[0;32mnot\u001b[0m \u001b[0;32mNone\u001b[0m\u001b[0;34m:\u001b[0m\u001b[0;34m\u001b[0m\u001b[0;34m\u001b[0m\u001b[0m\n",
            "\u001b[0;31mInvalidArgumentError\u001b[0m: 2 root error(s) found.\n  (0) Invalid argument:  Unknown image file format. One of JPEG, PNG, GIF, BMP required.\n\t [[{{node decode_image/DecodeImage}}]]\n\t [[IteratorGetNext]]\n  (1) Invalid argument:  Unknown image file format. One of JPEG, PNG, GIF, BMP required.\n\t [[{{node decode_image/DecodeImage}}]]\n\t [[IteratorGetNext]]\n\t [[assert_greater_equal_4/Assert/AssertGuard/else/_1413/assert_greater_equal_4/Assert/AssertGuard/Assert/data_4/_166]]\n0 successful operations.\n0 derived errors ignored. [Op:__inference_test_function_140334]\n\nFunction call stack:\ntest_function -> test_function\n"
          ]
        }
      ]
    },
    {
      "cell_type": "code",
      "metadata": {
        "id": "q62DZoGIb3bn"
      },
      "source": [
        "class_distributions"
      ],
      "execution_count": null,
      "outputs": []
    },
    {
      "cell_type": "code",
      "metadata": {
        "id": "eHRwEBbKSv7z"
      },
      "source": [
        ""
      ],
      "execution_count": null,
      "outputs": []
    }
  ]
}