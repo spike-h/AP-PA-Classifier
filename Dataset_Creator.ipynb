{
  "nbformat": 4,
  "nbformat_minor": 0,
  "metadata": {
    "colab": {
      "name": "Dataset Creator",
      "provenance": [],
      "collapsed_sections": [
        "0No-SI7bGxFN",
        "YhBQihc69OqV",
        "qVVGY7_JfAiY",
        "Vq1fjygmokq8",
        "rT3siDHbb6Vp",
        "DKSclpJAe8G7",
        "eVZhVfN2fO2U"
      ],
      "machine_shape": "hm",
      "include_colab_link": true
    },
    "kernelspec": {
      "name": "python3",
      "display_name": "Python 3"
    },
    "language_info": {
      "name": "python"
    },
    "accelerator": "GPU"
  },
  "cells": [
    {
      "cell_type": "markdown",
      "metadata": {
        "id": "view-in-github",
        "colab_type": "text"
      },
      "source": [
        "<a href=\"https://colab.research.google.com/github/spike-h/AP-PA-Classifier/blob/main/Dataset_Creator.ipynb\" target=\"_parent\"><img src=\"https://colab.research.google.com/assets/colab-badge.svg\" alt=\"Open In Colab\"/></a>"
      ]
    },
    {
      "cell_type": "code",
      "metadata": {
        "id": "FSccms5KbUNx",
        "colab": {
          "base_uri": "https://localhost:8080/"
        },
        "outputId": "69011e5c-a583-4537-d852-97921157d08d"
      },
      "source": [
        "from google.colab import drive\n",
        "drive.mount('/content/drive')"
      ],
      "execution_count": null,
      "outputs": [
        {
          "output_type": "stream",
          "name": "stdout",
          "text": [
            "Mounted at /content/drive\n"
          ]
        }
      ]
    },
    {
      "cell_type": "markdown",
      "metadata": {
        "id": "xUeddQizbU-1"
      },
      "source": [
        "#Imports"
      ]
    },
    {
      "cell_type": "markdown",
      "metadata": {
        "id": "v2GQzSrPGuA1"
      },
      "source": [
        "##Pips (restart runtime after running)"
      ]
    },
    {
      "cell_type": "code",
      "metadata": {
        "id": "ISptNvTabNba",
        "colab": {
          "base_uri": "https://localhost:8080/"
        },
        "outputId": "cf89b544-878b-44dd-b10b-a01d9fb12188"
      },
      "source": [
        "'''\n",
        " importing from https://github.com/Engineero/tf_sprinkles\n",
        "'''\n",
        "!pip install tf_sprinkles &> /dev/null\n",
        "!pip install pydicom &> /dev/null\n",
        "!pip install pylibjpeg pylibjpeg-libjpeg  &> /dev/null\n",
        "!pip install python-gdcm &> /dev/null\n",
        "!pip install -q tensorflow-io &> /dev/null\n",
        "!pip install numpy --upgrade"
      ],
      "execution_count": null,
      "outputs": [
        {
          "output_type": "stream",
          "name": "stdout",
          "text": [
            "Requirement already satisfied: numpy in /usr/local/lib/python3.7/dist-packages (1.19.5)\n",
            "Collecting numpy\n",
            "  Downloading numpy-1.21.2-cp37-cp37m-manylinux_2_12_x86_64.manylinux2010_x86_64.whl (15.7 MB)\n",
            "\u001b[K     |████████████████████████████████| 15.7 MB 309 kB/s \n",
            "\u001b[?25hInstalling collected packages: numpy\n",
            "  Attempting uninstall: numpy\n",
            "    Found existing installation: numpy 1.19.5\n",
            "    Uninstalling numpy-1.19.5:\n",
            "      Successfully uninstalled numpy-1.19.5\n",
            "\u001b[31mERROR: pip's dependency resolver does not currently take into account all the packages that are installed. This behaviour is the source of the following dependency conflicts.\n",
            "tensorflow 2.6.0 requires numpy~=1.19.2, but you have numpy 1.21.2 which is incompatible.\n",
            "datascience 0.10.6 requires folium==0.2.1, but you have folium 0.8.3 which is incompatible.\n",
            "albumentations 0.1.12 requires imgaug<0.2.7,>=0.2.5, but you have imgaug 0.2.9 which is incompatible.\u001b[0m\n",
            "Successfully installed numpy-1.21.2\n"
          ]
        },
        {
          "output_type": "display_data",
          "data": {
            "application/vnd.colab-display-data+json": {
              "pip_warning": {
                "packages": [
                  "numpy"
                ]
              }
            }
          },
          "metadata": {}
        }
      ]
    },
    {
      "cell_type": "markdown",
      "metadata": {
        "id": "0No-SI7bGxFN"
      },
      "source": [
        "##imports"
      ]
    },
    {
      "cell_type": "code",
      "metadata": {
        "colab": {
          "base_uri": "https://localhost:8080/"
        },
        "id": "qSJpJOKOGG5-",
        "outputId": "cdead98a-d827-45ec-f5d4-4d071913b955"
      },
      "source": [
        "import os\n",
        "\n",
        "import matplotlib.pylab as plt\n",
        "import numpy as np\n",
        "import pandas as pd\n",
        "import random\n",
        "from tf_sprinkles import Sprinkles\n",
        "import pydicom\n",
        "from tqdm import tqdm\n",
        "import pylibjpeg\n",
        "import gdcm\n",
        "import tensorflow_io as tfio\n",
        "import time\n",
        "# import tracemalloc\n",
        "\n",
        "import tensorflow as tf\n",
        "import tensorflow_hub as hub\n",
        "\n",
        "print(\"TF version:\", tf.__version__)\n",
        "print(\"Hub version:\", hub.__version__)"
      ],
      "execution_count": 1,
      "outputs": [
        {
          "output_type": "stream",
          "name": "stdout",
          "text": [
            "TF version: 2.6.0\n",
            "Hub version: 0.12.0\n"
          ]
        }
      ]
    },
    {
      "cell_type": "code",
      "metadata": {
        "id": "onDAy5-lpCE9"
      },
      "source": [
        "colabDir = '/content/drive/MyDrive/AP PA Stuff/Datasets/Original/'\n",
        "tensorflowDir = '/content/drive/MyDrive/AP PA Stuff/Datasets/Tensorflow/'"
      ],
      "execution_count": 2,
      "outputs": []
    },
    {
      "cell_type": "markdown",
      "metadata": {
        "id": "Rxi1_0x7WadX"
      },
      "source": [
        "#Creating tf.data.Dataset Datasets"
      ]
    },
    {
      "cell_type": "markdown",
      "metadata": {
        "id": "5BZ9VuWc-It7"
      },
      "source": [
        "##Helper/Starter functions"
      ]
    },
    {
      "cell_type": "code",
      "metadata": {
        "id": "rUHBLeTEEcZV"
      },
      "source": [
        "class_distributions = {}"
      ],
      "execution_count": 3,
      "outputs": []
    },
    {
      "cell_type": "code",
      "metadata": {
        "id": "eIMUy9Awcd2w"
      },
      "source": [
        "#Sprinkles augmentation setup\n",
        "\n",
        "#Set sprinkles to make 50-100 square holes in the image with side length of 10 pixels 30% ofthe time\n",
        "class RandomSprinkles(tf.keras.layers.Layer):\n",
        "  def __init__(self, **kwargs):\n",
        "    super().__init__()\n",
        "\n",
        "  def call(self, image):\n",
        "    if random.random() < .3:\n",
        "      sprinkles = Sprinkles(num_holes=random.randint(50,100), side_length=10)\n",
        "      return sprinkles(image)\n",
        "    return image"
      ],
      "execution_count": 4,
      "outputs": []
    },
    {
      "cell_type": "code",
      "metadata": {
        "id": "VCZaec9y2t22"
      },
      "source": [
        "#Helper functions to create and augment the tf.data.Datasets\n",
        "IMG_SIZE = 256 #IF CHANGE HERE THEN ALSO CHANGE IN TRAIN MODEL.py\n",
        "BATCH_SIZE = 16 #IF CHANGE HERE THEN ALSO CHANGE IN TRAIN MODEL.py\n",
        "rngJesus = 8679309 #set seed for consistency when running but doesnt affect sprinkles soooooo maybe pointless\n",
        "\n",
        "def read_image(filename, label, bmp=None):\n",
        "  image_string = tf.io.read_file(filename)\n",
        "  image_decoded = tf.image.decode_image(image_string, channels=3, expand_animations=False)\n",
        "  image = tf.cast(image_decoded, tf.float32) / 255.0\n",
        "  image = tf.image.resize(image, [IMG_SIZE, IMG_SIZE])\n",
        "  return image, label\n",
        "\n",
        "def read_dicom_image(dcmFile, label):\n",
        "  # image_decoded = tf.convert_to_tensor(dcmFile)\n",
        "  # image_decoded = tf.expand_dims(image_decoded, axis=-1)\n",
        "  image = tf.image.grayscale_to_rgb(dcmFile)\n",
        "  print('a')\n",
        "  image = tf.cast(image, tf.float32) / 255.0\n",
        "  print('b')\n",
        "  # image = tf.image.resize(image, [IMG_SIZE, IMG_SIZE])\n",
        "  return image, label\n",
        "\n",
        "preprocessing_model = tf.keras.Sequential([\n",
        "  RandomSprinkles(),\n",
        "  tf.keras.layers.RandomFlip(\"horizontal\", seed=rngJesus),\n",
        "  tf.keras.layers.RandomContrast(factor=0.1, seed=rngJesus),\n",
        "  tf.keras.layers.RandomTranslation(0, 0.1, fill_mode='constant', seed=rngJesus),\n",
        "  tf.keras.layers.RandomTranslation(0.1, 0, fill_mode='constant', seed=rngJesus),\n",
        "  tf.keras.layers.RandomRotation(.069, fill_mode='constant', seed=rngJesus)\n",
        "])\n",
        "# preprocessing_model.add(\n",
        "#   tf.keras.layers.RandomRotation(.111, fill_mode='constant', seed=rngJesus)),\n",
        "# preprocessing_model.add(\n",
        "#   tf.keras.layers.RandomTranslation(0, 0.1, fill_mode='constant', seed=rngJesus))\n",
        "# preprocessing_model.add(\n",
        "#   tf.keras.layers.RandomTranslation(0.1, 0, fill_mode='constant', seed=rngJesus))\n",
        "# # preprocessing_model.add(\n",
        "# #   tf.keras.layers.RandomZoom(0.05, 0.05, fill_mode='constant', seed=rngJesus))\n",
        "# preprocessing_model.add(\n",
        "#   tf.keras.layers.RandomFlip(\"horizontal\", seed=rngJesus))\n",
        "# preprocessing_model.add(RandomSprinkles())\n",
        "\n",
        "#Function to show image\n",
        "def show_image(dataset):\n",
        "  dataset = dataset.take(1)\n",
        "  image, label = next(iter(dataset))\n",
        "  image = image[0,:,:,:]\n",
        "  plt.imshow(image)\n",
        "  plt.axis('off')\n",
        "  plt.show()\n",
        "\n",
        "#Training/Validation/Test Split\n",
        "def training_split(dataset, training_prop=0.8, validation_prop=0.1, testing_prop=0.1, train=False):\n",
        "  print('c')\n",
        "  dataset_size = dataset.cardinality().numpy()\n",
        "  print('d')\n",
        "  train_size = int(training_prop * dataset_size)\n",
        "  print('e')\n",
        "  val_size = int(validation_prop * dataset_size)\n",
        "  print('f')\n",
        "  test_size = int(testing_prop * dataset_size)\n",
        "  print('g')\n",
        "  \n",
        "  if not train:\n",
        "    train_ds = dataset.take(train_size).batch(BATCH_SIZE).prefetch(tf.data.AUTOTUNE)\n",
        "    #.prefetch(tf.data.AUTOTUNE)   \n",
        "    print('h') \n",
        "    val_ds = dataset.skip(train_size).take(val_size).batch(BATCH_SIZE).prefetch(tf.data.AUTOTUNE)\n",
        "    print('i')\n",
        "    test_ds = dataset.skip(train_size).skip(val_size).batch(BATCH_SIZE).prefetch(tf.data.AUTOTUNE)\n",
        "    print('j')\n",
        "  \n",
        "  else:\n",
        "    train_ds = dataset.take(train_size)\n",
        "    #.prefetch(tf.data.AUTOTUNE)   \n",
        "    print('h') \n",
        "    val_ds = dataset.skip(train_size).take(val_size)\n",
        "    print('i')\n",
        "    test_ds = dataset.skip(train_size).skip(val_size)\n",
        "    print('j')\n",
        "  \n",
        "  return train_ds, val_ds, test_ds\n",
        "\n",
        "def normalize(image, label):\n",
        "  image = tf.cast(image, tf.float32) / 255.0\n",
        "  return image, label"
      ],
      "execution_count": 5,
      "outputs": []
    },
    {
      "cell_type": "markdown",
      "metadata": {
        "id": "JNF2CKvdNtl3"
      },
      "source": [
        "While many of the cells will look mostly the same, the difference lies in the file paths and metadata csv fields (and some variable names)"
      ]
    },
    {
      "cell_type": "markdown",
      "metadata": {
        "id": "YhBQihc69OqV"
      },
      "source": [
        "##Training\n"
      ]
    },
    {
      "cell_type": "code",
      "metadata": {
        "id": "tB8IG1pCbzp1"
      },
      "source": [
        "def random_shard(shard_size, dataset_size):\n",
        "  num_shards = -(-dataset_size // shard_size)  # Ceil division.\n",
        "  offsets = np.linspace(\n",
        "      0, dataset_size, num=num_shards, endpoint=False, dtype=np.int64)\n",
        "\n",
        "  def _random_shard(dataset):\n",
        "    sharded_dataset = tf.data.Dataset.from_tensor_slices(offsets)\n",
        "    sharded_dataset = sharded_dataset.shuffle(num_shards)\n",
        "    sharded_dataset = sharded_dataset.map(\n",
        "        lambda offset: dataset.skip(offset).take(shard_size))\n",
        "    print(sharded_dataset)\n",
        "    return sharded_dataset\n",
        "\n",
        "  return _random_shard\n"
      ],
      "execution_count": null,
      "outputs": []
    },
    {
      "cell_type": "code",
      "metadata": {
        "id": "zxzhZXTbQ_8W"
      },
      "source": [
        "import gc\n",
        "count = 0\n",
        "def read_training_dataset(file_name, label):\n",
        "  image = tf.io.read_file(file_name)\n",
        "  if label == 999.0:\n",
        "    label = tfio.image.decode_dicom_data(image, tags=[tfio.image.dicom_tags.SeriesDescription])[0]\n",
        "    image = tfio.image.decode_dicom_image(image)[0,:,:,:]\n",
        "    image = tf.image.resize(image, [IMG_SIZE, IMG_SIZE])\n",
        "    image = tf.image.grayscale_to_rgb(image)\n",
        "    if tf.strings.regex_full_match(label, \"(.*AP.*)\"):\n",
        "      label = 0.0\n",
        "    elif tf.strings.regex_full_match(label, \"(.*PA.*)\"):\n",
        "      label = 1.0\n",
        "    else:\n",
        "      label = 999.0\n",
        "      print(label)\n",
        "  else:\n",
        "    image = tf.image.decode_jpeg(image, channels=3)\n",
        "    image = tf.image.resize(image, [IMG_SIZE, IMG_SIZE])\n",
        "  time.sleep(.002)\n",
        "  gc.collect()\n",
        "  return image, label\n"
      ],
      "execution_count": 86,
      "outputs": []
    },
    {
      "cell_type": "code",
      "metadata": {
        "id": "j8js-YjFHiCM"
      },
      "source": [
        "def better_sharding(dataset, num_shards):\n",
        "  return tf.data.Dataset.from_tensor_slices([dataset.shard(num_shards, i) for i in range(0,num_shards)])"
      ],
      "execution_count": null,
      "outputs": []
    },
    {
      "cell_type": "code",
      "metadata": {
        "id": "GRmAf54gZSst"
      },
      "source": [
        "#TEST ON 13-24 FILE GROUPS AND KAGGLE TEST"
      ],
      "execution_count": null,
      "outputs": []
    },
    {
      "cell_type": "code",
      "metadata": {
        "id": "uTK_NmeUDisa"
      },
      "source": [
        "Kaggle_AP = 0\n",
        "Kaggle_PA = 0\n",
        "IEEE_PA = 0\n",
        "IEEE_AP = 0\n",
        "epoch_number = 10\n",
        "num_shards = 4\n",
        "\n",
        "def train_gen(half=None):\n",
        "  global file_count\n",
        "  global Kaggle_AP\n",
        "  global Kaggle_PA\n",
        "  global IEEE_AP\n",
        "  global IEEE_PA\n",
        "\n",
        "  dataDir = 'stage_2_train_images/'\n",
        "\n",
        "  #Getting dcm file paths from premade folders\n",
        "  #I manually Separated dcm into seperate folders bc google couldnt read 26k files in one line\n",
        "  file_paths = []\n",
        "  labels = []\n",
        "  dcm_dir_names = [str(i) for i in range(1,6)]\n",
        "  for name in dcm_dir_names:\n",
        "    dcm_dir = colabDir + dataDir + name + '/'\n",
        "    files = os.listdir(dcm_dir)\n",
        "    for file in files:\n",
        "      file_paths.append(dcm_dir + file)\n",
        "      labels.append(999.0)\n",
        "\n",
        "  # dataDir = 'stage_2_test_images/'\n",
        "  # dcm_files = os.listdir(colabDir + dataDir)\n",
        "  # for dcm in dcm_files:\n",
        "  #   file_paths.append(colabDir + dataDir + dcm)\n",
        "  #   labels.append('placeholder')\n",
        "\n",
        "  # ind=0\n",
        "  # if half:\n",
        "  #   half = 10000\n",
        "  # while ind<len(file_paths[:half]):\n",
        "  #   dcm = pydicom.dcmread(file_paths[ind])\n",
        "  #   image = dcm.pixel_array\n",
        "  #   image = tf.image.resize(tf.expand_dims(image, axis=-1), [IMG_SIZE, IMG_SIZE])\n",
        "  #   image = tf.image.grayscale_to_rgb(image)\n",
        "  #   label = dcm.SeriesDescription\n",
        "  #   if 'AP' in label:\n",
        "  #     Kaggle_AP += 1\n",
        "  #     label = 0.0\n",
        "  #   elif 'PA' in label:\n",
        "  #     Kaggle_PA += 1\n",
        "  #     label = 1.0\n",
        "  #   yield image, label\n",
        "  #   ind+=1\n",
        "\n",
        "  dataDir = 'covid-chestxray-dataset-master/covid-chestxray-dataset-master/'\n",
        "\n",
        "  METADATA_CSV_PATH = colabDir + dataDir + 'metadata.csv' #train metadata path\n",
        "  metadata = pd.read_csv(METADATA_CSV_PATH)\n",
        "\n",
        "  #Only taking the rows that contain a value for view position\n",
        "  metadata = metadata[metadata['view'].str.contains('AP|PA', case=False, regex=True, na=False)]\n",
        "\n",
        "  #Getting image file paths from csv\n",
        "  IEEE_file_paths = metadata['filename'].values\n",
        "\n",
        "  #Colab file path example: /content/drive/MyDrive/AP PA Stuff/Datasets/Original/CheXpert-v1.0-small/train/patient00001/study1/view1_frontal.jpg\n",
        "  #Change file paths to work with colab\n",
        "  for ind, path in enumerate(IEEE_file_paths):\n",
        "    IEEE_file_paths[ind] = colabDir + dataDir + 'images/' + path\n",
        "  file_paths.extend(IEEE_file_paths)\n",
        "\n",
        "  #Get AP/PA label\n",
        "  IEEE_labels = metadata['view'].values\n",
        "  labels.extend(IEEE_labels)\n",
        "\n",
        "  #if ap/pa label has extra words then it'll cut that out & gets counts of each label & converts labels into 1 and 0\n",
        "  # for ind, label in enumerate(labels):\n",
        "\n",
        "  #oop cheXpert time (run that cell first)\n",
        "  file_paths.extend(cheXpert_train_files_and_labels[0])\n",
        "  labels.extend(cheXpert_train_files_and_labels[1])\n",
        "\n",
        "  for ind, label in enumerate(labels):\n",
        "    if label == 999.0 or label == 0.0 or label == 1.0:\n",
        "      continue\n",
        "    elif 'AP' in label:\n",
        "      labels[ind] = 0.0\n",
        "    elif 'PA' in label:\n",
        "      labels[ind] = 1.0\n",
        "\n",
        "  zipped = list(zip(file_paths, labels))\n",
        "  random.shuffle(zipped)\n",
        "\n",
        "  ind=0\n",
        "  while ind<len(zipped):\n",
        "    # image = tf.io.read_file(file_paths[ind])\n",
        "    # image = tf.image.decode_jpeg(image, channels=3)\n",
        "    # image = tf.image.resize(image, [IMG_SIZE, IMG_SIZE])\n",
        "    # label = labels[ind]\n",
        "    yield zipped[ind][0], zipped[ind][1]\n",
        "    ind+=1"
      ],
      "execution_count": 96,
      "outputs": []
    },
    {
      "cell_type": "code",
      "metadata": {
        "colab": {
          "base_uri": "https://localhost:8080/"
        },
        "id": "YJbjJw_WBTeO",
        "outputId": "52c72a25-5fd0-4232-9f4e-33286a5fc4ee"
      },
      "source": [
        "def create_train():\n",
        "  dataset = tf.data.Dataset.from_generator(train_gen, output_signature=(tf.TensorSpec(shape=(), dtype=tf.string), tf.TensorSpec(shape=(), dtype=tf.float32)))\n",
        "  dataset = dataset.apply(tf.data.experimental.assert_cardinality(47466)) #26684(kaggle) + 782(IEEE) + 20000(CheXpert)\n",
        "  dataset_length = dataset.cardinality().numpy()\n",
        "  buffer_size = int(.25 * dataset_length)\n",
        "  # shard_size = -(-dataset_size // num_shards)\n",
        "  \n",
        "  # shuffled_shards = []\n",
        "  # for i in shards:\n",
        "  #     subshard = shard(i)\n",
        "  #     subshard = subshard.interleave(lambda x: x, cycle_length=4, block_length=1)\n",
        "  #     shuffled_shards.append(subshard.shuffle(buffer_size=buffer_size))\n",
        "  # shuffled_shards = tf.data.Dataset.from_tensor_slices(shuffled_shards)\n",
        "  # dataset = shuffled_shards.interleave(lambda x: x, cycle_length=4, block_length=1)\n",
        "  # dataset = dataset.shuffle(num_shards)\n",
        "  # print(dataset)\n",
        "  dataset = dataset.shuffle(buffer_size=buffer_size)\n",
        "  dataset = dataset.map(read_training_dataset, num_parallel_calls=tf.data.AUTOTUNE)\n",
        "\n",
        "  print(dataset)\n",
        "  dataset = dataset.map(normalize)\n",
        "  train_ds, valid_ds, test_ds = training_split(dataset, training_prop=.8, validation_prop=.2, testing_prop=0, train=True)\n",
        "  train_ds = train_ds.map(lambda images, labels: (preprocessing_model(images), labels))\n",
        "  train_ds = train_ds.batch(BATCH_SIZE).repeat().prefetch(tf.data.AUTOTUNE)\n",
        "  valid_ds = valid_ds.batch(BATCH_SIZE).repeat().prefetch(tf.data.AUTOTUNE)\n",
        "  # test_ds = test_ds.batch(BATCH_SIZE).prefetch(tf.data.AUTOTUNE)\n",
        "  return dataset_length, train_ds, valid_ds, test_ds\n",
        "dataset_length, train_ds, valid_ds, test_ds = create_train()"
      ],
      "execution_count": 94,
      "outputs": [
        {
          "output_type": "stream",
          "name": "stdout",
          "text": [
            "999.0\n",
            "<ParallelMapDataset shapes: ((256, 256, 3), ()), types: (tf.float32, tf.float32)>\n",
            "c\n",
            "d\n",
            "e\n",
            "f\n",
            "g\n",
            "h\n",
            "i\n",
            "j\n"
          ]
        }
      ]
    },
    {
      "cell_type": "code",
      "metadata": {
        "colab": {
          "base_uri": "https://localhost:8080/",
          "height": 191
        },
        "id": "b7Pa6RjN9YJm",
        "outputId": "21454021-817f-4603-f1a1-63c41a7a757a"
      },
      "source": [
        "'''\n",
        "def Construct_IEEE(TrainSplit, ValSplit, TestSplit, augment=False, NumImages=None): \n",
        "  # Creating ieee8023 Dataset (Covid-19 Image Data Collection)\n",
        "  # returns list: [train_ds(augmented), valid_ds, test_ds]\n",
        "  # augment used to check if should apply random flip, rotation, etc.\n",
        "  # NumImages used to determine how many images to include in database (if left blank then it takes all images)\n",
        "  # TrainSplit, ValSplit, TestSplit used to determine proportion of dataset for each split\n",
        "\n",
        "  name ='Ieee8023 Dataset'\n",
        "  dataDir = 'covid-chestxray-dataset-master/covid-chestxray-dataset-master/'\n",
        "\n",
        "  METADATA_CSV_PATH = colabDir + dataDir + 'metadata.csv' #train metadata path\n",
        "  metadata = pd.read_csv(METADATA_CSV_PATH)\n",
        "\n",
        "  #Only taking the rows that contain a value for view position\n",
        "  metadata = metadata[metadata['view'].str.contains('AP|PA', case=False, regex=True, na=False)]\n",
        "\n",
        "  #Getting image file paths from csv\n",
        "  file_paths = metadata['filename'].values\n",
        "\n",
        "  #Colab file path example: /content/drive/MyDrive/AP PA Stuff/Datasets/Original/CheXpert-v1.0-small/train/patient00001/study1/view1_frontal.jpg\n",
        "  #Change file paths to work with colab\n",
        "  for ind, path in enumerate(file_paths):\n",
        "    file_paths[ind] = colabDir + dataDir + 'images/' + path\n",
        "\n",
        "  #Get AP/PA label\n",
        "  labels = metadata['view'].values\n",
        "\n",
        "  #if ap/pa label has extra words then it'll cut that out & gets counts of each label & converts labels into 1 and 0\n",
        "  AP_Count = 0\n",
        "  PA_Count = 0\n",
        "  for ind, label in enumerate(labels):\n",
        "    if 'AP' in label:\n",
        "      labels[ind] = 0\n",
        "      AP_Count += 1\n",
        "    elif 'PA' in label:\n",
        "      labels[ind] = 1\n",
        "      PA_Count += 1\n",
        "  class_distributions[name] = {'AP':AP_Count,\n",
        "                               'PA':PA_Count,\n",
        "                               'Total': [f'Total Images = {AP_Count+PA_Count}',\n",
        "                                         f'AP Percentage = {AP_Count/(AP_Count+PA_Count):.3f}',\n",
        "                                         f'PA Percentage = {PA_Count/(AP_Count+PA_Count):.3f}']}\n",
        "\n",
        "  labels = np.asarray(labels).astype('float32')\n",
        "\n",
        "  dataset = tf.data.Dataset.from_tensor_slices((file_paths, labels))\n",
        "  dataset = dataset.shuffle(buffer_size=100000, seed=rngJesus)\n",
        "\n",
        "  if NumImages:\n",
        "    dataset = dataset.take(NumImages)\n",
        "\n",
        "  dataset = dataset.map(read_image)\n",
        "  train_ds, valid_ds, test_ds = training_split(dataset, training_prop=TrainSplit, validation_prop=ValSplit, testing_prop=TestSplit)\n",
        "\n",
        "  #If data is used for training then give option to augment the data\n",
        "  if augment:\n",
        "    train_ds = train_ds.map(lambda images, labels:\n",
        "              (preprocessing_model(images), labels))\n",
        "    \n",
        "  return [train_ds, valid_ds, test_ds]\n",
        "\n",
        "IEEE_ds = Construct_IEEE(.8,.2,0,augment=True)\n",
        "'''"
      ],
      "execution_count": null,
      "outputs": [
        {
          "output_type": "execute_result",
          "data": {
            "application/vnd.google.colaboratory.intrinsic+json": {
              "type": "string"
            },
            "text/plain": [
              "\"\\ndef Construct_IEEE(TrainSplit, ValSplit, TestSplit, augment=False, NumImages=None): \\n  # Creating ieee8023 Dataset (Covid-19 Image Data Collection)\\n  # returns list: [train_ds(augmented), valid_ds, test_ds]\\n  # augment used to check if should apply random flip, rotation, etc.\\n  # NumImages used to determine how many images to include in database (if left blank then it takes all images)\\n  # TrainSplit, ValSplit, TestSplit used to determine proportion of dataset for each split\\n\\n  name ='Ieee8023 Dataset'\\n  dataDir = 'covid-chestxray-dataset-master/covid-chestxray-dataset-master/'\\n\\n  METADATA_CSV_PATH = colabDir + dataDir + 'metadata.csv' #train metadata path\\n  metadata = pd.read_csv(METADATA_CSV_PATH)\\n\\n  #Only taking the rows that contain a value for view position\\n  metadata = metadata[metadata['view'].str.contains('AP|PA', case=False, regex=True, na=False)]\\n\\n  #Getting image file paths from csv\\n  file_paths = metadata['filename'].values\\n\\n  #Colab file path example: /content/drive/MyDrive/AP PA Stuff/Datasets/Original/CheXpert-v1.0-small/train/patient00001/study1/view1_frontal.jpg\\n  #Change file paths to work with colab\\n  for ind, path in enumerate(file_paths):\\n    file_paths[ind] = colabDir + dataDir + 'images/' + path\\n\\n  #Get AP/PA label\\n  labels = metadata['view'].values\\n\\n  #if ap/pa label has extra words then it'll cut that out & gets counts of each label & converts labels into 1 and 0\\n  AP_Count = 0\\n  PA_Count = 0\\n  for ind, label in enumerate(labels):\\n    if 'AP' in label:\\n      labels[ind] = 0\\n      AP_Count += 1\\n    elif 'PA' in label:\\n      labels[ind] = 1\\n      PA_Count += 1\\n  class_distributions[name] = {'AP':AP_Count,\\n                               'PA':PA_Count,\\n                               'Total': [f'Total Images = {AP_Count+PA_Count}',\\n                                         f'AP Percentage = {AP_Count/(AP_Count+PA_Count):.3f}',\\n                                         f'PA Percentage = {PA_Count/(AP_Count+PA_Count):.3f}']}\\n\\n  labels = np.asarray(labels).astype('float32')\\n\\n  dataset = tf.data.Dataset.from_tensor_slices((file_paths, labels))\\n  dataset = dataset.shuffle(buffer_size=100000, seed=rngJesus)\\n\\n  if NumImages:\\n    dataset = dataset.take(NumImages)\\n\\n  dataset = dataset.map(read_image)\\n  train_ds, valid_ds, test_ds = training_split(dataset, training_prop=TrainSplit, validation_prop=ValSplit, testing_prop=TestSplit)\\n\\n  #If data is used for training then give option to augment the data\\n  if augment:\\n    train_ds = train_ds.map(lambda images, labels:\\n              (preprocessing_model(images), labels))\\n    \\n  return [train_ds, valid_ds, test_ds]\\n\\nIEEE_ds = Construct_IEEE(.8,.2,0,augment=True)\\n\""
            ]
          },
          "metadata": {},
          "execution_count": 12
        }
      ]
    },
    {
      "cell_type": "markdown",
      "metadata": {
        "id": "qVVGY7_JfAiY"
      },
      "source": [
        "###KAGGLE Train"
      ]
    },
    {
      "cell_type": "code",
      "metadata": {
        "id": "0VSMqR_YySf8",
        "colab": {
          "base_uri": "https://localhost:8080/",
          "height": 191
        },
        "outputId": "9259504d-2f64-42cc-b554-a13458a490a6"
      },
      "source": [
        "'''\n",
        "def Construct_KaggleTrain(TrainSplit, ValSplit, TestSplit, augment=False, NumImages=None): \n",
        "  # Creating Kaggle Train Dataset \n",
        "  # returns list: [train_ds(augmented), valid_ds, test_ds]\n",
        "  # augment used to check if should apply random flip, rotation, etc.\n",
        "  # NumImages used to determine how many images to include in database (if left blank then it takes all images)\n",
        "  # TrainSplit, ValSplit, TestSplit used to determine proportion of dataset for each split\n",
        "\n",
        "  name ='Kaggle Train Dataset'\n",
        "  # dataDir = 'stage_2_train_images/'\n",
        "\n",
        "  #Getting dcm file paths from premade folders\n",
        "  #I manually Separated dcm into seperate folders bc google couldnt read 26k files in one line\n",
        "  # file_paths = []\n",
        "  # dcm_dir_names = [str(i) for i in range(1,2)]\n",
        "  # for name in dcm_dir_names:\n",
        "  #   dcm_dir = colabDir + dataDir + name + '/'\n",
        "  #   files = os.listdir(dcm_dir)\n",
        "  #   for file in files:\n",
        "  #     file_paths.append(dcm_dir + file)\n",
        "\n",
        "  \n",
        "  #Split file_paths list into 500 file chunks to avoid ram overload when converting to tensor array\n",
        "  # file_groups = [file_paths[i:i + 500] for i in range(0, len(file_paths), 500)]\n",
        "  # ds_list = []\n",
        "\n",
        "  # for group in tqdm(file_groups):\n",
        "  # dcm_pixel_arrays = []\n",
        "  # labels = []\n",
        "  # for path in file_paths:\n",
        "  #   dcm = pydicom.dcmread(path)\n",
        "  #   image = dcm.pixel_array\n",
        "  #   image = tf.image.resize(tf.expand_dims(image, axis=-1), [IMG_SIZE, IMG_SIZE])\n",
        "  #   dcm_pixel_arrays.append(image)\n",
        "  #   labels.append(dcm.SeriesDescription)\n",
        "\n",
        "  # for ind, label in enumerate(labels):\n",
        "  #   if 'AP' in label:\n",
        "  #     labels[ind] = 0.0\n",
        "  #     AP_Count += 1\n",
        "  #   elif 'PA' in label:\n",
        "  #     labels[ind] = 1.0\n",
        "  #     PA_Count += 1\n",
        "        \n",
        "  dataset = tf.data.Dataset.from_generator(kaggle_train_gen, output_shapes=((256, 256, 1), ()), output_types=(tf.float32, tf.float32))\n",
        "\n",
        "  # dcm_pixel_arrays = []\n",
        "  # labels = []\n",
        "\n",
        "  #if ap/pa label has extra words then it'll cut that out & gets counts of each label & converts labels into 1 and 0\n",
        "\n",
        "  dataset = dataset.shuffle(buffer_size=100000, seed=rngJesus)\n",
        "\n",
        "  # if NumImages:\n",
        "  #   dataset = dataset.take(NumImages)\n",
        "\n",
        "  dataset = dataset.map(read_dicom_image)\n",
        "  # print(3)\n",
        "  train_ds, valid_ds, test_ds = training_split(dataset, training_prop=TrainSplit, validation_prop=ValSplit, testing_prop=TestSplit)\n",
        "  # class_distributions[name] = {'AP':AP_Count,\n",
        "  #                              'PA':PA_Count,\n",
        "  #                              'Total': [f'Total Images = {AP_Count+PA_Count}',\n",
        "  #                                        f'AP Percentage = {AP_Count/(AP_Count+PA_Count):.3f}',\n",
        "  #                                        f'PA Percentage = {PA_Count/(AP_Count+PA_Count):.3f}']}\n",
        "  # print(4)\n",
        "  # # train_ds2, valid_ds2, test_ds2 = training_split(dataset, training_prop=0, validation_prop=0, testing_prop=1)\n",
        "\n",
        "  # #If data is used for training then give option to augment the data\n",
        "  if augment:\n",
        "    train_ds = train_ds.map(lambda images, labels:\n",
        "              (preprocessing_model(images), labels))\n",
        "  #   print(5)\n",
        "\n",
        "  return [train_ds.batch(BATCH_SIZE).prefetch(tf.data.AUTOTUNE), valid_ds.batch(BATCH_SIZE).prefetch(tf.data.AUTOTUNE), test_ds.batch(BATCH_SIZE).prefetch(tf.data.AUTOTUNE)]\n",
        "\n",
        "Kaggle_Train_ds = Construct_KaggleTrain(.8,.2,0,augment=True)\n",
        "'''"
      ],
      "execution_count": null,
      "outputs": [
        {
          "output_type": "execute_result",
          "data": {
            "application/vnd.google.colaboratory.intrinsic+json": {
              "type": "string"
            },
            "text/plain": [
              "\"\\ndef Construct_KaggleTrain(TrainSplit, ValSplit, TestSplit, augment=False, NumImages=None): \\n  # Creating Kaggle Train Dataset \\n  # returns list: [train_ds(augmented), valid_ds, test_ds]\\n  # augment used to check if should apply random flip, rotation, etc.\\n  # NumImages used to determine how many images to include in database (if left blank then it takes all images)\\n  # TrainSplit, ValSplit, TestSplit used to determine proportion of dataset for each split\\n\\n  name ='Kaggle Train Dataset'\\n  # dataDir = 'stage_2_train_images/'\\n\\n  #Getting dcm file paths from premade folders\\n  #I manually Separated dcm into seperate folders bc google couldnt read 26k files in one line\\n  # file_paths = []\\n  # dcm_dir_names = [str(i) for i in range(1,2)]\\n  # for name in dcm_dir_names:\\n  #   dcm_dir = colabDir + dataDir + name + '/'\\n  #   files = os.listdir(dcm_dir)\\n  #   for file in files:\\n  #     file_paths.append(dcm_dir + file)\\n\\n  \\n  #Split file_paths list into 500 file chunks to avoid ram overload when converting to tensor array\\n  # file_groups = [file_paths[i:i + 500] for i in range(0, len(file_paths), 500)]\\n  # ds_list = []\\n\\n  # for group in tqdm(file_groups):\\n  # dcm_pixel_arrays = []\\n  # labels = []\\n  # for path in file_paths:\\n  #   dcm = pydicom.dcmread(path)\\n  #   image = dcm.pixel_array\\n  #   image = tf.image.resize(tf.expand_dims(image, axis=-1), [IMG_SIZE, IMG_SIZE])\\n  #   dcm_pixel_arrays.append(image)\\n  #   labels.append(dcm.SeriesDescription)\\n\\n  # for ind, label in enumerate(labels):\\n  #   if 'AP' in label:\\n  #     labels[ind] = 0.0\\n  #     AP_Count += 1\\n  #   elif 'PA' in label:\\n  #     labels[ind] = 1.0\\n  #     PA_Count += 1\\n        \\n  dataset = tf.data.Dataset.from_generator(kaggle_train_gen, output_shapes=((256, 256, 1), ()), output_types=(tf.float32, tf.float32))\\n\\n  # dcm_pixel_arrays = []\\n  # labels = []\\n\\n  #if ap/pa label has extra words then it'll cut that out & gets counts of each label & converts labels into 1 and 0\\n\\n  dataset = dataset.shuffle(buffer_size=100000, seed=rngJesus)\\n\\n  # if NumImages:\\n  #   dataset = dataset.take(NumImages)\\n\\n  dataset = dataset.map(read_dicom_image)\\n  # print(3)\\n  train_ds, valid_ds, test_ds = training_split(dataset, training_prop=TrainSplit, validation_prop=ValSplit, testing_prop=TestSplit)\\n  # class_distributions[name] = {'AP':AP_Count,\\n  #                              'PA':PA_Count,\\n  #                              'Total': [f'Total Images = {AP_Count+PA_Count}',\\n  #                                        f'AP Percentage = {AP_Count/(AP_Count+PA_Count):.3f}',\\n  #                                        f'PA Percentage = {PA_Count/(AP_Count+PA_Count):.3f}']}\\n  # print(4)\\n  # # train_ds2, valid_ds2, test_ds2 = training_split(dataset, training_prop=0, validation_prop=0, testing_prop=1)\\n\\n  # #If data is used for training then give option to augment the data\\n  if augment:\\n    train_ds = train_ds.map(lambda images, labels:\\n              (preprocessing_model(images), labels))\\n  #   print(5)\\n\\n  return [train_ds.batch(BATCH_SIZE).prefetch(tf.data.AUTOTUNE), valid_ds.batch(BATCH_SIZE).prefetch(tf.data.AUTOTUNE), test_ds.batch(BATCH_SIZE).prefetch(tf.data.AUTOTUNE)]\\n\\nKaggle_Train_ds = Construct_KaggleTrain(.8,.2,0,augment=True)\\n\""
            ]
          },
          "metadata": {},
          "execution_count": 13
        }
      ]
    },
    {
      "cell_type": "code",
      "metadata": {
        "colab": {
          "base_uri": "https://localhost:8080/",
          "height": 35
        },
        "id": "sVpwI_KGDT0q",
        "outputId": "53ddaad1-829d-4d57-adf2-e4ba6f9f1b93"
      },
      "source": [
        "'''\n",
        "Kaggle_Train_ds\n",
        "'''"
      ],
      "execution_count": null,
      "outputs": [
        {
          "output_type": "execute_result",
          "data": {
            "application/vnd.google.colaboratory.intrinsic+json": {
              "type": "string"
            },
            "text/plain": [
              "'\\nKaggle_Train_ds\\n'"
            ]
          },
          "metadata": {},
          "execution_count": 14
        }
      ]
    },
    {
      "cell_type": "code",
      "metadata": {
        "id": "q3aITjTa82t1"
      },
      "source": [
        "# Kaggle_Train_Snapshot = Kaggle_Train_ds[0].snapshot(tensorflowDir + 'Kaggle Train Dataset')\n",
        "# Kaggle_Train_Snapshot = tf.data.Dataset.snapshot(tensorflowDir + 'Kaggle Train Dataset')\n",
        "# Kaggle_Valid_Snapshot = Kaggle_Train_ds[1].snapshot(tensorflowDir + 'Kaggle Valid Dataset')"
      ],
      "execution_count": null,
      "outputs": []
    },
    {
      "cell_type": "code",
      "metadata": {
        "id": "O7VOa6m3fKZy"
      },
      "source": [
        "#returns 2 lists with the second one being a test set in case I wanna flip it so i train on the kaggle test"
      ],
      "execution_count": null,
      "outputs": []
    },
    {
      "cell_type": "markdown",
      "metadata": {
        "id": "b4v4afK09eC-"
      },
      "source": [
        "##Test"
      ]
    },
    {
      "cell_type": "markdown",
      "metadata": {
        "id": "Vq1fjygmokq8"
      },
      "source": [
        "###CheXpert"
      ]
    },
    {
      "cell_type": "code",
      "metadata": {
        "id": "R0NxEHpuZt3U",
        "colab": {
          "base_uri": "https://localhost:8080/"
        },
        "outputId": "c103d5e4-9ab7-4668-e039-1210c2f1261b"
      },
      "source": [
        "cheXpert_train_files_and_labels = [[],[]]\n",
        "def Construct_CheXpert(TrainSplit, ValSplit, TestSplit, augment=False, NumImages=None): \n",
        "  # Creating CheXpert Dataset\n",
        "  # returns list: [train_ds(augmented), valid_ds, test_ds]\n",
        "  # augment used to check if should apply random flip, rotation, etc. to training dataset\n",
        "  # int NumImages used to determine how many images to include in database (if left blank then it takes all images)\n",
        "  # float TrainSplit, ValSplit, TestSplit used to determine proportion of dataset for each split\n",
        "\n",
        "  name ='CheXpert Dataset'\n",
        "  dataDir = 'CheXpert-v1.0-small/'\n",
        "\n",
        "  #/content/drive/MyDrive/AP PA Stuff/Datasets/Original/CheXpert-v1.0-small/train.csv\n",
        "  #/content/drive/MyDrive/AP PA Stuff/Datasets/Original/CheXpert-v1.0-small/valid.csv\n",
        "  METADATA_CSV_PATH = colabDir + dataDir + 'train.csv' #train metadata path\n",
        "  METADATA_CSV_PATH2 = colabDir + dataDir + 'valid.csv' #validation metadata path\n",
        "  metadata = pd.read_csv(METADATA_CSV_PATH)\n",
        "  metadata2 = pd.read_csv(METADATA_CSV_PATH2)\n",
        "  metadata = pd.concat([metadata, metadata2], ignore_index=True)\n",
        "\n",
        "  #Only taking the rows that contain a value for view position\n",
        "  metadata = metadata[metadata['AP/PA'].str.contains('AP|PA', case=False, regex=True, na=False)]\n",
        "\n",
        "  #Getting image file paths from csv\n",
        "  file_paths = list(metadata['Path'].values)\n",
        "\n",
        "  #Colab file path example: /content/drive/MyDrive/AP PA Stuff/Datasets/Original/CheXpert-v1.0-small/train/patient00001/study1/view1_frontal.jpg\n",
        "  #Change file paths to work with colab\n",
        "  for ind, path in enumerate(file_paths):\n",
        "    file_paths[ind] = colabDir + path\n",
        "\n",
        "  #Get AP/PA label\n",
        "  labels = list(metadata['AP/PA'].values)\n",
        "  #Not really needed for CheXpert but if ap/pa label has extra words then it'll cut that out & also gets counts of each label\n",
        "  AP_Count = 0\n",
        "  PA_Count = 0\n",
        "  ap_indexes = []\n",
        "  pa_indexes = []\n",
        "  cheXpert_train_indexes = []\n",
        "  for ind, label in enumerate(labels):\n",
        "    if 'AP' in label:\n",
        "      labels[ind] = 0.0\n",
        "      ap_indexes.append(ind)\n",
        "      AP_Count += 1\n",
        "    elif 'PA' in label:\n",
        "      labels[ind] = 1.0\n",
        "      pa_indexes.append(ind)\n",
        "      PA_Count += 1\n",
        "  class_distributions[name] = {'AP':AP_Count,\n",
        "                               'PA':PA_Count,\n",
        "                               'Total': [f'Total Images = {AP_Count+PA_Count}',\n",
        "                                         f'AP Percentage = {AP_Count/(AP_Count+PA_Count):.3f}',\n",
        "                                         f'PA Percentage = {PA_Count/(AP_Count+PA_Count):.3f}']}\n",
        " \n",
        " \n",
        "  cheXpert_train_indexes.extend(ap_indexes[:10000])\n",
        "  cheXpert_train_indexes.extend(pa_indexes[:10000])\n",
        "  for index in sorted(cheXpert_train_indexes, reverse=True):\n",
        "    cheXpert_train_files_and_labels[0].append(file_paths[index])\n",
        "    cheXpert_train_files_and_labels[1].append(labels[index])\n",
        "    del labels[index]\n",
        "    del file_paths[index]\n",
        "\n",
        "  labels = np.asarray(labels).astype('float32')\n",
        "\n",
        "  cheXpert_ds = tf.data.Dataset.from_tensor_slices((file_paths, labels))\n",
        "  cheXpert_ds = cheXpert_ds.shuffle(buffer_size=100000, seed=rngJesus)\n",
        "\n",
        "  if NumImages:\n",
        "    cheXpert_ds = cheXpert_ds.take(NumImages)\n",
        "\n",
        "  cheXpert_ds = cheXpert_ds.map(read_image)\n",
        "  train_ds, valid_ds, test_ds = training_split(cheXpert_ds, training_prop=TrainSplit, validation_prop=ValSplit, testing_prop=TestSplit)\n",
        "  \n",
        "  #If data is used for training then give option to augment the data\n",
        "  if augment:\n",
        "    train_ds = train_ds.map(lambda images, labels:\n",
        "              (preprocessing_model(images), labels))\n",
        "    \n",
        "  return [train_ds, valid_ds, test_ds]\n",
        "  # do dataset.batch(BATCHSIZE)\n",
        "\n",
        "cheXpert_ds = Construct_CheXpert(augment=False, TrainSplit=0, ValSplit=0, TestSplit=1)\n",
        "# tf.data.experimental.save(cheXpert_ds, tensorflowDir+name)\n",
        "# new_dataset = tf.data.experimental.load(tensorflowDir+name)"
      ],
      "execution_count": 6,
      "outputs": [
        {
          "output_type": "stream",
          "name": "stdout",
          "text": [
            "c\n",
            "d\n",
            "e\n",
            "f\n",
            "g\n",
            "h\n",
            "i\n",
            "j\n"
          ]
        }
      ]
    },
    {
      "cell_type": "markdown",
      "metadata": {
        "id": "rT3siDHbb6Vp"
      },
      "source": [
        "###CX-Net"
      ]
    },
    {
      "cell_type": "code",
      "metadata": {
        "id": "DokWshXnWFYA",
        "colab": {
          "base_uri": "https://localhost:8080/"
        },
        "outputId": "6086d120-2908-46f8-e911-a42f5d556838"
      },
      "source": [
        "def Construct_CXNet(TrainSplit, ValSplit, TestSplit, augment=False, NumImages=None): \n",
        "  # Creating CX-Net Dataset \n",
        "  # returns list: [train_ds(augmented), valid_ds, test_ds]\n",
        "  # augment used to check if should apply random flip, rotation, etc.\n",
        "  # NumImages used to determine how many images to include in database (if left blank then it takes all images)\n",
        "  # TrainSplit, ValSplit, TestSplit used to determine proportion of dataset for each split\n",
        "\n",
        "  name ='CX-Net Dataset'\n",
        "  dataDir = 'covid_cxnet_dataset/'\n",
        "\n",
        "  METADATA_CSV_PATH = colabDir + dataDir + 'metadata.csv' #train metadata path\n",
        "  metadata = pd.read_csv(METADATA_CSV_PATH)\n",
        "\n",
        "  #Only taking the rows that contain a value for view position\n",
        "  metadata = metadata[metadata['view'].str.contains('AP|PA', case=False, regex=True, na=False)]\n",
        "  metadata = metadata[metadata['filename'].str.contains('jpg|png|jpeg', case=False, regex=True, na=False)]\n",
        "\n",
        "  #Getting image file paths from csv\n",
        "  file_paths2 = metadata['filename'].values\n",
        "  other_paths = os.listdir(colabDir + dataDir + 'covid19/')\n",
        "  temp = []\n",
        "  file_paths = []\n",
        "\n",
        "  for file_path in file_paths2:\n",
        "    temp.append(file_path.split('.')[0])\n",
        "  for file_path in other_paths:\n",
        "    file_name = file_path.split('.')\n",
        "    if file_name[0] in temp:\n",
        "      file_paths.append(file_path)\n",
        "\n",
        "  #Colab file path example: /content/drive/MyDrive/AP PA Stuff/Datasets/Original/CheXpert-v1.0-small/train/patient00001/study1/view1_frontal.jpg\n",
        "  #Change file paths to work with colab\n",
        "  for ind, path in enumerate(file_paths):\n",
        "    file_paths[ind] = colabDir + dataDir + 'covid19/' + path\n",
        "\n",
        "  #Get AP/PA label\n",
        "  labels = metadata['view'].values\n",
        "\n",
        "  #if ap/pa label has extra words then it'll cut that out & gets counts of each label & converts labels into 1 and 0\n",
        "  AP_Count = 0\n",
        "  PA_Count = 0\n",
        "  for ind, label in enumerate(labels):\n",
        "    if 'AP' in label:\n",
        "      labels[ind] = 0\n",
        "      AP_Count += 1\n",
        "    elif 'PA' in label:\n",
        "      labels[ind] = 1\n",
        "      PA_Count += 1\n",
        "  class_distributions[name] = {'AP':AP_Count,\n",
        "                               'PA':PA_Count,\n",
        "                               'Total': [f'Total Images = {AP_Count+PA_Count}',\n",
        "                                         f'AP Percentage = {AP_Count/(AP_Count+PA_Count):.3f}',\n",
        "                                         f'PA Percentage = {PA_Count/(AP_Count+PA_Count):.3f}']}\n",
        "\n",
        "  labels = np.asarray(labels).astype('float32')\n",
        "\n",
        "  dataset = tf.data.Dataset.from_tensor_slices((file_paths, labels))\n",
        "  dataset = dataset.shuffle(buffer_size=100000, seed=rngJesus)\n",
        "\n",
        "  if NumImages:\n",
        "    dataset = dataset.take(NumImages)\n",
        "\n",
        "  dataset = dataset.map(read_image)\n",
        "  train_ds, valid_ds, test_ds = training_split(dataset, training_prop=TrainSplit, validation_prop=ValSplit, testing_prop=TestSplit)\n",
        "\n",
        "  #If data is used for training then give option to augment the data\n",
        "  if augment:\n",
        "    train_ds = train_ds.map(lambda images, labels:\n",
        "              (preprocessing_model(images), labels))\n",
        "    \n",
        "  return [train_ds, valid_ds, test_ds]\n",
        "\n",
        "CXNet_ds = Construct_CXNet(0,0,1,augment=False)"
      ],
      "execution_count": 7,
      "outputs": [
        {
          "output_type": "stream",
          "name": "stdout",
          "text": [
            "c\n",
            "d\n",
            "e\n",
            "f\n",
            "g\n",
            "h\n",
            "i\n",
            "j\n"
          ]
        }
      ]
    },
    {
      "cell_type": "markdown",
      "metadata": {
        "id": "Ov4LYL6IaCFa"
      },
      "source": [
        "###ActualMed"
      ]
    },
    {
      "cell_type": "code",
      "metadata": {
        "id": "jhfH0jaJaMJD",
        "colab": {
          "base_uri": "https://localhost:8080/"
        },
        "outputId": "dc3c67ea-345d-42f9-94d9-45631d2f0344"
      },
      "source": [
        "def Construct_ActualMed(TrainSplit, ValSplit, TestSplit, augment=False, NumImages=None): \n",
        "  # Creating ActualMed Dataset \n",
        "  # returns list: [train_ds(augmented), valid_ds, test_ds]\n",
        "  # augment used to check if should apply random flip, rotation, etc.\n",
        "  # NumImages used to determine how many images to include in database (if left blank then it takes all images)\n",
        "  # TrainSplit, ValSplit, TestSplit used to determine proportion of dataset for each split\n",
        "\n",
        "  name ='ActualMed Dataset'\n",
        "  dataDir = 'Actualmed-COVID-chestxray-dataset-master/'\n",
        "\n",
        "  METADATA_CSV_PATH = colabDir + dataDir + 'metadata.csv' #train metadata path\n",
        "  metadata = pd.read_csv(METADATA_CSV_PATH)\n",
        "\n",
        "  #Only taking the rows that contain a value for view position\n",
        "  metadata = metadata[metadata['view'].str.contains('AP|PA', case=False, regex=True, na=False)]\n",
        "\n",
        "  #Getting image file paths from csv\n",
        "  file_paths = metadata['imagename'].values\n",
        "\n",
        "  #Colab file path example: /content/drive/MyDrive/AP PA Stuff/Datasets/Original/CheXpert-v1.0-small/train/patient00001/study1/view1_frontal.jpg\n",
        "  #Change file paths to work with colab\n",
        "  for ind, path in enumerate(file_paths):\n",
        "    file_paths[ind] = colabDir + dataDir + 'images/' + path\n",
        "\n",
        "  #Get AP/PA label\n",
        "  labels = metadata['view'].values\n",
        "\n",
        "  #if ap/pa label has extra words then it'll cut that out & gets counts of each label & converts labels into 1 and 0\n",
        "  AP_Count = 0\n",
        "  PA_Count = 0\n",
        "  for ind, label in enumerate(labels):\n",
        "    if 'AP' in label:\n",
        "      labels[ind] = 0\n",
        "      AP_Count += 1\n",
        "    elif 'PA' in label:\n",
        "      labels[ind] = 1\n",
        "      PA_Count += 1\n",
        "  class_distributions[name] = {'AP':AP_Count,\n",
        "                               'PA':PA_Count,\n",
        "                               'Total': [f'Total Images = {AP_Count+PA_Count}',\n",
        "                                         f'AP Percentage = {AP_Count/(AP_Count+PA_Count):.3f}',\n",
        "                                         f'PA Percentage = {PA_Count/(AP_Count+PA_Count):.3f}']}\n",
        "\n",
        "  labels = np.asarray(labels).astype('float32')\n",
        "\n",
        "  dataset = tf.data.Dataset.from_tensor_slices((file_paths, labels))\n",
        "  dataset = dataset.shuffle(buffer_size=100000, seed=rngJesus)\n",
        "\n",
        "  if NumImages:\n",
        "    dataset = dataset.take(NumImages)\n",
        "\n",
        "  dataset = dataset.map(read_image)\n",
        "  train_ds, valid_ds, test_ds = training_split(dataset, training_prop=TrainSplit, validation_prop=ValSplit, testing_prop=TestSplit)\n",
        "\n",
        "  #If data is used for training then give option to augment the data\n",
        "  if augment:\n",
        "    train_ds = train_ds.map(lambda images, labels:\n",
        "              (preprocessing_model(images), labels))\n",
        "    \n",
        "  return [train_ds, valid_ds, test_ds]\n",
        "\n",
        "ActualMed_ds = Construct_ActualMed(0,0,1,augment=False)"
      ],
      "execution_count": 8,
      "outputs": [
        {
          "output_type": "stream",
          "name": "stdout",
          "text": [
            "c\n",
            "d\n",
            "e\n",
            "f\n",
            "g\n",
            "h\n",
            "i\n",
            "j\n"
          ]
        }
      ]
    },
    {
      "cell_type": "markdown",
      "metadata": {
        "id": "RqIRNbC4bJy0"
      },
      "source": [
        "###Shenzhen"
      ]
    },
    {
      "cell_type": "code",
      "metadata": {
        "id": "JdRcwBhsbv4p",
        "colab": {
          "base_uri": "https://localhost:8080/"
        },
        "outputId": "e97a2ba0-fd15-4692-b5dc-700e35ecd2b1"
      },
      "source": [
        "weird=[]\n",
        "def Construct_Shenzhen(TrainSplit, ValSplit, TestSplit, augment=False, NumImages=None): \n",
        "  # Creating Shenzhen Dataset \n",
        "  # returns list: [train_ds(augmented), valid_ds, test_ds]\n",
        "  # augment used to check if should apply random flip, rotation, etc.\n",
        "  # NumImages used to determine how many images to include in database (if left blank then it takes all images)\n",
        "  # TrainSplit, ValSplit, TestSplit used to determine proportion of dataset for each split\n",
        "\n",
        "  #Shenzhen dataset only has PA images so no metadata.csv checks\n",
        "\n",
        "  name ='Shenzhen Dataset'\n",
        "  dataDir = 'ChinaSet_AllFiles/ChinaSet_AllFiles/CXR_png/'\n",
        "\n",
        "  #Getting image file paths\n",
        "  index_to_go=0\n",
        "  file_paths = os.listdir(colabDir + dataDir)\n",
        "  for ind, path in enumerate(file_paths):\n",
        "    if path.split('.')[1] == 'db':\n",
        "      index_to_go=ind\n",
        "    file_paths[ind] = colabDir+dataDir+path\n",
        "\n",
        "  del file_paths[index_to_go]\n",
        "  #Get AP/PA label\n",
        "  #AP:0, PA:1\n",
        "  labels = [1 for i in file_paths]\n",
        "\n",
        "  #if ap/pa label has extra words then it'll cut that out & gets counts of each label & converts labels into 1 and 0\n",
        "  AP_Count = 0\n",
        "  PA_Count = len(labels)\n",
        "  class_distributions[name] = {'AP':AP_Count,\n",
        "                               'PA':PA_Count,\n",
        "                               'Total': [f'Total Images = {AP_Count+PA_Count}',\n",
        "                                         f'AP Percentage = {AP_Count/(AP_Count+PA_Count):.3f}',\n",
        "                                         f'PA Percentage = {PA_Count/(AP_Count+PA_Count):.3f}']}\n",
        "\n",
        "  labels = np.asarray(labels).astype('float32')\n",
        "\n",
        "  dataset = tf.data.Dataset.from_tensor_slices((file_paths, labels))\n",
        "  dataset = dataset.shuffle(buffer_size=100000, seed=rngJesus)\n",
        "\n",
        "  if NumImages:\n",
        "    dataset = dataset.take(NumImages)\n",
        "\n",
        "  dataset = dataset.map(read_image)\n",
        "  train_ds, valid_ds, test_ds = training_split(dataset, training_prop=TrainSplit, validation_prop=ValSplit, testing_prop=TestSplit)\n",
        "\n",
        "  #If data is used for training then give option to augment the data\n",
        "  if augment:\n",
        "    train_ds = train_ds.map(lambda images, labels:\n",
        "              (preprocessing_model(images), labels))\n",
        "    \n",
        "  return [train_ds, valid_ds, test_ds]\n",
        "\n",
        "Shenzhen_ds = Construct_Shenzhen(0,0,1,augment=False)"
      ],
      "execution_count": 9,
      "outputs": [
        {
          "output_type": "stream",
          "name": "stdout",
          "text": [
            "c\n",
            "d\n",
            "e\n",
            "f\n",
            "g\n",
            "h\n",
            "i\n",
            "j\n"
          ]
        }
      ]
    },
    {
      "cell_type": "markdown",
      "metadata": {
        "id": "0hsRAvV0d5oE"
      },
      "source": [
        "###Montgomery"
      ]
    },
    {
      "cell_type": "code",
      "metadata": {
        "id": "UmzM83M5d-ee",
        "colab": {
          "base_uri": "https://localhost:8080/"
        },
        "outputId": "e681e265-e65f-4807-c976-95223985bdc9"
      },
      "source": [
        "def Construct_Montgomery(TrainSplit, ValSplit, TestSplit, augment=False, NumImages=None): \n",
        "  # Creating Montgomery Dataset \n",
        "  # returns list: [train_ds(augmented), valid_ds, test_ds]\n",
        "  # augment used to check if should apply random flip, rotation, etc.\n",
        "  # NumImages used to determine how many images to include in database (if left blank then it takes all images)\n",
        "  # TrainSplit, ValSplit, TestSplit used to determine proportion of dataset for each split\n",
        "\n",
        "  #Montgomery dataset only has PA images so no metadata.csv checks\n",
        "\n",
        "  name ='Montgomery Dataset'\n",
        "  dataDir = 'NLM-MontgomeryCXRSet/MontgomerySet/CXR_png/'\n",
        "\n",
        "  #Getting image file paths\n",
        "  file_paths = os.listdir(colabDir + dataDir)\n",
        "\n",
        "  #Colab file path example: /content/drive/MyDrive/AP PA Stuff/Datasets/Original/CheXpert-v1.0-small/train/patient00001/study1/view1_frontal.jpg\n",
        "  #Change file paths to work with colab\n",
        "  for ind, path in enumerate(file_paths):\n",
        "    file_paths[ind] = colabDir + dataDir + path\n",
        "\n",
        "  #Get AP/PA label\n",
        "  #AP:0, PA:1\n",
        "  labels = [1 for i in file_paths]\n",
        "\n",
        "  #if ap/pa label has extra words then it'll cut that out & gets counts of each label & converts labels into 1 and 0\n",
        "  AP_Count = 0\n",
        "  PA_Count = len(labels)\n",
        "  class_distributions[name] = {'AP':AP_Count,\n",
        "                               'PA':PA_Count,\n",
        "                               'Total': [f'Total Images = {AP_Count+PA_Count}',\n",
        "                                         f'AP Percentage = {AP_Count/(AP_Count+PA_Count):.3f}',\n",
        "                                         f'PA Percentage = {PA_Count/(AP_Count+PA_Count):.3f}']}\n",
        "\n",
        "  labels = np.asarray(labels).astype('float32')\n",
        "\n",
        "  dataset = tf.data.Dataset.from_tensor_slices((file_paths, labels))\n",
        "  dataset = dataset.shuffle(buffer_size=100000, seed=rngJesus)\n",
        "\n",
        "  if NumImages:\n",
        "    dataset = dataset.take(NumImages)\n",
        "\n",
        "  dataset = dataset.map(read_image)\n",
        "  train_ds, valid_ds, test_ds = training_split(dataset, training_prop=TrainSplit, validation_prop=ValSplit, testing_prop=TestSplit)\n",
        "\n",
        "  #If data is used for training then give option to augment the data\n",
        "  if augment:\n",
        "    train_ds = train_ds.map(lambda images, labels:\n",
        "              (preprocessing_model(images), labels))\n",
        "    \n",
        "  return [train_ds, valid_ds, test_ds]\n",
        "\n",
        "Montgomery_ds = Construct_Montgomery(0,0,1,augment=False)"
      ],
      "execution_count": 10,
      "outputs": [
        {
          "output_type": "stream",
          "name": "stdout",
          "text": [
            "c\n",
            "d\n",
            "e\n",
            "f\n",
            "g\n",
            "h\n",
            "i\n",
            "j\n"
          ]
        }
      ]
    },
    {
      "cell_type": "markdown",
      "metadata": {
        "id": "DKSclpJAe8G7"
      },
      "source": [
        "###RICORD"
      ]
    },
    {
      "cell_type": "code",
      "metadata": {
        "id": "yG22X20wH6WM",
        "colab": {
          "base_uri": "https://localhost:8080/"
        },
        "outputId": "921c35bc-7280-402f-ec47-e6711862368d"
      },
      "source": [
        "def Construct_RICORD(TrainSplit, ValSplit, TestSplit, augment=False, NumImages=None): \n",
        "  # Creating RICORD Dataset \n",
        "  # returns list: [train_ds(augmented), valid_ds, test_ds]\n",
        "  # augment used to check if should apply random flip, rotation, etc.\n",
        "  # NumImages used to determine how many images to include in database (if left blank then it takes all images)\n",
        "  # TrainSplit, ValSplit, TestSplit used to determine proportion of dataset for each split\n",
        "\n",
        "  name ='RICORD Dataset'\n",
        "  dataDir = 'manifest-1610656454899/'\n",
        "\n",
        "  METADATA_CSV_PATH = colabDir + dataDir + 'metadata.csv' \n",
        "  metadata = pd.read_csv(METADATA_CSV_PATH)\n",
        "\n",
        "  #Only taking the rows that contain a value for view position\n",
        "  metadata = metadata[metadata['Series Description'].str.contains('AP|PA', case=False, regex=True, na=False)]\n",
        "\n",
        "  #Getting image file paths from csv\n",
        "  dcm_dirs = metadata['File Location'].values \n",
        "\n",
        "  #Colab file path example: /content/drive/MyDrive/AP PA Stuff/Datasets/Original/CheXpert-v1.0-small/train/patient00001/study1/view1_frontal.jpg\n",
        "  #Change file paths to work with colab\n",
        "  for ind, path in enumerate(dcm_dirs):\n",
        "    path = path[2:] + '/'\n",
        "    path = path.replace('\\\\', '/')\n",
        "    dcm_dirs[ind] = colabDir + dataDir + path\n",
        "\n",
        "  file_paths = []\n",
        "  for dcm_dir in dcm_dirs:\n",
        "    dcm_path = os.listdir(dcm_dir)\n",
        "    for path in dcm_path:\n",
        "      file_paths.append(dcm_dir + path)\n",
        "\n",
        "  dcm_pixel_arrays = []\n",
        "  for path in tqdm(file_paths):\n",
        "      dcm = pydicom.dcmread(path)\n",
        "      img = dcm.pixel_array\n",
        "      img_2d = img.astype(float)\n",
        "      img_2d_scaled = (np.maximum(img_2d,0) / img_2d.max()) * 255.0\n",
        "      img_2d_scaled = np.uint8(img_2d_scaled)\n",
        "      image = tf.image.resize(tf.expand_dims(img_2d_scaled, axis=-1), [IMG_SIZE, IMG_SIZE])\n",
        "      dcm_pixel_arrays.append(image)\n",
        "\n",
        "  #Get AP/PA label\n",
        "  labels = []\n",
        "  imageCount = metadata['Number of Images']\n",
        "  preLabels = metadata['Series Description']\n",
        "  for count, label in zip(imageCount, preLabels):\n",
        "    for i in range(count):\n",
        "      labels.append(label)\n",
        "\n",
        "  #if ap/pa label has extra words then it'll cut that out & gets counts of each label & converts labels into 1 and 0\n",
        "  AP_Count = 0\n",
        "  PA_Count = 0\n",
        "  for ind, label in enumerate(labels):\n",
        "    if 'AP' in label:\n",
        "      labels[ind] = 0\n",
        "      AP_Count += 1\n",
        "    elif 'PA' in label:\n",
        "      labels[ind] = 1\n",
        "      PA_Count += 1\n",
        "  class_distributions[name] = {'AP':AP_Count,\n",
        "                               'PA':PA_Count,\n",
        "                               'Total': [f'Total Images = {AP_Count+PA_Count}',\n",
        "                                         f'AP Percentage = {AP_Count/(AP_Count+PA_Count):.3f}',\n",
        "                                         f'PA Percentage = {PA_Count/(AP_Count+PA_Count):.3f}']}\n",
        "\n",
        "  labels = np.asarray(labels).astype('float32')\n",
        "\n",
        "  print(len(dcm_pixel_arrays))\n",
        "  print(len(labels))\n",
        "  dataset = tf.data.Dataset.from_tensor_slices((dcm_pixel_arrays, labels))\n",
        "  dataset = dataset.shuffle(buffer_size=100000, seed=rngJesus)\n",
        "\n",
        "  if NumImages:\n",
        "    dataset = dataset.take(NumImages)\n",
        "\n",
        "  dataset = dataset.map(read_dicom_image)\n",
        "  train_ds, valid_ds, test_ds = training_split(dataset, training_prop=TrainSplit, validation_prop=ValSplit, testing_prop=TestSplit)\n",
        "\n",
        "  #If data is used for training then give option to augment the data\n",
        "  if augment:\n",
        "    train_ds = train_ds.map(lambda images, labels:\n",
        "              (preprocessing_model(images), labels))\n",
        "    \n",
        "  return [train_ds, valid_ds, test_ds]\n",
        "\n",
        "RICORD_ds = Construct_RICORD(0,0,1,augment=False)\n",
        "# show_image(RICORD_ds[2])"
      ],
      "execution_count": 11,
      "outputs": [
        {
          "output_type": "stream",
          "name": "stderr",
          "text": [
            "100%|██████████| 694/694 [16:33<00:00,  1.43s/it]"
          ]
        },
        {
          "output_type": "stream",
          "name": "stdout",
          "text": [
            "694\n",
            "694\n",
            "a\n",
            "b\n",
            "c\n",
            "d\n",
            "e\n",
            "f\n",
            "g\n",
            "h\n",
            "i\n",
            "j\n"
          ]
        },
        {
          "output_type": "stream",
          "name": "stderr",
          "text": [
            "\n"
          ]
        }
      ]
    },
    {
      "cell_type": "code",
      "metadata": {
        "id": "-ZSp0b-O7y26"
      },
      "source": [
        "RICORD_test_ds = RICORD_ds[2].cache(tensorflowDir+'RICORD Dataset')"
      ],
      "execution_count": 12,
      "outputs": []
    },
    {
      "cell_type": "markdown",
      "metadata": {
        "id": "eVZhVfN2fO2U"
      },
      "source": [
        "###Kaggle Test"
      ]
    },
    {
      "cell_type": "code",
      "metadata": {
        "id": "w-E2T5QiMK0t",
        "colab": {
          "base_uri": "https://localhost:8080/"
        },
        "outputId": "93749275-9d87-4aa3-fa51-f244ece899ff"
      },
      "source": [
        "def Construct_KaggleTest(TrainSplit, ValSplit, TestSplit, augment=False, NumImages=None): \n",
        "  # Creating Kaggle Test Dataset \n",
        "  # returns list: [train_ds(augmented), valid_ds, test_ds]\n",
        "  # augment used to check if should apply random flip, rotation, etc.\n",
        "  # NumImages used to determine how many images to include in database (if left blank then it takes all images)\n",
        "  # TrainSplit, ValSplit, TestSplit used to determine proportion of dataset for each split\n",
        "\n",
        "  name ='Kaggle Test Dataset'\n",
        "  dataDir = 'stage_2_test_images/'\n",
        "\n",
        "  #Getting dcm file paths from premade folders\n",
        "  #I manually Separated dcm into seperate folders bc google couldnt read 26k files in one line\n",
        "  file_paths = []\n",
        "  dcm_files = os.listdir(colabDir + dataDir)\n",
        "  for dcm in dcm_files:\n",
        "    file_paths.append(colabDir + dataDir + dcm)\n",
        "  # dcm_dir_names = [str(i) for i in range(1,2)]\n",
        "  # for name in dcm_dir_names:\n",
        "  #   dcm_dir = colabDir + dataDir + name + '/'\n",
        "  #   files = os.listdir(dcm_dir)\n",
        "  #   for file in files:\n",
        "  #     file_paths.append(dcm_dir + file)\n",
        "\n",
        "  dcm_pixel_arrays = []\n",
        "  labels = []\n",
        "  for path in tqdm(file_paths):\n",
        "      dcm = pydicom.dcmread(path)\n",
        "      image = dcm.pixel_array\n",
        "      image = tf.image.resize(tf.expand_dims(image, axis=-1), [IMG_SIZE, IMG_SIZE])\n",
        "      dcm_pixel_arrays.append(image)\n",
        "      labels.append(dcm.SeriesDescription)\n",
        "\n",
        "  #if ap/pa label has extra words then it'll cut that out & gets counts of each label & converts labels into 1 and 0\n",
        "  AP_Count = 0\n",
        "  PA_Count = 0\n",
        "  for ind, label in enumerate(labels):\n",
        "    if 'AP' in label:\n",
        "      labels[ind] = 0\n",
        "      AP_Count += 1\n",
        "    elif 'PA' in label:\n",
        "      labels[ind] = 1\n",
        "      PA_Count += 1\n",
        "  class_distributions[name] = {'AP':AP_Count,\n",
        "                               'PA':PA_Count,\n",
        "                               'Total': [f'Total Images = {AP_Count+PA_Count}',\n",
        "                                         f'AP Percentage = {AP_Count/(AP_Count+PA_Count):.3f}',\n",
        "                                         f'PA Percentage = {PA_Count/(AP_Count+PA_Count):.3f}']}\n",
        "\n",
        "  labels = np.asarray(labels).astype('float32')\n",
        "\n",
        "  print(len(dcm_pixel_arrays))\n",
        "  print(len(labels))\n",
        "  dataset = tf.data.Dataset.from_tensor_slices((dcm_pixel_arrays, labels))\n",
        "  dataset = dataset.shuffle(buffer_size=100000, seed=rngJesus)\n",
        "\n",
        "  if NumImages:\n",
        "    dataset = dataset.take(NumImages)\n",
        "\n",
        "  dataset = dataset.map(read_dicom_image)\n",
        "  train_ds, valid_ds, test_ds = training_split(dataset, training_prop=TrainSplit, validation_prop=ValSplit, testing_prop=TestSplit)\n",
        "  # train_ds2, valid_ds2, test_ds2 = training_split(dataset, training_prop=.8, validation_prop=.2, testing_prop=0)\n",
        "\n",
        "  #If data is used for training then give option to augment the data\n",
        "  if augment:\n",
        "    train_ds = train_ds.map(lambda images, labels:\n",
        "              (preprocessing_model(images), labels))\n",
        "    \n",
        "  return train_ds, valid_ds, test_ds\n",
        "    \n",
        "  # return [train_ds2, valid_ds2, test_ds2]\n",
        "\n",
        "Kaggle_Test_ds = Construct_KaggleTest(0,0,1,augment=True)\n",
        "# show_image(RICORD_ds[2])"
      ],
      "execution_count": 13,
      "outputs": [
        {
          "output_type": "stream",
          "name": "stderr",
          "text": [
            "100%|██████████| 3000/3000 [19:23<00:00,  2.58it/s]\n"
          ]
        },
        {
          "output_type": "stream",
          "name": "stdout",
          "text": [
            "3000\n",
            "3000\n",
            "a\n",
            "b\n",
            "c\n",
            "d\n",
            "e\n",
            "f\n",
            "g\n",
            "h\n",
            "i\n",
            "j\n"
          ]
        }
      ]
    },
    {
      "cell_type": "code",
      "metadata": {
        "id": "A6KOtYAXfQ4d"
      },
      "source": [
        "#returns 2 lists with the second one being a train set in case I wanna flip it so i train on the kaggle test"
      ],
      "execution_count": 14,
      "outputs": []
    },
    {
      "cell_type": "markdown",
      "metadata": {
        "id": "lRFsXgIdFd6q"
      },
      "source": [
        "#Train Model"
      ]
    },
    {
      "cell_type": "code",
      "metadata": {
        "colab": {
          "base_uri": "https://localhost:8080/"
        },
        "id": "ivxguypWazSx",
        "outputId": "7266308c-011e-472f-8443-781c19a48563"
      },
      "source": [
        "#test cell to see if model works with dataset\n",
        "model_handle = 'https://tfhub.dev/google/imagenet/efficientnet_v2_imagenet21k_l/feature_vector/2'\n",
        "# classifier = hub.load(model_handle)\n",
        "print(\"Building model with\", model_handle)\n",
        "\n",
        "model = tf.keras.Sequential([\n",
        "    # Explicitly define the input shape so the model can be properly\n",
        "    # loaded by the TFLiteConverter\n",
        "    tf.keras.layers.InputLayer(input_shape=(IMG_SIZE,IMG_SIZE) + (3,)),\n",
        "    hub.KerasLayer(model_handle, trainable=True),\n",
        "    # tf.keras.layers.Dense(256),\n",
        "    # tf.keras.layers.Flatten(name=\"flatten\"),\n",
        "    tf.keras.layers.Dropout(0.1),\n",
        "    tf.keras.layers.Dense(1, activation=tf.keras.activations.sigmoid)\n",
        "])\n",
        "model.build((None,)+(IMG_SIZE,IMG_SIZE)+(3,))\n",
        "model.summary()\n",
        "\n"
      ],
      "execution_count": 18,
      "outputs": [
        {
          "output_type": "stream",
          "name": "stdout",
          "text": [
            "Building model with https://tfhub.dev/google/imagenet/efficientnet_v2_imagenet21k_l/feature_vector/2\n",
            "Model: \"sequential_2\"\n",
            "_________________________________________________________________\n",
            "Layer (type)                 Output Shape              Param #   \n",
            "=================================================================\n",
            "keras_layer_1 (KerasLayer)   (None, 1280)              117746848 \n",
            "_________________________________________________________________\n",
            "dropout_1 (Dropout)          (None, 1280)              0         \n",
            "_________________________________________________________________\n",
            "dense_1 (Dense)              (None, 1)                 1281      \n",
            "=================================================================\n",
            "Total params: 117,748,129\n",
            "Trainable params: 117,235,553\n",
            "Non-trainable params: 512,576\n",
            "_________________________________________________________________\n"
          ]
        }
      ]
    },
    {
      "cell_type": "code",
      "metadata": {
        "id": "59-ogqTMDNeD"
      },
      "source": [
        "#taken from https://ecode.dev/cnn-for-medical-imaging-using-tensorflow-2/\n",
        "from tensorflow.keras.metrics import TruePositives, FalsePositives, TrueNegatives, FalseNegatives, BinaryAccuracy, Precision, Recall, AUC\n",
        "from tensorflow.keras.metrics import SpecificityAtSensitivity\n",
        "\n",
        "METRICS = [\n",
        "      TruePositives(name='tp'),\n",
        "      FalsePositives(name='fp'),\n",
        "      TrueNegatives(name='tn'),\n",
        "      FalseNegatives(name='fn'), \n",
        "      BinaryAccuracy(name='accuracy'),\n",
        "      Precision(name='precision'),\n",
        "      Recall(name='recall'),\n",
        "      AUC(name='auc'),\n",
        "      SpecificityAtSensitivity(sensitivity=0.8, name='sensitivity')\n",
        "]"
      ],
      "execution_count": 16,
      "outputs": []
    },
    {
      "cell_type": "code",
      "metadata": {
        "id": "4ty_wZtlazSz"
      },
      "source": [
        "model.compile(\n",
        "  optimizer=tf.keras.optimizers.Adam(learning_rate=0.001), \n",
        "  loss=tf.keras.losses.BinaryCrossentropy(),\n",
        "  metrics=METRICS)"
      ],
      "execution_count": 19,
      "outputs": []
    },
    {
      "cell_type": "code",
      "metadata": {
        "id": "bTl6LPchTKEz"
      },
      "source": [
        "BetterDir = '/content/drive/MyDrive/AP PA Stuff/Datasets/Tensorflow/After/'\n",
        "checkpoint_path = BetterDir + \"cp.ckpt\"\n",
        "checkpoint_dir = os.path.dirname(checkpoint_path)\n",
        "\n",
        "# Create a callback that saves the model's weights\n",
        "cp_callback = tf.keras.callbacks.ModelCheckpoint(filepath=checkpoint_path,\n",
        "                                                 save_weights_only=True,\n",
        "                                                 verbose=1)"
      ],
      "execution_count": 20,
      "outputs": []
    },
    {
      "cell_type": "code",
      "metadata": {
        "id": "d86nrk3d1Uye"
      },
      "source": [
        "class ClearStuff(tf.keras.callbacks.Callback):\n",
        "    def on_epoch_end(self, epoch, logs=None):\n",
        "        gc.collect()\n",
        "        tf.keras.backend.clear_session()"
      ],
      "execution_count": 21,
      "outputs": []
    },
    {
      "cell_type": "code",
      "metadata": {
        "colab": {
          "base_uri": "https://localhost:8080/"
        },
        "id": "Z0u3769n4fKP",
        "outputId": "7dc73bf0-29ea-4e79-db08-d4b6e3a8302e"
      },
      "source": [
        "latest = tf.train.latest_checkpoint(checkpoint_dir)\n",
        "model.load_weights(latest)"
      ],
      "execution_count": 22,
      "outputs": [
        {
          "output_type": "execute_result",
          "data": {
            "text/plain": [
              "<tensorflow.python.training.tracking.util.CheckpointLoadStatus at 0x7f22c6f499d0>"
            ]
          },
          "metadata": {},
          "execution_count": 22
        }
      ]
    },
    {
      "cell_type": "code",
      "metadata": {
        "id": "k04LX9OkazS0",
        "colab": {
          "base_uri": "https://localhost:8080/"
        },
        "outputId": "42c1ff0d-bf7a-4650-cf4a-73fb20173f40"
      },
      "source": [
        "steps_per_epoch = dataset_length*.8 // BATCH_SIZE\n",
        "validation_steps = dataset_length*.1 // BATCH_SIZE\n",
        "\n",
        "hist = model.fit(\n",
        "    train_ds,\n",
        "    epochs=epoch_number, steps_per_epoch=steps_per_epoch,\n",
        "    validation_data=valid_ds,\n",
        "    validation_steps=validation_steps,\n",
        "    callbacks=[cp_callback, ClearStuff()]).history \n"
      ],
      "execution_count": 97,
      "outputs": [
        {
          "output_type": "stream",
          "name": "stdout",
          "text": [
            "Epoch 1/10\n",
            "517/517 [==============================] - 1722s 3s/step - loss: 0.2587 - tp: 3810.0000 - fp: 335.0000 - tn: 3691.0000 - fn: 436.0000 - accuracy: 0.9068 - precision: 0.9192 - recall: 0.8973 - auc: 0.9604 - sensitivity: 0.9600 - val_loss: 0.1586 - val_tp: 543.0000 - val_fp: 37.0000 - val_tn: 432.0000 - val_fn: 12.0000 - val_accuracy: 0.9521 - val_precision: 0.9362 - val_recall: 0.9784 - val_auc: 0.9868 - val_sensitivity: 0.9893\n",
            "\n",
            "Epoch 00001: saving model to /content/drive/MyDrive/AP PA Stuff/Datasets/Tensorflow/cringe/cp.ckpt\n",
            "Epoch 2/10\n",
            "517/517 [==============================] - 433s 813ms/step - loss: 0.1708 - tp: 4028.0000 - fp: 183.0000 - tn: 3792.0000 - fn: 267.0000 - accuracy: 0.9456 - precision: 0.9565 - recall: 0.9378 - auc: 0.9789 - sensitivity: 0.9874 - val_loss: 0.1804 - val_tp: 521.0000 - val_fp: 44.0000 - val_tn: 436.0000 - val_fn: 23.0000 - val_accuracy: 0.9346 - val_precision: 0.9221 - val_recall: 0.9577 - val_auc: 0.9799 - val_sensitivity: 0.9917\n",
            "\n",
            "Epoch 00002: saving model to /content/drive/MyDrive/AP PA Stuff/Datasets/Tensorflow/cringe/cp.ckpt\n",
            "Epoch 3/10\n",
            "517/517 [==============================] - 389s 730ms/step - loss: 0.1851 - tp: 3947.0000 - fp: 211.0000 - tn: 3830.0000 - fn: 282.0000 - accuracy: 0.9404 - precision: 0.9493 - recall: 0.9333 - auc: 0.9779 - sensitivity: 0.9854 - val_loss: 0.1882 - val_tp: 497.0000 - val_fp: 7.0000 - val_tn: 484.0000 - val_fn: 36.0000 - val_accuracy: 0.9580 - val_precision: 0.9861 - val_recall: 0.9325 - val_auc: 0.9864 - val_sensitivity: 0.9919\n",
            "\n",
            "Epoch 00003: saving model to /content/drive/MyDrive/AP PA Stuff/Datasets/Tensorflow/cringe/cp.ckpt\n",
            "Epoch 4/10\n",
            "517/517 [==============================] - 388s 729ms/step - loss: 0.1584 - tp: 4010.0000 - fp: 179.0000 - tn: 3846.0000 - fn: 235.0000 - accuracy: 0.9499 - precision: 0.9573 - recall: 0.9446 - auc: 0.9818 - sensitivity: 0.9883 - val_loss: 0.1248 - val_tp: 521.0000 - val_fp: 9.0000 - val_tn: 470.0000 - val_fn: 24.0000 - val_accuracy: 0.9678 - val_precision: 0.9830 - val_recall: 0.9560 - val_auc: 0.9874 - val_sensitivity: 0.9896\n",
            "\n",
            "Epoch 00004: saving model to /content/drive/MyDrive/AP PA Stuff/Datasets/Tensorflow/cringe/cp.ckpt\n",
            "Epoch 5/10\n",
            "517/517 [==============================] - 424s 798ms/step - loss: 0.1416 - tp: 4026.0000 - fp: 173.0000 - tn: 3857.0000 - fn: 214.0000 - accuracy: 0.9532 - precision: 0.9588 - recall: 0.9495 - auc: 0.9852 - sensitivity: 0.9918 - val_loss: 0.0936 - val_tp: 526.0000 - val_fp: 2.0000 - val_tn: 468.0000 - val_fn: 28.0000 - val_accuracy: 0.9707 - val_precision: 0.9962 - val_recall: 0.9495 - val_auc: 0.9921 - val_sensitivity: 1.0000\n",
            "\n",
            "Epoch 00005: saving model to /content/drive/MyDrive/AP PA Stuff/Datasets/Tensorflow/cringe/cp.ckpt\n",
            "Epoch 6/10\n",
            "517/517 [==============================] - 389s 732ms/step - loss: 0.1410 - tp: 4046.0000 - fp: 158.0000 - tn: 3849.0000 - fn: 217.0000 - accuracy: 0.9547 - precision: 0.9624 - recall: 0.9491 - auc: 0.9849 - sensitivity: 0.9935 - val_loss: 0.1861 - val_tp: 477.0000 - val_fp: 4.0000 - val_tn: 502.0000 - val_fn: 41.0000 - val_accuracy: 0.9561 - val_precision: 0.9917 - val_recall: 0.9208 - val_auc: 0.9813 - val_sensitivity: 1.0000\n",
            "\n",
            "Epoch 00006: saving model to /content/drive/MyDrive/AP PA Stuff/Datasets/Tensorflow/cringe/cp.ckpt\n",
            "Epoch 7/10\n",
            "517/517 [==============================] - 391s 736ms/step - loss: 0.1364 - tp: 4069.0000 - fp: 143.0000 - tn: 3851.0000 - fn: 207.0000 - accuracy: 0.9577 - precision: 0.9660 - recall: 0.9516 - auc: 0.9853 - sensitivity: 0.9937 - val_loss: 0.1099 - val_tp: 489.0000 - val_fp: 7.0000 - val_tn: 507.0000 - val_fn: 21.0000 - val_accuracy: 0.9727 - val_precision: 0.9859 - val_recall: 0.9588 - val_auc: 0.9862 - val_sensitivity: 0.9981\n",
            "\n",
            "Epoch 00007: saving model to /content/drive/MyDrive/AP PA Stuff/Datasets/Tensorflow/cringe/cp.ckpt\n",
            "Epoch 8/10\n",
            "517/517 [==============================] - 391s 734ms/step - loss: 0.1341 - tp: 4048.0000 - fp: 131.0000 - tn: 3900.0000 - fn: 191.0000 - accuracy: 0.9611 - precision: 0.9687 - recall: 0.9549 - auc: 0.9858 - sensitivity: 0.9948 - val_loss: 0.0925 - val_tp: 514.0000 - val_fp: 4.0000 - val_tn: 484.0000 - val_fn: 22.0000 - val_accuracy: 0.9746 - val_precision: 0.9923 - val_recall: 0.9590 - val_auc: 0.9923 - val_sensitivity: 0.9980\n",
            "\n",
            "Epoch 00008: saving model to /content/drive/MyDrive/AP PA Stuff/Datasets/Tensorflow/cringe/cp.ckpt\n",
            "Epoch 9/10\n",
            "517/517 [==============================] - 339s 633ms/step - loss: 0.1206 - tp: 4087.0000 - fp: 131.0000 - tn: 3867.0000 - fn: 185.0000 - accuracy: 0.9618 - precision: 0.9689 - recall: 0.9567 - auc: 0.9885 - sensitivity: 0.9940 - val_loss: 0.3529 - val_tp: 509.0000 - val_fp: 117.0000 - val_tn: 387.0000 - val_fn: 11.0000 - val_accuracy: 0.8750 - val_precision: 0.8131 - val_recall: 0.9788 - val_auc: 0.9730 - val_sensitivity: 0.9881\n",
            "\n",
            "Epoch 00009: saving model to /content/drive/MyDrive/AP PA Stuff/Datasets/Tensorflow/cringe/cp.ckpt\n",
            "Epoch 10/10\n",
            "517/517 [==============================] - 341s 637ms/step - loss: 0.1081 - tp: 4062.0000 - fp: 108.0000 - tn: 3927.0000 - fn: 173.0000 - accuracy: 0.9660 - precision: 0.9741 - recall: 0.9591 - auc: 0.9898 - sensitivity: 0.9963 - val_loss: 0.1235 - val_tp: 497.0000 - val_fp: 2.0000 - val_tn: 486.0000 - val_fn: 39.0000 - val_accuracy: 0.9600 - val_precision: 0.9960 - val_recall: 0.9272 - val_auc: 0.9932 - val_sensitivity: 0.9959\n",
            "\n",
            "Epoch 00010: saving model to /content/drive/MyDrive/AP PA Stuff/Datasets/Tensorflow/cringe/cp.ckpt\n"
          ]
        }
      ]
    },
    {
      "cell_type": "code",
      "metadata": {
        "colab": {
          "base_uri": "https://localhost:8080/"
        },
        "id": "5XsCn8jnXCiP",
        "outputId": "3b58a207-a562-4520-a9e1-49c851add6fb"
      },
      "source": [
        "hist['accuracy']\n",
        "hist['val_accuracy']\n",
        "hist['loss']\n",
        "hist['val_loss']"
      ],
      "execution_count": 98,
      "outputs": [
        {
          "output_type": "execute_result",
          "data": {
            "text/plain": [
              "[0.15857824683189392,\n",
              " 0.18037444353103638,\n",
              " 0.1881500482559204,\n",
              " 0.12479119002819061,\n",
              " 0.09360707551240921,\n",
              " 0.18605807423591614,\n",
              " 0.10988148301839828,\n",
              " 0.09253550320863724,\n",
              " 0.35285183787345886,\n",
              " 0.12346649914979935]"
            ]
          },
          "metadata": {},
          "execution_count": 98
        }
      ]
    },
    {
      "cell_type": "code",
      "metadata": {
        "id": "7TAE7NRW8UlO"
      },
      "source": [
        "#before times \n",
        "epochs = [i for i in range(1,12)]\n",
        "accuracies = [0.9475,0.9675,0.9758,0.9758,0.9792,0.9811,0.9811,0.9818,0.9827,0.9828,0.9838]\n",
        "val_accuracies = [0.9719,0.9719,0.9688,0.9865,0.9683,0.9871,0.9867,0.9814,0.9884,0.9827,0.9829]\n",
        "losses = [0.1577,0.1132,0.0898,0.0863,0.0779,0.0732,0.0700,0.0669,0.0653,0.0653,0.0621]\n",
        "val_losses = [0.0967,0.1051,0.1346,0.0775,0.1336,0.0690,0.0527,0.0872,0.0581,0.0923,0.0619]"
      ],
      "execution_count": null,
      "outputs": []
    },
    {
      "cell_type": "code",
      "metadata": {
        "colab": {
          "base_uri": "https://localhost:8080/",
          "height": 549
        },
        "id": "yU0HxMW7HDkj",
        "outputId": "bb2c2a98-f317-474c-c836-6a295cd07c63"
      },
      "source": [
        "accuracies.extend(hist[\"accuracy\"])\n",
        "val_accuracies.extend(hist['val_accuracy'])\n",
        "losses.extend(hist['loss'])\n",
        "val_losses.extend(hist['val_loss'])\n",
        "plt.figure()\n",
        "plt.ylabel(\"Loss (training and validation)\")\n",
        "plt.xlabel(\"Epochs\")\n",
        "plt.ylim([0,2])\n",
        "plt.plot(losses, 'b', label='Training Loss')\n",
        "plt.plot(val_losses, 'r', label='Validatiton Loss')\n",
        "plt.legend()\n",
        "plt.show()\n",
        "\n",
        "plt.figure()\n",
        "plt.ylabel(\"Accuracy (training and validation)\")\n",
        "plt.xlabel(\"Epochs\")\n",
        "plt.ylim([0,1])\n",
        "plt.plot(accuracies, 'b', label='Training Accuracy')\n",
        "plt.plot(val_accuracies,'r', label='Validatiton Accuracy')\n",
        "plt.legend()\n",
        "plt.show()"
      ],
      "execution_count": null,
      "outputs": [
        {
          "output_type": "display_data",
          "data": {
            "image/png": "[encoded data removed]",
            "text/plain": [
              "<Figure size 432x288 with 1 Axes>"
            ]
          },
          "metadata": {
            "needs_background": "light"
          }
        },
        {
          "output_type": "display_data",
          "data": {
            "image/png": "[encoded data removed]",
            "text/plain": [
              "<Figure size 432x288 with 1 Axes>"
            ]
          },
          "metadata": {
            "needs_background": "light"
          }
        }
      ]
    },
    {
      "cell_type": "code",
      "metadata": {
        "colab": {
          "base_uri": "https://localhost:8080/",
          "height": 549
        },
        "id": "ySS2DTZJTsdm",
        "outputId": "bad533a1-7dc9-45ec-875b-09046cb42536"
      },
      "source": [
        "#cringe one\n",
        "plt.figure()\n",
        "plt.ylabel(\"Loss (training and validation)\")\n",
        "plt.xlabel(\"Training Steps\")\n",
        "plt.ylim([0,2])\n",
        "plt.plot(hist[\"loss\"], 'b', label='Training Loss')\n",
        "plt.plot(hist[\"val_loss\"],'r', label='Validation Loss')\n",
        "\n",
        "plt.legend()\n",
        "plt.show()\n",
        "\n",
        "plt.figure()\n",
        "plt.ylabel(\"Accuracy (training and validation)\")\n",
        "plt.xlabel(\"Training Steps\")\n",
        "plt.ylim([0,1])\n",
        "plt.plot(hist[\"accuracy\"], 'b', label='Training Accuracy')\n",
        "plt.plot(hist[\"val_accuracy\"],'r', label='Validation Accuracy')\n",
        "\n",
        "plt.legend()\n",
        "plt.show()"
      ],
      "execution_count": 102,
      "outputs": [
        {
          "output_type": "display_data",
          "data": {
            "image/png": "[encoded data removed]",
            "text/plain": [
              "<Figure size 432x288 with 1 Axes>"
            ]
          },
          "metadata": {
            "needs_background": "light"
          }
        },
        {
          "output_type": "display_data",
          "data": {
            "image/png": "[encoded data removed]",
            "text/plain": [
              "<Figure size 432x288 with 1 Axes>"
            ]
          },
          "metadata": {
            "needs_background": "light"
          }
        }
      ]
    },
    {
      "cell_type": "code",
      "metadata": {
        "id": "-LqP7UGFIU_n"
      },
      "source": [
        "# class_distributions['Kaggle'] = {'AP':Kaggle_AP,\n",
        "#                                'PA':Kaggle_PA,\n",
        "#                                'Total': [f'Total Images = {Kaggle_AP+Kaggle_PA}',\n",
        "#                                          f'AP Percentage = {Kaggle_AP/(Kaggle_AP+Kaggle_PA):.3f}',\n",
        "#                                          f'PA Percentage = {Kaggle_PA/(Kaggle_AP+Kaggle_PA):.3f}']}\n",
        "\n",
        "# class_distributions['IEEE'] = {'AP':IEEE_AP,\n",
        "#                                'PA':IEEE_PA,\n",
        "#                                'Total': [f'Total Images = {IEEE_AP+IEEE_PA}',\n",
        "#                                          f'AP Percentage = {IEEE_AP/(IEEE_AP+IEEE_PA):.3f}',\n",
        "#                                          f'PA Percentage = {IEEE_PA/(IEEE_AP+IEEE_PA):.3f}']}\n",
        "\n",
        "class_distributions"
      ],
      "execution_count": null,
      "outputs": []
    },
    {
      "cell_type": "code",
      "metadata": {
        "id": "9Ffaai3GVdjc"
      },
      "source": [
        "test_dses = {\n",
        "    # 'CheXpert': cheXpert_ds[2],\n",
        "    # 'CX-Net': CXNet_ds[2],\n",
        "    'ActualMed': ActualMed_ds[2],\n",
        "    'Shenzhen': Shenzhen_ds[2],\n",
        "    'Montgomery': Montgomery_ds[2],\n",
        "    'RICORD': RICORD_ds[2],\n",
        "    'Kaggle': Kaggle_Test_ds[2]\n",
        "}\n",
        "\n",
        "predictions = {}"
      ],
      "execution_count": 35,
      "outputs": []
    },
    {
      "cell_type": "code",
      "metadata": {
        "id": "HSJHOlCwT8Mm",
        "colab": {
          "base_uri": "https://localhost:8080/"
        },
        "outputId": "2f19915e-9278-4ffe-c639-679ac1ba5b96"
      },
      "source": [
        "#adapted from https://ecode.dev/cnn-for-medical-imaging-using-tensorflow-2/\n",
        "\n",
        "import time\n",
        "\n",
        "# Evaluate the model on the test data using `evaluate`\n",
        "print(\"Evaluate on test data\")\n",
        "for test_ds_name in test_dses:\n",
        "  print('-'*40)\n",
        "  print('Now evaluating '+ test_ds_name)\n",
        "  test_ds = test_dses[test_ds_name]\n",
        "  score_test = model.evaluate(test_ds)\n",
        "  start_time = time.time()\n",
        "  # predictions[test_ds_name] = model.predict(test_ds)\n",
        "  print(\"--- %s seconds ---\" % (time.time() - start_time))\n",
        "  for name, value in zip(model.metrics_names, score_test):\n",
        "    print(name, ': ', value)\n",
        "  print('-'*40)\n",
        "\n",
        "from sklearn.metrics import confusion_matrix, roc_auc_score, roc_curve\n",
        "import seaborn as sns\n",
        "\n",
        "# notice the threshold\n",
        "def plot_cm(labels: np.ndarray, predictions: np.ndarray, p: float=0.5) -> ():\n",
        "    cm = confusion_matrix(labels, predictions > p)\n",
        "    # you can normalize the confusion matrix\n",
        "\n",
        "    plt.figure(figsize=(5,5))\n",
        "    sns.heatmap(cm, annot=True, fmt=\"d\", cmap='Blues')\n",
        "    plt.title('Confusion matrix @{:.2f}'.format(p))\n",
        "    plt.ylabel('Actual label')\n",
        "    plt.xlabel('Predicted label')\n",
        "\n",
        "    print('AP (True Negatives): ', cm[0][0])\n",
        "    print('Missed AP (False Positives): ', cm[0][1])\n",
        "    print('Missed PA (False Negatives): ', cm[1][0])\n",
        "    print('PA (True Positives): ', cm[1][1])\n",
        "\n",
        "def plot_roc(name: str, labels: np.ndarray, predictions: np.ndarray, **kwargs) -> ():\n",
        "  fp, tp, _ = roc_curve(labels, predictions)\n",
        "  auc_roc = roc_auc_score(labels, predictions)\n",
        "  plt.plot(100*fp, 100*tp, label=name + \" (\" + str(round(auc_roc, 3)) + \")\", \n",
        "           linewidth=2, **kwargs)\n",
        "  plt.xlabel('False positives [%]')\n",
        "  plt.ylabel('True positives [%]')\n",
        "  plt.title('ROC curve')\n",
        "  plt.grid(True)\n",
        "  plt.legend(loc='best')\n",
        "  ax = plt.gca()\n",
        "  ax.set_aspect('equal')\n",
        "\n",
        "# colors = plt.rcParams['axes.prop_cycle'].by_key()['color']\n",
        "# for name, test_ds, y_test_pred in zip(test_dses.keys(), test_dses.values(), predictions.values()):\n",
        "#   print('-'*40)\n",
        "#   print('NOW SHOWING PLOTS FOR: ' + name)\n",
        "#   y_test = np.concatenate([y for x, y in test_ds], axis=0)\n",
        "#   plot_cm(y_test, y_test_pred)\n",
        "#   plot_roc(\"Trained\", y_test, y_test_pred, color=colors[0])\n",
        "#   plt.legend(loc='lower right')\n",
        "#   print('-'*40)"
      ],
      "execution_count": 36,
      "outputs": [
        {
          "output_type": "stream",
          "name": "stdout",
          "text": [
            "Evaluate on test data\n",
            "----------------------------------------\n",
            "Now evaluating ActualMed\n",
            "15/15 [==============================] - 25s 1s/step - loss: 0.9816 - tp: 147.0000 - fp: 0.0000e+00 - tn: 39.0000 - fn: 52.0000 - accuracy: 0.7815 - precision: 1.0000 - recall: 0.7387 - auc: 0.9512 - sensitivity: 1.0000\n",
            "--- 2.6226043701171875e-06 seconds ---\n",
            "----------------------------------------\n",
            "----------------------------------------\n",
            "Now evaluating Shenzhen\n",
            "42/42 [==============================] - 47s 1s/step - loss: 0.2898 - tp: 596.0000 - fp: 0.0000e+00 - tn: 0.0000e+00 - fn: 66.0000 - accuracy: 0.9003 - precision: 1.0000 - recall: 0.9003 - auc: 0.0000e+00 - sensitivity: 0.0000e+00\n",
            "--- 1.9073486328125e-06 seconds ---\n",
            "----------------------------------------\n",
            "----------------------------------------\n",
            "Now evaluating Montgomery\n",
            "9/9 [==============================] - 21s 2s/step - loss: 0.1696 - tp: 129.0000 - fp: 0.0000e+00 - tn: 0.0000e+00 - fn: 9.0000 - accuracy: 0.9348 - precision: 1.0000 - recall: 0.9348 - auc: 0.0000e+00 - sensitivity: 0.0000e+00\n",
            "--- 2.384185791015625e-06 seconds ---\n",
            "----------------------------------------\n",
            "----------------------------------------\n",
            "Now evaluating RICORD\n",
            "44/44 [==============================] - 7s 154ms/step - loss: 0.0215 - tp: 3.0000 - fp: 5.0000 - tn: 686.0000 - fn: 0.0000e+00 - accuracy: 0.9928 - precision: 0.3750 - recall: 1.0000 - auc: 1.0000 - sensitivity: 1.0000\n",
            "--- 2.1457672119140625e-06 seconds ---\n",
            "----------------------------------------\n",
            "----------------------------------------\n",
            "Now evaluating Kaggle\n",
            "188/188 [==============================] - 30s 156ms/step - loss: 0.0388 - tp: 1597.0000 - fp: 7.0000 - tn: 1375.0000 - fn: 21.0000 - accuracy: 0.9907 - precision: 0.9956 - recall: 0.9870 - auc: 0.9975 - sensitivity: 0.9978\n",
            "--- 2.1457672119140625e-06 seconds ---\n",
            "----------------------------------------\n"
          ]
        }
      ]
    },
    {
      "cell_type": "code",
      "metadata": {
        "colab": {
          "base_uri": "https://localhost:8080/"
        },
        "id": "AsGiayjo9TIO",
        "outputId": "103f23c7-4a6e-47b7-8831-deb3f8f84cd3"
      },
      "source": [
        "#adapted from https://ecode.dev/cnn-for-medical-imaging-using-tensorflow-2/\n",
        "\n",
        "import time\n",
        "\n",
        "# Evaluate the model on the test data using `evaluate`\n",
        "print(\"Evaluate on test data\")\n",
        "for test_ds_name in test_dses:\n",
        "  print('-'*40)\n",
        "  print('Now evaluating '+ test_ds_name)\n",
        "  test_ds = test_dses[test_ds_name]\n",
        "  score_test = model.evaluate(test_ds)\n",
        "  start_time = time.time()\n",
        "  # predictions[test_ds_name] = model.predict(test_ds)\n",
        "  print(\"--- %s seconds ---\" % (time.time() - start_time))\n",
        "  for name, value in zip(model.metrics_names, score_test):\n",
        "    print(name, ': ', value)\n",
        "  print('-'*40)\n",
        "\n",
        "from sklearn.metrics import confusion_matrix, roc_auc_score, roc_curve\n",
        "import seaborn as sns\n",
        "\n",
        "# notice the threshold\n",
        "def plot_cm(labels: np.ndarray, predictions: np.ndarray, p: float=0.5) -> ():\n",
        "    cm = confusion_matrix(labels, predictions > p)\n",
        "    # you can normalize the confusion matrix\n",
        "\n",
        "    plt.figure(figsize=(5,5))\n",
        "    sns.heatmap(cm, annot=True, fmt=\"d\", cmap='Blues')\n",
        "    plt.title('Confusion matrix @{:.2f}'.format(p))\n",
        "    plt.ylabel('Actual label')\n",
        "    plt.xlabel('Predicted label')\n",
        "\n",
        "    print('AP (True Negatives): ', cm[0][0])\n",
        "    print('Missed AP (False Positives): ', cm[0][1])\n",
        "    print('Missed PA (False Negatives): ', cm[1][0])\n",
        "    print('PA (True Positives): ', cm[1][1])\n",
        "\n",
        "def plot_roc(name: str, labels: np.ndarray, predictions: np.ndarray, **kwargs) -> ():\n",
        "  fp, tp, _ = roc_curve(labels, predictions)\n",
        "  auc_roc = roc_auc_score(labels, predictions)\n",
        "  plt.plot(100*fp, 100*tp, label=name + \" (\" + str(round(auc_roc, 3)) + \")\", \n",
        "           linewidth=2, **kwargs)\n",
        "  plt.xlabel('False positives [%]')\n",
        "  plt.ylabel('True positives [%]')\n",
        "  plt.title('ROC curve')\n",
        "  plt.grid(True)\n",
        "  plt.legend(loc='best')\n",
        "  ax = plt.gca()\n",
        "  ax.set_aspect('equal')\n",
        "\n",
        "# colors = plt.rcParams['axes.prop_cycle'].by_key()['color']\n",
        "# for name, test_ds, y_test_pred in zip(test_dses.keys(), test_dses.values(), predictions.values()):\n",
        "#   print('-'*40)\n",
        "#   print('NOW SHOWING PLOTS FOR: ' + name)\n",
        "#   y_test = np.concatenate([y for x, y in test_ds], axis=0)\n",
        "#   plot_cm(y_test, y_test_pred)\n",
        "#   plot_roc(\"Trained\", y_test, y_test_pred, color=colors[0])\n",
        "#   plt.legend(loc='lower right')\n",
        "#   print('-'*40)"
      ],
      "execution_count": 37,
      "outputs": [
        {
          "output_type": "stream",
          "name": "stdout",
          "text": [
            "Evaluate on test data\n",
            "----------------------------------------\n",
            "Now evaluating ActualMed\n",
            "15/15 [==============================] - 16s 1s/step - loss: 0.9816 - tp: 147.0000 - fp: 0.0000e+00 - tn: 39.0000 - fn: 52.0000 - accuracy: 0.7815 - precision: 1.0000 - recall: 0.7387 - auc: 0.9512 - sensitivity: 1.0000\n",
            "--- 1.9073486328125e-06 seconds ---\n",
            "loss :  0.9816257953643799\n",
            "tp :  147.0\n",
            "fp :  0.0\n",
            "tn :  39.0\n",
            "fn :  52.0\n",
            "accuracy :  0.7815126180648804\n",
            "precision :  1.0\n",
            "recall :  0.7386934757232666\n",
            "auc :  0.9511660933494568\n",
            "sensitivity :  1.0\n",
            "----------------------------------------\n",
            "----------------------------------------\n",
            "Now evaluating Shenzhen\n",
            "42/42 [==============================] - 44s 1s/step - loss: 0.2898 - tp: 596.0000 - fp: 0.0000e+00 - tn: 0.0000e+00 - fn: 66.0000 - accuracy: 0.9003 - precision: 1.0000 - recall: 0.9003 - auc: 0.0000e+00 - sensitivity: 0.0000e+00\n",
            "--- 2.1457672119140625e-06 seconds ---\n",
            "loss :  0.2898050546646118\n",
            "tp :  596.0\n",
            "fp :  0.0\n",
            "tn :  0.0\n",
            "fn :  66.0\n",
            "accuracy :  0.9003021121025085\n",
            "precision :  1.0\n",
            "recall :  0.9003021121025085\n",
            "auc :  0.0\n",
            "sensitivity :  0.0\n",
            "----------------------------------------\n",
            "----------------------------------------\n",
            "Now evaluating Montgomery\n",
            "9/9 [==============================] - 20s 2s/step - loss: 0.1696 - tp: 129.0000 - fp: 0.0000e+00 - tn: 0.0000e+00 - fn: 9.0000 - accuracy: 0.9348 - precision: 1.0000 - recall: 0.9348 - auc: 0.0000e+00 - sensitivity: 0.0000e+00\n",
            "--- 2.1457672119140625e-06 seconds ---\n",
            "loss :  0.16958759725093842\n",
            "tp :  129.0\n",
            "fp :  0.0\n",
            "tn :  0.0\n",
            "fn :  9.0\n",
            "accuracy :  0.9347826242446899\n",
            "precision :  1.0\n",
            "recall :  0.9347826242446899\n",
            "auc :  0.0\n",
            "sensitivity :  0.0\n",
            "----------------------------------------\n",
            "----------------------------------------\n",
            "Now evaluating RICORD\n",
            "44/44 [==============================] - 7s 154ms/step - loss: 0.0215 - tp: 3.0000 - fp: 5.0000 - tn: 686.0000 - fn: 0.0000e+00 - accuracy: 0.9928 - precision: 0.3750 - recall: 1.0000 - auc: 1.0000 - sensitivity: 1.0000\n",
            "--- 1.6689300537109375e-06 seconds ---\n",
            "loss :  0.021483413875102997\n",
            "tp :  3.0\n",
            "fp :  5.0\n",
            "tn :  686.0\n",
            "fn :  0.0\n",
            "accuracy :  0.9927954077720642\n",
            "precision :  0.375\n",
            "recall :  1.0\n",
            "auc :  1.0\n",
            "sensitivity :  1.0\n",
            "----------------------------------------\n",
            "----------------------------------------\n",
            "Now evaluating Kaggle\n",
            "188/188 [==============================] - 30s 156ms/step - loss: 0.0388 - tp: 1597.0000 - fp: 7.0000 - tn: 1375.0000 - fn: 21.0000 - accuracy: 0.9907 - precision: 0.9956 - recall: 0.9870 - auc: 0.9975 - sensitivity: 0.9978\n",
            "--- 1.9073486328125e-06 seconds ---\n",
            "loss :  0.03882366418838501\n",
            "tp :  1597.0\n",
            "fp :  7.0\n",
            "tn :  1375.0\n",
            "fn :  21.0\n",
            "accuracy :  0.9906666874885559\n",
            "precision :  0.9956359267234802\n",
            "recall :  0.9870210289955139\n",
            "auc :  0.9974905252456665\n",
            "sensitivity :  0.997829258441925\n",
            "----------------------------------------\n"
          ]
        }
      ]
    },
    {
      "cell_type": "code",
      "metadata": {
        "id": "q62DZoGIb3bn"
      },
      "source": [
        "class_distributions"
      ],
      "execution_count": null,
      "outputs": []
    },
    {
      "cell_type": "code",
      "metadata": {
        "id": "tZpZWUblwvqL"
      },
      "source": [
        "colabDir = '/content/drive/MyDrive/AP PA Stuff/Datasets/Original/'"
      ],
      "execution_count": null,
      "outputs": []
    },
    {
      "cell_type": "code",
      "metadata": {
        "id": "OhkQ2MT9wqXT"
      },
      "source": [
        "!pip install cache-magic\n",
        "import cache_magic\n",
        "!ln -s '/content/drive/MyDrive/AP PA Stuff/Datasets/cache' /content/.cache"
      ],
      "execution_count": null,
      "outputs": []
    },
    {
      "cell_type": "code",
      "metadata": {
        "colab": {
          "base_uri": "https://localhost:8080/"
        },
        "id": "k3NQwyqSw7fD",
        "outputId": "dde05d8e-3df9-4914-c268-0e8dea455c13"
      },
      "source": [
        "%cache predictions"
      ],
      "execution_count": 31,
      "outputs": [
        {
          "output_type": "stream",
          "name": "stdout",
          "text": [
            "Loading cached value for variable 'predictions'. Time since caching: 0:00:04.433435\n"
          ]
        }
      ]
    },
    {
      "cell_type": "code",
      "metadata": {
        "id": "eHRwEBbKSv7z",
        "colab": {
          "base_uri": "https://localhost:8080/",
          "height": 1000
        },
        "outputId": "8a2ca03d-1f88-47e5-f9e7-f0c038af9f46"
      },
      "source": [
        "colors = plt.rcParams['axes.prop_cycle'].by_key()['color']\n",
        "for name, test_ds, y_test_pred in zip(test_dses.keys(), test_dses.values(), predictions.values()):\n",
        "  print('-'*40)\n",
        "  print('NOW SHOWING PLOTS FOR: ' + name)\n",
        "  y_test = np.concatenate([y for x, y in test_ds], axis=0)\n",
        "  plot_cm(y_test, y_test_pred)\n",
        "  # plot_roc(\"Trained\", y_test, y_test_pred, color=colors[0])\n",
        "  plt.legend(loc='lower right')\n",
        "  print('-'*40)"
      ],
      "execution_count": 34,
      "outputs": [
        {
          "output_type": "stream",
          "name": "stdout",
          "text": [
            "----------------------------------------\n",
            "NOW SHOWING PLOTS FOR: CheXpert\n"
          ]
        },
        {
          "output_type": "stream",
          "name": "stderr",
          "text": [
            "WARNING:matplotlib.legend:No handles with labels found to put in legend.\n"
          ]
        },
        {
          "output_type": "stream",
          "name": "stdout",
          "text": [
            "AP (True Negatives):  135679\n",
            "Missed AP (False Positives):  16080\n",
            "Missed PA (False Negatives):  17291\n",
            "PA (True Positives):  2162\n",
            "----------------------------------------\n",
            "----------------------------------------\n",
            "NOW SHOWING PLOTS FOR: ActualMed\n"
          ]
        },
        {
          "output_type": "stream",
          "name": "stderr",
          "text": [
            "WARNING:matplotlib.legend:No handles with labels found to put in legend.\n"
          ]
        },
        {
          "output_type": "stream",
          "name": "stdout",
          "text": [
            "AP (True Negatives):  10\n",
            "Missed AP (False Positives):  29\n",
            "Missed PA (False Negatives):  81\n",
            "PA (True Positives):  118\n",
            "----------------------------------------\n",
            "----------------------------------------\n",
            "NOW SHOWING PLOTS FOR: Shenzhen\n"
          ]
        },
        {
          "output_type": "stream",
          "name": "stderr",
          "text": [
            "WARNING:matplotlib.legend:No handles with labels found to put in legend.\n"
          ]
        },
        {
          "output_type": "stream",
          "name": "stdout",
          "text": [
            "AP (True Negatives):  0\n",
            "Missed AP (False Positives):  0\n",
            "Missed PA (False Negatives):  66\n",
            "PA (True Positives):  596\n",
            "----------------------------------------\n",
            "----------------------------------------\n",
            "NOW SHOWING PLOTS FOR: Montgomery\n"
          ]
        },
        {
          "output_type": "stream",
          "name": "stderr",
          "text": [
            "WARNING:matplotlib.legend:No handles with labels found to put in legend.\n"
          ]
        },
        {
          "output_type": "stream",
          "name": "stdout",
          "text": [
            "AP (True Negatives):  0\n",
            "Missed AP (False Positives):  0\n",
            "Missed PA (False Negatives):  9\n",
            "PA (True Positives):  129\n",
            "----------------------------------------\n",
            "----------------------------------------\n",
            "NOW SHOWING PLOTS FOR: RICORD\n"
          ]
        },
        {
          "output_type": "stream",
          "name": "stderr",
          "text": [
            "WARNING:matplotlib.legend:No handles with labels found to put in legend.\n"
          ]
        },
        {
          "output_type": "stream",
          "name": "stdout",
          "text": [
            "AP (True Negatives):  683\n",
            "Missed AP (False Positives):  8\n",
            "Missed PA (False Negatives):  3\n",
            "PA (True Positives):  0\n",
            "----------------------------------------\n",
            "----------------------------------------\n",
            "NOW SHOWING PLOTS FOR: Kaggle\n"
          ]
        },
        {
          "output_type": "stream",
          "name": "stderr",
          "text": [
            "WARNING:matplotlib.legend:No handles with labels found to put in legend.\n"
          ]
        },
        {
          "output_type": "stream",
          "name": "stdout",
          "text": [
            "AP (True Negatives):  647\n",
            "Missed AP (False Positives):  735\n",
            "Missed PA (False Negatives):  749\n",
            "PA (True Positives):  869\n",
            "----------------------------------------\n"
          ]
        },
        {
          "output_type": "display_data",
          "data": {
            "image/png": "[encoded data removed]",
            "text/plain": [
              "<Figure size 360x360 with 2 Axes>"
            ]
          },
          "metadata": {
            "needs_background": "light"
          }
        },
        {
          "output_type": "display_data",
          "data": {
            "image/png": "[encoded data removed]",
            "text/plain": [
              "<Figure size 360x360 with 2 Axes>"
            ]
          },
          "metadata": {
            "needs_background": "light"
          }
        },
        {
          "output_type": "display_data",
          "data": {
            "image/png": "[encoded data removed]",
            "text/plain": [
              "<Figure size 360x360 with 2 Axes>"
            ]
          },
          "metadata": {
            "needs_background": "light"
          }
        },
        {
          "output_type": "display_data",
          "data": {
            "image/png": "[encoded data removed]",
            "text/plain": [
              "<Figure size 360x360 with 2 Axes>"
            ]
          },
          "metadata": {
            "needs_background": "light"
          }
        },
        {
          "output_type": "display_data",
          "data": {
            "image/png": "[encoded data removed]",
            "text/plain": [
              "<Figure size 360x360 with 2 Axes>"
            ]
          },
          "metadata": {
            "needs_background": "light"
          }
        },
        {
          "output_type": "display_data",
          "data": {
            "image/png": "[encoded data removed]",
            "text/plain": [
              "<Figure size 360x360 with 2 Axes>"
            ]
          },
          "metadata": {
            "needs_background": "light"
          }
        }
      ]
    }
  ]
}