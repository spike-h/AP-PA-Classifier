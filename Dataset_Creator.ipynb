{
  "nbformat": 4,
  "nbformat_minor": 0,
  "metadata": {
    "accelerator": "GPU",
    "colab": {
      "name": "Dataset Creator",
      "provenance": [],
      "collapsed_sections": [
        "v2GQzSrPGuA1",
        "0No-SI7bGxFN",
        "5BZ9VuWc-It7",
        "YhBQihc69OqV",
        "kPP5feO1ahUv",
        "qVVGY7_JfAiY",
        "Vq1fjygmokq8",
        "rT3siDHbb6Vp",
        "Ov4LYL6IaCFa",
        "RqIRNbC4bJy0",
        "0hsRAvV0d5oE",
        "DKSclpJAe8G7",
        "eVZhVfN2fO2U"
      ],
      "machine_shape": "hm",
      "include_colab_link": true
    },
    "kernelspec": {
      "display_name": "Python 3",
      "name": "python3"
    },
    "language_info": {
      "name": "python"
    }
  },
  "cells": [
    {
      "cell_type": "markdown",
      "metadata": {
        "id": "view-in-github",
        "colab_type": "text"
      },
      "source": [
        "<a href=\"https://colab.research.google.com/github/spike-h/AP-PA-Classifier/blob/main/Dataset_Creator.ipynb\" target=\"_parent\"><img src=\"https://colab.research.google.com/assets/colab-badge.svg\" alt=\"Open In Colab\"/></a>"
      ]
    },
    {
      "cell_type": "code",
      "metadata": {
        "colab": {
          "base_uri": "https://localhost:8080/"
        },
        "id": "VzS7-w0AxxBe",
        "outputId": "10e3be86-909f-4889-9539-64932d6eebb8"
      },
      "source": [
        "from google.colab import drive\n",
        "drive.mount('/content/drive')"
      ],
      "execution_count": 1,
      "outputs": [
        {
          "output_type": "stream",
          "name": "stdout",
          "text": [
            "Mounted at /content/drive\n"
          ]
        }
      ]
    },
    {
      "cell_type": "markdown",
      "metadata": {
        "id": "xUeddQizbU-1"
      },
      "source": [
        "#Imports"
      ]
    },
    {
      "cell_type": "markdown",
      "metadata": {
        "id": "v2GQzSrPGuA1"
      },
      "source": [
        "##Pips (restart runtime after running)"
      ]
    },
    {
      "cell_type": "code",
      "metadata": {
        "colab": {
          "base_uri": "https://localhost:8080/",
          "height": 0
        },
        "id": "ISptNvTabNba",
        "outputId": "8410df83-abce-4a12-818d-a9788b20929a"
      },
      "source": [
        "'''\n",
        " importing from https://github.com/Engineero/tf_sprinkles\n",
        "'''\n",
        "!pip install tf_sprinkles &> /dev/null\n",
        "!pip install pydicom &> /dev/null\n",
        "!pip install pylibjpeg pylibjpeg-libjpeg  &> /dev/null\n",
        "!pip install python-gdcm &> /dev/null\n",
        "!pip install -q tensorflow-io &> /dev/null\n",
        "!pip install numpy --upgrade"
      ],
      "execution_count": 2,
      "outputs": [
        {
          "output_type": "stream",
          "name": "stdout",
          "text": [
            "Requirement already satisfied: numpy in /usr/local/lib/python3.7/dist-packages (1.19.5)\n",
            "Collecting numpy\n",
            "  Downloading numpy-1.21.3-cp37-cp37m-manylinux_2_12_x86_64.manylinux2010_x86_64.whl (15.7 MB)\n",
            "\u001b[K     |████████████████████████████████| 15.7 MB 8.8 MB/s \n",
            "\u001b[?25hInstalling collected packages: numpy\n",
            "  Attempting uninstall: numpy\n",
            "    Found existing installation: numpy 1.19.5\n",
            "    Uninstalling numpy-1.19.5:\n",
            "      Successfully uninstalled numpy-1.19.5\n",
            "\u001b[31mERROR: pip's dependency resolver does not currently take into account all the packages that are installed. This behaviour is the source of the following dependency conflicts.\n",
            "tensorflow 2.6.0 requires numpy~=1.19.2, but you have numpy 1.21.3 which is incompatible.\n",
            "datascience 0.10.6 requires folium==0.2.1, but you have folium 0.8.3 which is incompatible.\n",
            "albumentations 0.1.12 requires imgaug<0.2.7,>=0.2.5, but you have imgaug 0.2.9 which is incompatible.\u001b[0m\n",
            "Successfully installed numpy-1.21.3\n"
          ]
        },
        {
          "output_type": "display_data",
          "data": {
            "application/vnd.colab-display-data+json": {
              "pip_warning": {
                "packages": [
                  "numpy"
                ]
              }
            }
          },
          "metadata": {}
        }
      ]
    },
    {
      "cell_type": "markdown",
      "metadata": {
        "id": "0No-SI7bGxFN"
      },
      "source": [
        "##imports"
      ]
    },
    {
      "cell_type": "code",
      "metadata": {
        "colab": {
          "base_uri": "https://localhost:8080/"
        },
        "id": "qSJpJOKOGG5-",
        "outputId": "462224c1-283f-4e75-b7d3-79d03bdccc4d"
      },
      "source": [
        "import os\n",
        "\n",
        "import matplotlib.pylab as plt\n",
        "import numpy as np\n",
        "import pandas as pd\n",
        "import random\n",
        "from tf_sprinkles import Sprinkles\n",
        "import pydicom\n",
        "from tqdm import tqdm\n",
        "import pylibjpeg\n",
        "import gdcm\n",
        "import tensorflow_io as tfio\n",
        "import time\n",
        "# import tracemalloc\n",
        "\n",
        "import tensorflow as tf\n",
        "import tensorflow_hub as hub\n",
        "import tensorflow_datasets as tfds\n",
        "\n",
        "print(\"TF version:\", tf.__version__)\n",
        "print(\"Hub version:\", hub.__version__)"
      ],
      "execution_count": 1,
      "outputs": [
        {
          "output_type": "stream",
          "name": "stdout",
          "text": [
            "TF version: 2.6.0\n",
            "Hub version: 0.12.0\n"
          ]
        }
      ]
    },
    {
      "cell_type": "code",
      "metadata": {
        "id": "onDAy5-lpCE9"
      },
      "source": [
        "colabDir = '/content/drive/MyDrive/AP PA Stuff/Datasets/Original/'\n",
        "tensorflowDir = '/content/drive/MyDrive/AP PA Stuff/Datasets/Tensorflow/'"
      ],
      "execution_count": 2,
      "outputs": []
    },
    {
      "cell_type": "code",
      "metadata": {
        "colab": {
          "base_uri": "https://localhost:8080/"
        },
        "id": "-Lwv2G5BA_Ld",
        "outputId": "9ad14063-b914-48e8-ca09-8fe9823cfe03"
      },
      "source": [
        "!pip install cache-magic\n",
        "import cache_magic\n",
        "!ln -s '/content/drive/MyDrive/AP PA Stuff/Datasets/cache' /content/.cache"
      ],
      "execution_count": 3,
      "outputs": [
        {
          "output_type": "stream",
          "name": "stdout",
          "text": [
            "Collecting cache-magic\n",
            "  Downloading cache-magic-1.0.4.tar.gz (7.0 kB)\n",
            "Requirement already satisfied: astunparse in /usr/local/lib/python3.7/dist-packages (from cache-magic) (1.6.3)\n",
            "Requirement already satisfied: IPython in /usr/local/lib/python3.7/dist-packages (from cache-magic) (5.5.0)\n",
            "Requirement already satisfied: tabulate in /usr/local/lib/python3.7/dist-packages (from cache-magic) (0.8.9)\n",
            "Requirement already satisfied: wheel<1.0,>=0.23.0 in /usr/local/lib/python3.7/dist-packages (from astunparse->cache-magic) (0.37.0)\n",
            "Requirement already satisfied: six<2.0,>=1.6.1 in /usr/local/lib/python3.7/dist-packages (from astunparse->cache-magic) (1.15.0)\n",
            "Requirement already satisfied: pickleshare in /usr/local/lib/python3.7/dist-packages (from IPython->cache-magic) (0.7.5)\n",
            "Requirement already satisfied: simplegeneric>0.8 in /usr/local/lib/python3.7/dist-packages (from IPython->cache-magic) (0.8.1)\n",
            "Requirement already satisfied: traitlets>=4.2 in /usr/local/lib/python3.7/dist-packages (from IPython->cache-magic) (5.1.0)\n",
            "Requirement already satisfied: pexpect in /usr/local/lib/python3.7/dist-packages (from IPython->cache-magic) (4.8.0)\n",
            "Requirement already satisfied: setuptools>=18.5 in /usr/local/lib/python3.7/dist-packages (from IPython->cache-magic) (57.4.0)\n",
            "Requirement already satisfied: decorator in /usr/local/lib/python3.7/dist-packages (from IPython->cache-magic) (4.4.2)\n",
            "Requirement already satisfied: prompt-toolkit<2.0.0,>=1.0.4 in /usr/local/lib/python3.7/dist-packages (from IPython->cache-magic) (1.0.18)\n",
            "Requirement already satisfied: pygments in /usr/local/lib/python3.7/dist-packages (from IPython->cache-magic) (2.6.1)\n",
            "Requirement already satisfied: wcwidth in /usr/local/lib/python3.7/dist-packages (from prompt-toolkit<2.0.0,>=1.0.4->IPython->cache-magic) (0.2.5)\n",
            "Requirement already satisfied: ptyprocess>=0.5 in /usr/local/lib/python3.7/dist-packages (from pexpect->IPython->cache-magic) (0.7.0)\n",
            "Building wheels for collected packages: cache-magic\n",
            "  Building wheel for cache-magic (setup.py) ... \u001b[?25l\u001b[?25hdone\n",
            "  Created wheel for cache-magic: filename=cache_magic-1.0.4-py3-none-any.whl size=6696 sha256=47c074e9bd4e3f506a1e2bed4394a1b706862ea14d8b89068c2b70d336b66aa7\n",
            "  Stored in directory: /root/.cache/pip/wheels/24/16/f2/016dbddf24f703cf51ad82bb88ca3a77458b20199acd3a5590\n",
            "Successfully built cache-magic\n",
            "Installing collected packages: cache-magic\n",
            "Successfully installed cache-magic-1.0.4\n"
          ]
        }
      ]
    },
    {
      "cell_type": "markdown",
      "metadata": {
        "id": "Rxi1_0x7WadX"
      },
      "source": [
        "#Creating tf.data.Dataset Datasets"
      ]
    },
    {
      "cell_type": "markdown",
      "metadata": {
        "id": "5BZ9VuWc-It7"
      },
      "source": [
        "##Helper/Starter functions"
      ]
    },
    {
      "cell_type": "code",
      "metadata": {
        "id": "rUHBLeTEEcZV"
      },
      "source": [
        "class_distributions = {}"
      ],
      "execution_count": 4,
      "outputs": []
    },
    {
      "cell_type": "code",
      "metadata": {
        "id": "eIMUy9Awcd2w"
      },
      "source": [
        "#Sprinkles augmentation setup\n",
        "\n",
        "#Set sprinkles to make 50-100 square holes in the image with side length of 10 pixels 30% ofthe time\n",
        "class RandomSprinkles(tf.keras.layers.Layer):\n",
        "  def __init__(self, **kwargs):\n",
        "    super().__init__()\n",
        "\n",
        "  def call(self, image):\n",
        "    sprinkles = Sprinkles(num_holes=random.randint(0,50), side_length=10)\n",
        "    return sprinkles(image)"
      ],
      "execution_count": 5,
      "outputs": []
    },
    {
      "cell_type": "code",
      "metadata": {
        "id": "VCZaec9y2t22"
      },
      "source": [
        "#Helper functions to create and augment the tf.data.Datasets\n",
        "IMG_SIZE = 256 #IF CHANGE HERE THEN ALSO CHANGE IN TRAIN MODEL.py\n",
        "BATCH_SIZE = 16 #IF CHANGE HERE THEN ALSO CHANGE IN TRAIN MODEL.py\n",
        "rngJesus = 8679309 #set seed for consistency when running but doesnt affect sprinkles soooooo maybe pointless\n",
        "\n",
        "def read_image(filename, label, bmp=None):\n",
        "  image_string = tf.io.read_file(filename)\n",
        "  image_decoded = tf.image.decode_image(image_string, channels=3, expand_animations=False)\n",
        "  image = tf.cast(image_decoded, tf.float32) / 255.0\n",
        "  image = tf.image.resize(image, [IMG_SIZE, IMG_SIZE])\n",
        "  return image, label\n",
        "\n",
        "def read_dicom_image(dcmFile, label):\n",
        "  # image_decoded = tf.convert_to_tensor(dcmFile)\n",
        "  # image_decoded = tf.expand_dims(image_decoded, axis=-1)\n",
        "  image = tf.image.grayscale_to_rgb(dcmFile)\n",
        "  print('a')\n",
        "  image = tf.cast(image, tf.float32) / 255.0\n",
        "  print('b')\n",
        "  # image = tf.image.resize(image, [IMG_SIZE, IMG_SIZE])\n",
        "  return image, label\n",
        "\n",
        "preprocessing_model = tf.keras.Sequential([\n",
        "  RandomSprinkles(),\n",
        "  tf.keras.layers.RandomFlip(\"horizontal\", seed=rngJesus),\n",
        "  tf.keras.layers.RandomContrast(factor=0.1, seed=rngJesus),\n",
        "  tf.keras.layers.RandomTranslation(0, 0.1, fill_mode='constant', seed=rngJesus),\n",
        "  tf.keras.layers.RandomTranslation(0.1, 0, fill_mode='constant', seed=rngJesus),\n",
        "  tf.keras.layers.RandomRotation(.046, fill_mode='constant', seed=rngJesus)\n",
        "])\n",
        "# preprocessing_model.add(\n",
        "#   tf.keras.layers.RandomRotation(.111, fill_mode='constant', seed=rngJesus)),\n",
        "# preprocessing_model.add(\n",
        "#   tf.keras.layers.RandomTranslation(0, 0.1, fill_mode='constant', seed=rngJesus))\n",
        "# preprocessing_model.add(\n",
        "#   tf.keras.layers.RandomTranslation(0.1, 0, fill_mode='constant', seed=rngJesus))\n",
        "# # preprocessing_model.add(\n",
        "# #   tf.keras.layers.RandomZoom(0.05, 0.05, fill_mode='constant', seed=rngJesus))\n",
        "# preprocessing_model.add(\n",
        "#   tf.keras.layers.RandomFlip(\"horizontal\", seed=rngJesus))\n",
        "# preprocessing_model.add(RandomSprinkles())\n",
        "\n",
        "#Function to show image\n",
        "def show_image(dataset):\n",
        "  dataset = dataset.take(1)\n",
        "  image, label = next(iter(dataset))\n",
        "  # image = image[0,:,:,:]\n",
        "  plt.imshow(image)\n",
        "  plt.axis('off')\n",
        "  plt.show()\n",
        "  print(label)\n",
        "\n",
        "#Training/Validation/Test Split\n",
        "def training_split(dataset, training_prop=0.8, validation_prop=0.1, testing_prop=0.1, train=False):\n",
        "  print('c')\n",
        "  dataset_size = dataset.cardinality().numpy()\n",
        "  print('d')\n",
        "  train_size = int(training_prop * dataset_size)\n",
        "  print('e')\n",
        "  val_size = int(validation_prop * dataset_size)\n",
        "  print('f')\n",
        "  test_size = int(testing_prop * dataset_size)\n",
        "  print('g')\n",
        "  \n",
        "  if not train:\n",
        "    train_ds = dataset.take(train_size).batch(BATCH_SIZE).prefetch(tf.data.AUTOTUNE)\n",
        "    #.prefetch(tf.data.AUTOTUNE)   \n",
        "    print('h') \n",
        "    val_ds = dataset.skip(train_size).take(val_size).batch(BATCH_SIZE).prefetch(tf.data.AUTOTUNE)\n",
        "    print('i')\n",
        "    test_ds = dataset.skip(train_size).skip(val_size).batch(BATCH_SIZE).prefetch(tf.data.AUTOTUNE)\n",
        "    print('j')\n",
        "  \n",
        "  else:\n",
        "    train_ds = dataset.take(train_size)\n",
        "    #.prefetch(tf.data.AUTOTUNE)   \n",
        "    print('h') \n",
        "    val_ds = dataset.skip(train_size).take(val_size)\n",
        "    print('i')\n",
        "    test_ds = dataset.skip(train_size).skip(val_size)\n",
        "    print('j')\n",
        "  \n",
        "  return train_ds, val_ds, test_ds\n",
        "\n",
        "def normalize(image, label):\n",
        "  image = tf.cast(image, tf.float32) / 255.0\n",
        "  return image, label\n",
        "\n",
        "def read_test_image(filename):\n",
        "  image_string = tf.io.read_file(filename)\n",
        "  image_decoded = tf.image.decode_image(image_string, channels=3, expand_animations=False)\n",
        "  image = tf.cast(image_decoded, tf.float32) / 255.0\n",
        "  image = tf.image.resize(image, [IMG_SIZE, IMG_SIZE])\n",
        "  return image\n",
        "\n",
        "def read_test_dicom_image(dcmFile):\n",
        "  # image_decoded = tf.convert_to_tensor(dcmFile)\n",
        "  # image_decoded = tf.expand_dims(image_decoded, axis=-1)\n",
        "  image = tf.image.grayscale_to_rgb(dcmFile)\n",
        "  image = tf.cast(image, tf.float32) / 255.0\n",
        "  # image = tf.image.resize(image, [IMG_SIZE, IMG_SIZE])\n",
        "  return image"
      ],
      "execution_count": 6,
      "outputs": []
    },
    {
      "cell_type": "markdown",
      "metadata": {
        "id": "JNF2CKvdNtl3"
      },
      "source": [
        "While many of the cells will look mostly the same, the difference lies in the file paths and metadata csv fields (and some variable names)"
      ]
    },
    {
      "cell_type": "markdown",
      "metadata": {
        "id": "YhBQihc69OqV"
      },
      "source": [
        "##Training\n"
      ]
    },
    {
      "cell_type": "code",
      "metadata": {
        "id": "tB8IG1pCbzp1"
      },
      "source": [
        "def random_shard(shard_size, dataset_size):\n",
        "  num_shards = -(-dataset_size // shard_size)  # Ceil division.\n",
        "  offsets = np.linspace(\n",
        "      0, dataset_size, num=num_shards, endpoint=False, dtype=np.int64)\n",
        "\n",
        "  def _random_shard(dataset):\n",
        "    sharded_dataset = tf.data.Dataset.from_tensor_slices(offsets)\n",
        "    sharded_dataset = sharded_dataset.shuffle(num_shards)\n",
        "    sharded_dataset = sharded_dataset.map(\n",
        "        lambda offset: dataset.skip(offset).take(shard_size))\n",
        "    print(sharded_dataset)\n",
        "    return sharded_dataset\n",
        "\n",
        "  return _random_shard\n"
      ],
      "execution_count": null,
      "outputs": []
    },
    {
      "cell_type": "code",
      "metadata": {
        "id": "zxzhZXTbQ_8W"
      },
      "source": [
        "import gc\n",
        "count = 0\n",
        "def read_training_dataset(file_name, label):\n",
        "  image = tf.io.read_file(file_name)\n",
        "  if label == 999.0:\n",
        "    label = tfio.image.decode_dicom_data(image, tags=[tfio.image.dicom_tags.SeriesDescription])[0]\n",
        "    image = tfio.image.decode_dicom_image(image)[0,:,:,:]\n",
        "    image = tf.image.resize(image, [IMG_SIZE, IMG_SIZE])\n",
        "    image = tf.image.grayscale_to_rgb(image)\n",
        "    if tf.strings.regex_full_match(label, \"(.*AP.*)\"):\n",
        "      label = 0.0\n",
        "    elif tf.strings.regex_full_match(label, \"(.*PA.*)\"):\n",
        "      label = 1.0\n",
        "    else:\n",
        "      label = 999.0\n",
        "      print(label)\n",
        "  else:\n",
        "    image = tf.image.decode_jpeg(image, channels=3)\n",
        "    image = tf.image.resize(image, [IMG_SIZE, IMG_SIZE])\n",
        "  time.sleep(.002)\n",
        "  gc.collect()\n",
        "  return image, label\n"
      ],
      "execution_count": null,
      "outputs": []
    },
    {
      "cell_type": "code",
      "metadata": {
        "id": "j8js-YjFHiCM"
      },
      "source": [
        "def better_sharding(dataset, num_shards):\n",
        "  return tf.data.Dataset.from_tensor_slices([dataset.shard(num_shards, i) for i in range(0,num_shards)])"
      ],
      "execution_count": null,
      "outputs": []
    },
    {
      "cell_type": "code",
      "metadata": {
        "id": "GRmAf54gZSst"
      },
      "source": [
        "#TEST ON 13-24 FILE GROUPS AND KAGGLE TEST"
      ],
      "execution_count": null,
      "outputs": []
    },
    {
      "cell_type": "code",
      "metadata": {
        "id": "uTK_NmeUDisa"
      },
      "source": [
        "Kaggle_AP = 0\n",
        "Kaggle_PA = 0\n",
        "IEEE_PA = 0\n",
        "IEEE_AP = 0\n",
        "epoch_number = 2\n",
        "num_shards = 4\n",
        "\n",
        "def train_gen(half=None):\n",
        "  global file_count\n",
        "  global Kaggle_AP\n",
        "  global Kaggle_PA\n",
        "  global IEEE_AP\n",
        "  global IEEE_PA\n",
        "\n",
        "  dataDir = 'stage_2_train_images/'\n",
        "\n",
        "  #Getting dcm file paths from premade folders\n",
        "  #I manually Separated dcm into seperate folders bc google couldnt read 26k files in one line\n",
        "  file_paths = []\n",
        "  labels = []\n",
        "  dcm_dir_names = [str(i) for i in range(1,25)]\n",
        "  for name in dcm_dir_names:\n",
        "    dcm_dir = colabDir + dataDir + name + '/'\n",
        "    files = os.listdir(dcm_dir)\n",
        "    for file in files:\n",
        "      file_paths.append(dcm_dir + file)\n",
        "      labels.append(999.0)\n",
        "\n",
        "  # dataDir = 'stage_2_test_images/'\n",
        "  # dcm_files = os.listdir(colabDir + dataDir)\n",
        "  # for dcm in dcm_files:\n",
        "  #   file_paths.append(colabDir + dataDir + dcm)\n",
        "  #   labels.append('placeholder')\n",
        "\n",
        "  # ind=0\n",
        "  # if half:\n",
        "  #   half = 10000\n",
        "  # while ind<len(file_paths[:half]):\n",
        "  #   dcm = pydicom.dcmread(file_paths[ind])\n",
        "  #   image = dcm.pixel_array\n",
        "  #   image = tf.image.resize(tf.expand_dims(image, axis=-1), [IMG_SIZE, IMG_SIZE])\n",
        "  #   image = tf.image.grayscale_to_rgb(image)\n",
        "  #   label = dcm.SeriesDescription\n",
        "  #   if 'AP' in label:\n",
        "  #     Kaggle_AP += 1\n",
        "  #     label = 0.0\n",
        "  #   elif 'PA' in label:\n",
        "  #     Kaggle_PA += 1\n",
        "  #     label = 1.0\n",
        "  #   yield image, label\n",
        "  #   ind+=1\n",
        "\n",
        "  dataDir = 'covid-chestxray-dataset-master/covid-chestxray-dataset-master/'\n",
        "\n",
        "  METADATA_CSV_PATH = colabDir + dataDir + 'metadata.csv' #train metadata path\n",
        "  metadata = pd.read_csv(METADATA_CSV_PATH)\n",
        "\n",
        "  #Only taking the rows that contain a value for view position\n",
        "  metadata = metadata[metadata['view'].str.contains('AP|PA', case=False, regex=True, na=False)]\n",
        "\n",
        "  #Getting image file paths from csv\n",
        "  IEEE_file_paths = metadata['filename'].values\n",
        "\n",
        "  #Colab file path example: /content/drive/MyDrive/AP PA Stuff/Datasets/Original/CheXpert-v1.0-small/train/patient00001/study1/view1_frontal.jpg\n",
        "  #Change file paths to work with colab\n",
        "  for ind, path in enumerate(IEEE_file_paths):\n",
        "    IEEE_file_paths[ind] = colabDir + dataDir + 'images/' + path\n",
        "  file_paths.extend(IEEE_file_paths)\n",
        "\n",
        "  #Get AP/PA label\n",
        "  IEEE_labels = metadata['view'].values\n",
        "  labels.extend(IEEE_labels)\n",
        "\n",
        "  #if ap/pa label has extra words then it'll cut that out & gets counts of each label & converts labels into 1 and 0\n",
        "  # for ind, label in enumerate(labels):\n",
        "\n",
        "  #oop cheXpert time (run that cell first)\n",
        "  file_paths.extend(cheXpert_train_files_and_labels[0])\n",
        "  labels.extend(cheXpert_train_files_and_labels[1])\n",
        "\n",
        "  for ind, label in enumerate(labels):\n",
        "    if label == 999.0 or label == 0.0 or label == 1.0:\n",
        "      continue\n",
        "    elif 'AP' in label:\n",
        "      labels[ind] = 0.0\n",
        "    elif 'PA' in label:\n",
        "      labels[ind] = 1.0\n",
        "\n",
        "  zipped = list(zip(file_paths, labels))\n",
        "  random.shuffle(zipped)\n",
        "\n",
        "  ind=0\n",
        "  while ind<len(zipped):\n",
        "    # image = tf.io.read_file(file_paths[ind])\n",
        "    # image = tf.image.decode_jpeg(image, channels=3)\n",
        "    # image = tf.image.resize(image, [IMG_SIZE, IMG_SIZE])\n",
        "    # label = labels[ind]\n",
        "    yield zipped[ind][0], zipped[ind][1]\n",
        "    ind+=1"
      ],
      "execution_count": null,
      "outputs": []
    },
    {
      "cell_type": "code",
      "metadata": {
        "colab": {
          "base_uri": "https://localhost:8080/"
        },
        "id": "YJbjJw_WBTeO",
        "outputId": "5c56ef72-6199-4390-b664-ff9210f142e4"
      },
      "source": [
        "def create_train():\n",
        "  dataset = tf.data.Dataset.from_generator(train_gen, output_signature=(tf.TensorSpec(shape=(), dtype=tf.string), tf.TensorSpec(shape=(), dtype=tf.float32)))\n",
        "  dataset = dataset.apply(tf.data.experimental.assert_cardinality(47466)) #26684(kaggle) + 782(IEEE) + 20000(CheXpert)\n",
        "  dataset_length = dataset.cardinality().numpy()\n",
        "  buffer_size = int(.1 * dataset_length)\n",
        "  # shard_size = -(-dataset_size // num_shards)\n",
        "  \n",
        "  # shuffled_shards = []\n",
        "  # for i in shards:\n",
        "  #     subshard = shard(i)\n",
        "  #     subshard = subshard.interleave(lambda x: x, cycle_length=4, block_length=1)\n",
        "  #     shuffled_shards.append(subshard.shuffle(buffer_size=buffer_size))\n",
        "  # shuffled_shards = tf.data.Dataset.from_tensor_slices(shuffled_shards)\n",
        "  # dataset = shuffled_shards.interleave(lambda x: x, cycle_length=4, block_length=1)\n",
        "  # dataset = dataset.shuffle(num_shards)\n",
        "  # print(dataset)\n",
        "  dataset = dataset.shuffle(buffer_size=buffer_size)\n",
        "  dataset = dataset.map(read_training_dataset, num_parallel_calls=tf.data.AUTOTUNE)\n",
        "\n",
        "  print(dataset)\n",
        "  dataset = dataset.map(normalize)\n",
        "  train_ds, valid_ds, test_ds = training_split(dataset, training_prop=.8, validation_prop=.2, testing_prop=0, train=True)\n",
        "  train_ds = train_ds.map(lambda images, labels: (preprocessing_model(images), labels))\n",
        "  train_ds = train_ds.batch(BATCH_SIZE).repeat(epoch_number).prefetch(tf.data.AUTOTUNE)\n",
        "  valid_ds = valid_ds.batch(BATCH_SIZE).repeat(epoch_number).prefetch(tf.data.AUTOTUNE)\n",
        "  # test_ds = test_ds.batch(BATCH_SIZE).prefetch(tf.data.AUTOTUNE)\n",
        "  return dataset_length, train_ds, valid_ds, test_ds\n",
        "dataset_length, train_ds, valid_ds, test_ds = create_train()"
      ],
      "execution_count": null,
      "outputs": [
        {
          "name": "stdout",
          "output_type": "stream",
          "text": [
            "999.0\n",
            "<ParallelMapDataset shapes: ((256, 256, 3), ()), types: (tf.float32, tf.float32)>\n",
            "c\n",
            "d\n",
            "e\n",
            "f\n",
            "g\n",
            "h\n",
            "i\n",
            "j\n"
          ]
        }
      ]
    },
    {
      "cell_type": "code",
      "metadata": {
        "id": "wDndRRfXSE8w"
      },
      "source": [
        ""
      ],
      "execution_count": null,
      "outputs": []
    },
    {
      "cell_type": "markdown",
      "metadata": {
        "id": "kPP5feO1ahUv"
      },
      "source": [
        "##junk"
      ]
    },
    {
      "cell_type": "code",
      "metadata": {
        "colab": {
          "base_uri": "https://localhost:8080/",
          "height": 191
        },
        "id": "b7Pa6RjN9YJm",
        "outputId": "21454021-817f-4603-f1a1-63c41a7a757a"
      },
      "source": [
        "'''\n",
        "def Construct_IEEE(TrainSplit, ValSplit, TestSplit, augment=False, NumImages=None): \n",
        "  # Creating ieee8023 Dataset (Covid-19 Image Data Collection)\n",
        "  # returns list: [train_ds(augmented), valid_ds, test_ds]\n",
        "  # augment used to check if should apply random flip, rotation, etc.\n",
        "  # NumImages used to determine how many images to include in database (if left blank then it takes all images)\n",
        "  # TrainSplit, ValSplit, TestSplit used to determine proportion of dataset for each split\n",
        "\n",
        "  name ='Ieee8023 Dataset'\n",
        "  dataDir = 'covid-chestxray-dataset-master/covid-chestxray-dataset-master/'\n",
        "\n",
        "  METADATA_CSV_PATH = colabDir + dataDir + 'metadata.csv' #train metadata path\n",
        "  metadata = pd.read_csv(METADATA_CSV_PATH)\n",
        "\n",
        "  #Only taking the rows that contain a value for view position\n",
        "  metadata = metadata[metadata['view'].str.contains('AP|PA', case=False, regex=True, na=False)]\n",
        "\n",
        "  #Getting image file paths from csv\n",
        "  file_paths = metadata['filename'].values\n",
        "\n",
        "  #Colab file path example: /content/drive/MyDrive/AP PA Stuff/Datasets/Original/CheXpert-v1.0-small/train/patient00001/study1/view1_frontal.jpg\n",
        "  #Change file paths to work with colab\n",
        "  for ind, path in enumerate(file_paths):\n",
        "    file_paths[ind] = colabDir + dataDir + 'images/' + path\n",
        "\n",
        "  #Get AP/PA label\n",
        "  labels = metadata['view'].values\n",
        "\n",
        "  #if ap/pa label has extra words then it'll cut that out & gets counts of each label & converts labels into 1 and 0\n",
        "  AP_Count = 0\n",
        "  PA_Count = 0\n",
        "  for ind, label in enumerate(labels):\n",
        "    if 'AP' in label:\n",
        "      labels[ind] = 0\n",
        "      AP_Count += 1\n",
        "    elif 'PA' in label:\n",
        "      labels[ind] = 1\n",
        "      PA_Count += 1\n",
        "  class_distributions[name] = {'AP':AP_Count,\n",
        "                               'PA':PA_Count,\n",
        "                               'Total': [f'Total Images = {AP_Count+PA_Count}',\n",
        "                                         f'AP Percentage = {AP_Count/(AP_Count+PA_Count):.3f}',\n",
        "                                         f'PA Percentage = {PA_Count/(AP_Count+PA_Count):.3f}']}\n",
        "\n",
        "  labels = np.asarray(labels).astype('float32')\n",
        "\n",
        "  dataset = tf.data.Dataset.from_tensor_slices((file_paths, labels))\n",
        "  dataset = dataset.shuffle(buffer_size=100000, seed=rngJesus)\n",
        "\n",
        "  if NumImages:\n",
        "    dataset = dataset.take(NumImages)\n",
        "\n",
        "  dataset = dataset.map(read_image)\n",
        "  train_ds, valid_ds, test_ds = training_split(dataset, training_prop=TrainSplit, validation_prop=ValSplit, testing_prop=TestSplit)\n",
        "\n",
        "  #If data is used for training then give option to augment the data\n",
        "  if augment:\n",
        "    train_ds = train_ds.map(lambda images, labels:\n",
        "              (preprocessing_model(images), labels))\n",
        "    \n",
        "  return [train_ds, valid_ds, test_ds]\n",
        "\n",
        "IEEE_ds = Construct_IEEE(.8,.2,0,augment=True)\n",
        "'''"
      ],
      "execution_count": null,
      "outputs": [
        {
          "data": {
            "application/vnd.google.colaboratory.intrinsic+json": {
              "type": "string"
            },
            "text/plain": [
              "\"\\ndef Construct_IEEE(TrainSplit, ValSplit, TestSplit, augment=False, NumImages=None): \\n  # Creating ieee8023 Dataset (Covid-19 Image Data Collection)\\n  # returns list: [train_ds(augmented), valid_ds, test_ds]\\n  # augment used to check if should apply random flip, rotation, etc.\\n  # NumImages used to determine how many images to include in database (if left blank then it takes all images)\\n  # TrainSplit, ValSplit, TestSplit used to determine proportion of dataset for each split\\n\\n  name ='Ieee8023 Dataset'\\n  dataDir = 'covid-chestxray-dataset-master/covid-chestxray-dataset-master/'\\n\\n  METADATA_CSV_PATH = colabDir + dataDir + 'metadata.csv' #train metadata path\\n  metadata = pd.read_csv(METADATA_CSV_PATH)\\n\\n  #Only taking the rows that contain a value for view position\\n  metadata = metadata[metadata['view'].str.contains('AP|PA', case=False, regex=True, na=False)]\\n\\n  #Getting image file paths from csv\\n  file_paths = metadata['filename'].values\\n\\n  #Colab file path example: /content/drive/MyDrive/AP PA Stuff/Datasets/Original/CheXpert-v1.0-small/train/patient00001/study1/view1_frontal.jpg\\n  #Change file paths to work with colab\\n  for ind, path in enumerate(file_paths):\\n    file_paths[ind] = colabDir + dataDir + 'images/' + path\\n\\n  #Get AP/PA label\\n  labels = metadata['view'].values\\n\\n  #if ap/pa label has extra words then it'll cut that out & gets counts of each label & converts labels into 1 and 0\\n  AP_Count = 0\\n  PA_Count = 0\\n  for ind, label in enumerate(labels):\\n    if 'AP' in label:\\n      labels[ind] = 0\\n      AP_Count += 1\\n    elif 'PA' in label:\\n      labels[ind] = 1\\n      PA_Count += 1\\n  class_distributions[name] = {'AP':AP_Count,\\n                               'PA':PA_Count,\\n                               'Total': [f'Total Images = {AP_Count+PA_Count}',\\n                                         f'AP Percentage = {AP_Count/(AP_Count+PA_Count):.3f}',\\n                                         f'PA Percentage = {PA_Count/(AP_Count+PA_Count):.3f}']}\\n\\n  labels = np.asarray(labels).astype('float32')\\n\\n  dataset = tf.data.Dataset.from_tensor_slices((file_paths, labels))\\n  dataset = dataset.shuffle(buffer_size=100000, seed=rngJesus)\\n\\n  if NumImages:\\n    dataset = dataset.take(NumImages)\\n\\n  dataset = dataset.map(read_image)\\n  train_ds, valid_ds, test_ds = training_split(dataset, training_prop=TrainSplit, validation_prop=ValSplit, testing_prop=TestSplit)\\n\\n  #If data is used for training then give option to augment the data\\n  if augment:\\n    train_ds = train_ds.map(lambda images, labels:\\n              (preprocessing_model(images), labels))\\n    \\n  return [train_ds, valid_ds, test_ds]\\n\\nIEEE_ds = Construct_IEEE(.8,.2,0,augment=True)\\n\""
            ]
          },
          "execution_count": 12,
          "metadata": {},
          "output_type": "execute_result"
        }
      ]
    },
    {
      "cell_type": "markdown",
      "metadata": {
        "id": "qVVGY7_JfAiY"
      },
      "source": [
        "###KAGGLE Train"
      ]
    },
    {
      "cell_type": "code",
      "metadata": {
        "colab": {
          "base_uri": "https://localhost:8080/",
          "height": 191
        },
        "id": "0VSMqR_YySf8",
        "outputId": "9259504d-2f64-42cc-b554-a13458a490a6"
      },
      "source": [
        "'''\n",
        "def Construct_KaggleTrain(TrainSplit, ValSplit, TestSplit, augment=False, NumImages=None): \n",
        "  # Creating Kaggle Train Dataset \n",
        "  # returns list: [train_ds(augmented), valid_ds, test_ds]\n",
        "  # augment used to check if should apply random flip, rotation, etc.\n",
        "  # NumImages used to determine how many images to include in database (if left blank then it takes all images)\n",
        "  # TrainSplit, ValSplit, TestSplit used to determine proportion of dataset for each split\n",
        "\n",
        "  name ='Kaggle Train Dataset'\n",
        "  # dataDir = 'stage_2_train_images/'\n",
        "\n",
        "  #Getting dcm file paths from premade folders\n",
        "  #I manually Separated dcm into seperate folders bc google couldnt read 26k files in one line\n",
        "  # file_paths = []\n",
        "  # dcm_dir_names = [str(i) for i in range(1,2)]\n",
        "  # for name in dcm_dir_names:\n",
        "  #   dcm_dir = colabDir + dataDir + name + '/'\n",
        "  #   files = os.listdir(dcm_dir)\n",
        "  #   for file in files:\n",
        "  #     file_paths.append(dcm_dir + file)\n",
        "\n",
        "  \n",
        "  #Split file_paths list into 500 file chunks to avoid ram overload when converting to tensor array\n",
        "  # file_groups = [file_paths[i:i + 500] for i in range(0, len(file_paths), 500)]\n",
        "  # ds_list = []\n",
        "\n",
        "  # for group in tqdm(file_groups):\n",
        "  # dcm_pixel_arrays = []\n",
        "  # labels = []\n",
        "  # for path in file_paths:\n",
        "  #   dcm = pydicom.dcmread(path)\n",
        "  #   image = dcm.pixel_array\n",
        "  #   image = tf.image.resize(tf.expand_dims(image, axis=-1), [IMG_SIZE, IMG_SIZE])\n",
        "  #   dcm_pixel_arrays.append(image)\n",
        "  #   labels.append(dcm.SeriesDescription)\n",
        "\n",
        "  # for ind, label in enumerate(labels):\n",
        "  #   if 'AP' in label:\n",
        "  #     labels[ind] = 0.0\n",
        "  #     AP_Count += 1\n",
        "  #   elif 'PA' in label:\n",
        "  #     labels[ind] = 1.0\n",
        "  #     PA_Count += 1\n",
        "        \n",
        "  dataset = tf.data.Dataset.from_generator(kaggle_train_gen, output_shapes=((256, 256, 1), ()), output_types=(tf.float32, tf.float32))\n",
        "\n",
        "  # dcm_pixel_arrays = []\n",
        "  # labels = []\n",
        "\n",
        "  #if ap/pa label has extra words then it'll cut that out & gets counts of each label & converts labels into 1 and 0\n",
        "\n",
        "  dataset = dataset.shuffle(buffer_size=100000, seed=rngJesus)\n",
        "\n",
        "  # if NumImages:\n",
        "  #   dataset = dataset.take(NumImages)\n",
        "\n",
        "  dataset = dataset.map(read_dicom_image)\n",
        "  # print(3)\n",
        "  train_ds, valid_ds, test_ds = training_split(dataset, training_prop=TrainSplit, validation_prop=ValSplit, testing_prop=TestSplit)\n",
        "  # class_distributions[name] = {'AP':AP_Count,\n",
        "  #                              'PA':PA_Count,\n",
        "  #                              'Total': [f'Total Images = {AP_Count+PA_Count}',\n",
        "  #                                        f'AP Percentage = {AP_Count/(AP_Count+PA_Count):.3f}',\n",
        "  #                                        f'PA Percentage = {PA_Count/(AP_Count+PA_Count):.3f}']}\n",
        "  # print(4)\n",
        "  # # train_ds2, valid_ds2, test_ds2 = training_split(dataset, training_prop=0, validation_prop=0, testing_prop=1)\n",
        "\n",
        "  # #If data is used for training then give option to augment the data\n",
        "  if augment:\n",
        "    train_ds = train_ds.map(lambda images, labels:\n",
        "              (preprocessing_model(images), labels))\n",
        "  #   print(5)\n",
        "\n",
        "  return [train_ds.batch(BATCH_SIZE).prefetch(tf.data.AUTOTUNE), valid_ds.batch(BATCH_SIZE).prefetch(tf.data.AUTOTUNE), test_ds.batch(BATCH_SIZE).prefetch(tf.data.AUTOTUNE)]\n",
        "\n",
        "Kaggle_Train_ds = Construct_KaggleTrain(.8,.2,0,augment=True)\n",
        "'''"
      ],
      "execution_count": null,
      "outputs": [
        {
          "data": {
            "application/vnd.google.colaboratory.intrinsic+json": {
              "type": "string"
            },
            "text/plain": [
              "\"\\ndef Construct_KaggleTrain(TrainSplit, ValSplit, TestSplit, augment=False, NumImages=None): \\n  # Creating Kaggle Train Dataset \\n  # returns list: [train_ds(augmented), valid_ds, test_ds]\\n  # augment used to check if should apply random flip, rotation, etc.\\n  # NumImages used to determine how many images to include in database (if left blank then it takes all images)\\n  # TrainSplit, ValSplit, TestSplit used to determine proportion of dataset for each split\\n\\n  name ='Kaggle Train Dataset'\\n  # dataDir = 'stage_2_train_images/'\\n\\n  #Getting dcm file paths from premade folders\\n  #I manually Separated dcm into seperate folders bc google couldnt read 26k files in one line\\n  # file_paths = []\\n  # dcm_dir_names = [str(i) for i in range(1,2)]\\n  # for name in dcm_dir_names:\\n  #   dcm_dir = colabDir + dataDir + name + '/'\\n  #   files = os.listdir(dcm_dir)\\n  #   for file in files:\\n  #     file_paths.append(dcm_dir + file)\\n\\n  \\n  #Split file_paths list into 500 file chunks to avoid ram overload when converting to tensor array\\n  # file_groups = [file_paths[i:i + 500] for i in range(0, len(file_paths), 500)]\\n  # ds_list = []\\n\\n  # for group in tqdm(file_groups):\\n  # dcm_pixel_arrays = []\\n  # labels = []\\n  # for path in file_paths:\\n  #   dcm = pydicom.dcmread(path)\\n  #   image = dcm.pixel_array\\n  #   image = tf.image.resize(tf.expand_dims(image, axis=-1), [IMG_SIZE, IMG_SIZE])\\n  #   dcm_pixel_arrays.append(image)\\n  #   labels.append(dcm.SeriesDescription)\\n\\n  # for ind, label in enumerate(labels):\\n  #   if 'AP' in label:\\n  #     labels[ind] = 0.0\\n  #     AP_Count += 1\\n  #   elif 'PA' in label:\\n  #     labels[ind] = 1.0\\n  #     PA_Count += 1\\n        \\n  dataset = tf.data.Dataset.from_generator(kaggle_train_gen, output_shapes=((256, 256, 1), ()), output_types=(tf.float32, tf.float32))\\n\\n  # dcm_pixel_arrays = []\\n  # labels = []\\n\\n  #if ap/pa label has extra words then it'll cut that out & gets counts of each label & converts labels into 1 and 0\\n\\n  dataset = dataset.shuffle(buffer_size=100000, seed=rngJesus)\\n\\n  # if NumImages:\\n  #   dataset = dataset.take(NumImages)\\n\\n  dataset = dataset.map(read_dicom_image)\\n  # print(3)\\n  train_ds, valid_ds, test_ds = training_split(dataset, training_prop=TrainSplit, validation_prop=ValSplit, testing_prop=TestSplit)\\n  # class_distributions[name] = {'AP':AP_Count,\\n  #                              'PA':PA_Count,\\n  #                              'Total': [f'Total Images = {AP_Count+PA_Count}',\\n  #                                        f'AP Percentage = {AP_Count/(AP_Count+PA_Count):.3f}',\\n  #                                        f'PA Percentage = {PA_Count/(AP_Count+PA_Count):.3f}']}\\n  # print(4)\\n  # # train_ds2, valid_ds2, test_ds2 = training_split(dataset, training_prop=0, validation_prop=0, testing_prop=1)\\n\\n  # #If data is used for training then give option to augment the data\\n  if augment:\\n    train_ds = train_ds.map(lambda images, labels:\\n              (preprocessing_model(images), labels))\\n  #   print(5)\\n\\n  return [train_ds.batch(BATCH_SIZE).prefetch(tf.data.AUTOTUNE), valid_ds.batch(BATCH_SIZE).prefetch(tf.data.AUTOTUNE), test_ds.batch(BATCH_SIZE).prefetch(tf.data.AUTOTUNE)]\\n\\nKaggle_Train_ds = Construct_KaggleTrain(.8,.2,0,augment=True)\\n\""
            ]
          },
          "execution_count": 13,
          "metadata": {},
          "output_type": "execute_result"
        }
      ]
    },
    {
      "cell_type": "code",
      "metadata": {
        "colab": {
          "base_uri": "https://localhost:8080/",
          "height": 35
        },
        "id": "sVpwI_KGDT0q",
        "outputId": "53ddaad1-829d-4d57-adf2-e4ba6f9f1b93"
      },
      "source": [
        "'''\n",
        "Kaggle_Train_ds\n",
        "'''"
      ],
      "execution_count": null,
      "outputs": [
        {
          "data": {
            "application/vnd.google.colaboratory.intrinsic+json": {
              "type": "string"
            },
            "text/plain": [
              "'\\nKaggle_Train_ds\\n'"
            ]
          },
          "execution_count": 14,
          "metadata": {},
          "output_type": "execute_result"
        }
      ]
    },
    {
      "cell_type": "code",
      "metadata": {
        "id": "q3aITjTa82t1"
      },
      "source": [
        "# Kaggle_Train_Snapshot = Kaggle_Train_ds[0].snapshot(tensorflowDir + 'Kaggle Train Dataset')\n",
        "# Kaggle_Train_Snapshot = tf.data.Dataset.snapshot(tensorflowDir + 'Kaggle Train Dataset')\n",
        "# Kaggle_Valid_Snapshot = Kaggle_Train_ds[1].snapshot(tensorflowDir + 'Kaggle Valid Dataset')"
      ],
      "execution_count": null,
      "outputs": []
    },
    {
      "cell_type": "code",
      "metadata": {
        "id": "O7VOa6m3fKZy"
      },
      "source": [
        "#returns 2 lists with the second one being a test set in case I wanna flip it so i train on the kaggle test"
      ],
      "execution_count": null,
      "outputs": []
    },
    {
      "cell_type": "markdown",
      "metadata": {
        "id": "b4v4afK09eC-"
      },
      "source": [
        "##Test"
      ]
    },
    {
      "cell_type": "markdown",
      "metadata": {
        "id": "Vq1fjygmokq8"
      },
      "source": [
        "###CheXpert"
      ]
    },
    {
      "cell_type": "code",
      "metadata": {
        "colab": {
          "base_uri": "https://localhost:8080/"
        },
        "id": "R0NxEHpuZt3U",
        "outputId": "b2e74871-648f-42b1-b1db-73089bdbae18"
      },
      "source": [
        "cheXpert_train_files_and_labels = [[],[]]\n",
        "def Construct_CheXpert(TrainSplit, ValSplit, TestSplit, augment=False, NumImages=None): \n",
        "  # Creating CheXpert Dataset\n",
        "  # returns list: [train_ds(augmented), valid_ds, test_ds]\n",
        "  # augment used to check if should apply random flip, rotation, etc. to training dataset\n",
        "  # int NumImages used to determine how many images to include in database (if left blank then it takes all images)\n",
        "  # float TrainSplit, ValSplit, TestSplit used to determine proportion of dataset for each split\n",
        "\n",
        "  name ='CheXpert Dataset'\n",
        "  dataDir = 'CheXpert-v1.0-small/'\n",
        "\n",
        "  #/content/drive/MyDrive/AP PA Stuff/Datasets/Original/CheXpert-v1.0-small/train.csv\n",
        "  #/content/drive/MyDrive/AP PA Stuff/Datasets/Original/CheXpert-v1.0-small/valid.csv\n",
        "  METADATA_CSV_PATH = colabDir + dataDir + 'train.csv' #train metadata path\n",
        "  METADATA_CSV_PATH2 = colabDir + dataDir + 'valid.csv' #validation metadata path\n",
        "  metadata = pd.read_csv(METADATA_CSV_PATH)\n",
        "  metadata2 = pd.read_csv(METADATA_CSV_PATH2)\n",
        "  metadata = pd.concat([metadata, metadata2], ignore_index=True)\n",
        "\n",
        "  #Only taking the rows that contain a value for view position\n",
        "  metadata = metadata[metadata['AP/PA'].str.contains('AP|PA', case=False, regex=True, na=False)]\n",
        "\n",
        "  #Getting image file paths from csv\n",
        "  file_paths = list(metadata['Path'].values)\n",
        "\n",
        "  #Colab file path example: /content/drive/MyDrive/AP PA Stuff/Datasets/Original/CheXpert-v1.0-small/train/patient00001/study1/view1_frontal.jpg\n",
        "  #Change file paths to work with colab\n",
        "  for ind, path in enumerate(file_paths):\n",
        "    file_paths[ind] = colabDir + path\n",
        "\n",
        "  #Get AP/PA label\n",
        "  labels = list(metadata['AP/PA'].values)\n",
        "  #Not really needed for CheXpert but if ap/pa label has extra words then it'll cut that out & also gets counts of each label\n",
        "  AP_Count = 0\n",
        "  PA_Count = 0\n",
        "  ap_indexes = []\n",
        "  pa_indexes = []\n",
        "  cheXpert_train_indexes = []\n",
        "  for ind, label in enumerate(labels):\n",
        "    if 'AP' in label:\n",
        "      labels[ind] = 0.0\n",
        "      ap_indexes.append(ind)\n",
        "      AP_Count += 1\n",
        "    elif 'PA' in label:\n",
        "      labels[ind] = 1.0\n",
        "      pa_indexes.append(ind)\n",
        "      PA_Count += 1\n",
        "  class_distributions[name] = {'AP':AP_Count,\n",
        "                               'PA':PA_Count,\n",
        "                               'Total': [f'Total Images = {AP_Count+PA_Count}',\n",
        "                                         f'AP Percentage = {AP_Count/(AP_Count+PA_Count):.3f}',\n",
        "                                         f'PA Percentage = {PA_Count/(AP_Count+PA_Count):.3f}']}\n",
        " \n",
        " \n",
        "  cheXpert_train_indexes.extend(ap_indexes[:10000])\n",
        "  cheXpert_train_indexes.extend(pa_indexes[:10000])\n",
        "  for index in sorted(cheXpert_train_indexes, reverse=True):\n",
        "    cheXpert_train_files_and_labels[0].append(file_paths[index])\n",
        "    cheXpert_train_files_and_labels[1].append(labels[index])\n",
        "    del labels[index]\n",
        "    del file_paths[index]\n",
        "\n",
        "  labels = np.asarray(labels).astype('float32')\n",
        "\n",
        "  cheXpert_ds = tf.data.Dataset.from_tensor_slices((file_paths, labels))\n",
        "  cheXpert_ds = cheXpert_ds.shuffle(buffer_size=100000, seed=rngJesus)\n",
        "\n",
        "  if NumImages:\n",
        "    cheXpert_ds = cheXpert_ds.take(NumImages)\n",
        "\n",
        "  cheXpert_ds = cheXpert_ds.map(read_image)\n",
        "  train_ds, valid_ds, test_ds = training_split(cheXpert_ds, training_prop=TrainSplit, validation_prop=ValSplit, testing_prop=TestSplit)\n",
        "  \n",
        "  #If data is used for training then give option to augment the data\n",
        "  if augment:\n",
        "    train_ds = train_ds.map(lambda images, labels:\n",
        "              (preprocessing_model(images), labels))\n",
        "    \n",
        "  return [file_paths, labels, test_ds, False]\n",
        "  # do dataset.batch(BATCHSIZE)\n",
        "\n",
        "cheXpert_ds = Construct_CheXpert(augment=False, TrainSplit=0, ValSplit=0, TestSplit=1)\n",
        "# tf.data.experimental.save(cheXpert_ds, tensorflowDir+name)\n",
        "# new_dataset = tf.data.experimental.load(tensorflowDir+name)"
      ],
      "execution_count": 7,
      "outputs": [
        {
          "output_type": "stream",
          "name": "stdout",
          "text": [
            "c\n",
            "d\n",
            "e\n",
            "f\n",
            "g\n",
            "h\n",
            "i\n",
            "j\n"
          ]
        }
      ]
    },
    {
      "cell_type": "markdown",
      "metadata": {
        "id": "rT3siDHbb6Vp"
      },
      "source": [
        "###CX-Net"
      ]
    },
    {
      "cell_type": "code",
      "metadata": {
        "colab": {
          "base_uri": "https://localhost:8080/"
        },
        "id": "DokWshXnWFYA",
        "outputId": "5913c26e-d849-4f09-c26a-7ff2728b9a5b"
      },
      "source": [
        "weird=set()\n",
        "def Construct_CXNet(TrainSplit, ValSplit, TestSplit, augment=False, NumImages=None): \n",
        "  # Creating CX-Net Dataset \n",
        "  # returns list: [train_ds(augmented), valid_ds, test_ds]\n",
        "  # augment used to check if should apply random flip, rotation, etc.\n",
        "  # NumImages used to determine how many images to include in database (if left blank then it takes all images)\n",
        "  # TrainSplit, ValSplit, TestSplit used to determine proportion of dataset for each split\n",
        "\n",
        "  name ='CX-Net Dataset'\n",
        "  dataDir = 'covid_cxnet_dataset/'\n",
        "\n",
        "  METADATA_CSV_PATH = colabDir + dataDir + 'metadata.csv' #train metadata path\n",
        "  metadata = pd.read_csv(METADATA_CSV_PATH)\n",
        "\n",
        "  #Only taking the rows that contain a value for view position\n",
        "  metadata = metadata[metadata['view'].str.contains('AP|PA', case=False, regex=True, na=False)]\n",
        "  metadata = metadata[metadata['filename'].str.contains('jpg|png|jpeg', case=False, regex=True, na=False)]\n",
        "\n",
        "  #Getting image file paths from csv\n",
        "  file_paths2 = metadata['filename'].values\n",
        "  other_paths = os.listdir(colabDir + dataDir + 'covid19/')\n",
        "  temp = []\n",
        "  file_paths = []\n",
        "\n",
        "  for file_path in file_paths2:\n",
        "    temp.append(file_path.split('.')[0])\n",
        "    # weird.add(file_path.split('.')[1])\n",
        "  for file_path in other_paths:\n",
        "    file_name = file_path.split('.')\n",
        "    # weird.add(file_name[1])\n",
        "    if file_name[0] in temp:\n",
        "      # extension = file_name[1].lower()\n",
        "      # file_paths.append(file_name[0]+'.'+extension)\n",
        "      file_paths.append(file_path)\n",
        "  # print(file_paths[218])\n",
        "  del file_paths[218] #Trying to read this file: '/content/drive/MyDrive/AP PA Stuff/Datasets/Original/covid_cxnet_dataset/covid19/884.png' results in this error: InvalidArgumentError: Unknown image file format. One of JPEG, PNG, GIF, BMP required. [Op:DecodeImage] I do not know why nor how to fix it so I've decided to ignore it by not reading that file\n",
        "\n",
        "  #Colab file path example: /content/drive/MyDrive/AP PA Stuff/Datasets/Original/CheXpert-v1.0-small/train/patient00001/study1/view1_frontal.jpg\n",
        "  #Change file paths to work with colab\n",
        "  for ind, path in enumerate(file_paths):\n",
        "    file_paths[ind] = colabDir + dataDir + 'covid19/' + path\n",
        "\n",
        "  #Get AP/PA label\n",
        "  labels = list(metadata['view'].values)\n",
        "  del labels[218]\n",
        "\n",
        "  #if ap/pa label has extra words then it'll cut that out & gets counts of each label & converts labels into 1 and 0\n",
        "  AP_Count = 0\n",
        "  PA_Count = 0\n",
        "  for ind, label in enumerate(labels):\n",
        "    if 'AP' in label:\n",
        "      labels[ind] = 0\n",
        "      AP_Count += 1\n",
        "    elif 'PA' in label:\n",
        "      labels[ind] = 1\n",
        "      PA_Count += 1\n",
        "  class_distributions[name] = {'AP':AP_Count,\n",
        "                               'PA':PA_Count,\n",
        "                               'Total': [f'Total Images = {AP_Count+PA_Count}',\n",
        "                                         f'AP Percentage = {AP_Count/(AP_Count+PA_Count):.3f}',\n",
        "                                         f'PA Percentage = {PA_Count/(AP_Count+PA_Count):.3f}']}\n",
        "\n",
        "  labels = np.asarray(labels).astype('float32')\n",
        "\n",
        "  dataset = tf.data.Dataset.from_tensor_slices((file_paths, labels))\n",
        "  dataset = dataset.shuffle(buffer_size=100000, seed=rngJesus)\n",
        "\n",
        "  if NumImages:\n",
        "    dataset = dataset.take(NumImages)\n",
        "\n",
        "  dataset = dataset.map(read_image)\n",
        "  train_ds, valid_ds, test_ds = training_split(dataset, training_prop=TrainSplit, validation_prop=ValSplit, testing_prop=TestSplit)\n",
        "\n",
        "  #If data is used for training then give option to augment the data\n",
        "  if augment:\n",
        "    train_ds = train_ds.map(lambda images, labels:\n",
        "              (preprocessing_model(images), labels))\n",
        "    \n",
        "  return [file_paths, labels, test_ds, False]\n",
        "\n",
        "CXNet_ds = Construct_CXNet(0,0,1,augment=False)"
      ],
      "execution_count": 7,
      "outputs": [
        {
          "output_type": "stream",
          "name": "stdout",
          "text": [
            "c\n",
            "d\n",
            "e\n",
            "f\n",
            "g\n",
            "h\n",
            "i\n",
            "j\n"
          ]
        }
      ]
    },
    {
      "cell_type": "code",
      "metadata": {
        "colab": {
          "base_uri": "https://localhost:8080/"
        },
        "id": "XVgc69ZS376T",
        "outputId": "a8048a61-d81a-4df5-8842-3999e0ad9e13"
      },
      "source": [
        "class_distributions"
      ],
      "execution_count": 8,
      "outputs": [
        {
          "output_type": "execute_result",
          "data": {
            "text/plain": [
              "{'CX-Net Dataset': {'AP': 187,\n",
              "  'PA': 34,\n",
              "  'Total': ['Total Images = 221',\n",
              "   'AP Percentage = 0.846',\n",
              "   'PA Percentage = 0.154']}}"
            ]
          },
          "metadata": {},
          "execution_count": 8
        }
      ]
    },
    {
      "cell_type": "markdown",
      "metadata": {
        "id": "Ov4LYL6IaCFa"
      },
      "source": [
        "###ActualMed"
      ]
    },
    {
      "cell_type": "code",
      "metadata": {
        "colab": {
          "base_uri": "https://localhost:8080/"
        },
        "id": "jhfH0jaJaMJD",
        "outputId": "00d77960-06ab-47e2-d0a6-67e000cb7e8e"
      },
      "source": [
        "def Construct_ActualMed(TrainSplit, ValSplit, TestSplit, augment=False, NumImages=None): \n",
        "  # Creating ActualMed Dataset \n",
        "  # returns list: [train_ds(augmented), valid_ds, test_ds]\n",
        "  # augment used to check if should apply random flip, rotation, etc.\n",
        "  # NumImages used to determine how many images to include in database (if left blank then it takes all images)\n",
        "  # TrainSplit, ValSplit, TestSplit used to determine proportion of dataset for each split\n",
        "\n",
        "  name ='ActualMed Dataset'\n",
        "  dataDir = 'Actualmed-COVID-chestxray-dataset-master/'\n",
        "\n",
        "  METADATA_CSV_PATH = colabDir + dataDir + 'metadata.csv' #train metadata path\n",
        "  metadata = pd.read_csv(METADATA_CSV_PATH)\n",
        "\n",
        "  #Only taking the rows that contain a value for view position\n",
        "  metadata = metadata[metadata['view'].str.contains('AP|PA', case=False, regex=True, na=False)]\n",
        "\n",
        "  #Getting image file paths from csv\n",
        "  file_paths = metadata['imagename'].values\n",
        "\n",
        "  #Colab file path example: /content/drive/MyDrive/AP PA Stuff/Datasets/Original/CheXpert-v1.0-small/train/patient00001/study1/view1_frontal.jpg\n",
        "  #Change file paths to work with colab\n",
        "  for ind, path in enumerate(file_paths):\n",
        "    file_paths[ind] = colabDir + dataDir + 'images/' + path\n",
        "\n",
        "  #Get AP/PA label\n",
        "  labels = metadata['view'].values\n",
        "\n",
        "  #if ap/pa label has extra words then it'll cut that out & gets counts of each label & converts labels into 1 and 0\n",
        "  AP_Count = 0\n",
        "  PA_Count = 0\n",
        "  for ind, label in enumerate(labels):\n",
        "    if 'AP' in label:\n",
        "      labels[ind] = 0\n",
        "      AP_Count += 1\n",
        "    elif 'PA' in label:\n",
        "      labels[ind] = 1\n",
        "      PA_Count += 1\n",
        "  class_distributions[name] = {'AP':AP_Count,\n",
        "                               'PA':PA_Count,\n",
        "                               'Total': [f'Total Images = {AP_Count+PA_Count}',\n",
        "                                         f'AP Percentage = {AP_Count/(AP_Count+PA_Count):.3f}',\n",
        "                                         f'PA Percentage = {PA_Count/(AP_Count+PA_Count):.3f}']}\n",
        "\n",
        "  labels = np.asarray(labels).astype('float32')\n",
        "\n",
        "  dataset = tf.data.Dataset.from_tensor_slices((file_paths, labels))\n",
        "  dataset = dataset.shuffle(buffer_size=100000, seed=rngJesus)\n",
        "\n",
        "  if NumImages:\n",
        "    dataset = dataset.take(NumImages)\n",
        "\n",
        "  dataset = dataset.map(read_image)\n",
        "  train_ds, valid_ds, test_ds = training_split(dataset, training_prop=TrainSplit, validation_prop=ValSplit, testing_prop=TestSplit)\n",
        "\n",
        "  #If data is used for training then give option to augment the data\n",
        "  if augment:\n",
        "    train_ds = train_ds.map(lambda images, labels:\n",
        "              (preprocessing_model(images), labels))\n",
        "    \n",
        "  return [file_paths, labels, test_ds, False]\n",
        "\n",
        "ActualMed_ds = Construct_ActualMed(0,0,1,augment=False)"
      ],
      "execution_count": 9,
      "outputs": [
        {
          "output_type": "stream",
          "name": "stdout",
          "text": [
            "c\n",
            "d\n",
            "e\n",
            "f\n",
            "g\n",
            "h\n",
            "i\n",
            "j\n"
          ]
        }
      ]
    },
    {
      "cell_type": "markdown",
      "metadata": {
        "id": "RqIRNbC4bJy0"
      },
      "source": [
        "###Shenzhen"
      ]
    },
    {
      "cell_type": "code",
      "metadata": {
        "colab": {
          "base_uri": "https://localhost:8080/"
        },
        "id": "JdRcwBhsbv4p",
        "outputId": "27de30b7-b91d-4bd0-db48-8e5d097bd6f3"
      },
      "source": [
        "def Construct_Shenzhen(TrainSplit, ValSplit, TestSplit, augment=False, NumImages=None): \n",
        "  # Creating Shenzhen Dataset \n",
        "  # returns list: [train_ds(augmented), valid_ds, test_ds]\n",
        "  # augment used to check if should apply random flip, rotation, etc.\n",
        "  # NumImages used to determine how many images to include in database (if left blank then it takes all images)\n",
        "  # TrainSplit, ValSplit, TestSplit used to determine proportion of dataset for each split\n",
        "\n",
        "  #Shenzhen dataset only has PA images so no metadata.csv checks\n",
        "\n",
        "  name ='Shenzhen Dataset'\n",
        "  dataDir = 'ChinaSet_AllFiles/ChinaSet_AllFiles/CXR_png/'\n",
        "\n",
        "  #Getting image file paths\n",
        "  index_to_go=0\n",
        "  file_paths = os.listdir(colabDir + dataDir)\n",
        "  for ind, path in enumerate(file_paths):\n",
        "    if path.split('.')[1] == 'db':\n",
        "      index_to_go=ind\n",
        "    file_paths[ind] = colabDir+dataDir+path\n",
        "\n",
        "  del file_paths[index_to_go]\n",
        "  #Get AP/PA label\n",
        "  #AP:0, PA:1\n",
        "  labels = [1 for i in file_paths]\n",
        "\n",
        "  #if ap/pa label has extra words then it'll cut that out & gets counts of each label & converts labels into 1 and 0\n",
        "  AP_Count = 0\n",
        "  PA_Count = len(labels)\n",
        "  class_distributions[name] = {'AP':AP_Count,\n",
        "                               'PA':PA_Count,\n",
        "                               'Total': [f'Total Images = {AP_Count+PA_Count}',\n",
        "                                         f'AP Percentage = {AP_Count/(AP_Count+PA_Count):.3f}',\n",
        "                                         f'PA Percentage = {PA_Count/(AP_Count+PA_Count):.3f}']}\n",
        "\n",
        "  labels = np.asarray(labels).astype('float32')\n",
        "\n",
        "  dataset = tf.data.Dataset.from_tensor_slices((file_paths, labels))\n",
        "  dataset = dataset.shuffle(buffer_size=100000, seed=rngJesus)\n",
        "\n",
        "  if NumImages:\n",
        "    dataset = dataset.take(NumImages)\n",
        "\n",
        "  dataset = dataset.map(read_image)\n",
        "  train_ds, valid_ds, test_ds = training_split(dataset, training_prop=TrainSplit, validation_prop=ValSplit, testing_prop=TestSplit)\n",
        "\n",
        "  #If data is used for training then give option to augment the data\n",
        "  if augment:\n",
        "    train_ds = train_ds.map(lambda images, labels:\n",
        "              (preprocessing_model(images), labels))\n",
        "    \n",
        "  return [file_paths, labels, test_ds, False]\n",
        "\n",
        "Shenzhen_ds = Construct_Shenzhen(0,0,1,augment=False)"
      ],
      "execution_count": 10,
      "outputs": [
        {
          "output_type": "stream",
          "name": "stdout",
          "text": [
            "c\n",
            "d\n",
            "e\n",
            "f\n",
            "g\n",
            "h\n",
            "i\n",
            "j\n"
          ]
        }
      ]
    },
    {
      "cell_type": "markdown",
      "metadata": {
        "id": "0hsRAvV0d5oE"
      },
      "source": [
        "###Montgomery"
      ]
    },
    {
      "cell_type": "code",
      "metadata": {
        "colab": {
          "base_uri": "https://localhost:8080/"
        },
        "id": "UmzM83M5d-ee",
        "outputId": "ace78474-51e5-48f6-9443-fd7595293921"
      },
      "source": [
        "def Construct_Montgomery(TrainSplit, ValSplit, TestSplit, augment=False, NumImages=None): \n",
        "  # Creating Montgomery Dataset \n",
        "  # returns list: [train_ds(augmented), valid_ds, test_ds]\n",
        "  # augment used to check if should apply random flip, rotation, etc.\n",
        "  # NumImages used to determine how many images to include in database (if left blank then it takes all images)\n",
        "  # TrainSplit, ValSplit, TestSplit used to determine proportion of dataset for each split\n",
        "\n",
        "  #Montgomery dataset only has PA images so no metadata.csv checks\n",
        "\n",
        "  name ='Montgomery Dataset'\n",
        "  dataDir = 'NLM-MontgomeryCXRSet/MontgomerySet/CXR_png/'\n",
        "\n",
        "  #Getting image file paths\n",
        "  file_paths = os.listdir(colabDir + dataDir)\n",
        "\n",
        "  #Colab file path example: /content/drive/MyDrive/AP PA Stuff/Datasets/Original/CheXpert-v1.0-small/train/patient00001/study1/view1_frontal.jpg\n",
        "  #Change file paths to work with colab\n",
        "  for ind, path in enumerate(file_paths):\n",
        "    file_paths[ind] = colabDir + dataDir + path\n",
        "\n",
        "  #Get AP/PA label\n",
        "  #AP:0, PA:1\n",
        "  labels = [1 for i in file_paths]\n",
        "\n",
        "  #if ap/pa label has extra words then it'll cut that out & gets counts of each label & converts labels into 1 and 0\n",
        "  AP_Count = 0\n",
        "  PA_Count = len(labels)\n",
        "  class_distributions[name] = {'AP':AP_Count,\n",
        "                               'PA':PA_Count,\n",
        "                               'Total': [f'Total Images = {AP_Count+PA_Count}',\n",
        "                                         f'AP Percentage = {AP_Count/(AP_Count+PA_Count):.3f}',\n",
        "                                         f'PA Percentage = {PA_Count/(AP_Count+PA_Count):.3f}']}\n",
        "\n",
        "  labels = np.asarray(labels).astype('float32')\n",
        "\n",
        "  dataset = tf.data.Dataset.from_tensor_slices((file_paths, labels))\n",
        "  dataset = dataset.shuffle(buffer_size=100000, seed=rngJesus)\n",
        "\n",
        "  if NumImages:\n",
        "    dataset = dataset.take(NumImages)\n",
        "\n",
        "  dataset = dataset.map(read_image)\n",
        "  train_ds, valid_ds, test_ds = training_split(dataset, training_prop=TrainSplit, validation_prop=ValSplit, testing_prop=TestSplit)\n",
        "\n",
        "  #If data is used for training then give option to augment the data\n",
        "  if augment:\n",
        "    train_ds = train_ds.map(lambda images, labels:\n",
        "              (preprocessing_model(images), labels))\n",
        "    \n",
        "  return [file_paths, labels, test_ds, False]\n",
        "\n",
        "Montgomery_ds = Construct_Montgomery(0,0,1,augment=False)"
      ],
      "execution_count": 11,
      "outputs": [
        {
          "output_type": "stream",
          "name": "stdout",
          "text": [
            "c\n",
            "d\n",
            "e\n",
            "f\n",
            "g\n",
            "h\n",
            "i\n",
            "j\n"
          ]
        }
      ]
    },
    {
      "cell_type": "markdown",
      "metadata": {
        "id": "DKSclpJAe8G7"
      },
      "source": [
        "###RICORD"
      ]
    },
    {
      "cell_type": "code",
      "metadata": {
        "colab": {
          "base_uri": "https://localhost:8080/"
        },
        "id": "yG22X20wH6WM",
        "outputId": "54c9c3c1-7a6c-450b-c8ed-b687407d3e1c"
      },
      "source": [
        "def Construct_RICORD(TrainSplit, ValSplit, TestSplit, augment=False, NumImages=None): \n",
        "  # Creating RICORD Dataset \n",
        "  # returns list: [train_ds(augmented), valid_ds, test_ds]\n",
        "  # augment used to check if should apply random flip, rotation, etc.\n",
        "  # NumImages used to determine how many images to include in database (if left blank then it takes all images)\n",
        "  # TrainSplit, ValSplit, TestSplit used to determine proportion of dataset for each split\n",
        "\n",
        "  name ='RICORD Dataset'\n",
        "  dataDir = 'manifest-1610656454899/'\n",
        "\n",
        "  METADATA_CSV_PATH = colabDir + dataDir + 'metadata.csv' \n",
        "  metadata = pd.read_csv(METADATA_CSV_PATH)\n",
        "\n",
        "  #Only taking the rows that contain a value for view position\n",
        "  metadata = metadata[metadata['Series Description'].str.contains('AP|PA', case=False, regex=True, na=False)]\n",
        "\n",
        "  #Getting image file paths from csv\n",
        "  dcm_dirs = metadata['File Location'].values \n",
        "\n",
        "  #Colab file path example: /content/drive/MyDrive/AP PA Stuff/Datasets/Original/CheXpert-v1.0-small/train/patient00001/study1/view1_frontal.jpg\n",
        "  #Change file paths to work with colab\n",
        "  for ind, path in enumerate(dcm_dirs):\n",
        "    path = path[2:] + '/'\n",
        "    path = path.replace('\\\\', '/')\n",
        "    dcm_dirs[ind] = colabDir + dataDir + path\n",
        "\n",
        "  file_paths = []\n",
        "  for dcm_dir in dcm_dirs:\n",
        "    dcm_path = os.listdir(dcm_dir)\n",
        "    for path in dcm_path:\n",
        "      file_paths.append(dcm_dir + path)\n",
        "\n",
        "  dcm_pixel_arrays = []\n",
        "  for path in tqdm(file_paths):\n",
        "      dcm = pydicom.dcmread(path)\n",
        "      img = dcm.pixel_array\n",
        "      img_2d = img.astype(float)\n",
        "      img_2d_scaled = (np.maximum(img_2d,0) / img_2d.max()) * 255.0\n",
        "      img_2d_scaled = np.uint8(img_2d_scaled)\n",
        "      image = tf.image.resize(tf.expand_dims(img_2d_scaled, axis=-1), [IMG_SIZE, IMG_SIZE])\n",
        "      dcm_pixel_arrays.append(image)\n",
        "\n",
        "  #Get AP/PA label\n",
        "  labels = []\n",
        "  imageCount = metadata['Number of Images']\n",
        "  preLabels = metadata['Series Description']\n",
        "  for count, label in zip(imageCount, preLabels):\n",
        "    for i in range(count):\n",
        "      labels.append(label)\n",
        "\n",
        "  #if ap/pa label has extra words then it'll cut that out & gets counts of each label & converts labels into 1 and 0\n",
        "  AP_Count = 0\n",
        "  PA_Count = 0\n",
        "  for ind, label in enumerate(labels):\n",
        "    if 'AP' in label:\n",
        "      labels[ind] = 0\n",
        "      AP_Count += 1\n",
        "    elif 'PA' in label:\n",
        "      labels[ind] = 1\n",
        "      PA_Count += 1\n",
        "  class_distributions[name] = {'AP':AP_Count,\n",
        "                               'PA':PA_Count,\n",
        "                               'Total': [f'Total Images = {AP_Count+PA_Count}',\n",
        "                                         f'AP Percentage = {AP_Count/(AP_Count+PA_Count):.3f}',\n",
        "                                         f'PA Percentage = {PA_Count/(AP_Count+PA_Count):.3f}']}\n",
        "\n",
        "  labels = np.asarray(labels).astype('float32')\n",
        "\n",
        "  print(len(dcm_pixel_arrays))\n",
        "  print(len(labels))\n",
        "  dataset = tf.data.Dataset.from_tensor_slices((dcm_pixel_arrays, labels))\n",
        "  dataset = dataset.shuffle(buffer_size=100000, seed=rngJesus)\n",
        "\n",
        "  if NumImages:\n",
        "    dataset = dataset.take(NumImages)\n",
        "\n",
        "  dataset = dataset.map(read_dicom_image)\n",
        "  train_ds, valid_ds, test_ds = training_split(dataset, training_prop=TrainSplit, validation_prop=ValSplit, testing_prop=TestSplit)\n",
        "\n",
        "  #If data is used for training then give option to augment the data\n",
        "  if augment:\n",
        "    train_ds = train_ds.map(lambda images, labels:\n",
        "              (preprocessing_model(images), labels))\n",
        "    \n",
        "  return [dcm_pixel_arrays, labels, test_ds, True]\n",
        "\n",
        "RICORD_ds = Construct_RICORD(0,0,1,augment=False)\n",
        "# show_image(RICORD_ds[2])"
      ],
      "execution_count": 12,
      "outputs": [
        {
          "output_type": "stream",
          "name": "stderr",
          "text": [
            "100%|██████████| 694/694 [11:46<00:00,  1.02s/it]"
          ]
        },
        {
          "output_type": "stream",
          "name": "stdout",
          "text": [
            "694\n",
            "694\n",
            "a\n",
            "b\n",
            "c\n",
            "d\n",
            "e\n",
            "f\n",
            "g\n",
            "h\n",
            "i\n",
            "j\n"
          ]
        },
        {
          "output_type": "stream",
          "name": "stderr",
          "text": [
            "\n"
          ]
        }
      ]
    },
    {
      "cell_type": "markdown",
      "metadata": {
        "id": "eVZhVfN2fO2U"
      },
      "source": [
        "###Kaggle Test"
      ]
    },
    {
      "cell_type": "code",
      "metadata": {
        "colab": {
          "base_uri": "https://localhost:8080/"
        },
        "id": "w-E2T5QiMK0t",
        "outputId": "c206b9f2-07c3-467b-8f74-60f35231ad4b"
      },
      "source": [
        "def Construct_KaggleTest(TrainSplit, ValSplit, TestSplit, augment=False, NumImages=None): \n",
        "  # Creating Kaggle Test Dataset \n",
        "  # returns list: [train_ds(augmented), valid_ds, test_ds]\n",
        "  # augment used to check if should apply random flip, rotation, etc.\n",
        "  # NumImages used to determine how many images to include in database (if left blank then it takes all images)\n",
        "  # TrainSplit, ValSplit, TestSplit used to determine proportion of dataset for each split\n",
        "\n",
        "  name ='Kaggle Test Dataset'\n",
        "  dataDir = 'stage_2_test_images/'\n",
        "\n",
        "  #Getting dcm file paths from premade folders\n",
        "  #I manually Separated dcm into seperate folders bc google couldnt read 26k files in one line\n",
        "  file_paths = []\n",
        "  dcm_files = os.listdir(colabDir + dataDir)\n",
        "  for dcm in dcm_files:\n",
        "    file_paths.append(colabDir + dataDir + dcm)\n",
        "  # dcm_dir_names = [str(i) for i in range(1,2)]\n",
        "  # for name in dcm_dir_names:\n",
        "  #   dcm_dir = colabDir + dataDir + name + '/'\n",
        "  #   files = os.listdir(dcm_dir)\n",
        "  #   for file in files:\n",
        "  #     file_paths.append(dcm_dir + file)\n",
        "\n",
        "  dcm_pixel_arrays = []\n",
        "  labels = []\n",
        "  for path in tqdm(file_paths):\n",
        "      dcm = pydicom.dcmread(path)\n",
        "      image = dcm.pixel_array\n",
        "      image = tf.image.resize(tf.expand_dims(image, axis=-1), [IMG_SIZE, IMG_SIZE])\n",
        "      dcm_pixel_arrays.append(image)\n",
        "      labels.append(dcm.SeriesDescription)\n",
        "\n",
        "  #if ap/pa label has extra words then it'll cut that out & gets counts of each label & converts labels into 1 and 0\n",
        "  AP_Count = 0\n",
        "  PA_Count = 0\n",
        "  for ind, label in enumerate(labels):\n",
        "    if 'AP' in label:\n",
        "      labels[ind] = 0\n",
        "      AP_Count += 1\n",
        "    elif 'PA' in label:\n",
        "      labels[ind] = 1\n",
        "      PA_Count += 1\n",
        "  class_distributions[name] = {'AP':AP_Count,\n",
        "                               'PA':PA_Count,\n",
        "                               'Total': [f'Total Images = {AP_Count+PA_Count}',\n",
        "                                         f'AP Percentage = {AP_Count/(AP_Count+PA_Count):.3f}',\n",
        "                                         f'PA Percentage = {PA_Count/(AP_Count+PA_Count):.3f}']}\n",
        "\n",
        "  labels = np.asarray(labels).astype('float32')\n",
        "\n",
        "  print(len(dcm_pixel_arrays))\n",
        "  print(len(labels))\n",
        "  dataset = tf.data.Dataset.from_tensor_slices((dcm_pixel_arrays, labels))\n",
        "  dataset = dataset.shuffle(buffer_size=100000, seed=rngJesus)\n",
        "\n",
        "  '''\n",
        "  ///DELETE HERE///\n",
        "  '''\n",
        "  # x=[]\n",
        "  # for image in dcm_pixel_arrays:\n",
        "  #   x.append(read_dicom_image(image, 1)[0])\n",
        "  '''\n",
        "  ///STOP DELETE///\n",
        "  '''\n",
        "\n",
        "  if NumImages:\n",
        "    dataset = dataset.take(NumImages)\n",
        "\n",
        "  dataset = dataset.map(read_dicom_image)\n",
        "  train_ds, valid_ds, test_ds = training_split(dataset, training_prop=TrainSplit, validation_prop=ValSplit, testing_prop=TestSplit)\n",
        "  # train_ds2, valid_ds2, test_ds2 = training_split(dataset, training_prop=.8, validation_prop=.2, testing_prop=0)\n",
        "\n",
        "  #If data is used for training then give option to augment the data\n",
        "  if augment:\n",
        "    train_ds = train_ds.map(lambda images, labels:\n",
        "              (preprocessing_model(images), labels))\n",
        "    \n",
        "  return [dcm_pixel_arrays, labels, test_ds, True]\n",
        "    \n",
        "  # return [train_ds2, valid_ds2, test_ds2]\n",
        "\n",
        "Kaggle_Test_ds = Construct_KaggleTest(0,0,1,augment=True)\n",
        "# show_image(RICORD_ds[2])"
      ],
      "execution_count": 13,
      "outputs": [
        {
          "output_type": "stream",
          "name": "stderr",
          "text": [
            "100%|██████████| 3000/3000 [18:17<00:00,  2.73it/s]\n"
          ]
        },
        {
          "output_type": "stream",
          "name": "stdout",
          "text": [
            "3000\n",
            "3000\n",
            "a\n",
            "b\n",
            "c\n",
            "d\n",
            "e\n",
            "f\n",
            "g\n",
            "h\n",
            "i\n",
            "j\n"
          ]
        }
      ]
    },
    {
      "cell_type": "markdown",
      "metadata": {
        "id": "lRFsXgIdFd6q"
      },
      "source": [
        "#Train Model"
      ]
    },
    {
      "cell_type": "code",
      "metadata": {
        "colab": {
          "base_uri": "https://localhost:8080/"
        },
        "id": "ivxguypWazSx",
        "outputId": "8ccc32e7-22a2-47f6-80cb-ad11a4d83fb2"
      },
      "source": [
        "#test cell to see if model works with dataset\n",
        "model_handle = 'https://tfhub.dev/google/imagenet/efficientnet_v2_imagenet21k_m/feature_vector/2'\n",
        "# classifier = hub.load(model_handle)\n",
        "print(\"Building model with\", model_handle)\n",
        "\n",
        "model = tf.keras.Sequential([\n",
        "    # Explicitly define the input shape so the model can be properly\n",
        "    # loaded by the TFLiteConverter\n",
        "    tf.keras.layers.InputLayer(input_shape=(IMG_SIZE,IMG_SIZE) + (3,)),\n",
        "    hub.KerasLayer(model_handle, trainable=True),\n",
        "    # tf.keras.layers.Dense(256),\n",
        "    # tf.keras.layers.Flatten(name=\"flatten\"),\n",
        "    tf.keras.layers.Dense(1, activation=tf.keras.activations.sigmoid)\n",
        "])\n",
        "model.build((None,)+(IMG_SIZE,IMG_SIZE)+(3,))\n",
        "model.summary()\n",
        "\n"
      ],
      "execution_count": 14,
      "outputs": [
        {
          "output_type": "stream",
          "name": "stdout",
          "text": [
            "Building model with https://tfhub.dev/google/imagenet/efficientnet_v2_imagenet21k_m/feature_vector/2\n",
            "Model: \"sequential_1\"\n",
            "_________________________________________________________________\n",
            "Layer (type)                 Output Shape              Param #   \n",
            "=================================================================\n",
            "keras_layer (KerasLayer)     (None, 1280)              53150388  \n",
            "_________________________________________________________________\n",
            "dense (Dense)                (None, 1)                 1281      \n",
            "=================================================================\n",
            "Total params: 53,151,669\n",
            "Trainable params: 52,859,637\n",
            "Non-trainable params: 292,032\n",
            "_________________________________________________________________\n"
          ]
        }
      ]
    },
    {
      "cell_type": "code",
      "metadata": {
        "id": "59-ogqTMDNeD"
      },
      "source": [
        "#taken from https://ecode.dev/cnn-for-medical-imaging-using-tensorflow-2/\n",
        "from tensorflow.keras.metrics import TruePositives, FalsePositives, TrueNegatives, FalseNegatives, BinaryAccuracy, Precision, Recall, AUC\n",
        "from tensorflow.keras.metrics import SpecificityAtSensitivity, SensitivityAtSpecificity\n",
        "\n",
        "METRICS = [\n",
        "      TruePositives(name='tp'),\n",
        "      FalsePositives(name='fp'),\n",
        "      TrueNegatives(name='tn'),\n",
        "      FalseNegatives(name='fn'), \n",
        "      BinaryAccuracy(name='accuracy'),\n",
        "      Precision(name='precision'),\n",
        "      Recall(name='recall'),\n",
        "      AUC(name='auc'),\n",
        "      SpecificityAtSensitivity(.5, name='specificity'),\n",
        "      SensitivityAtSpecificity(.5, name='sensitivity'),\n",
        "]"
      ],
      "execution_count": 15,
      "outputs": []
    },
    {
      "cell_type": "code",
      "metadata": {
        "id": "4ty_wZtlazSz"
      },
      "source": [
        "model.compile(\n",
        "  optimizer=tf.keras.optimizers.SGD(learning_rate=0.00001, momentum=.9), \n",
        "  loss=tf.keras.losses.BinaryCrossentropy(),\n",
        "  metrics=METRICS)"
      ],
      "execution_count": 16,
      "outputs": []
    },
    {
      "cell_type": "code",
      "metadata": {
        "id": "bTl6LPchTKEz"
      },
      "source": [
        "BetterDir = '/content/drive/MyDrive/AP PA Stuff/Datasets/Tensorflow/fiddy/'\n",
        "checkpoint_path = BetterDir + \"cp.ckpt\"\n",
        "checkpoint_dir = os.path.dirname(checkpoint_path)\n",
        "\n",
        "# Create a callback that saves the model's weights\n",
        "cp_callback = tf.keras.callbacks.ModelCheckpoint(filepath=checkpoint_path,\n",
        "                                                 save_weights_only=True,\n",
        "                                                 verbose=1, moniter=['tp','fp', 'tn', 'fn', 'accuracy', 'precision', 'recall', 'auc', 'specificity', 'sensitivity','val_tp','val_fp', 'val_tn', 'val_fn', 'val_accuracy', 'val_precision', 'val_recall', 'val_auc', 'val_specificity', 'val_sensitivity'])"
      ],
      "execution_count": 17,
      "outputs": []
    },
    {
      "cell_type": "code",
      "metadata": {
        "id": "d86nrk3d1Uye"
      },
      "source": [
        "class ClearStuff(tf.keras.callbacks.Callback):\n",
        "    def on_epoch_end(self, epoch, logs=None):\n",
        "        gc.collect()\n",
        "        tf.keras.backend.clear_session()"
      ],
      "execution_count": 18,
      "outputs": []
    },
    {
      "cell_type": "code",
      "metadata": {
        "colab": {
          "base_uri": "https://localhost:8080/"
        },
        "id": "Z0u3769n4fKP",
        "outputId": "ac3ecd5d-6859-4459-c334-a9b9503cab52"
      },
      "source": [
        "latest = tf.train.latest_checkpoint(checkpoint_dir)\n",
        "model.load_weights(latest)"
      ],
      "execution_count": 19,
      "outputs": [
        {
          "output_type": "execute_result",
          "data": {
            "text/plain": [
              "<tensorflow.python.training.tracking.util.CheckpointLoadStatus at 0x7fafc0732850>"
            ]
          },
          "metadata": {},
          "execution_count": 19
        }
      ]
    },
    {
      "cell_type": "code",
      "metadata": {
        "colab": {
          "base_uri": "https://localhost:8080/",
          "height": 236
        },
        "id": "k04LX9OkazS0",
        "outputId": "742d93af-0ea1-4139-c5f7-b71b8d2832ba"
      },
      "source": [
        "steps_per_epoch = dataset_length*.8 // BATCH_SIZE\n",
        "validation_steps = dataset_length*.2 // BATCH_SIZE\n",
        "\n",
        "lnadlmclkamdclkamdvmadvmlkadvmlkadvmladmvladmvlmad\n",
        "\n",
        "def train(): \n",
        "  hist = model.fit(\n",
        "    train_ds,\n",
        "    epochs=epoch_number, steps_per_epoch=steps_per_epoch,\n",
        "    validation_data=valid_ds,\n",
        "    validation_steps=validation_steps,\n",
        "    callbacks=[cp_callback, ClearStuff()]).history \n",
        "  return hist\n",
        "hist=train()"
      ],
      "execution_count": 20,
      "outputs": [
        {
          "output_type": "error",
          "ename": "NameError",
          "evalue": "ignored",
          "traceback": [
            "\u001b[0;31m---------------------------------------------------------------------------\u001b[0m",
            "\u001b[0;31mNameError\u001b[0m                                 Traceback (most recent call last)",
            "\u001b[0;32m<ipython-input-20-cccf379c7f3f>\u001b[0m in \u001b[0;36m<module>\u001b[0;34m()\u001b[0m\n\u001b[0;32m----> 1\u001b[0;31m \u001b[0msteps_per_epoch\u001b[0m \u001b[0;34m=\u001b[0m \u001b[0mdataset_length\u001b[0m\u001b[0;34m*\u001b[0m\u001b[0;36m.8\u001b[0m \u001b[0;34m//\u001b[0m \u001b[0mBATCH_SIZE\u001b[0m\u001b[0;34m\u001b[0m\u001b[0;34m\u001b[0m\u001b[0m\n\u001b[0m\u001b[1;32m      2\u001b[0m \u001b[0mvalidation_steps\u001b[0m \u001b[0;34m=\u001b[0m \u001b[0mdataset_length\u001b[0m\u001b[0;34m*\u001b[0m\u001b[0;36m.2\u001b[0m \u001b[0;34m//\u001b[0m \u001b[0mBATCH_SIZE\u001b[0m\u001b[0;34m\u001b[0m\u001b[0;34m\u001b[0m\u001b[0m\n\u001b[1;32m      3\u001b[0m \u001b[0;34m\u001b[0m\u001b[0m\n\u001b[1;32m      4\u001b[0m \u001b[0mlnadlmclkamdclkamdvmadvmlkadvmlkadvmladmvladmvlmad\u001b[0m\u001b[0;34m\u001b[0m\u001b[0;34m\u001b[0m\u001b[0m\n\u001b[1;32m      5\u001b[0m \u001b[0;34m\u001b[0m\u001b[0m\n",
            "\u001b[0;31mNameError\u001b[0m: name 'dataset_length' is not defined"
          ]
        }
      ]
    },
    {
      "cell_type": "code",
      "metadata": {
        "id": "7TAE7NRW8UlO"
      },
      "source": [
        "#before times \n",
        "epochs = [i for i in range(1,51)]\n",
        "accuracies = []\n",
        "val_accuracies = []\n",
        "losses = []\n",
        "val_losses = []"
      ],
      "execution_count": null,
      "outputs": []
    },
    {
      "cell_type": "code",
      "metadata": {
        "colab": {
          "base_uri": "https://localhost:8080/",
          "height": 549
        },
        "id": "yU0HxMW7HDkj",
        "outputId": "bb2c2a98-f317-474c-c836-6a295cd07c63"
      },
      "source": [
        "plt.figure()\n",
        "plt.ylabel(\"Loss (training and validation)\")\n",
        "plt.xlabel(\"Epochs\")\n",
        "plt.ylim([0,2])\n",
        "plt.plot(losses, 'b', label='Training Loss')\n",
        "plt.plot(val_losses, 'r', label='Validatiton Loss')\n",
        "plt.legend()\n",
        "plt.show()\n",
        "\n",
        "plt.figure()\n",
        "plt.ylabel(\"Accuracy (training and validation)\")\n",
        "plt.xlabel(\"Epochs\")\n",
        "plt.ylim([0,1])\n",
        "plt.plot(accuracies, 'b', label='Training Accuracy')\n",
        "plt.plot(val_accuracies,'r', label='Validatiton Accuracy')\n",
        "plt.legend()\n",
        "plt.show()"
      ],
      "execution_count": null,
      "outputs": [
        {
          "data": {
            "image/png": "[encoded data removed]",
            "text/plain": [
              "<Figure size 432x288 with 1 Axes>"
            ]
          },
          "metadata": {},
          "output_type": "display_data"
        },
        {
          "data": {
            "image/png": "[encoded data removed]",
            "text/plain": [
              "<Figure size 432x288 with 1 Axes>"
            ]
          },
          "metadata": {},
          "output_type": "display_data"
        }
      ]
    },
    {
      "cell_type": "markdown",
      "metadata": {
        "id": "xEhZN4Nflh5a"
      },
      "source": [
        "#Testing AP/PA Classifier"
      ]
    },
    {
      "cell_type": "code",
      "metadata": {
        "id": "9Ffaai3GVdjc"
      },
      "source": [
        "test_dses = {\n",
        "    'CheXpert Test Dataset': cheXpert_ds,\n",
        "    'CX-Net Dataset': CXNet_ds,\n",
        "    'ActualMed Dataset': ActualMed_ds,\n",
        "    'Shenzhen Dataset': Shenzhen_ds,\n",
        "    'Montgomery Dataset': Montgomery_ds,\n",
        "    'RICORD Dataset': RICORD_ds,\n",
        "    'RSNA Pneumonia Test Dataset': Kaggle_Test_ds\n",
        "}\n",
        "\n",
        "# fiddy_predictions = {}"
      ],
      "execution_count": 21,
      "outputs": []
    },
    {
      "cell_type": "code",
      "metadata": {
        "id": "rAG_O5-pT-Yw"
      },
      "source": [
        "#taken from https://stackoverflow.com/questions/28719067/roc-curve-and-cut-off-point-python\n",
        "\n",
        "def Find_Optimal_Cutoff(target, predicted):\n",
        "    \"\"\" Find the optimal probability cutoff point for a classification model related to event rate\n",
        "    Parameters\n",
        "    ----------\n",
        "    target : Matrix with dependent or target data, where rows are observations\n",
        "\n",
        "    predicted : Matrix with predicted data, where rows are observations\n",
        "\n",
        "    Returns\n",
        "    -------     \n",
        "    list type, with optimal cutoff value\n",
        "        \n",
        "    \"\"\"\n",
        "    fpr, tpr, threshold = roc_curve(target, predicted)\n",
        "    i = np.arange(len(tpr)) \n",
        "    roc = pd.DataFrame({'tf' : pd.Series(tpr-(1-fpr), index=i), 'threshold' : pd.Series(threshold, index=i)})\n",
        "    roc_t = roc.iloc[(roc.tf-0).abs().argsort()[:1]]\n",
        "\n",
        "    return list(roc_t['threshold']) \n"
      ],
      "execution_count": 22,
      "outputs": []
    },
    {
      "cell_type": "code",
      "metadata": {
        "id": "i__abHgZ33Sp"
      },
      "source": [
        "fiddy_predictions['CheXpert'] = [cheXpert_predictions_all, cheXpert_ds[1]]"
      ],
      "execution_count": null,
      "outputs": []
    },
    {
      "cell_type": "code",
      "metadata": {
        "colab": {
          "base_uri": "https://localhost:8080/"
        },
        "id": "HSJHOlCwT8Mm",
        "outputId": "3e671d96-6f22-4c66-8d02-c4df3cce123d"
      },
      "source": [
        "#adapted from https://ecode.dev/cnn-for-medical-imaging-using-tensorflow-2/\n",
        "\n",
        "import time\n",
        "\n",
        "# Evaluate the model on the test data using `evaluate`\n",
        "print(\"Evaluate on test data\")\n",
        "# for test_ds_name in test_dses:\n",
        "#   print('-'*40)\n",
        "#   print('Now evaluating '+ test_ds_name)\n",
        "#   test_ds = test_dses[test_ds_name][2]\n",
        "#   score_test = model.evaluate(test_ds)\n",
        "\n",
        "#   #Checking to see if the images are already decoded (DICOM datsets already were)\n",
        "#   if not test_dses[test_ds_name][3]:\n",
        "#     pixel_arrays = list(map(read_test_image, test_dses[test_ds_name][0]))\n",
        "#     pixel_arrays = tf.convert_to_tensor(pixel_arrays)\n",
        "#     start_time = time.time()\n",
        "#     fiddy_predictions[test_ds_name] = [model.predict(pixel_arrays)]\n",
        "#   else:\n",
        "#     start_time = time.time()\n",
        "#     pixel_arrays = tf.convert_to_tensor(list(map(read_test_dicom_image, test_dses[test_ds_name][0])))\n",
        "#     fiddy_predictions[test_ds_name] = [model.predict(pixel_arrays)]\n",
        "\n",
        "#   print(\"--- Prediction Time: %s seconds ---\" % (time.time() - start_time))\n",
        "#   print(f\"--- Average Prediction Time: {(time.time() - start_time)/len(pixel_arrays)}\")\n",
        "#   fiddy_predictions[test_ds_name].append(test_dses[test_ds_name][1])\n",
        "\n",
        "#   for name, value in zip(model.metrics_names, score_test):\n",
        "#     print(name, ': ', value)\n",
        "#   print('-'*40)\n",
        "# %cache fiddy_predictions=fiddy_predictions\n",
        "\n",
        "from sklearn.metrics import confusion_matrix, roc_auc_score, roc_curve, plot_confusion_matrix\n",
        "from itertools import cycle\n",
        "import seaborn as sns\n",
        "\n",
        "# notice the threshold\n",
        "def plot_cm(dataset_name, labels: np.ndarray, predictions: np.ndarray, p: float=0.5) -> ():\n",
        "    cm = confusion_matrix(labels, predictions > p)\n",
        "    # you can normalize the confusion matrix\n",
        "\n",
        "    plt.figure(figsize=(5,5))\n",
        "    sns.heatmap(cm, annot=True, fmt=\"d\", cmap='rocket', xticklabels=['AP','PA'], yticklabels=['AP','PA'], cbar=False)\n",
        "    plt.title(f'{dataset_name}')\n",
        "    plt.ylabel('Actual label')\n",
        "    plt.xlabel('Predicted label')\n",
        "\n",
        "    TN = cm[0][0]\n",
        "    FP = cm[0][1]\n",
        "    FN = cm[1][0]\n",
        "    TP = cm[1][1]\n",
        "    precision = TP / (TP+FP)\n",
        "    recall = TP / (TP+FN)\n",
        "    print('AP (True Negatives): ', TN)\n",
        "    print('Missed AP (False Positives): ', FP)\n",
        "    print('Missed PA (False Negatives): ', FN)\n",
        "    print('PA (True Positives): ', TP)\n",
        "    print(f'True Accuracy: {(TP+TN)/(TN+FP+FN+TP)}')\n",
        "    print(f'Sensitivity: {recall}')\n",
        "    print(f'Specificity: {TN/(TN+FP)}')\n",
        "    print(f'PPV: {precision}')\n",
        "    print(f'NPV: {TN/(TN+FN)}')\n",
        "    print(f'F-1 Score: {2 / (1/precision + 1/recall)}')\n",
        "    print(f'Yo the Youden J thing is: {TN/(TN+FP)+recall-1}')\n",
        "\n",
        "\n",
        "optimal_cutoffs = {}\n",
        "def plot_roc(test_ds_names, predictions_list, **kwargs) -> ():\n",
        "  # fp, tp, _ = roc_curve(labels, predictions)\n",
        "  colors = cycle(['darkorange','cornflowerblue', 'purple', 'forestgreen','hotpink', 'crimson', 'tomato'])\n",
        "  plt.figure(figsize=(10,10))\n",
        "  for name, predictions, color in zip(test_ds_names, predictions_list, colors):\n",
        "    fpr, tpr, thresholds = roc_curve(predictions[1], predictions[0])\n",
        "\n",
        "    #------------------\n",
        "    #TAKEN FROM https://towardsdatascience.com/optimal-threshold-for-imbalanced-classification-5884e870c293\n",
        "    # Calculate the Youden's J statistic\n",
        "    gmean = np.sqrt(tpr * (1 - fpr))\n",
        "    youdenJ = tpr - fpr\n",
        "\n",
        "    # Find the optimal threshold\n",
        "    index = np.argmax(youdenJ)\n",
        "    thresholdOpt = round(thresholds[index], ndigits = 4)\n",
        "    youdenJOpt = round(gmean[index], ndigits = 4)\n",
        "    fprOpt = round(fpr[index], ndigits = 4)\n",
        "    tprOpt = round(tpr[index], ndigits = 4)\n",
        "    print('Best Threshold for {}: {} with Youden J statistic: {}'.format(name, thresholdOpt, youdenJOpt))\n",
        "    optimal_cutoffs[name] = thresholdOpt\n",
        "    print('For {}: FPR: {}, TPR: {}'.format(name, fprOpt, tprOpt))\n",
        "    #-------------------\n",
        "\n",
        "    try:\n",
        "      auc_score = roc_auc_score(predictions[1], predictions[0])\n",
        "      plt.plot(fpr, tpr, color=color, lw=2, label=f'ROC curve of {name}(area = {auc_score:.2f})')\n",
        "    except:\n",
        "      auc_score = 'NA'\n",
        "      plt.plot(fpr, tpr, color=color, lw=2, label=f'ROC curve of {name}(area = {auc_score})')\n",
        "  plt.plot([0, 1], [0, 1], 'k--', lw=2)\n",
        "  plt.xlim([0.0, 1.0])\n",
        "  plt.ylim([0.0, 1.01])\n",
        "  plt.xlabel('False Positive Rate')\n",
        "  plt.ylabel('True Positive Rate')\n",
        "  plt.title('Receiver Operating Characteristic')\n",
        "  plt.legend(loc=\"lower right\")\n",
        "  plt.show()\n",
        "\n",
        "# colors = plt.rcParams['axes.prop_cycle'].by_key()['color']\n",
        "# for name, testXY in zip(test_dses.keys(), fiddy_predictions.values()):\n",
        "#   print('-'*40)\n",
        "#   print('NOW SHOWING PLOTS FOR: ' + name)\n",
        "#   p=Find_Optimal_Cutoff(testXY[1], testXY[0])[0]\n",
        "#   plot_cm(name, testXY[1], testXY[0], p=p)\n",
        "#   print(f'Yo optimal threshold is {p}')\n",
        "#   print('-'*40)\n",
        "\n",
        "# plot_roc(test_dses.keys(), fiddy_predictions.values())"
      ],
      "execution_count": 33,
      "outputs": [
        {
          "output_type": "stream",
          "name": "stdout",
          "text": [
            "Evaluate on test data\n"
          ]
        }
      ]
    },
    {
      "cell_type": "code",
      "metadata": {
        "colab": {
          "base_uri": "https://localhost:8080/"
        },
        "id": "V7DhSB-4_u6g",
        "outputId": "d6220755-c035-43b9-8e0c-f062b28b386d"
      },
      "source": [
        "%cache -v 1 fiddy_predictions"
      ],
      "execution_count": null,
      "outputs": [
        {
          "name": "stdout",
          "output_type": "stream",
          "text": [
            "Loading cached value for variable 'fiddy_predictions'. Time since caching: 11 days, 4:56:21.001530\n"
          ]
        }
      ]
    },
    {
      "cell_type": "code",
      "metadata": {
        "id": "PyJS4VGXAPRT"
      },
      "source": [
        "fiddy_predictions['CheXpert'][0] = np.array(cheXpert_predictions_all)"
      ],
      "execution_count": null,
      "outputs": []
    },
    {
      "cell_type": "code",
      "metadata": {
        "colab": {
          "base_uri": "https://localhost:8080/",
          "height": 293
        },
        "id": "RusNxzuP3VFG",
        "outputId": "ee6ef0c7-6aed-4448-fe34-e4eb4a230f9a"
      },
      "source": [
        "plt.imshow(read_test_image(colabDir + 'NIH/' + '1/' + '00000005_001.png'))\n",
        "print(cheXpert_ds[1][18890])"
      ],
      "execution_count": null,
      "outputs": [
        {
          "name": "stdout",
          "output_type": "stream",
          "text": [
            "1.0\n"
          ]
        },
        {
          "data": {
            "image/png": "[encoded data removed]",
            "text/plain": [
              "<Figure size 432x288 with 1 Axes>"
            ]
          },
          "metadata": {},
          "output_type": "display_data"
        }
      ]
    },
    {
      "cell_type": "code",
      "metadata": {
        "id": "wiLR7FuV9wBV",
        "colab": {
          "base_uri": "https://localhost:8080/",
          "height": 1000
        },
        "outputId": "76aa0c13-275c-4c63-e005-e44cf4d47c46"
      },
      "source": [
        "# colors = plt.rcParams['axes.prop_cycle'].by_key()['color']\n",
        "plt.rcParams.update({'font.size': 25})\n",
        "for name, testXY in zip(test_dses.keys(), fiddy_predictions.values()):\n",
        "  print('-'*40)\n",
        "  print('NOW SHOWING PLOTS FOR: ' + name)\n",
        "  p=Find_Optimal_Cutoff(testXY[1], testXY[0])[0]\n",
        "  plot_cm(name, testXY[1], testXY[0], p=optimal_cutoffs[name])\n",
        "  print(f'Yo optimal threshold is {p}')\n",
        "  print('-'*40)\n",
        "\n",
        "# plot_roc(test_dses.keys(), fiddy_predictions.values())"
      ],
      "execution_count": 36,
      "outputs": [
        {
          "output_type": "stream",
          "name": "stdout",
          "text": [
            "----------------------------------------\n",
            "NOW SHOWING PLOTS FOR: CheXpert Test Dataset\n",
            "AP (True Negatives):  151166\n",
            "Missed AP (False Positives):  593\n",
            "Missed PA (False Negatives):  575\n",
            "PA (True Positives):  18878\n",
            "True Accuracy: 0.9931780482676448\n",
            "Sensitivity: 0.9704415771346322\n",
            "Specificity: 0.996092488748608\n",
            "PPV: 0.9695444507215859\n",
            "NPV: 0.9962106484074839\n",
            "F-1 Score: 0.9699928064947076\n",
            "Yo the Youden J thing is: 0.9665340658832402\n",
            "Yo optimal threshold is 0.007537547033280134\n",
            "----------------------------------------\n",
            "----------------------------------------\n",
            "NOW SHOWING PLOTS FOR: CX-Net Dataset\n",
            "AP (True Negatives):  145\n",
            "Missed AP (False Positives):  42\n",
            "Missed PA (False Negatives):  22\n",
            "PA (True Positives):  12\n",
            "True Accuracy: 0.7104072398190046\n",
            "Sensitivity: 0.35294117647058826\n",
            "Specificity: 0.7754010695187166\n",
            "PPV: 0.2222222222222222\n",
            "NPV: 0.8682634730538922\n",
            "F-1 Score: 0.27272727272727276\n",
            "Yo the Youden J thing is: 0.12834224598930488\n",
            "Yo optimal threshold is 0.19019317626953125\n",
            "----------------------------------------\n",
            "----------------------------------------\n",
            "NOW SHOWING PLOTS FOR: ActualMed Dataset\n",
            "AP (True Negatives):  37\n",
            "Missed AP (False Positives):  2\n",
            "Missed PA (False Negatives):  17\n",
            "PA (True Positives):  182\n",
            "True Accuracy: 0.9201680672268907\n",
            "Sensitivity: 0.914572864321608\n",
            "Specificity: 0.9487179487179487\n",
            "PPV: 0.9891304347826086\n",
            "NPV: 0.6851851851851852\n",
            "F-1 Score: 0.9503916449086162\n",
            "Yo the Youden J thing is: 0.8632908130395567\n",
            "Yo optimal threshold is 0.020396007224917412\n",
            "----------------------------------------\n",
            "----------------------------------------\n",
            "NOW SHOWING PLOTS FOR: Shenzhen Dataset\n",
            "AP (True Negatives):  0\n",
            "Missed AP (False Positives):  0\n",
            "Missed PA (False Negatives):  662\n",
            "PA (True Positives):  0\n",
            "True Accuracy: 0.0\n",
            "Sensitivity: 0.0\n",
            "Specificity: nan\n",
            "PPV: nan\n",
            "NPV: 0.0\n",
            "F-1 Score: nan\n",
            "Yo the Youden J thing is: nan\n",
            "Yo optimal threshold is 0.0010623078560456634\n",
            "----------------------------------------\n",
            "----------------------------------------\n",
            "NOW SHOWING PLOTS FOR: Montgomery Dataset\n",
            "AP (True Negatives):  0\n",
            "Missed AP (False Positives):  0\n",
            "Missed PA (False Negatives):  138\n",
            "PA (True Positives):  0\n",
            "True Accuracy: 0.0\n",
            "Sensitivity: 0.0\n",
            "Specificity: nan\n",
            "PPV: nan\n",
            "NPV: 0.0\n",
            "F-1 Score: nan\n",
            "Yo the Youden J thing is: nan\n",
            "Yo optimal threshold is 0.038424089550971985\n",
            "----------------------------------------\n",
            "----------------------------------------\n",
            "NOW SHOWING PLOTS FOR: RICORD Dataset\n",
            "AP (True Negatives):  691\n",
            "Missed AP (False Positives):  0\n",
            "Missed PA (False Negatives):  3\n",
            "PA (True Positives):  0\n",
            "True Accuracy: 0.9956772334293948\n",
            "Sensitivity: 0.0\n",
            "Specificity: 1.0\n",
            "PPV: nan\n",
            "NPV: 0.9956772334293948\n",
            "F-1 Score: nan\n",
            "Yo the Youden J thing is: 0.0\n",
            "Yo optimal threshold is 0.9999994039535522\n",
            "----------------------------------------\n",
            "----------------------------------------\n",
            "NOW SHOWING PLOTS FOR: RSNA Pneumonia Test Dataset\n",
            "AP (True Negatives):  1374\n",
            "Missed AP (False Positives):  8\n",
            "Missed PA (False Negatives):  7\n",
            "PA (True Positives):  1611\n",
            "True Accuracy: 0.995\n",
            "Sensitivity: 0.9956736711990112\n",
            "Specificity: 0.9942112879884226\n",
            "PPV: 0.9950586781964176\n",
            "NPV: 0.9949312092686459\n",
            "F-1 Score: 0.9953660797034292\n",
            "Yo the Youden J thing is: 0.9898849591874339\n",
            "Yo optimal threshold is 0.3278709650039673\n",
            "----------------------------------------\n"
          ]
        },
        {
          "output_type": "stream",
          "name": "stderr",
          "text": [
            "/usr/local/lib/python3.7/dist-packages/sklearn/metrics/_ranking.py:800: UndefinedMetricWarning: No negative samples in y_true, false positive value should be meaningless\n",
            "  UndefinedMetricWarning)\n",
            "/usr/local/lib/python3.7/dist-packages/ipykernel_launcher.py:52: RuntimeWarning: invalid value encountered in long_scalars\n",
            "/usr/local/lib/python3.7/dist-packages/ipykernel_launcher.py:60: RuntimeWarning: invalid value encountered in long_scalars\n",
            "/usr/local/lib/python3.7/dist-packages/ipykernel_launcher.py:63: RuntimeWarning: divide by zero encountered in double_scalars\n",
            "/usr/local/lib/python3.7/dist-packages/ipykernel_launcher.py:64: RuntimeWarning: invalid value encountered in long_scalars\n"
          ]
        },
        {
          "output_type": "display_data",
          "data": {
            "image/png": "[encoded data removed]",
            "text/plain": [
              "<Figure size 360x360 with 1 Axes>"
            ]
          },
          "metadata": {
            "needs_background": "light"
          }
        },
        {
          "output_type": "display_data",
          "data": {
            "image/png": "[encoded data removed]",
            "text/plain": [
              "<Figure size 360x360 with 1 Axes>"
            ]
          },
          "metadata": {
            "needs_background": "light"
          }
        },
        {
          "output_type": "display_data",
          "data": {
            "image/png": "[encoded data removed]",
            "text/plain": [
              "<Figure size 360x360 with 1 Axes>"
            ]
          },
          "metadata": {
            "needs_background": "light"
          }
        },
        {
          "output_type": "display_data",
          "data": {
            "image/png": "[encoded data removed]",
            "text/plain": [
              "<Figure size 360x360 with 1 Axes>"
            ]
          },
          "metadata": {
            "needs_background": "light"
          }
        },
        {
          "output_type": "display_data",
          "data": {
            "image/png": "[encoded data removed]",
            "text/plain": [
              "<Figure size 360x360 with 1 Axes>"
            ]
          },
          "metadata": {
            "needs_background": "light"
          }
        },
        {
          "output_type": "display_data",
          "data": {
            "image/png": "[encoded data removed]",
            "text/plain": [
              "<Figure size 360x360 with 1 Axes>"
            ]
          },
          "metadata": {
            "needs_background": "light"
          }
        },
        {
          "output_type": "display_data",
          "data": {
            "image/png": "[encoded data removed]",
            "text/plain": [
              "<Figure size 360x360 with 1 Axes>"
            ]
          },
          "metadata": {
            "needs_background": "light"
          }
        }
      ]
    },
    {
      "cell_type": "code",
      "metadata": {
        "colab": {
          "base_uri": "https://localhost:8080/",
          "height": 968
        },
        "id": "6D526RA9xPlw",
        "outputId": "43058444-0fc0-4d0c-b476-ff072c6961fe"
      },
      "source": [
        "plt.rcParams.update({'font.size': 15})\n",
        "\n",
        "plot_roc(test_dses.keys(), fiddy_predictions.values())"
      ],
      "execution_count": 35,
      "outputs": [
        {
          "output_type": "stream",
          "name": "stdout",
          "text": [
            "Best Threshold for CheXpert Test Dataset: 0.36039999127388 with Youden J statistic: 0.9832\n",
            "For CheXpert Test Dataset: FPR: 0.0039, TPR: 0.9705\n",
            "Best Threshold for CX-Net Dataset: 0.7444000244140625 with Youden J statistic: 0.5231\n",
            "For CX-Net Dataset: FPR: 0.2246, TPR: 0.3529\n",
            "Best Threshold for ActualMed Dataset: 0.033399999141693115 with Youden J statistic: 0.934\n",
            "For ActualMed Dataset: FPR: 0.0513, TPR: 0.9196\n",
            "Best Threshold for Shenzhen Dataset: 2.0 with Youden J statistic: nan\n",
            "For Shenzhen Dataset: FPR: nan, TPR: 0.0\n",
            "Best Threshold for Montgomery Dataset: 2.0 with Youden J statistic: nan\n",
            "For Montgomery Dataset: FPR: nan, TPR: 0.0\n",
            "Best Threshold for RICORD Dataset: 1.0 with Youden J statistic: 1.0\n",
            "For RICORD Dataset: FPR: 0.0, TPR: 1.0\n",
            "Best Threshold for RSNA Pneumonia Test Dataset: 0.3278999924659729 with Youden J statistic: 0.9953\n",
            "For RSNA Pneumonia Test Dataset: FPR: 0.0058, TPR: 0.9963\n"
          ]
        },
        {
          "output_type": "stream",
          "name": "stderr",
          "text": [
            "/usr/local/lib/python3.7/dist-packages/sklearn/metrics/_ranking.py:800: UndefinedMetricWarning: No negative samples in y_true, false positive value should be meaningless\n",
            "  UndefinedMetricWarning)\n",
            "/usr/local/lib/python3.7/dist-packages/sklearn/metrics/_ranking.py:800: UndefinedMetricWarning: No negative samples in y_true, false positive value should be meaningless\n",
            "  UndefinedMetricWarning)\n"
          ]
        },
        {
          "output_type": "display_data",
          "data": {
            "image/png": "[encoded data removed]",
            "text/plain": [
              "<Figure size 720x720 with 1 Axes>"
            ]
          },
          "metadata": {
            "needs_background": "light"
          }
        }
      ]
    },
    {
      "cell_type": "code",
      "metadata": {
        "colab": {
          "base_uri": "https://localhost:8080/",
          "height": 35
        },
        "id": "deiuZlTM_pQi",
        "outputId": "228a37f2-e8d8-4bde-a386-46ff643eac49"
      },
      "source": [
        "import torch\n",
        "torch.cuda.get_device_name(0)"
      ],
      "execution_count": null,
      "outputs": [
        {
          "data": {
            "application/vnd.google.colaboratory.intrinsic+json": {
              "type": "string"
            },
            "text/plain": [
              "'Tesla P100-PCIE-16GB'"
            ]
          },
          "execution_count": 53,
          "metadata": {},
          "output_type": "execute_result"
        }
      ]
    },
    {
      "cell_type": "code",
      "metadata": {
        "colab": {
          "base_uri": "https://localhost:8080/",
          "height": 399
        },
        "id": "yhezg7O7l4tU",
        "outputId": "f30e4298-98d7-42d1-d4c3-89e4d1b301ed"
      },
      "source": [
        "#taken from https://keras.io/examples/vision/grad_cam/\n",
        "import keras\n",
        "import matplotlib.cm as cm\n",
        "def make_gradcam_heatmap(img_array, dmodel, pred_index=None):\n",
        "    # First, we create a model that maps the input image to the activations\n",
        "    # of the last conv layer as well as the output predictions\n",
        "    img_array = tf.expand_dims(img_array, axis=0)\n",
        "    grad_model = tf.keras.models.Model(\n",
        "        [dmodel.inputs], [dmodel.layers[-3].output, dmodel.output]\n",
        "    )\n",
        "\n",
        "    # Then, we compute the gradient of the top predicted class for our input image\n",
        "    # with respect to the activations of the last conv layer\n",
        "    with tf.GradientTape() as tape:\n",
        "        last_conv_layer_output, preds = grad_model(img_array)\n",
        "        if pred_index is None:\n",
        "            pred_index = tf.argmax(preds[0])\n",
        "        class_channel = preds[:, pred_index]\n",
        "\n",
        "    # This is the gradient of the output neuron (top predicted or chosen)\n",
        "    # with regard to the output feature map of the last conv layer\n",
        "    grads = tape.gradient(class_channel, last_conv_layer_output)\n",
        "    print(grads)\n",
        "    # This is a vector where each entry is the mean intensity of the gradient\n",
        "    # over a specific feature map channel\n",
        "    # pooled_grads = tf.reduce_mean(grads, axis=(0, 1, 2))\n",
        "\n",
        "    # We multiply each channel in the feature map array\n",
        "    # by \"how important this channel is\" with regard to the top predicted class\n",
        "    # then sum all the channels to obtain the heatmap class activation\n",
        "    last_conv_layer_output = last_conv_layer_output[0]\n",
        "    print(last_conv_layer_output)\n",
        "    heatmap = last_conv_layer_output @ grads[..., tf.newaxis]\n",
        "    heatmap = tf.squeeze(heatmap)\n",
        "\n",
        "    # For visualization purpose, we will also normalize the heatmap between 0 & 1\n",
        "    heatmap = tf.maximum(heatmap, 0) / tf.math.reduce_max(heatmap)\n",
        "    return heatmap.numpy()\n",
        "\n",
        "def save_and_display_gradcam(img, heatmap, cam_path=\"cam.jpg\", alpha=0.4):\n",
        "    # Rescale heatmap to a range 0-255\n",
        "    img=tf.expand_dims(img, axis=0)\n",
        "    heatmap = np.uint8(255 * heatmap)\n",
        "\n",
        "    # Use jet colormap to colorize heatmap\n",
        "    jet = cm.get_cmap(\"jet\")\n",
        "\n",
        "    # Use RGB values of the colormap\n",
        "    jet_colors = jet(np.arange(256))[:, :3]\n",
        "    jet_heatmap = jet_colors[heatmap]\n",
        "\n",
        "    # Create an image with RGB colorized heatmap\n",
        "    jet_heatmap = keras.preprocessing.image.array_to_img(jet_heatmap)\n",
        "    jet_heatmap = jet_heatmap.resize((img.shape[1], img.shape[0]))\n",
        "    jet_heatmap = keras.preprocessing.image.img_to_array(jet_heatmap)\n",
        "\n",
        "    # Superimpose the heatmap on original image\n",
        "    superimposed_img = jet_heatmap * alpha + img\n",
        "    superimposed_img = keras.preprocessing.image.array_to_img(superimposed_img)\n",
        "\n",
        "    # Save the superimposed image\n",
        "    superimposed_img.save(cam_path)\n",
        "\n",
        "    # Display Grad CAM\n",
        "    display(Image(cam_path))\n",
        "\n",
        "image = read_test_image(cheXpert_ds[0][0])\n",
        "heatmap = make_gradcam_heatmap(image, unwrapped)\n",
        "save_and_display_gradcam(image, heatmap)\n"
      ],
      "execution_count": null,
      "outputs": [
        {
          "ename": "ValueError",
          "evalue": "ignored",
          "output_type": "error",
          "traceback": [
            "\u001b[0;31m---------------------------------------------------------------------------\u001b[0m",
            "\u001b[0;31mValueError\u001b[0m                                Traceback (most recent call last)",
            "\u001b[0;32m<ipython-input-116-28d45a5e0fd2>\u001b[0m in \u001b[0;36m<module>\u001b[0;34m()\u001b[0m\n\u001b[1;32m     66\u001b[0m \u001b[0;34m\u001b[0m\u001b[0m\n\u001b[1;32m     67\u001b[0m \u001b[0mimage\u001b[0m \u001b[0;34m=\u001b[0m \u001b[0mread_test_image\u001b[0m\u001b[0;34m(\u001b[0m\u001b[0mcheXpert_ds\u001b[0m\u001b[0;34m[\u001b[0m\u001b[0;36m0\u001b[0m\u001b[0;34m]\u001b[0m\u001b[0;34m[\u001b[0m\u001b[0;36m0\u001b[0m\u001b[0;34m]\u001b[0m\u001b[0;34m)\u001b[0m\u001b[0;34m\u001b[0m\u001b[0;34m\u001b[0m\u001b[0m\n\u001b[0;32m---> 68\u001b[0;31m \u001b[0mheatmap\u001b[0m \u001b[0;34m=\u001b[0m \u001b[0mmake_gradcam_heatmap\u001b[0m\u001b[0;34m(\u001b[0m\u001b[0mimage\u001b[0m\u001b[0;34m,\u001b[0m \u001b[0munwrapped\u001b[0m\u001b[0;34m)\u001b[0m\u001b[0;34m\u001b[0m\u001b[0;34m\u001b[0m\u001b[0m\n\u001b[0m\u001b[1;32m     69\u001b[0m \u001b[0msave_and_display_gradcam\u001b[0m\u001b[0;34m(\u001b[0m\u001b[0mimage\u001b[0m\u001b[0;34m,\u001b[0m \u001b[0mheatmap\u001b[0m\u001b[0;34m)\u001b[0m\u001b[0;34m\u001b[0m\u001b[0;34m\u001b[0m\u001b[0m\n",
            "\u001b[0;32m<ipython-input-116-28d45a5e0fd2>\u001b[0m in \u001b[0;36mmake_gradcam_heatmap\u001b[0;34m(img_array, dmodel, pred_index)\u001b[0m\n\u001b[1;32m      7\u001b[0m     \u001b[0mimg_array\u001b[0m \u001b[0;34m=\u001b[0m \u001b[0mtf\u001b[0m\u001b[0;34m.\u001b[0m\u001b[0mexpand_dims\u001b[0m\u001b[0;34m(\u001b[0m\u001b[0mimg_array\u001b[0m\u001b[0;34m,\u001b[0m \u001b[0maxis\u001b[0m\u001b[0;34m=\u001b[0m\u001b[0;36m0\u001b[0m\u001b[0;34m)\u001b[0m\u001b[0;34m\u001b[0m\u001b[0;34m\u001b[0m\u001b[0m\n\u001b[1;32m      8\u001b[0m     grad_model = tf.keras.models.Model(\n\u001b[0;32m----> 9\u001b[0;31m         \u001b[0;34m[\u001b[0m\u001b[0mdmodel\u001b[0m\u001b[0;34m.\u001b[0m\u001b[0minputs\u001b[0m\u001b[0;34m]\u001b[0m\u001b[0;34m,\u001b[0m \u001b[0;34m[\u001b[0m\u001b[0mdmodel\u001b[0m\u001b[0;34m.\u001b[0m\u001b[0mlayers\u001b[0m\u001b[0;34m[\u001b[0m\u001b[0;34m-\u001b[0m\u001b[0;36m3\u001b[0m\u001b[0;34m]\u001b[0m\u001b[0;34m.\u001b[0m\u001b[0moutput\u001b[0m\u001b[0;34m,\u001b[0m \u001b[0mdmodel\u001b[0m\u001b[0;34m.\u001b[0m\u001b[0moutput\u001b[0m\u001b[0;34m]\u001b[0m\u001b[0;34m\u001b[0m\u001b[0;34m\u001b[0m\u001b[0m\n\u001b[0m\u001b[1;32m     10\u001b[0m     )\n\u001b[1;32m     11\u001b[0m \u001b[0;34m\u001b[0m\u001b[0m\n",
            "\u001b[0;32m/usr/local/lib/python3.7/dist-packages/tensorflow/python/training/tracking/base.py\u001b[0m in \u001b[0;36m_method_wrapper\u001b[0;34m(self, *args, **kwargs)\u001b[0m\n\u001b[1;32m    528\u001b[0m     \u001b[0mself\u001b[0m\u001b[0;34m.\u001b[0m\u001b[0m_self_setattr_tracking\u001b[0m \u001b[0;34m=\u001b[0m \u001b[0;32mFalse\u001b[0m  \u001b[0;31m# pylint: disable=protected-access\u001b[0m\u001b[0;34m\u001b[0m\u001b[0;34m\u001b[0m\u001b[0m\n\u001b[1;32m    529\u001b[0m     \u001b[0;32mtry\u001b[0m\u001b[0;34m:\u001b[0m\u001b[0;34m\u001b[0m\u001b[0;34m\u001b[0m\u001b[0m\n\u001b[0;32m--> 530\u001b[0;31m       \u001b[0mresult\u001b[0m \u001b[0;34m=\u001b[0m \u001b[0mmethod\u001b[0m\u001b[0;34m(\u001b[0m\u001b[0mself\u001b[0m\u001b[0;34m,\u001b[0m \u001b[0;34m*\u001b[0m\u001b[0margs\u001b[0m\u001b[0;34m,\u001b[0m \u001b[0;34m**\u001b[0m\u001b[0mkwargs\u001b[0m\u001b[0;34m)\u001b[0m\u001b[0;34m\u001b[0m\u001b[0;34m\u001b[0m\u001b[0m\n\u001b[0m\u001b[1;32m    531\u001b[0m     \u001b[0;32mfinally\u001b[0m\u001b[0;34m:\u001b[0m\u001b[0;34m\u001b[0m\u001b[0;34m\u001b[0m\u001b[0m\n\u001b[1;32m    532\u001b[0m       \u001b[0mself\u001b[0m\u001b[0;34m.\u001b[0m\u001b[0m_self_setattr_tracking\u001b[0m \u001b[0;34m=\u001b[0m \u001b[0mprevious_value\u001b[0m  \u001b[0;31m# pylint: disable=protected-access\u001b[0m\u001b[0;34m\u001b[0m\u001b[0;34m\u001b[0m\u001b[0m\n",
            "\u001b[0;32m/usr/local/lib/python3.7/dist-packages/keras/engine/functional.py\u001b[0m in \u001b[0;36m__init__\u001b[0;34m(self, inputs, outputs, name, trainable, **kwargs)\u001b[0m\n\u001b[1;32m    107\u001b[0m     \u001b[0mgeneric_utils\u001b[0m\u001b[0;34m.\u001b[0m\u001b[0mvalidate_kwargs\u001b[0m\u001b[0;34m(\u001b[0m\u001b[0mkwargs\u001b[0m\u001b[0;34m,\u001b[0m \u001b[0;34m{\u001b[0m\u001b[0;34m}\u001b[0m\u001b[0;34m)\u001b[0m\u001b[0;34m\u001b[0m\u001b[0;34m\u001b[0m\u001b[0m\n\u001b[1;32m    108\u001b[0m     \u001b[0msuper\u001b[0m\u001b[0;34m(\u001b[0m\u001b[0mFunctional\u001b[0m\u001b[0;34m,\u001b[0m \u001b[0mself\u001b[0m\u001b[0;34m)\u001b[0m\u001b[0;34m.\u001b[0m\u001b[0m__init__\u001b[0m\u001b[0;34m(\u001b[0m\u001b[0mname\u001b[0m\u001b[0;34m=\u001b[0m\u001b[0mname\u001b[0m\u001b[0;34m,\u001b[0m \u001b[0mtrainable\u001b[0m\u001b[0;34m=\u001b[0m\u001b[0mtrainable\u001b[0m\u001b[0;34m)\u001b[0m\u001b[0;34m\u001b[0m\u001b[0;34m\u001b[0m\u001b[0m\n\u001b[0;32m--> 109\u001b[0;31m     \u001b[0mself\u001b[0m\u001b[0;34m.\u001b[0m\u001b[0m_init_graph_network\u001b[0m\u001b[0;34m(\u001b[0m\u001b[0minputs\u001b[0m\u001b[0;34m,\u001b[0m \u001b[0moutputs\u001b[0m\u001b[0;34m)\u001b[0m\u001b[0;34m\u001b[0m\u001b[0;34m\u001b[0m\u001b[0m\n\u001b[0m\u001b[1;32m    110\u001b[0m \u001b[0;34m\u001b[0m\u001b[0m\n\u001b[1;32m    111\u001b[0m   \u001b[0;34m@\u001b[0m\u001b[0mtf\u001b[0m\u001b[0;34m.\u001b[0m\u001b[0m__internal__\u001b[0m\u001b[0;34m.\u001b[0m\u001b[0mtracking\u001b[0m\u001b[0;34m.\u001b[0m\u001b[0mno_automatic_dependency_tracking\u001b[0m\u001b[0;34m\u001b[0m\u001b[0;34m\u001b[0m\u001b[0m\n",
            "\u001b[0;32m/usr/local/lib/python3.7/dist-packages/tensorflow/python/training/tracking/base.py\u001b[0m in \u001b[0;36m_method_wrapper\u001b[0;34m(self, *args, **kwargs)\u001b[0m\n\u001b[1;32m    528\u001b[0m     \u001b[0mself\u001b[0m\u001b[0;34m.\u001b[0m\u001b[0m_self_setattr_tracking\u001b[0m \u001b[0;34m=\u001b[0m \u001b[0;32mFalse\u001b[0m  \u001b[0;31m# pylint: disable=protected-access\u001b[0m\u001b[0;34m\u001b[0m\u001b[0;34m\u001b[0m\u001b[0m\n\u001b[1;32m    529\u001b[0m     \u001b[0;32mtry\u001b[0m\u001b[0;34m:\u001b[0m\u001b[0;34m\u001b[0m\u001b[0;34m\u001b[0m\u001b[0m\n\u001b[0;32m--> 530\u001b[0;31m       \u001b[0mresult\u001b[0m \u001b[0;34m=\u001b[0m \u001b[0mmethod\u001b[0m\u001b[0;34m(\u001b[0m\u001b[0mself\u001b[0m\u001b[0;34m,\u001b[0m \u001b[0;34m*\u001b[0m\u001b[0margs\u001b[0m\u001b[0;34m,\u001b[0m \u001b[0;34m**\u001b[0m\u001b[0mkwargs\u001b[0m\u001b[0;34m)\u001b[0m\u001b[0;34m\u001b[0m\u001b[0;34m\u001b[0m\u001b[0m\n\u001b[0m\u001b[1;32m    531\u001b[0m     \u001b[0;32mfinally\u001b[0m\u001b[0;34m:\u001b[0m\u001b[0;34m\u001b[0m\u001b[0;34m\u001b[0m\u001b[0m\n\u001b[1;32m    532\u001b[0m       \u001b[0mself\u001b[0m\u001b[0;34m.\u001b[0m\u001b[0m_self_setattr_tracking\u001b[0m \u001b[0;34m=\u001b[0m \u001b[0mprevious_value\u001b[0m  \u001b[0;31m# pylint: disable=protected-access\u001b[0m\u001b[0;34m\u001b[0m\u001b[0;34m\u001b[0m\u001b[0m\n",
            "\u001b[0;32m/usr/local/lib/python3.7/dist-packages/keras/engine/functional.py\u001b[0m in \u001b[0;36m_init_graph_network\u001b[0;34m(self, inputs, outputs)\u001b[0m\n\u001b[1;32m    191\u001b[0m     \u001b[0;31m# Keep track of the network's nodes and layers.\u001b[0m\u001b[0;34m\u001b[0m\u001b[0;34m\u001b[0m\u001b[0;34m\u001b[0m\u001b[0m\n\u001b[1;32m    192\u001b[0m     nodes, nodes_by_depth, layers, _ = _map_graph_network(\n\u001b[0;32m--> 193\u001b[0;31m         self.inputs, self.outputs)\n\u001b[0m\u001b[1;32m    194\u001b[0m     \u001b[0mself\u001b[0m\u001b[0;34m.\u001b[0m\u001b[0m_network_nodes\u001b[0m \u001b[0;34m=\u001b[0m \u001b[0mnodes\u001b[0m\u001b[0;34m\u001b[0m\u001b[0;34m\u001b[0m\u001b[0m\n\u001b[1;32m    195\u001b[0m     \u001b[0mself\u001b[0m\u001b[0;34m.\u001b[0m\u001b[0m_nodes_by_depth\u001b[0m \u001b[0;34m=\u001b[0m \u001b[0mnodes_by_depth\u001b[0m\u001b[0;34m\u001b[0m\u001b[0;34m\u001b[0m\u001b[0m\n",
            "\u001b[0;32m/usr/local/lib/python3.7/dist-packages/keras/engine/functional.py\u001b[0m in \u001b[0;36m_map_graph_network\u001b[0;34m(inputs, outputs)\u001b[0m\n\u001b[1;32m    982\u001b[0m                              \u001b[0;34m'The following previous layers '\u001b[0m\u001b[0;34m\u001b[0m\u001b[0;34m\u001b[0m\u001b[0m\n\u001b[1;32m    983\u001b[0m                              \u001b[0;34m'were accessed without issue: '\u001b[0m \u001b[0;34m+\u001b[0m\u001b[0;34m\u001b[0m\u001b[0;34m\u001b[0m\u001b[0m\n\u001b[0;32m--> 984\u001b[0;31m                              str(layers_with_complete_input))\n\u001b[0m\u001b[1;32m    985\u001b[0m         \u001b[0;32mfor\u001b[0m \u001b[0mx\u001b[0m \u001b[0;32min\u001b[0m \u001b[0mtf\u001b[0m\u001b[0;34m.\u001b[0m\u001b[0mnest\u001b[0m\u001b[0;34m.\u001b[0m\u001b[0mflatten\u001b[0m\u001b[0;34m(\u001b[0m\u001b[0mnode\u001b[0m\u001b[0;34m.\u001b[0m\u001b[0moutputs\u001b[0m\u001b[0;34m)\u001b[0m\u001b[0;34m:\u001b[0m\u001b[0;34m\u001b[0m\u001b[0;34m\u001b[0m\u001b[0m\n\u001b[1;32m    986\u001b[0m           \u001b[0mcomputable_tensors\u001b[0m\u001b[0;34m.\u001b[0m\u001b[0madd\u001b[0m\u001b[0;34m(\u001b[0m\u001b[0mid\u001b[0m\u001b[0;34m(\u001b[0m\u001b[0mx\u001b[0m\u001b[0;34m)\u001b[0m\u001b[0;34m)\u001b[0m\u001b[0;34m\u001b[0m\u001b[0;34m\u001b[0m\u001b[0m\n",
            "\u001b[0;31mValueError\u001b[0m: Graph disconnected: cannot obtain value for tensor KerasTensor(type_spec=TensorSpec(shape=(None, 224, 224, 3), dtype=tf.float32, name='input_2'), name='input_2', description=\"created by layer 'input_2'\") at layer \"stem\". The following previous layers were accessed without issue: ['stem']"
          ]
        }
      ]
    },
    {
      "cell_type": "code",
      "metadata": {
        "id": "p9iCXYHbn5kG"
      },
      "source": [
        "def unwrap_model(model):\n",
        "    inception = model.get_layer('efficientnetv2-m')\n",
        "    unwrapped = tf.keras.Sequential()\n",
        "    unwrapped.add(inception.input)\n",
        "    unwrapped.add(inception.get_layer('stem'))\n",
        "    for layer in inception.layers[:-2]:\n",
        "      unwrapped.add(layer)\n",
        "    unwrapped.add(inception.get_layer('head'))\n",
        "    unwrapped.add(model.get_layer('dense_1'))\n",
        "    unwrapped.build((None,)+(None,None)+(3,))\n",
        "    return unwrapped"
      ],
      "execution_count": null,
      "outputs": []
    },
    {
      "cell_type": "code",
      "metadata": {
        "id": "y4UGtS_KpmxC"
      },
      "source": [
        "from tensorflow.keras.models import Model\n",
        "unwrapped = unwrap_model(diag_model)"
      ],
      "execution_count": null,
      "outputs": []
    },
    {
      "cell_type": "code",
      "metadata": {
        "colab": {
          "base_uri": "https://localhost:8080/"
        },
        "id": "oUdDUdhoY5na",
        "outputId": "0d48612e-e67c-40f8-c7d8-66cc4189b3aa"
      },
      "source": [
        "unwrapped.inputs"
      ],
      "execution_count": null,
      "outputs": [
        {
          "data": {
            "text/plain": [
              "[<KerasTensor: shape=(None, None, None, 3) dtype=float32 (created by layer 'input_1')>]"
            ]
          },
          "execution_count": 115,
          "metadata": {},
          "output_type": "execute_result"
        }
      ]
    },
    {
      "cell_type": "code",
      "metadata": {
        "id": "OEZIChRt88XA"
      },
      "source": [
        "k=model(np.array([read_test_image(cheXpert_ds[0][0])]))"
      ],
      "execution_count": null,
      "outputs": []
    },
    {
      "cell_type": "code",
      "metadata": {
        "id": "uC5PYe6G9QXf"
      },
      "source": [
        ""
      ],
      "execution_count": null,
      "outputs": []
    },
    {
      "cell_type": "markdown",
      "metadata": {
        "id": "mtG3DupyuKIM"
      },
      "source": [
        "# Diagnosis Model\n"
      ]
    },
    {
      "cell_type": "code",
      "metadata": {
        "colab": {
          "base_uri": "https://localhost:8080/"
        },
        "id": "FUFFZD4gMa9l",
        "outputId": "9ca6657a-84c1-4b76-c4fa-e6d7a1382a17"
      },
      "source": [
        "import sys\n",
        "# Download source code.\n",
        "if \"efficientnetv2\" not in os.getcwd():\n",
        "  !git clone --depth 1 https://github.com/google/automl\n",
        "  os.chdir('automl/efficientnetv2')\n",
        "  sys.path.append('.')\n",
        "else:\n",
        "  !git pull"
      ],
      "execution_count": null,
      "outputs": [
        {
          "output_type": "stream",
          "name": "stdout",
          "text": [
            "Cloning into 'automl'...\n",
            "remote: Enumerating objects: 155, done.\u001b[K\n",
            "remote: Counting objects: 100% (155/155), done.\u001b[K\n",
            "remote: Compressing objects: 100% (152/152), done.\u001b[K\n",
            "remote: Total 155 (delta 16), reused 67 (delta 0), pack-reused 0\u001b[K\n",
            "Receiving objects: 100% (155/155), 11.99 MiB | 20.67 MiB/s, done.\n",
            "Resolving deltas: 100% (16/16), done.\n"
          ]
        }
      ]
    },
    {
      "cell_type": "code",
      "metadata": {
        "colab": {
          "base_uri": "https://localhost:8080/"
        },
        "id": "67UuHJ7-NrM-",
        "outputId": "e2aad70c-21e0-4090-8a8c-97ed266baf4d"
      },
      "source": [
        "!pip install tensorflow_addons"
      ],
      "execution_count": null,
      "outputs": [
        {
          "output_type": "stream",
          "name": "stdout",
          "text": [
            "Collecting tensorflow_addons\n",
            "  Downloading tensorflow_addons-0.14.0-cp37-cp37m-manylinux_2_12_x86_64.manylinux2010_x86_64.whl (1.1 MB)\n",
            "\u001b[?25l\r\u001b[K     |▎                               | 10 kB 31.4 MB/s eta 0:00:01\r\u001b[K     |▋                               | 20 kB 24.0 MB/s eta 0:00:01\r\u001b[K     |▉                               | 30 kB 18.6 MB/s eta 0:00:01\r\u001b[K     |█▏                              | 40 kB 16.3 MB/s eta 0:00:01\r\u001b[K     |█▌                              | 51 kB 8.4 MB/s eta 0:00:01\r\u001b[K     |█▊                              | 61 kB 8.2 MB/s eta 0:00:01\r\u001b[K     |██                              | 71 kB 8.5 MB/s eta 0:00:01\r\u001b[K     |██▍                             | 81 kB 9.5 MB/s eta 0:00:01\r\u001b[K     |██▋                             | 92 kB 10.0 MB/s eta 0:00:01\r\u001b[K     |███                             | 102 kB 8.0 MB/s eta 0:00:01\r\u001b[K     |███▎                            | 112 kB 8.0 MB/s eta 0:00:01\r\u001b[K     |███▌                            | 122 kB 8.0 MB/s eta 0:00:01\r\u001b[K     |███▉                            | 133 kB 8.0 MB/s eta 0:00:01\r\u001b[K     |████▏                           | 143 kB 8.0 MB/s eta 0:00:01\r\u001b[K     |████▍                           | 153 kB 8.0 MB/s eta 0:00:01\r\u001b[K     |████▊                           | 163 kB 8.0 MB/s eta 0:00:01\r\u001b[K     |█████                           | 174 kB 8.0 MB/s eta 0:00:01\r\u001b[K     |█████▎                          | 184 kB 8.0 MB/s eta 0:00:01\r\u001b[K     |█████▋                          | 194 kB 8.0 MB/s eta 0:00:01\r\u001b[K     |██████                          | 204 kB 8.0 MB/s eta 0:00:01\r\u001b[K     |██████▏                         | 215 kB 8.0 MB/s eta 0:00:01\r\u001b[K     |██████▌                         | 225 kB 8.0 MB/s eta 0:00:01\r\u001b[K     |██████▉                         | 235 kB 8.0 MB/s eta 0:00:01\r\u001b[K     |███████                         | 245 kB 8.0 MB/s eta 0:00:01\r\u001b[K     |███████▍                        | 256 kB 8.0 MB/s eta 0:00:01\r\u001b[K     |███████▊                        | 266 kB 8.0 MB/s eta 0:00:01\r\u001b[K     |████████                        | 276 kB 8.0 MB/s eta 0:00:01\r\u001b[K     |████████▎                       | 286 kB 8.0 MB/s eta 0:00:01\r\u001b[K     |████████▋                       | 296 kB 8.0 MB/s eta 0:00:01\r\u001b[K     |████████▉                       | 307 kB 8.0 MB/s eta 0:00:01\r\u001b[K     |█████████▏                      | 317 kB 8.0 MB/s eta 0:00:01\r\u001b[K     |█████████▌                      | 327 kB 8.0 MB/s eta 0:00:01\r\u001b[K     |█████████▊                      | 337 kB 8.0 MB/s eta 0:00:01\r\u001b[K     |██████████                      | 348 kB 8.0 MB/s eta 0:00:01\r\u001b[K     |██████████▍                     | 358 kB 8.0 MB/s eta 0:00:01\r\u001b[K     |██████████▋                     | 368 kB 8.0 MB/s eta 0:00:01\r\u001b[K     |███████████                     | 378 kB 8.0 MB/s eta 0:00:01\r\u001b[K     |███████████▎                    | 389 kB 8.0 MB/s eta 0:00:01\r\u001b[K     |███████████▌                    | 399 kB 8.0 MB/s eta 0:00:01\r\u001b[K     |███████████▉                    | 409 kB 8.0 MB/s eta 0:00:01\r\u001b[K     |████████████▏                   | 419 kB 8.0 MB/s eta 0:00:01\r\u001b[K     |████████████▍                   | 430 kB 8.0 MB/s eta 0:00:01\r\u001b[K     |████████████▊                   | 440 kB 8.0 MB/s eta 0:00:01\r\u001b[K     |█████████████                   | 450 kB 8.0 MB/s eta 0:00:01\r\u001b[K     |█████████████▎                  | 460 kB 8.0 MB/s eta 0:00:01\r\u001b[K     |█████████████▋                  | 471 kB 8.0 MB/s eta 0:00:01\r\u001b[K     |██████████████                  | 481 kB 8.0 MB/s eta 0:00:01\r\u001b[K     |██████████████▏                 | 491 kB 8.0 MB/s eta 0:00:01\r\u001b[K     |██████████████▌                 | 501 kB 8.0 MB/s eta 0:00:01\r\u001b[K     |██████████████▉                 | 512 kB 8.0 MB/s eta 0:00:01\r\u001b[K     |███████████████                 | 522 kB 8.0 MB/s eta 0:00:01\r\u001b[K     |███████████████▍                | 532 kB 8.0 MB/s eta 0:00:01\r\u001b[K     |███████████████▊                | 542 kB 8.0 MB/s eta 0:00:01\r\u001b[K     |████████████████                | 552 kB 8.0 MB/s eta 0:00:01\r\u001b[K     |████████████████▎               | 563 kB 8.0 MB/s eta 0:00:01\r\u001b[K     |████████████████▋               | 573 kB 8.0 MB/s eta 0:00:01\r\u001b[K     |████████████████▉               | 583 kB 8.0 MB/s eta 0:00:01\r\u001b[K     |█████████████████▏              | 593 kB 8.0 MB/s eta 0:00:01\r\u001b[K     |█████████████████▌              | 604 kB 8.0 MB/s eta 0:00:01\r\u001b[K     |█████████████████▊              | 614 kB 8.0 MB/s eta 0:00:01\r\u001b[K     |██████████████████              | 624 kB 8.0 MB/s eta 0:00:01\r\u001b[K     |██████████████████▍             | 634 kB 8.0 MB/s eta 0:00:01\r\u001b[K     |██████████████████▋             | 645 kB 8.0 MB/s eta 0:00:01\r\u001b[K     |███████████████████             | 655 kB 8.0 MB/s eta 0:00:01\r\u001b[K     |███████████████████▎            | 665 kB 8.0 MB/s eta 0:00:01\r\u001b[K     |███████████████████▌            | 675 kB 8.0 MB/s eta 0:00:01\r\u001b[K     |███████████████████▉            | 686 kB 8.0 MB/s eta 0:00:01\r\u001b[K     |████████████████████▏           | 696 kB 8.0 MB/s eta 0:00:01\r\u001b[K     |████████████████████▍           | 706 kB 8.0 MB/s eta 0:00:01\r\u001b[K     |████████████████████▊           | 716 kB 8.0 MB/s eta 0:00:01\r\u001b[K     |█████████████████████           | 727 kB 8.0 MB/s eta 0:00:01\r\u001b[K     |█████████████████████▎          | 737 kB 8.0 MB/s eta 0:00:01\r\u001b[K     |█████████████████████▋          | 747 kB 8.0 MB/s eta 0:00:01\r\u001b[K     |██████████████████████          | 757 kB 8.0 MB/s eta 0:00:01\r\u001b[K     |██████████████████████▏         | 768 kB 8.0 MB/s eta 0:00:01\r\u001b[K     |██████████████████████▌         | 778 kB 8.0 MB/s eta 0:00:01\r\u001b[K     |██████████████████████▉         | 788 kB 8.0 MB/s eta 0:00:01\r\u001b[K     |███████████████████████         | 798 kB 8.0 MB/s eta 0:00:01\r\u001b[K     |███████████████████████▍        | 808 kB 8.0 MB/s eta 0:00:01\r\u001b[K     |███████████████████████▊        | 819 kB 8.0 MB/s eta 0:00:01\r\u001b[K     |████████████████████████        | 829 kB 8.0 MB/s eta 0:00:01\r\u001b[K     |████████████████████████▎       | 839 kB 8.0 MB/s eta 0:00:01\r\u001b[K     |████████████████████████▋       | 849 kB 8.0 MB/s eta 0:00:01\r\u001b[K     |████████████████████████▉       | 860 kB 8.0 MB/s eta 0:00:01\r\u001b[K     |█████████████████████████▏      | 870 kB 8.0 MB/s eta 0:00:01\r\u001b[K     |█████████████████████████▍      | 880 kB 8.0 MB/s eta 0:00:01\r\u001b[K     |█████████████████████████▊      | 890 kB 8.0 MB/s eta 0:00:01\r\u001b[K     |██████████████████████████      | 901 kB 8.0 MB/s eta 0:00:01\r\u001b[K     |██████████████████████████▎     | 911 kB 8.0 MB/s eta 0:00:01\r\u001b[K     |██████████████████████████▋     | 921 kB 8.0 MB/s eta 0:00:01\r\u001b[K     |███████████████████████████     | 931 kB 8.0 MB/s eta 0:00:01\r\u001b[K     |███████████████████████████▏    | 942 kB 8.0 MB/s eta 0:00:01\r\u001b[K     |███████████████████████████▌    | 952 kB 8.0 MB/s eta 0:00:01\r\u001b[K     |███████████████████████████▉    | 962 kB 8.0 MB/s eta 0:00:01\r\u001b[K     |████████████████████████████    | 972 kB 8.0 MB/s eta 0:00:01\r\u001b[K     |████████████████████████████▍   | 983 kB 8.0 MB/s eta 0:00:01\r\u001b[K     |████████████████████████████▊   | 993 kB 8.0 MB/s eta 0:00:01\r\u001b[K     |█████████████████████████████   | 1.0 MB 8.0 MB/s eta 0:00:01\r\u001b[K     |█████████████████████████████▎  | 1.0 MB 8.0 MB/s eta 0:00:01\r\u001b[K     |█████████████████████████████▋  | 1.0 MB 8.0 MB/s eta 0:00:01\r\u001b[K     |█████████████████████████████▉  | 1.0 MB 8.0 MB/s eta 0:00:01\r\u001b[K     |██████████████████████████████▏ | 1.0 MB 8.0 MB/s eta 0:00:01\r\u001b[K     |██████████████████████████████▌ | 1.1 MB 8.0 MB/s eta 0:00:01\r\u001b[K     |██████████████████████████████▊ | 1.1 MB 8.0 MB/s eta 0:00:01\r\u001b[K     |███████████████████████████████ | 1.1 MB 8.0 MB/s eta 0:00:01\r\u001b[K     |███████████████████████████████▍| 1.1 MB 8.0 MB/s eta 0:00:01\r\u001b[K     |███████████████████████████████▋| 1.1 MB 8.0 MB/s eta 0:00:01\r\u001b[K     |████████████████████████████████| 1.1 MB 8.0 MB/s eta 0:00:01\r\u001b[K     |████████████████████████████████| 1.1 MB 8.0 MB/s \n",
            "\u001b[?25hRequirement already satisfied: typeguard>=2.7 in /usr/local/lib/python3.7/dist-packages (from tensorflow_addons) (2.7.1)\n",
            "Installing collected packages: tensorflow-addons\n",
            "Successfully installed tensorflow-addons-0.14.0\n"
          ]
        }
      ]
    },
    {
      "cell_type": "code",
      "metadata": {
        "colab": {
          "base_uri": "https://localhost:8080/"
        },
        "id": "JUoLU3frM5ga",
        "outputId": "36752eec-883d-4b3e-a4ff-b9f7322603eb"
      },
      "source": [
        "import tensorflow_addons\n",
        "import effnetv2_model\n",
        "model_name = 'efficientnetv2-m'\n",
        "efficientnet = effnetv2_model.get_model(model_name=model_name, include_top=False, weights='imagenet21k', training=True)"
      ],
      "execution_count": null,
      "outputs": [
        {
          "output_type": "stream",
          "name": "stdout",
          "text": [
            "Downloading data from https://storage.googleapis.com/cloud-tpu-checkpoints/efficientnet/v2/efficientnetv2-m-21k.tgz\n",
            "1195982848/1195979495 [==============================] - 7s 0us/step\n",
            "1195991040/1195979495 [==============================] - 7s 0us/step\n",
            "WARNING:tensorflow:From /usr/local/lib/python3.7/dist-packages/tensorflow/python/training/tracking/util.py:1361: NameBasedSaverStatus.__init__ (from tensorflow.python.training.tracking.util) is deprecated and will be removed in a future version.\n",
            "Instructions for updating:\n",
            "Restoring a name-based tf.train.Saver checkpoint using the object-based restore API. This mode uses global names to match variables, and so is somewhat fragile. It also adds new restore ops to the graph each time it is called when graph building. Prefer re-encoding training checkpoints in the object-based format: run save() on the object-based saver (the same one this message is coming from) and use that checkpoint in the future.\n"
          ]
        },
        {
          "output_type": "stream",
          "name": "stderr",
          "text": [
            "WARNING:tensorflow:From /usr/local/lib/python3.7/dist-packages/tensorflow/python/training/tracking/util.py:1361: NameBasedSaverStatus.__init__ (from tensorflow.python.training.tracking.util) is deprecated and will be removed in a future version.\n",
            "Instructions for updating:\n",
            "Restoring a name-based tf.train.Saver checkpoint using the object-based restore API. This mode uses global names to match variables, and so is somewhat fragile. It also adds new restore ops to the graph each time it is called when graph building. Prefer re-encoding training checkpoints in the object-based format: run save() on the object-based saver (the same one this message is coming from) and use that checkpoint in the future.\n"
          ]
        }
      ]
    },
    {
      "cell_type": "code",
      "metadata": {
        "colab": {
          "base_uri": "https://localhost:8080/"
        },
        "id": "Zt8QBBqwOAHU",
        "outputId": "2efdc113-8eef-45b1-9afa-e23cfe9cb028"
      },
      "source": [
        "model.summary()"
      ],
      "execution_count": null,
      "outputs": [
        {
          "name": "stdout",
          "output_type": "stream",
          "text": [
            "Model: \"model\"\n",
            "_________________________________________________________________\n",
            "Layer (type)                 Output Shape              Param #   \n",
            "=================================================================\n",
            "input_2 (InputLayer)         [(None, 224, 224, 3)]     0         \n",
            "_________________________________________________________________\n",
            "stem (Stem)                  (None, 112, 112, 24)      744       \n",
            "_________________________________________________________________\n",
            "blocks_0 (FusedMBConvBlock)  (None, 112, 112, 24)      5280      \n",
            "_________________________________________________________________\n",
            "blocks_1 (FusedMBConvBlock)  (None, 112, 112, 24)      5280      \n",
            "_________________________________________________________________\n",
            "blocks_2 (FusedMBConvBlock)  (None, 112, 112, 24)      5280      \n",
            "_________________________________________________________________\n",
            "blocks_3 (FusedMBConvBlock)  (None, 56, 56, 48)        25920     \n",
            "_________________________________________________________________\n",
            "blocks_4 (FusedMBConvBlock)  (None, 56, 56, 48)        93120     \n",
            "_________________________________________________________________\n",
            "blocks_5 (FusedMBConvBlock)  (None, 56, 56, 48)        93120     \n",
            "_________________________________________________________________\n",
            "blocks_6 (FusedMBConvBlock)  (None, 56, 56, 48)        93120     \n",
            "_________________________________________________________________\n",
            "blocks_7 (FusedMBConvBlock)  (None, 56, 56, 48)        93120     \n",
            "_________________________________________________________________\n",
            "blocks_8 (FusedMBConvBlock)  (None, 28, 28, 80)        99392     \n",
            "_________________________________________________________________\n",
            "blocks_9 (FusedMBConvBlock)  (None, 28, 28, 80)        257600    \n",
            "_________________________________________________________________\n",
            "blocks_10 (FusedMBConvBlock) (None, 28, 28, 80)        257600    \n",
            "_________________________________________________________________\n",
            "blocks_11 (FusedMBConvBlock) (None, 28, 28, 80)        257600    \n",
            "_________________________________________________________________\n",
            "blocks_12 (FusedMBConvBlock) (None, 28, 28, 80)        257600    \n",
            "_________________________________________________________________\n",
            "blocks_13 (MBConvBlock)      (None, 14, 14, 160)       96020     \n",
            "_________________________________________________________________\n",
            "blocks_14 (MBConvBlock)      (None, 14, 14, 160)       268200    \n",
            "_________________________________________________________________\n",
            "blocks_15 (MBConvBlock)      (None, 14, 14, 160)       268200    \n",
            "_________________________________________________________________\n",
            "blocks_16 (MBConvBlock)      (None, 14, 14, 160)       268200    \n",
            "_________________________________________________________________\n",
            "blocks_17 (MBConvBlock)      (None, 14, 14, 160)       268200    \n",
            "_________________________________________________________________\n",
            "blocks_18 (MBConvBlock)      (None, 14, 14, 160)       268200    \n",
            "_________________________________________________________________\n",
            "blocks_19 (MBConvBlock)      (None, 14, 14, 160)       268200    \n",
            "_________________________________________________________________\n",
            "blocks_20 (MBConvBlock)      (None, 14, 14, 176)       417384    \n",
            "_________________________________________________________________\n",
            "blocks_21 (MBConvBlock)      (None, 14, 14, 176)       484396    \n",
            "_________________________________________________________________\n",
            "blocks_22 (MBConvBlock)      (None, 14, 14, 176)       484396    \n",
            "_________________________________________________________________\n",
            "blocks_23 (MBConvBlock)      (None, 14, 14, 176)       484396    \n",
            "_________________________________________________________________\n",
            "blocks_24 (MBConvBlock)      (None, 14, 14, 176)       484396    \n",
            "_________________________________________________________________\n",
            "blocks_25 (MBConvBlock)      (None, 14, 14, 176)       484396    \n",
            "_________________________________________________________________\n",
            "blocks_26 (MBConvBlock)      (None, 14, 14, 176)       484396    \n",
            "_________________________________________________________________\n",
            "blocks_27 (MBConvBlock)      (None, 14, 14, 176)       484396    \n",
            "_________________________________________________________________\n",
            "blocks_28 (MBConvBlock)      (None, 14, 14, 176)       484396    \n",
            "_________________________________________________________________\n",
            "blocks_29 (MBConvBlock)      (None, 14, 14, 176)       484396    \n",
            "_________________________________________________________________\n",
            "blocks_30 (MBConvBlock)      (None, 14, 14, 176)       484396    \n",
            "_________________________________________________________________\n",
            "blocks_31 (MBConvBlock)      (None, 14, 14, 176)       484396    \n",
            "_________________________________________________________________\n",
            "blocks_32 (MBConvBlock)      (None, 14, 14, 176)       484396    \n",
            "_________________________________________________________________\n",
            "blocks_33 (MBConvBlock)      (None, 14, 14, 176)       484396    \n",
            "_________________________________________________________________\n",
            "blocks_34 (MBConvBlock)      (None, 7, 7, 304)         620076    \n",
            "_________________________________________________________________\n",
            "blocks_35 (MBConvBlock)      (None, 7, 7, 304)         1420364   \n",
            "_________________________________________________________________\n",
            "blocks_36 (MBConvBlock)      (None, 7, 7, 304)         1420364   \n",
            "_________________________________________________________________\n",
            "blocks_37 (MBConvBlock)      (None, 7, 7, 304)         1420364   \n",
            "_________________________________________________________________\n",
            "blocks_38 (MBConvBlock)      (None, 7, 7, 304)         1420364   \n",
            "_________________________________________________________________\n",
            "blocks_39 (MBConvBlock)      (None, 7, 7, 304)         1420364   \n",
            "_________________________________________________________________\n",
            "blocks_40 (MBConvBlock)      (None, 7, 7, 304)         1420364   \n",
            "_________________________________________________________________\n",
            "blocks_41 (MBConvBlock)      (None, 7, 7, 304)         1420364   \n",
            "_________________________________________________________________\n",
            "blocks_42 (MBConvBlock)      (None, 7, 7, 304)         1420364   \n",
            "_________________________________________________________________\n",
            "blocks_43 (MBConvBlock)      (None, 7, 7, 304)         1420364   \n",
            "_________________________________________________________________\n",
            "blocks_44 (MBConvBlock)      (None, 7, 7, 304)         1420364   \n",
            "_________________________________________________________________\n",
            "blocks_45 (MBConvBlock)      (None, 7, 7, 304)         1420364   \n",
            "_________________________________________________________________\n",
            "blocks_46 (MBConvBlock)      (None, 7, 7, 304)         1420364   \n",
            "_________________________________________________________________\n",
            "blocks_47 (MBConvBlock)      (None, 7, 7, 304)         1420364   \n",
            "_________________________________________________________________\n",
            "blocks_48 (MBConvBlock)      (None, 7, 7, 304)         1420364   \n",
            "_________________________________________________________________\n",
            "blocks_49 (MBConvBlock)      (None, 7, 7, 304)         1420364   \n",
            "_________________________________________________________________\n",
            "blocks_50 (MBConvBlock)      (None, 7, 7, 304)         1420364   \n",
            "_________________________________________________________________\n",
            "blocks_51 (MBConvBlock)      (None, 7, 7, 304)         1420364   \n",
            "_________________________________________________________________\n",
            "blocks_52 (MBConvBlock)      (None, 7, 7, 512)         1800588   \n",
            "_________________________________________________________________\n",
            "blocks_53 (MBConvBlock)      (None, 7, 7, 512)         3989632   \n",
            "_________________________________________________________________\n",
            "blocks_54 (MBConvBlock)      (None, 7, 7, 512)         3989632   \n",
            "_________________________________________________________________\n",
            "blocks_55 (MBConvBlock)      (None, 7, 7, 512)         3989632   \n",
            "_________________________________________________________________\n",
            "blocks_56 (MBConvBlock)      (None, 7, 7, 512)         3989632   \n",
            "_________________________________________________________________\n",
            "head (Head)                  (None, 1280)              660480    \n",
            "=================================================================\n",
            "Total params: 53,150,388\n",
            "Trainable params: 52,858,356\n",
            "Non-trainable params: 292,032\n",
            "_________________________________________________________________\n"
          ]
        }
      ]
    },
    {
      "cell_type": "code",
      "metadata": {
        "colab": {
          "base_uri": "https://localhost:8080/"
        },
        "id": "yFA-a84guOFE",
        "outputId": "c310bb9c-0bae-4e72-a8bf-05f985efa90e"
      },
      "source": [
        "diag_model = tf.keras.Sequential()\n",
        "# densenet = tf.keras.applications.densenet.DenseNet121(weights='imagenet')\n",
        "# model_handle = 'https://tfhub.dev/google/imagenet/efficientnet_v2_imagenet21k_m/feature_vector/2'\n",
        "# efficientNet = hub.KerasLayer(model_handle, trainable=True)\n",
        "\n",
        "diag_model.add(efficientnet)\n",
        "diag_model.add(tf.keras.layers.Dense(1, activation=tf.keras.activations.sigmoid))\n",
        "diag_model.build((None,)+(IMG_SIZE,IMG_SIZE)+(3,))\n",
        "diag_model.summary()"
      ],
      "execution_count": null,
      "outputs": [
        {
          "output_type": "stream",
          "name": "stdout",
          "text": [
            "Model: \"sequential_1\"\n",
            "_________________________________________________________________\n",
            "Layer (type)                 Output Shape              Param #   \n",
            "=================================================================\n",
            "efficientnetv2-m (EffNetV2Mo (None, 1280)              53150388  \n",
            "_________________________________________________________________\n",
            "dense (Dense)                (None, 1)                 1281      \n",
            "=================================================================\n",
            "Total params: 53,151,669\n",
            "Trainable params: 52,859,637\n",
            "Non-trainable params: 292,032\n",
            "_________________________________________________________________\n"
          ]
        }
      ]
    },
    {
      "cell_type": "code",
      "metadata": {
        "id": "EJ8bYNTPucYs"
      },
      "source": [
        "#taken from https://ecode.dev/cnn-for-medical-imaging-using-tensorflow-2/\n",
        "from tensorflow.keras.metrics import TruePositives, FalsePositives, TrueNegatives, FalseNegatives, BinaryAccuracy, Precision, Recall, AUC\n",
        "from tensorflow.keras.metrics import SpecificityAtSensitivity, SensitivityAtSpecificity\n",
        "\n",
        "METRICS = [\n",
        "      TruePositives(name='tp'),\n",
        "      FalsePositives(name='fp'),\n",
        "      TrueNegatives(name='tn'),\n",
        "      FalseNegatives(name='fn'), \n",
        "      BinaryAccuracy(name='accuracy'),\n",
        "      Precision(name='precision'),\n",
        "      Recall(name='recall'),\n",
        "      AUC(name='auc'),\n",
        "      SpecificityAtSensitivity(.5, name='specificity'),\n",
        "      SensitivityAtSpecificity(.5, name='sensitivity'),\n",
        "]"
      ],
      "execution_count": null,
      "outputs": []
    },
    {
      "cell_type": "code",
      "metadata": {
        "id": "TpW0p1BiucYs"
      },
      "source": [
        "diag_model.compile(\n",
        "  optimizer=tf.keras.optimizers.SGD(learning_rate=0.001, momentum=.9), \n",
        "  loss=tf.keras.losses.BinaryCrossentropy(),\n",
        "  metrics=METRICS)"
      ],
      "execution_count": null,
      "outputs": []
    },
    {
      "cell_type": "code",
      "metadata": {
        "id": "4xXjzjmOucYt"
      },
      "source": [
        "BetterDir = '/content/drive/MyDrive/AP PA Stuff/Datasets/Tensorflow/daignosis/'\n",
        "checkpoint_path = BetterDir + \"cp.ckpt\"\n",
        "checkpoint_dir = os.path.dirname(checkpoint_path)\n",
        "\n",
        "# Create a callback that saves the model's weights\n",
        "cp_callback = tf.keras.callbacks.ModelCheckpoint(filepath=checkpoint_path,\n",
        "                                                 save_weights_only=True,\n",
        "                                                 verbose=1, moniter=['tp','fp', 'tn', 'fn', 'accuracy', 'precision', 'recall', 'auc', 'specificity', 'sensitivity','val_tp','val_fp', 'val_tn', 'val_fn', 'val_accuracy', 'val_precision', 'val_recall', 'val_auc', 'val_specificity', 'val_sensitivity'])"
      ],
      "execution_count": null,
      "outputs": []
    },
    {
      "cell_type": "code",
      "metadata": {
        "id": "WlfykyGTucYt"
      },
      "source": [
        "class ClearStuff(tf.keras.callbacks.Callback):\n",
        "    def on_epoch_end(self, epoch, logs=None):\n",
        "        gc.collect()\n",
        "        tf.keras.backend.clear_session()\n",
        "\n",
        "reduce_lr = tf.keras.callbacks.ReduceLROnPlateau(monitor='val_loss', factor=0.1,\n",
        "                              patience=5)"
      ],
      "execution_count": null,
      "outputs": []
    },
    {
      "cell_type": "code",
      "metadata": {
        "colab": {
          "base_uri": "https://localhost:8080/"
        },
        "id": "vBNnigxfCTlZ",
        "outputId": "a005bbf6-c938-4bcd-bfdc-2670ba6e7fea"
      },
      "source": [
        "latest = tf.train.latest_checkpoint(checkpoint_dir)\n",
        "diag_model.load_weights(latest)"
      ],
      "execution_count": null,
      "outputs": [
        {
          "output_type": "execute_result",
          "data": {
            "text/plain": [
              "<tensorflow.python.training.tracking.util.CheckpointLoadStatus at 0x7f66fae39210>"
            ]
          },
          "metadata": {},
          "execution_count": 17
        }
      ]
    },
    {
      "cell_type": "code",
      "metadata": {
        "colab": {
          "base_uri": "https://localhost:8080/"
        },
        "id": "A6o60tQFvXVU",
        "outputId": "95cbdd9a-92cb-415a-aabf-cc807a670947"
      },
      "source": [
        "steps_per_epoch = dataset_length*.8 // BATCH_SIZE\n",
        "validation_steps = dataset_length*.2 // BATCH_SIZE\n",
        "jlj\n",
        "def train(): \n",
        "  hist = diag_model.fit(\n",
        "    train_ds,\n",
        "    epochs=epoch_number, steps_per_epoch=steps_per_epoch,\n",
        "    validation_data=valid_ds,\n",
        "    validation_steps=validation_steps,\n",
        "    callbacks=[cp_callback, ClearStuff(), reduce_lr]).history \n",
        "  return hist\n",
        "hist=train()"
      ],
      "execution_count": null,
      "outputs": [
        {
          "output_type": "stream",
          "name": "stdout",
          "text": [
            "Epoch 1/6\n",
            "1499/1499 [==============================] - 7550s 5s/step - loss: 0.3472 - tp: 9279.0000 - fp: 3115.0000 - tn: 30874.0000 - fn: 4700.0000 - accuracy: 0.8371 - precision: 0.7487 - recall: 0.6638 - auc: 0.9042 - specificity: 0.9555 - sensitivity: 0.9840 - val_loss: 0.2920 - val_tp: 2715.0000 - val_fp: 784.0000 - val_tn: 7676.0000 - val_fn: 793.0000 - val_accuracy: 0.8682 - val_precision: 0.7759 - val_recall: 0.7739 - val_auc: 0.9380 - val_specificity: 0.9826 - val_sensitivity: 0.9954\n",
            "\n",
            "Epoch 00001: saving model to /content/drive/MyDrive/AP PA Stuff/Datasets/Tensorflow/daignosis/cp.ckpt\n",
            "Epoch 2/6\n",
            "1499/1499 [==============================] - 3289s 2s/step - loss: 0.3413 - tp: 9274.0000 - fp: 3037.0000 - tn: 30969.0000 - fn: 4687.0000 - accuracy: 0.8390 - precision: 0.7533 - recall: 0.6643 - auc: 0.9077 - specificity: 0.9602 - sensitivity: 0.9849 - val_loss: 0.2831 - val_tp: 2697.0000 - val_fp: 677.0000 - val_tn: 7783.0000 - val_fn: 811.0000 - val_accuracy: 0.8757 - val_precision: 0.7993 - val_recall: 0.7688 - val_auc: 0.9412 - val_specificity: 0.9856 - val_sensitivity: 0.9952\n",
            "\n",
            "Epoch 00002: saving model to /content/drive/MyDrive/AP PA Stuff/Datasets/Tensorflow/daignosis/cp.ckpt\n",
            "Epoch 3/6\n",
            "1499/1499 [==============================] - 3278s 2s/step - loss: 0.3401 - tp: 9413.0000 - fp: 2971.0000 - tn: 30985.0000 - fn: 4598.0000 - accuracy: 0.8422 - precision: 0.7601 - recall: 0.6718 - auc: 0.9087 - specificity: 0.9626 - sensitivity: 0.9849 - val_loss: 0.2720 - val_tp: 2598.0000 - val_fp: 620.0000 - val_tn: 7891.0000 - val_fn: 859.0000 - val_accuracy: 0.8764 - val_precision: 0.8073 - val_recall: 0.7515 - val_auc: 0.9434 - val_specificity: 0.9867 - val_sensitivity: 0.9960\n",
            "\n",
            "Epoch 00003: saving model to /content/drive/MyDrive/AP PA Stuff/Datasets/Tensorflow/daignosis/cp.ckpt\n",
            "Epoch 4/6\n",
            "1499/1499 [==============================] - 3281s 2s/step - loss: 0.3305 - tp: 9597.0000 - fp: 2951.0000 - tn: 30959.0000 - fn: 4460.0000 - accuracy: 0.8455 - precision: 0.7648 - recall: 0.6827 - auc: 0.9142 - specificity: 0.9629 - sensitivity: 0.9874 - val_loss: 0.2857 - val_tp: 2788.0000 - val_fp: 927.0000 - val_tn: 7641.0000 - val_fn: 612.0000 - val_accuracy: 0.8714 - val_precision: 0.7505 - val_recall: 0.8200 - val_auc: 0.9413 - val_specificity: 0.9845 - val_sensitivity: 0.9950\n",
            "\n",
            "Epoch 00004: saving model to /content/drive/MyDrive/AP PA Stuff/Datasets/Tensorflow/daignosis/cp.ckpt\n",
            "Epoch 5/6\n",
            "1499/1499 [==============================] - 3271s 2s/step - loss: 0.3270 - tp: 9645.0000 - fp: 2870.0000 - tn: 31083.0000 - fn: 4369.0000 - accuracy: 0.8491 - precision: 0.7707 - recall: 0.6882 - auc: 0.9161 - specificity: 0.9663 - sensitivity: 0.9892 - val_loss: 0.2502 - val_tp: 2828.0000 - val_fp: 690.0000 - val_tn: 7797.0000 - val_fn: 653.0000 - val_accuracy: 0.8878 - val_precision: 0.8039 - val_recall: 0.8124 - val_auc: 0.9537 - val_specificity: 0.9901 - val_sensitivity: 0.9968\n",
            "\n",
            "Epoch 00005: saving model to /content/drive/MyDrive/AP PA Stuff/Datasets/Tensorflow/daignosis/cp.ckpt\n",
            "Epoch 6/6\n",
            "1499/1499 [==============================] - 2978s 2s/step - loss: 0.3232 - tp: 9630.0000 - fp: 2831.0000 - tn: 31153.0000 - fn: 4353.0000 - accuracy: 0.8502 - precision: 0.7728 - recall: 0.6887 - auc: 0.9180 - specificity: 0.9677 - sensitivity: 0.9897 - val_loss: 0.2594 - val_tp: 2896.0000 - val_fp: 735.0000 - val_tn: 7717.0000 - val_fn: 620.0000 - val_accuracy: 0.8868 - val_precision: 0.7976 - val_recall: 0.8237 - val_auc: 0.9522 - val_specificity: 0.9899 - val_sensitivity: 0.9980\n",
            "\n",
            "Epoch 00006: saving model to /content/drive/MyDrive/AP PA Stuff/Datasets/Tensorflow/daignosis/cp.ckpt\n"
          ]
        }
      ]
    },
    {
      "cell_type": "code",
      "metadata": {
        "colab": {
          "base_uri": "https://localhost:8080/"
        },
        "id": "ZCDQ6BkHxyuM",
        "outputId": "0ed2cbb6-d330-408c-ee07-a437209f7988"
      },
      "source": [
        "hist"
      ],
      "execution_count": null,
      "outputs": [
        {
          "output_type": "execute_result",
          "data": {
            "text/plain": [
              "{'accuracy': [0.837078869342804,\n",
              "  0.8389726281166077,\n",
              "  0.8422040343284607,\n",
              "  0.8454979658126831,\n",
              "  0.8490837216377258,\n",
              "  0.8502303957939148],\n",
              " 'auc': [0.904249370098114,\n",
              "  0.9077208042144775,\n",
              "  0.9087278842926025,\n",
              "  0.9142301678657532,\n",
              "  0.9161043763160706,\n",
              "  0.9180282950401306],\n",
              " 'fn': [4700.0, 4687.0, 4598.0, 4460.0, 4369.0, 4353.0],\n",
              " 'fp': [3115.0, 3037.0, 2971.0, 2951.0, 2870.0, 2831.0],\n",
              " 'loss': [0.34718650579452515,\n",
              "  0.34130576252937317,\n",
              "  0.3400909900665283,\n",
              "  0.3305099904537201,\n",
              "  0.32699182629585266,\n",
              "  0.32322990894317627],\n",
              " 'lr': [0.001, 0.001, 0.001, 0.001, 0.001, 0.001],\n",
              " 'precision': [0.7486687302589417,\n",
              "  0.7533100247383118,\n",
              "  0.7600936889648438,\n",
              "  0.7648230791091919,\n",
              "  0.7706751823425293,\n",
              "  0.7728111743927002],\n",
              " 'recall': [0.6637814044952393,\n",
              "  0.664279043674469,\n",
              "  0.6718292832374573,\n",
              "  0.6827203631401062,\n",
              "  0.6882403492927551,\n",
              "  0.6886934041976929],\n",
              " 'sensitivity': [0.9839759469032288,\n",
              "  0.9848864674568176,\n",
              "  0.9848690032958984,\n",
              "  0.9874083995819092,\n",
              "  0.9892250895500183,\n",
              "  0.9897018074989319],\n",
              " 'specificity': [0.9555150270462036,\n",
              "  0.960154116153717,\n",
              "  0.9625692367553711,\n",
              "  0.9629312753677368,\n",
              "  0.9663358330726624,\n",
              "  0.9676612615585327],\n",
              " 'tn': [30874.0, 30969.0, 30985.0, 30959.0, 31083.0, 31153.0],\n",
              " 'tp': [9279.0, 9274.0, 9413.0, 9597.0, 9645.0, 9630.0],\n",
              " 'val_accuracy': [0.8682319521903992,\n",
              "  0.875668466091156,\n",
              "  0.8764204382896423,\n",
              "  0.8714070916175842,\n",
              "  0.8877840638160706,\n",
              "  0.8867813944816589],\n",
              " 'val_auc': [0.9379674792289734,\n",
              "  0.9412468075752258,\n",
              "  0.943401575088501,\n",
              "  0.9413290619850159,\n",
              "  0.9536817073822021,\n",
              "  0.9522450566291809],\n",
              " 'val_fn': [793.0, 811.0, 859.0, 612.0, 653.0, 620.0],\n",
              " 'val_fp': [784.0, 677.0, 620.0, 927.0, 690.0, 735.0],\n",
              " 'val_loss': [0.29201599955558777,\n",
              "  0.28314441442489624,\n",
              "  0.2719951272010803,\n",
              "  0.2856563329696655,\n",
              "  0.25015580654144287,\n",
              "  0.25935086607933044],\n",
              " 'val_precision': [0.7759360074996948,\n",
              "  0.7993479371070862,\n",
              "  0.807333767414093,\n",
              "  0.7504710555076599,\n",
              "  0.8038658499717712,\n",
              "  0.7975764274597168],\n",
              " 'val_recall': [0.7739452719688416,\n",
              "  0.7688141465187073,\n",
              "  0.7515186667442322,\n",
              "  0.8199999928474426,\n",
              "  0.8124102354049683,\n",
              "  0.8236632347106934],\n",
              " 'val_sensitivity': [0.9954389929771423,\n",
              "  0.9951539635658264,\n",
              "  0.9959502220153809,\n",
              "  0.9950000047683716,\n",
              "  0.9968400001525879,\n",
              "  0.9980090856552124],\n",
              " 'val_specificity': [0.9826241135597229,\n",
              "  0.9855791926383972,\n",
              "  0.9867230653762817,\n",
              "  0.9844771027565002,\n",
              "  0.9901025295257568,\n",
              "  0.9899432063102722],\n",
              " 'val_tn': [7676.0, 7783.0, 7891.0, 7641.0, 7797.0, 7717.0],\n",
              " 'val_tp': [2715.0, 2697.0, 2598.0, 2788.0, 2828.0, 2896.0]}"
            ]
          },
          "metadata": {},
          "execution_count": 23
        }
      ]
    },
    {
      "cell_type": "markdown",
      "metadata": {
        "id": "c9jS-WwGuxW-"
      },
      "source": [
        "###Training\n"
      ]
    },
    {
      "cell_type": "code",
      "metadata": {
        "id": "oXCrrs7muxW_"
      },
      "source": [
        "import gc\n",
        "# kaggle_metadata_path = colabDir + 'stage_2_train_images/stage_2_detailed_class_info.csv'\n",
        "# kaggle_metadata = pd.read_csv(kaggle_metadata_path)\n",
        "IMG_SIZE= 256\n",
        "BATCH_SIZE = 32\n",
        "\n",
        "def read_training_dataset(file_name, label):\n",
        "  image = tf.io.read_file(file_name)\n",
        "  if label == 999.0:\n",
        "    # print(kaggle_metadata.loc[kaggle_metadata['patientId'] == id]['class'])\n",
        "    image = tfio.image.decode_dicom_image(image)[0,:,:,:]\n",
        "    image = tf.image.resize(image, [IMG_SIZE, IMG_SIZE])\n",
        "    image = tf.image.grayscale_to_rgb(image)\n",
        "  else:\n",
        "    image = tf.image.decode_jpeg(image, channels=3)\n",
        "    image = tf.image.resize(image, [IMG_SIZE, IMG_SIZE])\n",
        "  time.sleep(.002)\n",
        "  gc.collect()\n",
        "  return image, label\n"
      ],
      "execution_count": null,
      "outputs": []
    },
    {
      "cell_type": "code",
      "metadata": {
        "id": "l94mUFQ0uxW_"
      },
      "source": [
        "#TEST ON 13-24 FILE GROUPS AND KAGGLE TEST"
      ],
      "execution_count": null,
      "outputs": []
    },
    {
      "cell_type": "code",
      "metadata": {
        "id": "GSdFi3truxW_"
      },
      "source": [
        "Kaggle_AP = 0\n",
        "Kaggle_PA = 0\n",
        "IEEE_PA = 0\n",
        "IEEE_AP = 0\n",
        "epoch_number = 50 - 13 - 8 - 9 - 5 - 9\n",
        "num_shards = 4\n",
        "\n",
        "def train_gen(half=None):\n",
        "  global file_count\n",
        "  global Kaggle_AP\n",
        "  global Kaggle_PA\n",
        "  global IEEE_AP\n",
        "  global IEEE_PA\n",
        "\n",
        "  dataDir = 'NIH/'\n",
        "\n",
        "  #Getting dcm file paths from premade folders\n",
        "  #I manually Separated dcm into seperate folders bc google couldnt read 26k files in one line\n",
        "  file_paths = []\n",
        "  labels = []\n",
        "  metadata_path = 'NIH Metadata.csv'\n",
        "  file_dir_names = [str(i) for i in range(1,22)] #23-74 have rest of files\n",
        "  metadata = pd.read_csv(colabDir + dataDir + metadata_path)\n",
        "  for name in file_dir_names:\n",
        "    file_dir = colabDir + dataDir + name + '/'\n",
        "    files = os.listdir(file_dir)\n",
        "    for file_ in files:\n",
        "      file_paths.append(file_dir + file_)\n",
        "      label = (metadata.loc[metadata['Image Index'] == file_]['Finding Labels'])\n",
        "      if label.any() == 'No Finding':\n",
        "        label = 0.0\n",
        "      else:\n",
        "        label = 1.0\n",
        "      labels.append(label)\n",
        "\n",
        "\n",
        "  #oop cheXpert time (run that cell first)\n",
        "  name ='CheXpert Dataset'\n",
        "  dataDir = 'CheXpert-v1.0-small/'\n",
        "\n",
        "  #/content/drive/MyDrive/AP PA Stuff/Datasets/Original/CheXpert-v1.0-small/train.csv\n",
        "  #/content/drive/MyDrive/AP PA Stuff/Datasets/Original/CheXpert-v1.0-small/valid.csv\n",
        "  METADATA_CSV_PATH = colabDir + dataDir + 'train.csv' #train metadata path\n",
        "  METADATA_CSV_PATH2 = colabDir + dataDir + 'valid.csv' #validation metadata path\n",
        "  metadata = pd.read_csv(METADATA_CSV_PATH)\n",
        "  metadata2 = pd.read_csv(METADATA_CSV_PATH2)\n",
        "  metadata = pd.concat([metadata, metadata2], ignore_index=True)\n",
        "\n",
        "  #Only take 20k images\n",
        "  metadata = metadata[:25000]\n",
        "\n",
        "  #Getting image file paths from csv\n",
        "  chexpert_file_paths = list(metadata['Path'].values)\n",
        "\n",
        "  #Colab file path example: /content/drive/MyDrive/AP PA Stuff/Datasets/Original/CheXpert-v1.0-small/train/patient00001/study1/view1_frontal.jpg\n",
        "  #Change file paths to work with colab\n",
        "  for ind, path in enumerate(chexpert_file_paths):\n",
        "    chexpert_file_paths[ind] = colabDir + path\n",
        "  #Get AP/PA label\n",
        "  chexpert_labels = list(metadata['No Finding'].values)\n",
        "  for ind, label in enumerate(chexpert_labels):\n",
        "    if label != 1:\n",
        "      chexpert_labels[ind] = 0.0\n",
        "    else:\n",
        "      chexpert_labels[ind] = 1.0\n",
        "\n",
        "  labels.extend(chexpert_labels)\n",
        "  file_paths.extend(chexpert_file_paths)\n",
        "\n",
        "  for ind, label in enumerate(labels):\n",
        "    if label == 999.0 or label == 0.0 or label == 1.0:\n",
        "      continue\n",
        "    elif int(label) == 1:\n",
        "      labels[ind] = 1.0\n",
        "    elif int(label) == 0:\n",
        "      labels[ind] = 0.0\n",
        "    else:\n",
        "      raise\n",
        "\n",
        "\n",
        "  zipped = list(zip(file_paths, labels))\n",
        "  random.shuffle(zipped)\n",
        "\n",
        "  ind=0\n",
        "  # return labels\n",
        "  while ind<len(zipped):\n",
        "    image = tf.io.read_file(file_paths[ind])\n",
        "    image = tf.image.decode_jpeg(image, channels=3)\n",
        "    image = tf.image.resize(image, [IMG_SIZE, IMG_SIZE])\n",
        "    label = labels[ind]\n",
        "    yield zipped[ind][0], zipped[ind][1]\n",
        "    ind+=1"
      ],
      "execution_count": null,
      "outputs": []
    },
    {
      "cell_type": "code",
      "metadata": {
        "colab": {
          "base_uri": "https://localhost:8080/"
        },
        "id": "b1NqA7QLuxXA",
        "outputId": "db981dfd-8b00-4dee-b80a-6755852d50a2"
      },
      "source": [
        "def create_train():\n",
        "  dataset = tf.data.Dataset.from_generator(train_gen, output_signature=(tf.TensorSpec(shape=(), dtype=tf.string), tf.TensorSpec(shape=(), dtype=tf.float32)))\n",
        "  dataset = dataset.apply(tf.data.experimental.assert_cardinality(59999)) #34999(NIH) --20353 no finding, 14646 diseased + 25000(CheXpert)\n",
        "  dataset_length = dataset.cardinality().numpy()\n",
        "  buffer_size = int(.1 * dataset_length)\n",
        "  # shard_size = -(-dataset_size // num_shards)\n",
        "  \n",
        "  # shuffled_shards = []\n",
        "  # for i in shards:\n",
        "  #     subshard = shard(i)\n",
        "  #     subshard = subshard.interleave(lambda x: x, cycle_length=4, block_length=1)\n",
        "  #     shuffled_shards.append(subshard.shuffle(buffer_size=buffer_size))\n",
        "  # shuffled_shards = tf.data.Dataset.from_tensor_slices(shuffled_shards)\n",
        "  # dataset = shuffled_shards.interleave(lambda x: x, cycle_length=4, block_length=1)\n",
        "  # dataset = dataset.shuffle(num_shards)\n",
        "  # print(dataset)\n",
        "  dataset = dataset.shuffle(buffer_size=buffer_size)\n",
        "  dataset = dataset.map(read_training_dataset, num_parallel_calls=tf.data.AUTOTUNE)\n",
        "\n",
        "  print(dataset)\n",
        "  dataset = dataset.map(normalize)\n",
        "  train_ds, valid_ds, test_ds = training_split(dataset, training_prop=.8, validation_prop=.2, testing_prop=0, train=True)\n",
        "  train_ds = train_ds.map(lambda images, labels: (preprocessing_model(images), labels))\n",
        "  train_ds = train_ds.batch(BATCH_SIZE).repeat(epoch_number).prefetch(tf.data.AUTOTUNE)\n",
        "  valid_ds = valid_ds.batch(BATCH_SIZE).repeat(epoch_number).prefetch(tf.data.AUTOTUNE)\n",
        "  # test_ds = test_ds.batch(BATCH_SIZE).prefetch(tf.data.AUTOTUNE)\n",
        "  return dataset_length, train_ds, valid_ds, test_ds\n",
        "dataset_length, train_ds, valid_ds, test_ds = create_train()"
      ],
      "execution_count": null,
      "outputs": [
        {
          "output_type": "stream",
          "name": "stdout",
          "text": [
            "<ParallelMapDataset shapes: ((256, 256, 3), ()), types: (tf.float32, tf.float32)>\n",
            "c\n",
            "d\n",
            "e\n",
            "f\n",
            "g\n",
            "h\n",
            "i\n",
            "j\n"
          ]
        }
      ]
    },
    {
      "cell_type": "code",
      "metadata": {
        "colab": {
          "base_uri": "https://localhost:8080/"
        },
        "id": "ySecEVanuxXA",
        "outputId": "28d83cd2-32d8-4956-9c85-86f3abe92fc9"
      },
      "source": [
        "from google.colab import drive \n",
        "drive.mount('/content/drive')"
      ],
      "execution_count": null,
      "outputs": [
        {
          "output_type": "stream",
          "name": "stdout",
          "text": [
            "Drive already mounted at /content/drive; to attempt to forcibly remount, call drive.mount(\"/content/drive\", force_remount=True).\n"
          ]
        }
      ]
    },
    {
      "cell_type": "markdown",
      "metadata": {
        "id": "zEfBmWYOLTOh"
      },
      "source": [
        "#Evaluate Diagnosis\n"
      ]
    },
    {
      "cell_type": "markdown",
      "metadata": {
        "id": "h-ddeoUFLWkO"
      },
      "source": [
        "##CheXpert data\n"
      ]
    },
    {
      "cell_type": "code",
      "metadata": {
        "id": "cnXsR4icLv0v"
      },
      "source": [
        "class_distributions={}"
      ],
      "execution_count": null,
      "outputs": []
    },
    {
      "cell_type": "code",
      "metadata": {
        "colab": {
          "base_uri": "https://localhost:8080/"
        },
        "id": "4hbmEF7WLZX8",
        "outputId": "8f17d417-1baf-441c-e769-01175508a021"
      },
      "source": [
        "def Construct_CheXpert(TrainSplit, ValSplit, TestSplit, augment=False, NumImages=None): \n",
        "  # Creating CheXpert Dataset\n",
        "  # returns list: [train_ds(augmented), valid_ds, test_ds]\n",
        "  # augment used to check if should apply random flip, rotation, etc. to training dataset\n",
        "  # int NumImages used to determine how many images to include in database (if left blank then it takes all images)\n",
        "  # float TrainSplit, ValSplit, TestSplit used to determine proportion of dataset for each split\n",
        "\n",
        "  name ='CheXpert Dataset'\n",
        "  dataDir = 'CheXpert-v1.0-small/'\n",
        "\n",
        "  #/content/drive/MyDrive/AP PA Stuff/Datasets/Original/CheXpert-v1.0-small/train.csv\n",
        "  #/content/drive/MyDrive/AP PA Stuff/Datasets/Original/CheXpert-v1.0-small/valid.csv\n",
        "  METADATA_CSV_PATH = colabDir + dataDir + 'train.csv' #train metadata path\n",
        "  METADATA_CSV_PATH2 = colabDir + dataDir + 'valid.csv' #validation metadata path\n",
        "  metadata = pd.read_csv(METADATA_CSV_PATH)\n",
        "  metadata2 = pd.read_csv(METADATA_CSV_PATH2)\n",
        "  metadata = pd.concat([metadata, metadata2], ignore_index=True)[25000:]\n",
        "\n",
        "  #Getting image file paths from csv\n",
        "  chexpert_file_paths = list(metadata['Path'].values)\n",
        "\n",
        "  #Colab file path example: /content/drive/MyDrive/AP PA Stuff/Datasets/Original/CheXpert-v1.0-small/train/patient00001/study1/view1_frontal.jpg\n",
        "  #Change file paths to work with colab\n",
        "  for ind, path in enumerate(chexpert_file_paths):\n",
        "    chexpert_file_paths[ind] = colabDir + path\n",
        "  #Get AP/PA label\n",
        "  labels = list(metadata['No Finding'].values)\n",
        "  for ind, label in enumerate(labels):\n",
        "    if label != 1:\n",
        "      labels[ind] = 0.0\n",
        "    else:\n",
        "      labels[ind] = 1.0\n",
        "\n",
        "  #Not really needed for CheXpert but if ap/pa label has extra words then it'll cut that out & also gets counts of each label\n",
        "  AP_Count = 0\n",
        "  PA_Count = 0\n",
        "  ap_indexes = []\n",
        "  pa_indexes = []\n",
        "  cheXpert_train_indexes = []\n",
        "  for ind, label in enumerate(labels):\n",
        "    if label == 0:\n",
        "      labels[ind] = 0.0\n",
        "      ap_indexes.append(ind)\n",
        "      AP_Count += 1\n",
        "    elif label == 1:\n",
        "      labels[ind] = 1.0\n",
        "      pa_indexes.append(ind)\n",
        "      PA_Count += 1\n",
        "    else:\n",
        "      print(label)\n",
        "  class_distributions[name] = {'No Findings':AP_Count,\n",
        "                               'Findings':PA_Count,\n",
        "                               'Total': [f'Total Images = {AP_Count+PA_Count}',\n",
        "                                         f'No finding Percentage = {AP_Count/(AP_Count+PA_Count):.3f}',\n",
        "                                         f'Abnormal Percentage = {PA_Count/(AP_Count+PA_Count):.3f}']}\n",
        "\n",
        "  labels = np.asarray(labels).astype('float32')\n",
        "\n",
        "  cheXpert_ds = tf.data.Dataset.from_tensor_slices((chexpert_file_paths, labels))\n",
        "  cheXpert_ds = cheXpert_ds.shuffle(buffer_size=100000, seed=rngJesus)\n",
        "\n",
        "  if NumImages:\n",
        "    cheXpert_ds = cheXpert_ds.take(NumImages)\n",
        "\n",
        "  cheXpert_ds = cheXpert_ds.map(read_image)\n",
        "  train_ds, valid_ds, test_ds = training_split(cheXpert_ds, training_prop=TrainSplit, validation_prop=ValSplit, testing_prop=TestSplit)\n",
        "  \n",
        "  #If data is used for training then give option to augment the data\n",
        "  if augment:\n",
        "    train_ds = train_ds.map(lambda images, labels:\n",
        "              (preprocessing_model(images), labels))\n",
        "    \n",
        "  return [chexpert_file_paths, labels, test_ds, False]\n",
        "  # do dataset.batch(BATCHSIZE)\n",
        "\n",
        "cheXpert_ds = Construct_CheXpert(augment=False, TrainSplit=0, ValSplit=0, TestSplit=1)\n",
        "# tf.data.experimental.save(cheXpert_ds, tensorflowDir+name)\n",
        "# new_dataset = tf.data.experimental.load(tensorflowDir+name)"
      ],
      "execution_count": null,
      "outputs": [
        {
          "output_type": "stream",
          "name": "stdout",
          "text": [
            "c\n",
            "d\n",
            "e\n",
            "f\n",
            "g\n",
            "h\n",
            "i\n",
            "j\n"
          ]
        }
      ]
    },
    {
      "cell_type": "code",
      "metadata": {
        "colab": {
          "base_uri": "https://localhost:8080/",
          "height": 558
        },
        "id": "cTuObaq9NqDd",
        "outputId": "5dadc593-84d8-4595-8370-8f80ab740d82"
      },
      "source": [
        "# pixel_arrays = list(map(read_test_image, cheXpert_ds[0][:5000]))\n",
        "# pixel_arrays = tf.convert_to_tensor(pixel_arrays)\n",
        "# start_time = time.time()\n",
        "# predictions = diag_model.predict(pixel_arrays)\n",
        "# print(\"--- Prediction Time: %s seconds ---\" % (time.time() - start_time))\n",
        "# print(f\"--- Average Prediction Time: {(time.time() - start_time)/len(pixel_arrays)}\")\n",
        "# p=Find_Optimal_Cutoff(cheXpert_ds[1][:5000], predictions)[0]\n",
        "plot_cm('chexpert', cheXpert_ds[1][:5000], predictions, p=.5)\n",
        "print(f'Yo optimal threshold is {p}')"
      ],
      "execution_count": null,
      "outputs": [
        {
          "output_type": "stream",
          "name": "stdout",
          "text": [
            "AP (True Negatives):  4040\n",
            "Missed AP (False Positives):  395\n",
            "Missed PA (False Negatives):  281\n",
            "PA (True Positives):  284\n",
            "True Accuracy: 0.8648\n",
            "Sensitivity: 0.5026548672566372\n",
            "Specificity: 0.910935738444194\n",
            "PPV: 0.4182621502209131\n",
            "NPV: 0.9349687572321221\n",
            "F-1 Score: 0.4565916398713826\n",
            "Yo the Youden J thing is: 0.41359060570083117\n",
            "Yo optimal threshold is 0.11500663310289383\n"
          ]
        },
        {
          "output_type": "display_data",
          "data": {
            "image/png": "[encoded data removed]",
            "text/plain": [
              "<Figure size 360x360 with 1 Axes>"
            ]
          },
          "metadata": {
            "needs_background": "light"
          }
        }
      ]
    }
  ]
}