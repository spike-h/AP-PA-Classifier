{
  "nbformat": 4,
  "nbformat_minor": 0,
  "metadata": {
    "accelerator": "GPU",
    "colab": {
      "name": "Dataset Creator",
      "provenance": [],
      "collapsed_sections": [
        "v2GQzSrPGuA1",
        "0No-SI7bGxFN",
        "5BZ9VuWc-It7",
        "YhBQihc69OqV",
        "kPP5feO1ahUv",
        "qVVGY7_JfAiY",
        "Vq1fjygmokq8",
        "rT3siDHbb6Vp",
        "Ov4LYL6IaCFa",
        "RqIRNbC4bJy0",
        "0hsRAvV0d5oE",
        "DKSclpJAe8G7",
        "eVZhVfN2fO2U"
      ],
      "machine_shape": "hm",
      "include_colab_link": true
    },
    "kernelspec": {
      "display_name": "Python 3",
      "name": "python3"
    },
    "language_info": {
      "name": "python"
    }
  },
  "cells": [
    {
      "cell_type": "markdown",
      "metadata": {
        "id": "view-in-github",
        "colab_type": "text"
      },
      "source": [
        "<a href=\"https://colab.research.google.com/github/spike-h/AP-PA-Classifier/blob/main/Dataset_Creator.ipynb\" target=\"_parent\"><img src=\"https://colab.research.google.com/assets/colab-badge.svg\" alt=\"Open In Colab\"/></a>"
      ]
    },
    {
      "cell_type": "code",
      "metadata": {
        "colab": {
          "base_uri": "https://localhost:8080/"
        },
        "id": "VzS7-w0AxxBe",
        "outputId": "476a9209-675c-4907-9c5d-a09ce643fe05"
      },
      "source": [
        "from google.colab import drive\n",
        "drive.mount('/content/drive')"
      ],
      "execution_count": 2,
      "outputs": [
        {
          "output_type": "stream",
          "name": "stdout",
          "text": [
            "Mounted at /content/drive\n"
          ]
        }
      ]
    },
    {
      "cell_type": "markdown",
      "metadata": {
        "id": "xUeddQizbU-1"
      },
      "source": [
        "#Imports"
      ]
    },
    {
      "cell_type": "markdown",
      "metadata": {
        "id": "v2GQzSrPGuA1"
      },
      "source": [
        "##Pips (restart runtime after running)"
      ]
    },
    {
      "cell_type": "code",
      "metadata": {
        "colab": {
          "base_uri": "https://localhost:8080/",
          "height": 0
        },
        "id": "ISptNvTabNba",
        "outputId": "44adf67f-b847-4cb1-fb68-6cc993362447"
      },
      "source": [
        "'''\n",
        " importing from https://github.com/Engineero/tf_sprinkles\n",
        "'''\n",
        "!pip install tf_sprinkles &> /dev/null\n",
        "!pip install pydicom &> /dev/null\n",
        "!pip install pylibjpeg pylibjpeg-libjpeg  &> /dev/null\n",
        "!pip install python-gdcm &> /dev/null\n",
        "!pip install -q tensorflow-io &> /dev/null\n",
        "!pip install numpy --upgrade"
      ],
      "execution_count": 3,
      "outputs": [
        {
          "output_type": "stream",
          "name": "stdout",
          "text": [
            "Requirement already satisfied: numpy in /usr/local/lib/python3.7/dist-packages (1.19.5)\n",
            "Collecting numpy\n",
            "  Downloading numpy-1.21.2-cp37-cp37m-manylinux_2_12_x86_64.manylinux2010_x86_64.whl (15.7 MB)\n",
            "\u001b[K     |████████████████████████████████| 15.7 MB 211 kB/s \n",
            "\u001b[?25hInstalling collected packages: numpy\n",
            "  Attempting uninstall: numpy\n",
            "    Found existing installation: numpy 1.19.5\n",
            "    Uninstalling numpy-1.19.5:\n",
            "      Successfully uninstalled numpy-1.19.5\n",
            "\u001b[31mERROR: pip's dependency resolver does not currently take into account all the packages that are installed. This behaviour is the source of the following dependency conflicts.\n",
            "tensorflow 2.6.0 requires numpy~=1.19.2, but you have numpy 1.21.2 which is incompatible.\n",
            "datascience 0.10.6 requires folium==0.2.1, but you have folium 0.8.3 which is incompatible.\n",
            "albumentations 0.1.12 requires imgaug<0.2.7,>=0.2.5, but you have imgaug 0.2.9 which is incompatible.\u001b[0m\n",
            "Successfully installed numpy-1.21.2\n"
          ]
        },
        {
          "output_type": "display_data",
          "data": {
            "application/vnd.colab-display-data+json": {
              "pip_warning": {
                "packages": [
                  "numpy"
                ]
              }
            }
          },
          "metadata": {}
        }
      ]
    },
    {
      "cell_type": "markdown",
      "metadata": {
        "id": "0No-SI7bGxFN"
      },
      "source": [
        "##imports"
      ]
    },
    {
      "cell_type": "code",
      "metadata": {
        "colab": {
          "base_uri": "https://localhost:8080/"
        },
        "id": "qSJpJOKOGG5-",
        "outputId": "5b123241-38dc-4ea8-cab3-9381891b55a6"
      },
      "source": [
        "import os\n",
        "\n",
        "import matplotlib.pylab as plt\n",
        "import numpy as np\n",
        "import pandas as pd\n",
        "import random\n",
        "from tf_sprinkles import Sprinkles\n",
        "import pydicom\n",
        "from tqdm import tqdm\n",
        "import pylibjpeg\n",
        "import gdcm\n",
        "import tensorflow_io as tfio\n",
        "import time\n",
        "# import tracemalloc\n",
        "\n",
        "import tensorflow as tf\n",
        "import tensorflow_hub as hub\n",
        "import tensorflow_datasets as tfds\n",
        "\n",
        "print(\"TF version:\", tf.__version__)\n",
        "print(\"Hub version:\", hub.__version__)"
      ],
      "execution_count": 1,
      "outputs": [
        {
          "output_type": "stream",
          "name": "stdout",
          "text": [
            "TF version: 2.6.0\n",
            "Hub version: 0.12.0\n"
          ]
        }
      ]
    },
    {
      "cell_type": "code",
      "metadata": {
        "id": "onDAy5-lpCE9"
      },
      "source": [
        "colabDir = '/content/drive/MyDrive/AP PA Stuff/Datasets/Original/'\n",
        "tensorflowDir = '/content/drive/MyDrive/AP PA Stuff/Datasets/Tensorflow/'"
      ],
      "execution_count": 2,
      "outputs": []
    },
    {
      "cell_type": "code",
      "metadata": {
        "colab": {
          "base_uri": "https://localhost:8080/"
        },
        "id": "-Lwv2G5BA_Ld",
        "outputId": "f9d4c0ae-a021-4913-839d-32e0ef341bed"
      },
      "source": [
        "!pip install cache-magic\n",
        "import cache_magic\n",
        "!ln -s '/content/drive/MyDrive/AP PA Stuff/Datasets/cache' /content/.cache"
      ],
      "execution_count": 3,
      "outputs": [
        {
          "output_type": "stream",
          "name": "stdout",
          "text": [
            "Collecting cache-magic\n",
            "  Downloading cache-magic-1.0.4.tar.gz (7.0 kB)\n",
            "Requirement already satisfied: astunparse in /usr/local/lib/python3.7/dist-packages (from cache-magic) (1.6.3)\n",
            "Requirement already satisfied: IPython in /usr/local/lib/python3.7/dist-packages (from cache-magic) (5.5.0)\n",
            "Requirement already satisfied: tabulate in /usr/local/lib/python3.7/dist-packages (from cache-magic) (0.8.9)\n",
            "Requirement already satisfied: wheel<1.0,>=0.23.0 in /usr/local/lib/python3.7/dist-packages (from astunparse->cache-magic) (0.37.0)\n",
            "Requirement already satisfied: six<2.0,>=1.6.1 in /usr/local/lib/python3.7/dist-packages (from astunparse->cache-magic) (1.15.0)\n",
            "Requirement already satisfied: setuptools>=18.5 in /usr/local/lib/python3.7/dist-packages (from IPython->cache-magic) (57.4.0)\n",
            "Requirement already satisfied: prompt-toolkit<2.0.0,>=1.0.4 in /usr/local/lib/python3.7/dist-packages (from IPython->cache-magic) (1.0.18)\n",
            "Requirement already satisfied: simplegeneric>0.8 in /usr/local/lib/python3.7/dist-packages (from IPython->cache-magic) (0.8.1)\n",
            "Requirement already satisfied: decorator in /usr/local/lib/python3.7/dist-packages (from IPython->cache-magic) (4.4.2)\n",
            "Requirement already satisfied: pexpect in /usr/local/lib/python3.7/dist-packages (from IPython->cache-magic) (4.8.0)\n",
            "Requirement already satisfied: pygments in /usr/local/lib/python3.7/dist-packages (from IPython->cache-magic) (2.6.1)\n",
            "Requirement already satisfied: pickleshare in /usr/local/lib/python3.7/dist-packages (from IPython->cache-magic) (0.7.5)\n",
            "Requirement already satisfied: traitlets>=4.2 in /usr/local/lib/python3.7/dist-packages (from IPython->cache-magic) (5.1.0)\n",
            "Requirement already satisfied: wcwidth in /usr/local/lib/python3.7/dist-packages (from prompt-toolkit<2.0.0,>=1.0.4->IPython->cache-magic) (0.2.5)\n",
            "Requirement already satisfied: ptyprocess>=0.5 in /usr/local/lib/python3.7/dist-packages (from pexpect->IPython->cache-magic) (0.7.0)\n",
            "Building wheels for collected packages: cache-magic\n",
            "  Building wheel for cache-magic (setup.py) ... \u001b[?25l\u001b[?25hdone\n",
            "  Created wheel for cache-magic: filename=cache_magic-1.0.4-py3-none-any.whl size=6696 sha256=55bf7571c0638956066b43d2667b6b4702c32b05844ca92d2c4316c4a15a822d\n",
            "  Stored in directory: /root/.cache/pip/wheels/24/16/f2/016dbddf24f703cf51ad82bb88ca3a77458b20199acd3a5590\n",
            "Successfully built cache-magic\n",
            "Installing collected packages: cache-magic\n",
            "Successfully installed cache-magic-1.0.4\n"
          ]
        }
      ]
    },
    {
      "cell_type": "markdown",
      "metadata": {
        "id": "Rxi1_0x7WadX"
      },
      "source": [
        "#Creating tf.data.Dataset Datasets"
      ]
    },
    {
      "cell_type": "markdown",
      "metadata": {
        "id": "5BZ9VuWc-It7"
      },
      "source": [
        "##Helper/Starter functions"
      ]
    },
    {
      "cell_type": "code",
      "metadata": {
        "id": "rUHBLeTEEcZV"
      },
      "source": [
        "class_distributions = {}"
      ],
      "execution_count": 4,
      "outputs": []
    },
    {
      "cell_type": "code",
      "metadata": {
        "id": "eIMUy9Awcd2w"
      },
      "source": [
        "#Sprinkles augmentation setup\n",
        "\n",
        "#Set sprinkles to make 50-100 square holes in the image with side length of 10 pixels 30% ofthe time\n",
        "class RandomSprinkles(tf.keras.layers.Layer):\n",
        "  def __init__(self, **kwargs):\n",
        "    super().__init__()\n",
        "\n",
        "  def call(self, image):\n",
        "    sprinkles = Sprinkles(num_holes=random.randint(0,50), side_length=10)\n",
        "    return sprinkles(image)"
      ],
      "execution_count": 5,
      "outputs": []
    },
    {
      "cell_type": "code",
      "metadata": {
        "id": "VCZaec9y2t22"
      },
      "source": [
        "#Helper functions to create and augment the tf.data.Datasets\n",
        "IMG_SIZE = 256 #IF CHANGE HERE THEN ALSO CHANGE IN TRAIN MODEL.py\n",
        "BATCH_SIZE = 16 #IF CHANGE HERE THEN ALSO CHANGE IN TRAIN MODEL.py\n",
        "rngJesus = 8679309 #set seed for consistency when running but doesnt affect sprinkles soooooo maybe pointless\n",
        "\n",
        "def read_image(filename, label, bmp=None):\n",
        "  image_string = tf.io.read_file(filename)\n",
        "  image_decoded = tf.image.decode_image(image_string, channels=3, expand_animations=False)\n",
        "  image = tf.cast(image_decoded, tf.float32) / 255.0\n",
        "  image = tf.image.resize(image, [IMG_SIZE, IMG_SIZE])\n",
        "  return image, label\n",
        "\n",
        "def read_dicom_image(dcmFile, label):\n",
        "  # image_decoded = tf.convert_to_tensor(dcmFile)\n",
        "  # image_decoded = tf.expand_dims(image_decoded, axis=-1)\n",
        "  image = tf.image.grayscale_to_rgb(dcmFile)\n",
        "  print('a')\n",
        "  image = tf.cast(image, tf.float32) / 255.0\n",
        "  print('b')\n",
        "  # image = tf.image.resize(image, [IMG_SIZE, IMG_SIZE])\n",
        "  return image, label\n",
        "\n",
        "preprocessing_model = tf.keras.Sequential([\n",
        "  RandomSprinkles(),\n",
        "  tf.keras.layers.RandomFlip(\"horizontal\", seed=rngJesus),\n",
        "  tf.keras.layers.RandomContrast(factor=0.1, seed=rngJesus),\n",
        "  tf.keras.layers.RandomTranslation(0, 0.1, fill_mode='constant', seed=rngJesus),\n",
        "  tf.keras.layers.RandomTranslation(0.1, 0, fill_mode='constant', seed=rngJesus),\n",
        "  tf.keras.layers.RandomRotation(.046, fill_mode='constant', seed=rngJesus)\n",
        "])\n",
        "# preprocessing_model.add(\n",
        "#   tf.keras.layers.RandomRotation(.111, fill_mode='constant', seed=rngJesus)),\n",
        "# preprocessing_model.add(\n",
        "#   tf.keras.layers.RandomTranslation(0, 0.1, fill_mode='constant', seed=rngJesus))\n",
        "# preprocessing_model.add(\n",
        "#   tf.keras.layers.RandomTranslation(0.1, 0, fill_mode='constant', seed=rngJesus))\n",
        "# # preprocessing_model.add(\n",
        "# #   tf.keras.layers.RandomZoom(0.05, 0.05, fill_mode='constant', seed=rngJesus))\n",
        "# preprocessing_model.add(\n",
        "#   tf.keras.layers.RandomFlip(\"horizontal\", seed=rngJesus))\n",
        "# preprocessing_model.add(RandomSprinkles())\n",
        "\n",
        "#Function to show image\n",
        "def show_image(dataset):\n",
        "  dataset = dataset.take(1)\n",
        "  image, label = next(iter(dataset))\n",
        "  # image = image[0,:,:,:]\n",
        "  plt.imshow(image)\n",
        "  plt.axis('off')\n",
        "  plt.show()\n",
        "  print(label)\n",
        "\n",
        "#Training/Validation/Test Split\n",
        "def training_split(dataset, training_prop=0.8, validation_prop=0.1, testing_prop=0.1, train=False):\n",
        "  print('c')\n",
        "  dataset_size = dataset.cardinality().numpy()\n",
        "  print('d')\n",
        "  train_size = int(training_prop * dataset_size)\n",
        "  print('e')\n",
        "  val_size = int(validation_prop * dataset_size)\n",
        "  print('f')\n",
        "  test_size = int(testing_prop * dataset_size)\n",
        "  print('g')\n",
        "  \n",
        "  if not train:\n",
        "    train_ds = dataset.take(train_size).batch(BATCH_SIZE).prefetch(tf.data.AUTOTUNE)\n",
        "    #.prefetch(tf.data.AUTOTUNE)   \n",
        "    print('h') \n",
        "    val_ds = dataset.skip(train_size).take(val_size).batch(BATCH_SIZE).prefetch(tf.data.AUTOTUNE)\n",
        "    print('i')\n",
        "    test_ds = dataset.skip(train_size).skip(val_size).batch(BATCH_SIZE).prefetch(tf.data.AUTOTUNE)\n",
        "    print('j')\n",
        "  \n",
        "  else:\n",
        "    train_ds = dataset.take(train_size)\n",
        "    #.prefetch(tf.data.AUTOTUNE)   \n",
        "    print('h') \n",
        "    val_ds = dataset.skip(train_size).take(val_size)\n",
        "    print('i')\n",
        "    test_ds = dataset.skip(train_size).skip(val_size)\n",
        "    print('j')\n",
        "  \n",
        "  return train_ds, val_ds, test_ds\n",
        "\n",
        "def normalize(image, label):\n",
        "  image = tf.cast(image, tf.float32) / 255.0\n",
        "  return image, label\n",
        "\n",
        "def read_test_image(filename):\n",
        "  image_string = tf.io.read_file(filename)\n",
        "  image_decoded = tf.image.decode_image(image_string, channels=3, expand_animations=False)\n",
        "  image = tf.cast(image_decoded, tf.float32) / 255.0\n",
        "  image = tf.image.resize(image, [IMG_SIZE, IMG_SIZE])\n",
        "  return image\n",
        "\n",
        "def read_test_dicom_image(dcmFile):\n",
        "  # image_decoded = tf.convert_to_tensor(dcmFile)\n",
        "  # image_decoded = tf.expand_dims(image_decoded, axis=-1)\n",
        "  image = tf.image.grayscale_to_rgb(dcmFile)\n",
        "  image = tf.cast(image, tf.float32) / 255.0\n",
        "  # image = tf.image.resize(image, [IMG_SIZE, IMG_SIZE])\n",
        "  return image"
      ],
      "execution_count": 6,
      "outputs": []
    },
    {
      "cell_type": "markdown",
      "metadata": {
        "id": "JNF2CKvdNtl3"
      },
      "source": [
        "While many of the cells will look mostly the same, the difference lies in the file paths and metadata csv fields (and some variable names)"
      ]
    },
    {
      "cell_type": "markdown",
      "metadata": {
        "id": "YhBQihc69OqV"
      },
      "source": [
        "##Training\n"
      ]
    },
    {
      "cell_type": "code",
      "metadata": {
        "id": "tB8IG1pCbzp1"
      },
      "source": [
        "def random_shard(shard_size, dataset_size):\n",
        "  num_shards = -(-dataset_size // shard_size)  # Ceil division.\n",
        "  offsets = np.linspace(\n",
        "      0, dataset_size, num=num_shards, endpoint=False, dtype=np.int64)\n",
        "\n",
        "  def _random_shard(dataset):\n",
        "    sharded_dataset = tf.data.Dataset.from_tensor_slices(offsets)\n",
        "    sharded_dataset = sharded_dataset.shuffle(num_shards)\n",
        "    sharded_dataset = sharded_dataset.map(\n",
        "        lambda offset: dataset.skip(offset).take(shard_size))\n",
        "    print(sharded_dataset)\n",
        "    return sharded_dataset\n",
        "\n",
        "  return _random_shard\n"
      ],
      "execution_count": null,
      "outputs": []
    },
    {
      "cell_type": "code",
      "metadata": {
        "id": "zxzhZXTbQ_8W"
      },
      "source": [
        "import gc\n",
        "count = 0\n",
        "def read_training_dataset(file_name, label):\n",
        "  image = tf.io.read_file(file_name)\n",
        "  if label == 999.0:\n",
        "    label = tfio.image.decode_dicom_data(image, tags=[tfio.image.dicom_tags.SeriesDescription])[0]\n",
        "    image = tfio.image.decode_dicom_image(image)[0,:,:,:]\n",
        "    image = tf.image.resize(image, [IMG_SIZE, IMG_SIZE])\n",
        "    image = tf.image.grayscale_to_rgb(image)\n",
        "    if tf.strings.regex_full_match(label, \"(.*AP.*)\"):\n",
        "      label = 0.0\n",
        "    elif tf.strings.regex_full_match(label, \"(.*PA.*)\"):\n",
        "      label = 1.0\n",
        "    else:\n",
        "      label = 999.0\n",
        "      print(label)\n",
        "  else:\n",
        "    image = tf.image.decode_jpeg(image, channels=3)\n",
        "    image = tf.image.resize(image, [IMG_SIZE, IMG_SIZE])\n",
        "  time.sleep(.002)\n",
        "  gc.collect()\n",
        "  return image, label\n"
      ],
      "execution_count": 43,
      "outputs": []
    },
    {
      "cell_type": "code",
      "metadata": {
        "id": "j8js-YjFHiCM"
      },
      "source": [
        "def better_sharding(dataset, num_shards):\n",
        "  return tf.data.Dataset.from_tensor_slices([dataset.shard(num_shards, i) for i in range(0,num_shards)])"
      ],
      "execution_count": 44,
      "outputs": []
    },
    {
      "cell_type": "code",
      "metadata": {
        "id": "GRmAf54gZSst"
      },
      "source": [
        "#TEST ON 13-24 FILE GROUPS AND KAGGLE TEST"
      ],
      "execution_count": null,
      "outputs": []
    },
    {
      "cell_type": "code",
      "metadata": {
        "id": "uTK_NmeUDisa"
      },
      "source": [
        "Kaggle_AP = 0\n",
        "Kaggle_PA = 0\n",
        "IEEE_PA = 0\n",
        "IEEE_AP = 0\n",
        "epoch_number = 2\n",
        "num_shards = 4\n",
        "\n",
        "def train_gen(half=None):\n",
        "  global file_count\n",
        "  global Kaggle_AP\n",
        "  global Kaggle_PA\n",
        "  global IEEE_AP\n",
        "  global IEEE_PA\n",
        "\n",
        "  dataDir = 'stage_2_train_images/'\n",
        "\n",
        "  #Getting dcm file paths from premade folders\n",
        "  #I manually Separated dcm into seperate folders bc google couldnt read 26k files in one line\n",
        "  file_paths = []\n",
        "  labels = []\n",
        "  dcm_dir_names = [str(i) for i in range(1,25)]\n",
        "  for name in dcm_dir_names:\n",
        "    dcm_dir = colabDir + dataDir + name + '/'\n",
        "    files = os.listdir(dcm_dir)\n",
        "    for file in files:\n",
        "      file_paths.append(dcm_dir + file)\n",
        "      labels.append(999.0)\n",
        "\n",
        "  # dataDir = 'stage_2_test_images/'\n",
        "  # dcm_files = os.listdir(colabDir + dataDir)\n",
        "  # for dcm in dcm_files:\n",
        "  #   file_paths.append(colabDir + dataDir + dcm)\n",
        "  #   labels.append('placeholder')\n",
        "\n",
        "  # ind=0\n",
        "  # if half:\n",
        "  #   half = 10000\n",
        "  # while ind<len(file_paths[:half]):\n",
        "  #   dcm = pydicom.dcmread(file_paths[ind])\n",
        "  #   image = dcm.pixel_array\n",
        "  #   image = tf.image.resize(tf.expand_dims(image, axis=-1), [IMG_SIZE, IMG_SIZE])\n",
        "  #   image = tf.image.grayscale_to_rgb(image)\n",
        "  #   label = dcm.SeriesDescription\n",
        "  #   if 'AP' in label:\n",
        "  #     Kaggle_AP += 1\n",
        "  #     label = 0.0\n",
        "  #   elif 'PA' in label:\n",
        "  #     Kaggle_PA += 1\n",
        "  #     label = 1.0\n",
        "  #   yield image, label\n",
        "  #   ind+=1\n",
        "\n",
        "  dataDir = 'covid-chestxray-dataset-master/covid-chestxray-dataset-master/'\n",
        "\n",
        "  METADATA_CSV_PATH = colabDir + dataDir + 'metadata.csv' #train metadata path\n",
        "  metadata = pd.read_csv(METADATA_CSV_PATH)\n",
        "\n",
        "  #Only taking the rows that contain a value for view position\n",
        "  metadata = metadata[metadata['view'].str.contains('AP|PA', case=False, regex=True, na=False)]\n",
        "\n",
        "  #Getting image file paths from csv\n",
        "  IEEE_file_paths = metadata['filename'].values\n",
        "\n",
        "  #Colab file path example: /content/drive/MyDrive/AP PA Stuff/Datasets/Original/CheXpert-v1.0-small/train/patient00001/study1/view1_frontal.jpg\n",
        "  #Change file paths to work with colab\n",
        "  for ind, path in enumerate(IEEE_file_paths):\n",
        "    IEEE_file_paths[ind] = colabDir + dataDir + 'images/' + path\n",
        "  file_paths.extend(IEEE_file_paths)\n",
        "\n",
        "  #Get AP/PA label\n",
        "  IEEE_labels = metadata['view'].values\n",
        "  labels.extend(IEEE_labels)\n",
        "\n",
        "  #if ap/pa label has extra words then it'll cut that out & gets counts of each label & converts labels into 1 and 0\n",
        "  # for ind, label in enumerate(labels):\n",
        "\n",
        "  #oop cheXpert time (run that cell first)\n",
        "  file_paths.extend(cheXpert_train_files_and_labels[0])\n",
        "  labels.extend(cheXpert_train_files_and_labels[1])\n",
        "\n",
        "  for ind, label in enumerate(labels):\n",
        "    if label == 999.0 or label == 0.0 or label == 1.0:\n",
        "      continue\n",
        "    elif 'AP' in label:\n",
        "      labels[ind] = 0.0\n",
        "    elif 'PA' in label:\n",
        "      labels[ind] = 1.0\n",
        "\n",
        "  zipped = list(zip(file_paths, labels))\n",
        "  random.shuffle(zipped)\n",
        "\n",
        "  ind=0\n",
        "  while ind<len(zipped):\n",
        "    # image = tf.io.read_file(file_paths[ind])\n",
        "    # image = tf.image.decode_jpeg(image, channels=3)\n",
        "    # image = tf.image.resize(image, [IMG_SIZE, IMG_SIZE])\n",
        "    # label = labels[ind]\n",
        "    yield zipped[ind][0], zipped[ind][1]\n",
        "    ind+=1"
      ],
      "execution_count": 45,
      "outputs": []
    },
    {
      "cell_type": "code",
      "metadata": {
        "colab": {
          "base_uri": "https://localhost:8080/"
        },
        "id": "YJbjJw_WBTeO",
        "outputId": "1047b819-7d3f-42ae-f0a2-2e1a3986ad98"
      },
      "source": [
        "def create_train():\n",
        "  dataset = tf.data.Dataset.from_generator(train_gen, output_signature=(tf.TensorSpec(shape=(), dtype=tf.string), tf.TensorSpec(shape=(), dtype=tf.float32)))\n",
        "  dataset = dataset.apply(tf.data.experimental.assert_cardinality(47466)) #26684(kaggle) + 782(IEEE) + 20000(CheXpert)\n",
        "  dataset_length = dataset.cardinality().numpy()\n",
        "  buffer_size = int(.1 * dataset_length)\n",
        "  # shard_size = -(-dataset_size // num_shards)\n",
        "  \n",
        "  # shuffled_shards = []\n",
        "  # for i in shards:\n",
        "  #     subshard = shard(i)\n",
        "  #     subshard = subshard.interleave(lambda x: x, cycle_length=4, block_length=1)\n",
        "  #     shuffled_shards.append(subshard.shuffle(buffer_size=buffer_size))\n",
        "  # shuffled_shards = tf.data.Dataset.from_tensor_slices(shuffled_shards)\n",
        "  # dataset = shuffled_shards.interleave(lambda x: x, cycle_length=4, block_length=1)\n",
        "  # dataset = dataset.shuffle(num_shards)\n",
        "  # print(dataset)\n",
        "  dataset = dataset.shuffle(buffer_size=buffer_size)\n",
        "  dataset = dataset.map(read_training_dataset, num_parallel_calls=tf.data.AUTOTUNE)\n",
        "\n",
        "  print(dataset)\n",
        "  dataset = dataset.map(normalize)\n",
        "  train_ds, valid_ds, test_ds = training_split(dataset, training_prop=.8, validation_prop=.2, testing_prop=0, train=True)\n",
        "  train_ds = train_ds.map(lambda images, labels: (preprocessing_model(images), labels))\n",
        "  train_ds = train_ds.batch(BATCH_SIZE).repeat(epoch_number).prefetch(tf.data.AUTOTUNE)\n",
        "  valid_ds = valid_ds.batch(BATCH_SIZE).repeat(epoch_number).prefetch(tf.data.AUTOTUNE)\n",
        "  # test_ds = test_ds.batch(BATCH_SIZE).prefetch(tf.data.AUTOTUNE)\n",
        "  return dataset_length, train_ds, valid_ds, test_ds\n",
        "dataset_length, train_ds, valid_ds, test_ds = create_train()"
      ],
      "execution_count": 46,
      "outputs": [
        {
          "output_type": "stream",
          "name": "stdout",
          "text": [
            "999.0\n",
            "<ParallelMapDataset shapes: ((256, 256, 3), ()), types: (tf.float32, tf.float32)>\n",
            "c\n",
            "d\n",
            "e\n",
            "f\n",
            "g\n",
            "h\n",
            "i\n",
            "j\n"
          ]
        }
      ]
    },
    {
      "cell_type": "code",
      "metadata": {
        "id": "wDndRRfXSE8w"
      },
      "source": [
        ""
      ],
      "execution_count": null,
      "outputs": []
    },
    {
      "cell_type": "markdown",
      "metadata": {
        "id": "kPP5feO1ahUv"
      },
      "source": [
        "##junk"
      ]
    },
    {
      "cell_type": "code",
      "metadata": {
        "colab": {
          "base_uri": "https://localhost:8080/",
          "height": 191
        },
        "id": "b7Pa6RjN9YJm",
        "outputId": "21454021-817f-4603-f1a1-63c41a7a757a"
      },
      "source": [
        "'''\n",
        "def Construct_IEEE(TrainSplit, ValSplit, TestSplit, augment=False, NumImages=None): \n",
        "  # Creating ieee8023 Dataset (Covid-19 Image Data Collection)\n",
        "  # returns list: [train_ds(augmented), valid_ds, test_ds]\n",
        "  # augment used to check if should apply random flip, rotation, etc.\n",
        "  # NumImages used to determine how many images to include in database (if left blank then it takes all images)\n",
        "  # TrainSplit, ValSplit, TestSplit used to determine proportion of dataset for each split\n",
        "\n",
        "  name ='Ieee8023 Dataset'\n",
        "  dataDir = 'covid-chestxray-dataset-master/covid-chestxray-dataset-master/'\n",
        "\n",
        "  METADATA_CSV_PATH = colabDir + dataDir + 'metadata.csv' #train metadata path\n",
        "  metadata = pd.read_csv(METADATA_CSV_PATH)\n",
        "\n",
        "  #Only taking the rows that contain a value for view position\n",
        "  metadata = metadata[metadata['view'].str.contains('AP|PA', case=False, regex=True, na=False)]\n",
        "\n",
        "  #Getting image file paths from csv\n",
        "  file_paths = metadata['filename'].values\n",
        "\n",
        "  #Colab file path example: /content/drive/MyDrive/AP PA Stuff/Datasets/Original/CheXpert-v1.0-small/train/patient00001/study1/view1_frontal.jpg\n",
        "  #Change file paths to work with colab\n",
        "  for ind, path in enumerate(file_paths):\n",
        "    file_paths[ind] = colabDir + dataDir + 'images/' + path\n",
        "\n",
        "  #Get AP/PA label\n",
        "  labels = metadata['view'].values\n",
        "\n",
        "  #if ap/pa label has extra words then it'll cut that out & gets counts of each label & converts labels into 1 and 0\n",
        "  AP_Count = 0\n",
        "  PA_Count = 0\n",
        "  for ind, label in enumerate(labels):\n",
        "    if 'AP' in label:\n",
        "      labels[ind] = 0\n",
        "      AP_Count += 1\n",
        "    elif 'PA' in label:\n",
        "      labels[ind] = 1\n",
        "      PA_Count += 1\n",
        "  class_distributions[name] = {'AP':AP_Count,\n",
        "                               'PA':PA_Count,\n",
        "                               'Total': [f'Total Images = {AP_Count+PA_Count}',\n",
        "                                         f'AP Percentage = {AP_Count/(AP_Count+PA_Count):.3f}',\n",
        "                                         f'PA Percentage = {PA_Count/(AP_Count+PA_Count):.3f}']}\n",
        "\n",
        "  labels = np.asarray(labels).astype('float32')\n",
        "\n",
        "  dataset = tf.data.Dataset.from_tensor_slices((file_paths, labels))\n",
        "  dataset = dataset.shuffle(buffer_size=100000, seed=rngJesus)\n",
        "\n",
        "  if NumImages:\n",
        "    dataset = dataset.take(NumImages)\n",
        "\n",
        "  dataset = dataset.map(read_image)\n",
        "  train_ds, valid_ds, test_ds = training_split(dataset, training_prop=TrainSplit, validation_prop=ValSplit, testing_prop=TestSplit)\n",
        "\n",
        "  #If data is used for training then give option to augment the data\n",
        "  if augment:\n",
        "    train_ds = train_ds.map(lambda images, labels:\n",
        "              (preprocessing_model(images), labels))\n",
        "    \n",
        "  return [train_ds, valid_ds, test_ds]\n",
        "\n",
        "IEEE_ds = Construct_IEEE(.8,.2,0,augment=True)\n",
        "'''"
      ],
      "execution_count": null,
      "outputs": [
        {
          "data": {
            "application/vnd.google.colaboratory.intrinsic+json": {
              "type": "string"
            },
            "text/plain": [
              "\"\\ndef Construct_IEEE(TrainSplit, ValSplit, TestSplit, augment=False, NumImages=None): \\n  # Creating ieee8023 Dataset (Covid-19 Image Data Collection)\\n  # returns list: [train_ds(augmented), valid_ds, test_ds]\\n  # augment used to check if should apply random flip, rotation, etc.\\n  # NumImages used to determine how many images to include in database (if left blank then it takes all images)\\n  # TrainSplit, ValSplit, TestSplit used to determine proportion of dataset for each split\\n\\n  name ='Ieee8023 Dataset'\\n  dataDir = 'covid-chestxray-dataset-master/covid-chestxray-dataset-master/'\\n\\n  METADATA_CSV_PATH = colabDir + dataDir + 'metadata.csv' #train metadata path\\n  metadata = pd.read_csv(METADATA_CSV_PATH)\\n\\n  #Only taking the rows that contain a value for view position\\n  metadata = metadata[metadata['view'].str.contains('AP|PA', case=False, regex=True, na=False)]\\n\\n  #Getting image file paths from csv\\n  file_paths = metadata['filename'].values\\n\\n  #Colab file path example: /content/drive/MyDrive/AP PA Stuff/Datasets/Original/CheXpert-v1.0-small/train/patient00001/study1/view1_frontal.jpg\\n  #Change file paths to work with colab\\n  for ind, path in enumerate(file_paths):\\n    file_paths[ind] = colabDir + dataDir + 'images/' + path\\n\\n  #Get AP/PA label\\n  labels = metadata['view'].values\\n\\n  #if ap/pa label has extra words then it'll cut that out & gets counts of each label & converts labels into 1 and 0\\n  AP_Count = 0\\n  PA_Count = 0\\n  for ind, label in enumerate(labels):\\n    if 'AP' in label:\\n      labels[ind] = 0\\n      AP_Count += 1\\n    elif 'PA' in label:\\n      labels[ind] = 1\\n      PA_Count += 1\\n  class_distributions[name] = {'AP':AP_Count,\\n                               'PA':PA_Count,\\n                               'Total': [f'Total Images = {AP_Count+PA_Count}',\\n                                         f'AP Percentage = {AP_Count/(AP_Count+PA_Count):.3f}',\\n                                         f'PA Percentage = {PA_Count/(AP_Count+PA_Count):.3f}']}\\n\\n  labels = np.asarray(labels).astype('float32')\\n\\n  dataset = tf.data.Dataset.from_tensor_slices((file_paths, labels))\\n  dataset = dataset.shuffle(buffer_size=100000, seed=rngJesus)\\n\\n  if NumImages:\\n    dataset = dataset.take(NumImages)\\n\\n  dataset = dataset.map(read_image)\\n  train_ds, valid_ds, test_ds = training_split(dataset, training_prop=TrainSplit, validation_prop=ValSplit, testing_prop=TestSplit)\\n\\n  #If data is used for training then give option to augment the data\\n  if augment:\\n    train_ds = train_ds.map(lambda images, labels:\\n              (preprocessing_model(images), labels))\\n    \\n  return [train_ds, valid_ds, test_ds]\\n\\nIEEE_ds = Construct_IEEE(.8,.2,0,augment=True)\\n\""
            ]
          },
          "execution_count": 12,
          "metadata": {},
          "output_type": "execute_result"
        }
      ]
    },
    {
      "cell_type": "markdown",
      "metadata": {
        "id": "qVVGY7_JfAiY"
      },
      "source": [
        "###KAGGLE Train"
      ]
    },
    {
      "cell_type": "code",
      "metadata": {
        "colab": {
          "base_uri": "https://localhost:8080/",
          "height": 191
        },
        "id": "0VSMqR_YySf8",
        "outputId": "9259504d-2f64-42cc-b554-a13458a490a6"
      },
      "source": [
        "'''\n",
        "def Construct_KaggleTrain(TrainSplit, ValSplit, TestSplit, augment=False, NumImages=None): \n",
        "  # Creating Kaggle Train Dataset \n",
        "  # returns list: [train_ds(augmented), valid_ds, test_ds]\n",
        "  # augment used to check if should apply random flip, rotation, etc.\n",
        "  # NumImages used to determine how many images to include in database (if left blank then it takes all images)\n",
        "  # TrainSplit, ValSplit, TestSplit used to determine proportion of dataset for each split\n",
        "\n",
        "  name ='Kaggle Train Dataset'\n",
        "  # dataDir = 'stage_2_train_images/'\n",
        "\n",
        "  #Getting dcm file paths from premade folders\n",
        "  #I manually Separated dcm into seperate folders bc google couldnt read 26k files in one line\n",
        "  # file_paths = []\n",
        "  # dcm_dir_names = [str(i) for i in range(1,2)]\n",
        "  # for name in dcm_dir_names:\n",
        "  #   dcm_dir = colabDir + dataDir + name + '/'\n",
        "  #   files = os.listdir(dcm_dir)\n",
        "  #   for file in files:\n",
        "  #     file_paths.append(dcm_dir + file)\n",
        "\n",
        "  \n",
        "  #Split file_paths list into 500 file chunks to avoid ram overload when converting to tensor array\n",
        "  # file_groups = [file_paths[i:i + 500] for i in range(0, len(file_paths), 500)]\n",
        "  # ds_list = []\n",
        "\n",
        "  # for group in tqdm(file_groups):\n",
        "  # dcm_pixel_arrays = []\n",
        "  # labels = []\n",
        "  # for path in file_paths:\n",
        "  #   dcm = pydicom.dcmread(path)\n",
        "  #   image = dcm.pixel_array\n",
        "  #   image = tf.image.resize(tf.expand_dims(image, axis=-1), [IMG_SIZE, IMG_SIZE])\n",
        "  #   dcm_pixel_arrays.append(image)\n",
        "  #   labels.append(dcm.SeriesDescription)\n",
        "\n",
        "  # for ind, label in enumerate(labels):\n",
        "  #   if 'AP' in label:\n",
        "  #     labels[ind] = 0.0\n",
        "  #     AP_Count += 1\n",
        "  #   elif 'PA' in label:\n",
        "  #     labels[ind] = 1.0\n",
        "  #     PA_Count += 1\n",
        "        \n",
        "  dataset = tf.data.Dataset.from_generator(kaggle_train_gen, output_shapes=((256, 256, 1), ()), output_types=(tf.float32, tf.float32))\n",
        "\n",
        "  # dcm_pixel_arrays = []\n",
        "  # labels = []\n",
        "\n",
        "  #if ap/pa label has extra words then it'll cut that out & gets counts of each label & converts labels into 1 and 0\n",
        "\n",
        "  dataset = dataset.shuffle(buffer_size=100000, seed=rngJesus)\n",
        "\n",
        "  # if NumImages:\n",
        "  #   dataset = dataset.take(NumImages)\n",
        "\n",
        "  dataset = dataset.map(read_dicom_image)\n",
        "  # print(3)\n",
        "  train_ds, valid_ds, test_ds = training_split(dataset, training_prop=TrainSplit, validation_prop=ValSplit, testing_prop=TestSplit)\n",
        "  # class_distributions[name] = {'AP':AP_Count,\n",
        "  #                              'PA':PA_Count,\n",
        "  #                              'Total': [f'Total Images = {AP_Count+PA_Count}',\n",
        "  #                                        f'AP Percentage = {AP_Count/(AP_Count+PA_Count):.3f}',\n",
        "  #                                        f'PA Percentage = {PA_Count/(AP_Count+PA_Count):.3f}']}\n",
        "  # print(4)\n",
        "  # # train_ds2, valid_ds2, test_ds2 = training_split(dataset, training_prop=0, validation_prop=0, testing_prop=1)\n",
        "\n",
        "  # #If data is used for training then give option to augment the data\n",
        "  if augment:\n",
        "    train_ds = train_ds.map(lambda images, labels:\n",
        "              (preprocessing_model(images), labels))\n",
        "  #   print(5)\n",
        "\n",
        "  return [train_ds.batch(BATCH_SIZE).prefetch(tf.data.AUTOTUNE), valid_ds.batch(BATCH_SIZE).prefetch(tf.data.AUTOTUNE), test_ds.batch(BATCH_SIZE).prefetch(tf.data.AUTOTUNE)]\n",
        "\n",
        "Kaggle_Train_ds = Construct_KaggleTrain(.8,.2,0,augment=True)\n",
        "'''"
      ],
      "execution_count": null,
      "outputs": [
        {
          "data": {
            "application/vnd.google.colaboratory.intrinsic+json": {
              "type": "string"
            },
            "text/plain": [
              "\"\\ndef Construct_KaggleTrain(TrainSplit, ValSplit, TestSplit, augment=False, NumImages=None): \\n  # Creating Kaggle Train Dataset \\n  # returns list: [train_ds(augmented), valid_ds, test_ds]\\n  # augment used to check if should apply random flip, rotation, etc.\\n  # NumImages used to determine how many images to include in database (if left blank then it takes all images)\\n  # TrainSplit, ValSplit, TestSplit used to determine proportion of dataset for each split\\n\\n  name ='Kaggle Train Dataset'\\n  # dataDir = 'stage_2_train_images/'\\n\\n  #Getting dcm file paths from premade folders\\n  #I manually Separated dcm into seperate folders bc google couldnt read 26k files in one line\\n  # file_paths = []\\n  # dcm_dir_names = [str(i) for i in range(1,2)]\\n  # for name in dcm_dir_names:\\n  #   dcm_dir = colabDir + dataDir + name + '/'\\n  #   files = os.listdir(dcm_dir)\\n  #   for file in files:\\n  #     file_paths.append(dcm_dir + file)\\n\\n  \\n  #Split file_paths list into 500 file chunks to avoid ram overload when converting to tensor array\\n  # file_groups = [file_paths[i:i + 500] for i in range(0, len(file_paths), 500)]\\n  # ds_list = []\\n\\n  # for group in tqdm(file_groups):\\n  # dcm_pixel_arrays = []\\n  # labels = []\\n  # for path in file_paths:\\n  #   dcm = pydicom.dcmread(path)\\n  #   image = dcm.pixel_array\\n  #   image = tf.image.resize(tf.expand_dims(image, axis=-1), [IMG_SIZE, IMG_SIZE])\\n  #   dcm_pixel_arrays.append(image)\\n  #   labels.append(dcm.SeriesDescription)\\n\\n  # for ind, label in enumerate(labels):\\n  #   if 'AP' in label:\\n  #     labels[ind] = 0.0\\n  #     AP_Count += 1\\n  #   elif 'PA' in label:\\n  #     labels[ind] = 1.0\\n  #     PA_Count += 1\\n        \\n  dataset = tf.data.Dataset.from_generator(kaggle_train_gen, output_shapes=((256, 256, 1), ()), output_types=(tf.float32, tf.float32))\\n\\n  # dcm_pixel_arrays = []\\n  # labels = []\\n\\n  #if ap/pa label has extra words then it'll cut that out & gets counts of each label & converts labels into 1 and 0\\n\\n  dataset = dataset.shuffle(buffer_size=100000, seed=rngJesus)\\n\\n  # if NumImages:\\n  #   dataset = dataset.take(NumImages)\\n\\n  dataset = dataset.map(read_dicom_image)\\n  # print(3)\\n  train_ds, valid_ds, test_ds = training_split(dataset, training_prop=TrainSplit, validation_prop=ValSplit, testing_prop=TestSplit)\\n  # class_distributions[name] = {'AP':AP_Count,\\n  #                              'PA':PA_Count,\\n  #                              'Total': [f'Total Images = {AP_Count+PA_Count}',\\n  #                                        f'AP Percentage = {AP_Count/(AP_Count+PA_Count):.3f}',\\n  #                                        f'PA Percentage = {PA_Count/(AP_Count+PA_Count):.3f}']}\\n  # print(4)\\n  # # train_ds2, valid_ds2, test_ds2 = training_split(dataset, training_prop=0, validation_prop=0, testing_prop=1)\\n\\n  # #If data is used for training then give option to augment the data\\n  if augment:\\n    train_ds = train_ds.map(lambda images, labels:\\n              (preprocessing_model(images), labels))\\n  #   print(5)\\n\\n  return [train_ds.batch(BATCH_SIZE).prefetch(tf.data.AUTOTUNE), valid_ds.batch(BATCH_SIZE).prefetch(tf.data.AUTOTUNE), test_ds.batch(BATCH_SIZE).prefetch(tf.data.AUTOTUNE)]\\n\\nKaggle_Train_ds = Construct_KaggleTrain(.8,.2,0,augment=True)\\n\""
            ]
          },
          "execution_count": 13,
          "metadata": {},
          "output_type": "execute_result"
        }
      ]
    },
    {
      "cell_type": "code",
      "metadata": {
        "colab": {
          "base_uri": "https://localhost:8080/",
          "height": 35
        },
        "id": "sVpwI_KGDT0q",
        "outputId": "53ddaad1-829d-4d57-adf2-e4ba6f9f1b93"
      },
      "source": [
        "'''\n",
        "Kaggle_Train_ds\n",
        "'''"
      ],
      "execution_count": null,
      "outputs": [
        {
          "data": {
            "application/vnd.google.colaboratory.intrinsic+json": {
              "type": "string"
            },
            "text/plain": [
              "'\\nKaggle_Train_ds\\n'"
            ]
          },
          "execution_count": 14,
          "metadata": {},
          "output_type": "execute_result"
        }
      ]
    },
    {
      "cell_type": "code",
      "metadata": {
        "id": "q3aITjTa82t1"
      },
      "source": [
        "# Kaggle_Train_Snapshot = Kaggle_Train_ds[0].snapshot(tensorflowDir + 'Kaggle Train Dataset')\n",
        "# Kaggle_Train_Snapshot = tf.data.Dataset.snapshot(tensorflowDir + 'Kaggle Train Dataset')\n",
        "# Kaggle_Valid_Snapshot = Kaggle_Train_ds[1].snapshot(tensorflowDir + 'Kaggle Valid Dataset')"
      ],
      "execution_count": null,
      "outputs": []
    },
    {
      "cell_type": "code",
      "metadata": {
        "id": "O7VOa6m3fKZy"
      },
      "source": [
        "#returns 2 lists with the second one being a test set in case I wanna flip it so i train on the kaggle test"
      ],
      "execution_count": null,
      "outputs": []
    },
    {
      "cell_type": "markdown",
      "metadata": {
        "id": "b4v4afK09eC-"
      },
      "source": [
        "##Test"
      ]
    },
    {
      "cell_type": "markdown",
      "metadata": {
        "id": "Vq1fjygmokq8"
      },
      "source": [
        "###CheXpert"
      ]
    },
    {
      "cell_type": "code",
      "metadata": {
        "colab": {
          "base_uri": "https://localhost:8080/"
        },
        "id": "R0NxEHpuZt3U",
        "outputId": "5730c88b-7175-40f8-9740-7cbb7c9398e8"
      },
      "source": [
        "cheXpert_train_files_and_labels = [[],[]]\n",
        "def Construct_CheXpert(TrainSplit, ValSplit, TestSplit, augment=False, NumImages=None): \n",
        "  # Creating CheXpert Dataset\n",
        "  # returns list: [train_ds(augmented), valid_ds, test_ds]\n",
        "  # augment used to check if should apply random flip, rotation, etc. to training dataset\n",
        "  # int NumImages used to determine how many images to include in database (if left blank then it takes all images)\n",
        "  # float TrainSplit, ValSplit, TestSplit used to determine proportion of dataset for each split\n",
        "\n",
        "  name ='CheXpert Dataset'\n",
        "  dataDir = 'CheXpert-v1.0-small/'\n",
        "\n",
        "  #/content/drive/MyDrive/AP PA Stuff/Datasets/Original/CheXpert-v1.0-small/train.csv\n",
        "  #/content/drive/MyDrive/AP PA Stuff/Datasets/Original/CheXpert-v1.0-small/valid.csv\n",
        "  METADATA_CSV_PATH = colabDir + dataDir + 'train.csv' #train metadata path\n",
        "  METADATA_CSV_PATH2 = colabDir + dataDir + 'valid.csv' #validation metadata path\n",
        "  metadata = pd.read_csv(METADATA_CSV_PATH)\n",
        "  metadata2 = pd.read_csv(METADATA_CSV_PATH2)\n",
        "  metadata = pd.concat([metadata, metadata2], ignore_index=True)\n",
        "\n",
        "  #Only taking the rows that contain a value for view position\n",
        "  metadata = metadata[metadata['AP/PA'].str.contains('AP|PA', case=False, regex=True, na=False)]\n",
        "\n",
        "  #Getting image file paths from csv\n",
        "  file_paths = list(metadata['Path'].values)\n",
        "\n",
        "  #Colab file path example: /content/drive/MyDrive/AP PA Stuff/Datasets/Original/CheXpert-v1.0-small/train/patient00001/study1/view1_frontal.jpg\n",
        "  #Change file paths to work with colab\n",
        "  for ind, path in enumerate(file_paths):\n",
        "    file_paths[ind] = colabDir + path\n",
        "\n",
        "  #Get AP/PA label\n",
        "  labels = list(metadata['AP/PA'].values)\n",
        "  #Not really needed for CheXpert but if ap/pa label has extra words then it'll cut that out & also gets counts of each label\n",
        "  AP_Count = 0\n",
        "  PA_Count = 0\n",
        "  ap_indexes = []\n",
        "  pa_indexes = []\n",
        "  cheXpert_train_indexes = []\n",
        "  for ind, label in enumerate(labels):\n",
        "    if 'AP' in label:\n",
        "      labels[ind] = 0.0\n",
        "      ap_indexes.append(ind)\n",
        "      AP_Count += 1\n",
        "    elif 'PA' in label:\n",
        "      labels[ind] = 1.0\n",
        "      pa_indexes.append(ind)\n",
        "      PA_Count += 1\n",
        "  class_distributions[name] = {'AP':AP_Count,\n",
        "                               'PA':PA_Count,\n",
        "                               'Total': [f'Total Images = {AP_Count+PA_Count}',\n",
        "                                         f'AP Percentage = {AP_Count/(AP_Count+PA_Count):.3f}',\n",
        "                                         f'PA Percentage = {PA_Count/(AP_Count+PA_Count):.3f}']}\n",
        " \n",
        " \n",
        "  cheXpert_train_indexes.extend(ap_indexes[:10000])\n",
        "  cheXpert_train_indexes.extend(pa_indexes[:10000])\n",
        "  for index in sorted(cheXpert_train_indexes, reverse=True):\n",
        "    cheXpert_train_files_and_labels[0].append(file_paths[index])\n",
        "    cheXpert_train_files_and_labels[1].append(labels[index])\n",
        "    del labels[index]\n",
        "    del file_paths[index]\n",
        "\n",
        "  labels = np.asarray(labels).astype('float32')\n",
        "\n",
        "  cheXpert_ds = tf.data.Dataset.from_tensor_slices((file_paths, labels))\n",
        "  cheXpert_ds = cheXpert_ds.shuffle(buffer_size=100000, seed=rngJesus)\n",
        "\n",
        "  if NumImages:\n",
        "    cheXpert_ds = cheXpert_ds.take(NumImages)\n",
        "\n",
        "  cheXpert_ds = cheXpert_ds.map(read_image)\n",
        "  train_ds, valid_ds, test_ds = training_split(cheXpert_ds, training_prop=TrainSplit, validation_prop=ValSplit, testing_prop=TestSplit)\n",
        "  \n",
        "  #If data is used for training then give option to augment the data\n",
        "  if augment:\n",
        "    train_ds = train_ds.map(lambda images, labels:\n",
        "              (preprocessing_model(images), labels))\n",
        "    \n",
        "  return [file_paths, labels, test_ds, False]\n",
        "  # do dataset.batch(BATCHSIZE)\n",
        "\n",
        "cheXpert_ds = Construct_CheXpert(augment=False, TrainSplit=0, ValSplit=0, TestSplit=1)\n",
        "# tf.data.experimental.save(cheXpert_ds, tensorflowDir+name)\n",
        "# new_dataset = tf.data.experimental.load(tensorflowDir+name)"
      ],
      "execution_count": 80,
      "outputs": [
        {
          "output_type": "stream",
          "name": "stdout",
          "text": [
            "c\n",
            "d\n",
            "e\n",
            "f\n",
            "g\n",
            "h\n",
            "i\n",
            "j\n"
          ]
        }
      ]
    },
    {
      "cell_type": "markdown",
      "metadata": {
        "id": "rT3siDHbb6Vp"
      },
      "source": [
        "###CX-Net"
      ]
    },
    {
      "cell_type": "code",
      "metadata": {
        "colab": {
          "base_uri": "https://localhost:8080/"
        },
        "id": "DokWshXnWFYA",
        "outputId": "81087b61-112d-4393-b0e4-096e6cbd3d5c"
      },
      "source": [
        "weird=set()\n",
        "def Construct_CXNet(TrainSplit, ValSplit, TestSplit, augment=False, NumImages=None): \n",
        "  # Creating CX-Net Dataset \n",
        "  # returns list: [train_ds(augmented), valid_ds, test_ds]\n",
        "  # augment used to check if should apply random flip, rotation, etc.\n",
        "  # NumImages used to determine how many images to include in database (if left blank then it takes all images)\n",
        "  # TrainSplit, ValSplit, TestSplit used to determine proportion of dataset for each split\n",
        "\n",
        "  name ='CX-Net Dataset'\n",
        "  dataDir = 'covid_cxnet_dataset/'\n",
        "\n",
        "  METADATA_CSV_PATH = colabDir + dataDir + 'metadata.csv' #train metadata path\n",
        "  metadata = pd.read_csv(METADATA_CSV_PATH)\n",
        "\n",
        "  #Only taking the rows that contain a value for view position\n",
        "  metadata = metadata[metadata['view'].str.contains('AP|PA', case=False, regex=True, na=False)]\n",
        "  metadata = metadata[metadata['filename'].str.contains('jpg|png|jpeg', case=False, regex=True, na=False)]\n",
        "\n",
        "  #Getting image file paths from csv\n",
        "  file_paths2 = metadata['filename'].values\n",
        "  other_paths = os.listdir(colabDir + dataDir + 'covid19/')\n",
        "  temp = []\n",
        "  file_paths = []\n",
        "\n",
        "  for file_path in file_paths2:\n",
        "    temp.append(file_path.split('.')[0])\n",
        "    # weird.add(file_path.split('.')[1])\n",
        "  for file_path in other_paths:\n",
        "    file_name = file_path.split('.')\n",
        "    # weird.add(file_name[1])\n",
        "    if file_name[0] in temp:\n",
        "      # extension = file_name[1].lower()\n",
        "      # file_paths.append(file_name[0]+'.'+extension)\n",
        "      file_paths.append(file_path)\n",
        "  # print(file_paths[218])\n",
        "  del file_paths[218] #Trying to read this file: '/content/drive/MyDrive/AP PA Stuff/Datasets/Original/covid_cxnet_dataset/covid19/884.png' results in this error: InvalidArgumentError: Unknown image file format. One of JPEG, PNG, GIF, BMP required. [Op:DecodeImage] I do not know why nor how to fix it so I've decided to ignore it by not reading that file\n",
        "\n",
        "  #Colab file path example: /content/drive/MyDrive/AP PA Stuff/Datasets/Original/CheXpert-v1.0-small/train/patient00001/study1/view1_frontal.jpg\n",
        "  #Change file paths to work with colab\n",
        "  for ind, path in enumerate(file_paths):\n",
        "    file_paths[ind] = colabDir + dataDir + 'covid19/' + path\n",
        "\n",
        "  #Get AP/PA label\n",
        "  labels = list(metadata['view'].values)\n",
        "  del labels[218]\n",
        "\n",
        "  #if ap/pa label has extra words then it'll cut that out & gets counts of each label & converts labels into 1 and 0\n",
        "  AP_Count = 0\n",
        "  PA_Count = 0\n",
        "  for ind, label in enumerate(labels):\n",
        "    if 'AP' in label:\n",
        "      labels[ind] = 0\n",
        "      AP_Count += 1\n",
        "    elif 'PA' in label:\n",
        "      labels[ind] = 1\n",
        "      PA_Count += 1\n",
        "  class_distributions[name] = {'AP':AP_Count,\n",
        "                               'PA':PA_Count,\n",
        "                               'Total': [f'Total Images = {AP_Count+PA_Count}',\n",
        "                                         f'AP Percentage = {AP_Count/(AP_Count+PA_Count):.3f}',\n",
        "                                         f'PA Percentage = {PA_Count/(AP_Count+PA_Count):.3f}']}\n",
        "\n",
        "  labels = np.asarray(labels).astype('float32')\n",
        "\n",
        "  dataset = tf.data.Dataset.from_tensor_slices((file_paths, labels))\n",
        "  dataset = dataset.shuffle(buffer_size=100000, seed=rngJesus)\n",
        "\n",
        "  if NumImages:\n",
        "    dataset = dataset.take(NumImages)\n",
        "\n",
        "  dataset = dataset.map(read_image)\n",
        "  train_ds, valid_ds, test_ds = training_split(dataset, training_prop=TrainSplit, validation_prop=ValSplit, testing_prop=TestSplit)\n",
        "\n",
        "  #If data is used for training then give option to augment the data\n",
        "  if augment:\n",
        "    train_ds = train_ds.map(lambda images, labels:\n",
        "              (preprocessing_model(images), labels))\n",
        "    \n",
        "  return [file_paths, labels, test_ds, False]\n",
        "\n",
        "CXNet_ds = Construct_CXNet(0,0,1,augment=False)"
      ],
      "execution_count": null,
      "outputs": [
        {
          "output_type": "stream",
          "name": "stdout",
          "text": [
            "c\n",
            "d\n",
            "e\n",
            "f\n",
            "g\n",
            "h\n",
            "i\n",
            "j\n"
          ]
        }
      ]
    },
    {
      "cell_type": "markdown",
      "metadata": {
        "id": "Ov4LYL6IaCFa"
      },
      "source": [
        "###ActualMed"
      ]
    },
    {
      "cell_type": "code",
      "metadata": {
        "colab": {
          "base_uri": "https://localhost:8080/"
        },
        "id": "jhfH0jaJaMJD",
        "outputId": "b4423e5c-3267-45f5-cbc9-913116d44af5"
      },
      "source": [
        "def Construct_ActualMed(TrainSplit, ValSplit, TestSplit, augment=False, NumImages=None): \n",
        "  # Creating ActualMed Dataset \n",
        "  # returns list: [train_ds(augmented), valid_ds, test_ds]\n",
        "  # augment used to check if should apply random flip, rotation, etc.\n",
        "  # NumImages used to determine how many images to include in database (if left blank then it takes all images)\n",
        "  # TrainSplit, ValSplit, TestSplit used to determine proportion of dataset for each split\n",
        "\n",
        "  name ='ActualMed Dataset'\n",
        "  dataDir = 'Actualmed-COVID-chestxray-dataset-master/'\n",
        "\n",
        "  METADATA_CSV_PATH = colabDir + dataDir + 'metadata.csv' #train metadata path\n",
        "  metadata = pd.read_csv(METADATA_CSV_PATH)\n",
        "\n",
        "  #Only taking the rows that contain a value for view position\n",
        "  metadata = metadata[metadata['view'].str.contains('AP|PA', case=False, regex=True, na=False)]\n",
        "\n",
        "  #Getting image file paths from csv\n",
        "  file_paths = metadata['imagename'].values\n",
        "\n",
        "  #Colab file path example: /content/drive/MyDrive/AP PA Stuff/Datasets/Original/CheXpert-v1.0-small/train/patient00001/study1/view1_frontal.jpg\n",
        "  #Change file paths to work with colab\n",
        "  for ind, path in enumerate(file_paths):\n",
        "    file_paths[ind] = colabDir + dataDir + 'images/' + path\n",
        "\n",
        "  #Get AP/PA label\n",
        "  labels = metadata['view'].values\n",
        "\n",
        "  #if ap/pa label has extra words then it'll cut that out & gets counts of each label & converts labels into 1 and 0\n",
        "  AP_Count = 0\n",
        "  PA_Count = 0\n",
        "  for ind, label in enumerate(labels):\n",
        "    if 'AP' in label:\n",
        "      labels[ind] = 0\n",
        "      AP_Count += 1\n",
        "    elif 'PA' in label:\n",
        "      labels[ind] = 1\n",
        "      PA_Count += 1\n",
        "  class_distributions[name] = {'AP':AP_Count,\n",
        "                               'PA':PA_Count,\n",
        "                               'Total': [f'Total Images = {AP_Count+PA_Count}',\n",
        "                                         f'AP Percentage = {AP_Count/(AP_Count+PA_Count):.3f}',\n",
        "                                         f'PA Percentage = {PA_Count/(AP_Count+PA_Count):.3f}']}\n",
        "\n",
        "  labels = np.asarray(labels).astype('float32')\n",
        "\n",
        "  dataset = tf.data.Dataset.from_tensor_slices((file_paths, labels))\n",
        "  dataset = dataset.shuffle(buffer_size=100000, seed=rngJesus)\n",
        "\n",
        "  if NumImages:\n",
        "    dataset = dataset.take(NumImages)\n",
        "\n",
        "  dataset = dataset.map(read_image)\n",
        "  train_ds, valid_ds, test_ds = training_split(dataset, training_prop=TrainSplit, validation_prop=ValSplit, testing_prop=TestSplit)\n",
        "\n",
        "  #If data is used for training then give option to augment the data\n",
        "  if augment:\n",
        "    train_ds = train_ds.map(lambda images, labels:\n",
        "              (preprocessing_model(images), labels))\n",
        "    \n",
        "  return [file_paths, labels, test_ds, False]\n",
        "\n",
        "ActualMed_ds = Construct_ActualMed(0,0,1,augment=False)"
      ],
      "execution_count": null,
      "outputs": [
        {
          "output_type": "stream",
          "name": "stdout",
          "text": [
            "c\n",
            "d\n",
            "e\n",
            "f\n",
            "g\n",
            "h\n",
            "i\n",
            "j\n"
          ]
        }
      ]
    },
    {
      "cell_type": "markdown",
      "metadata": {
        "id": "RqIRNbC4bJy0"
      },
      "source": [
        "###Shenzhen"
      ]
    },
    {
      "cell_type": "code",
      "metadata": {
        "colab": {
          "base_uri": "https://localhost:8080/"
        },
        "id": "JdRcwBhsbv4p",
        "outputId": "af654a44-94d1-4aa5-d8a9-b7fbb19559f5"
      },
      "source": [
        "def Construct_Shenzhen(TrainSplit, ValSplit, TestSplit, augment=False, NumImages=None): \n",
        "  # Creating Shenzhen Dataset \n",
        "  # returns list: [train_ds(augmented), valid_ds, test_ds]\n",
        "  # augment used to check if should apply random flip, rotation, etc.\n",
        "  # NumImages used to determine how many images to include in database (if left blank then it takes all images)\n",
        "  # TrainSplit, ValSplit, TestSplit used to determine proportion of dataset for each split\n",
        "\n",
        "  #Shenzhen dataset only has PA images so no metadata.csv checks\n",
        "\n",
        "  name ='Shenzhen Dataset'\n",
        "  dataDir = 'ChinaSet_AllFiles/ChinaSet_AllFiles/CXR_png/'\n",
        "\n",
        "  #Getting image file paths\n",
        "  index_to_go=0\n",
        "  file_paths = os.listdir(colabDir + dataDir)\n",
        "  for ind, path in enumerate(file_paths):\n",
        "    if path.split('.')[1] == 'db':\n",
        "      index_to_go=ind\n",
        "    file_paths[ind] = colabDir+dataDir+path\n",
        "\n",
        "  del file_paths[index_to_go]\n",
        "  #Get AP/PA label\n",
        "  #AP:0, PA:1\n",
        "  labels = [1 for i in file_paths]\n",
        "\n",
        "  #if ap/pa label has extra words then it'll cut that out & gets counts of each label & converts labels into 1 and 0\n",
        "  AP_Count = 0\n",
        "  PA_Count = len(labels)\n",
        "  class_distributions[name] = {'AP':AP_Count,\n",
        "                               'PA':PA_Count,\n",
        "                               'Total': [f'Total Images = {AP_Count+PA_Count}',\n",
        "                                         f'AP Percentage = {AP_Count/(AP_Count+PA_Count):.3f}',\n",
        "                                         f'PA Percentage = {PA_Count/(AP_Count+PA_Count):.3f}']}\n",
        "\n",
        "  labels = np.asarray(labels).astype('float32')\n",
        "\n",
        "  dataset = tf.data.Dataset.from_tensor_slices((file_paths, labels))\n",
        "  dataset = dataset.shuffle(buffer_size=100000, seed=rngJesus)\n",
        "\n",
        "  if NumImages:\n",
        "    dataset = dataset.take(NumImages)\n",
        "\n",
        "  dataset = dataset.map(read_image)\n",
        "  train_ds, valid_ds, test_ds = training_split(dataset, training_prop=TrainSplit, validation_prop=ValSplit, testing_prop=TestSplit)\n",
        "\n",
        "  #If data is used for training then give option to augment the data\n",
        "  if augment:\n",
        "    train_ds = train_ds.map(lambda images, labels:\n",
        "              (preprocessing_model(images), labels))\n",
        "    \n",
        "  return [file_paths, labels, test_ds, False]\n",
        "\n",
        "Shenzhen_ds = Construct_Shenzhen(0,0,1,augment=False)"
      ],
      "execution_count": null,
      "outputs": [
        {
          "output_type": "stream",
          "name": "stdout",
          "text": [
            "c\n",
            "d\n",
            "e\n",
            "f\n",
            "g\n",
            "h\n",
            "i\n",
            "j\n"
          ]
        }
      ]
    },
    {
      "cell_type": "markdown",
      "metadata": {
        "id": "0hsRAvV0d5oE"
      },
      "source": [
        "###Montgomery"
      ]
    },
    {
      "cell_type": "code",
      "metadata": {
        "colab": {
          "base_uri": "https://localhost:8080/"
        },
        "id": "UmzM83M5d-ee",
        "outputId": "32548b1d-f404-49ec-ec44-67c434cf1ea4"
      },
      "source": [
        "def Construct_Montgomery(TrainSplit, ValSplit, TestSplit, augment=False, NumImages=None): \n",
        "  # Creating Montgomery Dataset \n",
        "  # returns list: [train_ds(augmented), valid_ds, test_ds]\n",
        "  # augment used to check if should apply random flip, rotation, etc.\n",
        "  # NumImages used to determine how many images to include in database (if left blank then it takes all images)\n",
        "  # TrainSplit, ValSplit, TestSplit used to determine proportion of dataset for each split\n",
        "\n",
        "  #Montgomery dataset only has PA images so no metadata.csv checks\n",
        "\n",
        "  name ='Montgomery Dataset'\n",
        "  dataDir = 'NLM-MontgomeryCXRSet/MontgomerySet/CXR_png/'\n",
        "\n",
        "  #Getting image file paths\n",
        "  file_paths = os.listdir(colabDir + dataDir)\n",
        "\n",
        "  #Colab file path example: /content/drive/MyDrive/AP PA Stuff/Datasets/Original/CheXpert-v1.0-small/train/patient00001/study1/view1_frontal.jpg\n",
        "  #Change file paths to work with colab\n",
        "  for ind, path in enumerate(file_paths):\n",
        "    file_paths[ind] = colabDir + dataDir + path\n",
        "\n",
        "  #Get AP/PA label\n",
        "  #AP:0, PA:1\n",
        "  labels = [1 for i in file_paths]\n",
        "\n",
        "  #if ap/pa label has extra words then it'll cut that out & gets counts of each label & converts labels into 1 and 0\n",
        "  AP_Count = 0\n",
        "  PA_Count = len(labels)\n",
        "  class_distributions[name] = {'AP':AP_Count,\n",
        "                               'PA':PA_Count,\n",
        "                               'Total': [f'Total Images = {AP_Count+PA_Count}',\n",
        "                                         f'AP Percentage = {AP_Count/(AP_Count+PA_Count):.3f}',\n",
        "                                         f'PA Percentage = {PA_Count/(AP_Count+PA_Count):.3f}']}\n",
        "\n",
        "  labels = np.asarray(labels).astype('float32')\n",
        "\n",
        "  dataset = tf.data.Dataset.from_tensor_slices((file_paths, labels))\n",
        "  dataset = dataset.shuffle(buffer_size=100000, seed=rngJesus)\n",
        "\n",
        "  if NumImages:\n",
        "    dataset = dataset.take(NumImages)\n",
        "\n",
        "  dataset = dataset.map(read_image)\n",
        "  train_ds, valid_ds, test_ds = training_split(dataset, training_prop=TrainSplit, validation_prop=ValSplit, testing_prop=TestSplit)\n",
        "\n",
        "  #If data is used for training then give option to augment the data\n",
        "  if augment:\n",
        "    train_ds = train_ds.map(lambda images, labels:\n",
        "              (preprocessing_model(images), labels))\n",
        "    \n",
        "  return [file_paths, labels, test_ds, False]\n",
        "\n",
        "Montgomery_ds = Construct_Montgomery(0,0,1,augment=False)"
      ],
      "execution_count": null,
      "outputs": [
        {
          "output_type": "stream",
          "name": "stdout",
          "text": [
            "c\n",
            "d\n",
            "e\n",
            "f\n",
            "g\n",
            "h\n",
            "i\n",
            "j\n"
          ]
        }
      ]
    },
    {
      "cell_type": "markdown",
      "metadata": {
        "id": "DKSclpJAe8G7"
      },
      "source": [
        "###RICORD"
      ]
    },
    {
      "cell_type": "code",
      "metadata": {
        "colab": {
          "base_uri": "https://localhost:8080/"
        },
        "id": "yG22X20wH6WM",
        "outputId": "ddfac2ab-5cef-4d78-adb7-2cd9ec13d52d"
      },
      "source": [
        "def Construct_RICORD(TrainSplit, ValSplit, TestSplit, augment=False, NumImages=None): \n",
        "  # Creating RICORD Dataset \n",
        "  # returns list: [train_ds(augmented), valid_ds, test_ds]\n",
        "  # augment used to check if should apply random flip, rotation, etc.\n",
        "  # NumImages used to determine how many images to include in database (if left blank then it takes all images)\n",
        "  # TrainSplit, ValSplit, TestSplit used to determine proportion of dataset for each split\n",
        "\n",
        "  name ='RICORD Dataset'\n",
        "  dataDir = 'manifest-1610656454899/'\n",
        "\n",
        "  METADATA_CSV_PATH = colabDir + dataDir + 'metadata.csv' \n",
        "  metadata = pd.read_csv(METADATA_CSV_PATH)\n",
        "\n",
        "  #Only taking the rows that contain a value for view position\n",
        "  metadata = metadata[metadata['Series Description'].str.contains('AP|PA', case=False, regex=True, na=False)]\n",
        "\n",
        "  #Getting image file paths from csv\n",
        "  dcm_dirs = metadata['File Location'].values \n",
        "\n",
        "  #Colab file path example: /content/drive/MyDrive/AP PA Stuff/Datasets/Original/CheXpert-v1.0-small/train/patient00001/study1/view1_frontal.jpg\n",
        "  #Change file paths to work with colab\n",
        "  for ind, path in enumerate(dcm_dirs):\n",
        "    path = path[2:] + '/'\n",
        "    path = path.replace('\\\\', '/')\n",
        "    dcm_dirs[ind] = colabDir + dataDir + path\n",
        "\n",
        "  file_paths = []\n",
        "  for dcm_dir in dcm_dirs:\n",
        "    dcm_path = os.listdir(dcm_dir)\n",
        "    for path in dcm_path:\n",
        "      file_paths.append(dcm_dir + path)\n",
        "\n",
        "  dcm_pixel_arrays = []\n",
        "  for path in tqdm(file_paths):\n",
        "      dcm = pydicom.dcmread(path)\n",
        "      img = dcm.pixel_array\n",
        "      img_2d = img.astype(float)\n",
        "      img_2d_scaled = (np.maximum(img_2d,0) / img_2d.max()) * 255.0\n",
        "      img_2d_scaled = np.uint8(img_2d_scaled)\n",
        "      image = tf.image.resize(tf.expand_dims(img_2d_scaled, axis=-1), [IMG_SIZE, IMG_SIZE])\n",
        "      dcm_pixel_arrays.append(image)\n",
        "\n",
        "  #Get AP/PA label\n",
        "  labels = []\n",
        "  imageCount = metadata['Number of Images']\n",
        "  preLabels = metadata['Series Description']\n",
        "  for count, label in zip(imageCount, preLabels):\n",
        "    for i in range(count):\n",
        "      labels.append(label)\n",
        "\n",
        "  #if ap/pa label has extra words then it'll cut that out & gets counts of each label & converts labels into 1 and 0\n",
        "  AP_Count = 0\n",
        "  PA_Count = 0\n",
        "  for ind, label in enumerate(labels):\n",
        "    if 'AP' in label:\n",
        "      labels[ind] = 0\n",
        "      AP_Count += 1\n",
        "    elif 'PA' in label:\n",
        "      labels[ind] = 1\n",
        "      PA_Count += 1\n",
        "  class_distributions[name] = {'AP':AP_Count,\n",
        "                               'PA':PA_Count,\n",
        "                               'Total': [f'Total Images = {AP_Count+PA_Count}',\n",
        "                                         f'AP Percentage = {AP_Count/(AP_Count+PA_Count):.3f}',\n",
        "                                         f'PA Percentage = {PA_Count/(AP_Count+PA_Count):.3f}']}\n",
        "\n",
        "  labels = np.asarray(labels).astype('float32')\n",
        "\n",
        "  print(len(dcm_pixel_arrays))\n",
        "  print(len(labels))\n",
        "  dataset = tf.data.Dataset.from_tensor_slices((dcm_pixel_arrays, labels))\n",
        "  dataset = dataset.shuffle(buffer_size=100000, seed=rngJesus)\n",
        "\n",
        "  if NumImages:\n",
        "    dataset = dataset.take(NumImages)\n",
        "\n",
        "  dataset = dataset.map(read_dicom_image)\n",
        "  train_ds, valid_ds, test_ds = training_split(dataset, training_prop=TrainSplit, validation_prop=ValSplit, testing_prop=TestSplit)\n",
        "\n",
        "  #If data is used for training then give option to augment the data\n",
        "  if augment:\n",
        "    train_ds = train_ds.map(lambda images, labels:\n",
        "              (preprocessing_model(images), labels))\n",
        "    \n",
        "  return [dcm_pixel_arrays, labels, test_ds, True]\n",
        "\n",
        "RICORD_ds = Construct_RICORD(0,0,1,augment=False)\n",
        "# show_image(RICORD_ds[2])"
      ],
      "execution_count": null,
      "outputs": [
        {
          "output_type": "stream",
          "name": "stderr",
          "text": [
            "100%|██████████| 694/694 [09:31<00:00,  1.21it/s]"
          ]
        },
        {
          "output_type": "stream",
          "name": "stdout",
          "text": [
            "694\n",
            "694\n",
            "a\n",
            "b\n",
            "c\n",
            "d\n",
            "e\n",
            "f\n",
            "g\n",
            "h\n",
            "i\n",
            "j\n"
          ]
        },
        {
          "output_type": "stream",
          "name": "stderr",
          "text": [
            "\n"
          ]
        }
      ]
    },
    {
      "cell_type": "markdown",
      "metadata": {
        "id": "eVZhVfN2fO2U"
      },
      "source": [
        "###Kaggle Test"
      ]
    },
    {
      "cell_type": "code",
      "metadata": {
        "colab": {
          "base_uri": "https://localhost:8080/"
        },
        "id": "w-E2T5QiMK0t",
        "outputId": "d48d57a2-83ce-493b-c8dc-653faca1b7b4"
      },
      "source": [
        "def Construct_KaggleTest(TrainSplit, ValSplit, TestSplit, augment=False, NumImages=None): \n",
        "  # Creating Kaggle Test Dataset \n",
        "  # returns list: [train_ds(augmented), valid_ds, test_ds]\n",
        "  # augment used to check if should apply random flip, rotation, etc.\n",
        "  # NumImages used to determine how many images to include in database (if left blank then it takes all images)\n",
        "  # TrainSplit, ValSplit, TestSplit used to determine proportion of dataset for each split\n",
        "\n",
        "  name ='Kaggle Test Dataset'\n",
        "  dataDir = 'stage_2_test_images/'\n",
        "\n",
        "  #Getting dcm file paths from premade folders\n",
        "  #I manually Separated dcm into seperate folders bc google couldnt read 26k files in one line\n",
        "  file_paths = []\n",
        "  dcm_files = os.listdir(colabDir + dataDir)\n",
        "  for dcm in dcm_files:\n",
        "    file_paths.append(colabDir + dataDir + dcm)\n",
        "  # dcm_dir_names = [str(i) for i in range(1,2)]\n",
        "  # for name in dcm_dir_names:\n",
        "  #   dcm_dir = colabDir + dataDir + name + '/'\n",
        "  #   files = os.listdir(dcm_dir)\n",
        "  #   for file in files:\n",
        "  #     file_paths.append(dcm_dir + file)\n",
        "\n",
        "  dcm_pixel_arrays = []\n",
        "  labels = []\n",
        "  for path in tqdm(file_paths):\n",
        "      dcm = pydicom.dcmread(path)\n",
        "      image = dcm.pixel_array\n",
        "      image = tf.image.resize(tf.expand_dims(image, axis=-1), [IMG_SIZE, IMG_SIZE])\n",
        "      dcm_pixel_arrays.append(image)\n",
        "      labels.append(dcm.SeriesDescription)\n",
        "\n",
        "  #if ap/pa label has extra words then it'll cut that out & gets counts of each label & converts labels into 1 and 0\n",
        "  AP_Count = 0\n",
        "  PA_Count = 0\n",
        "  for ind, label in enumerate(labels):\n",
        "    if 'AP' in label:\n",
        "      labels[ind] = 0\n",
        "      AP_Count += 1\n",
        "    elif 'PA' in label:\n",
        "      labels[ind] = 1\n",
        "      PA_Count += 1\n",
        "  class_distributions[name] = {'AP':AP_Count,\n",
        "                               'PA':PA_Count,\n",
        "                               'Total': [f'Total Images = {AP_Count+PA_Count}',\n",
        "                                         f'AP Percentage = {AP_Count/(AP_Count+PA_Count):.3f}',\n",
        "                                         f'PA Percentage = {PA_Count/(AP_Count+PA_Count):.3f}']}\n",
        "\n",
        "  labels = np.asarray(labels).astype('float32')\n",
        "\n",
        "  print(len(dcm_pixel_arrays))\n",
        "  print(len(labels))\n",
        "  dataset = tf.data.Dataset.from_tensor_slices((dcm_pixel_arrays, labels))\n",
        "  dataset = dataset.shuffle(buffer_size=100000, seed=rngJesus)\n",
        "\n",
        "  '''\n",
        "  ///DELETE HERE///\n",
        "  '''\n",
        "  # x=[]\n",
        "  # for image in dcm_pixel_arrays:\n",
        "  #   x.append(read_dicom_image(image, 1)[0])\n",
        "  '''\n",
        "  ///STOP DELETE///\n",
        "  '''\n",
        "\n",
        "  if NumImages:\n",
        "    dataset = dataset.take(NumImages)\n",
        "\n",
        "  dataset = dataset.map(read_dicom_image)\n",
        "  train_ds, valid_ds, test_ds = training_split(dataset, training_prop=TrainSplit, validation_prop=ValSplit, testing_prop=TestSplit)\n",
        "  # train_ds2, valid_ds2, test_ds2 = training_split(dataset, training_prop=.8, validation_prop=.2, testing_prop=0)\n",
        "\n",
        "  #If data is used for training then give option to augment the data\n",
        "  if augment:\n",
        "    train_ds = train_ds.map(lambda images, labels:\n",
        "              (preprocessing_model(images), labels))\n",
        "    \n",
        "  return [dcm_pixel_arrays, labels, test_ds, True]\n",
        "    \n",
        "  # return [train_ds2, valid_ds2, test_ds2]\n",
        "\n",
        "Kaggle_Test_ds = Construct_KaggleTest(0,0,1,augment=True)\n",
        "# show_image(RICORD_ds[2])"
      ],
      "execution_count": null,
      "outputs": [
        {
          "output_type": "stream",
          "name": "stderr",
          "text": [
            "100%|██████████| 3000/3000 [12:46<00:00,  3.91it/s]\n"
          ]
        },
        {
          "output_type": "stream",
          "name": "stdout",
          "text": [
            "3000\n",
            "3000\n",
            "a\n",
            "b\n",
            "c\n",
            "d\n",
            "e\n",
            "f\n",
            "g\n",
            "h\n",
            "i\n",
            "j\n"
          ]
        }
      ]
    },
    {
      "cell_type": "markdown",
      "metadata": {
        "id": "lRFsXgIdFd6q"
      },
      "source": [
        "#Train Model"
      ]
    },
    {
      "cell_type": "code",
      "metadata": {
        "colab": {
          "base_uri": "https://localhost:8080/"
        },
        "id": "ivxguypWazSx",
        "outputId": "5f8e41ca-3ad6-4e87-ed85-57a34796080f"
      },
      "source": [
        "#test cell to see if model works with dataset\n",
        "model_handle = 'https://tfhub.dev/google/imagenet/efficientnet_v2_imagenet21k_m/feature_vector/2'\n",
        "# classifier = hub.load(model_handle)\n",
        "print(\"Building model with\", model_handle)\n",
        "\n",
        "model = tf.keras.Sequential([\n",
        "    # Explicitly define the input shape so the model can be properly\n",
        "    # loaded by the TFLiteConverter\n",
        "    tf.keras.layers.InputLayer(input_shape=(IMG_SIZE,IMG_SIZE) + (3,)),\n",
        "    hub.KerasLayer(model_handle, trainable=True),\n",
        "    # tf.keras.layers.Dense(256),\n",
        "    # tf.keras.layers.Flatten(name=\"flatten\"),\n",
        "    tf.keras.layers.Dense(1, activation=tf.keras.activations.sigmoid)\n",
        "])\n",
        "model.build((None,)+(IMG_SIZE,IMG_SIZE)+(3,))\n",
        "model.summary()\n",
        "\n"
      ],
      "execution_count": null,
      "outputs": [
        {
          "output_type": "stream",
          "name": "stdout",
          "text": [
            "Building model with https://tfhub.dev/google/imagenet/efficientnet_v2_imagenet21k_m/feature_vector/2\n",
            "Model: \"sequential_1\"\n",
            "_________________________________________________________________\n",
            "Layer (type)                 Output Shape              Param #   \n",
            "=================================================================\n",
            "keras_layer (KerasLayer)     (None, 1280)              53150388  \n",
            "_________________________________________________________________\n",
            "dense (Dense)                (None, 1)                 1281      \n",
            "=================================================================\n",
            "Total params: 53,151,669\n",
            "Trainable params: 52,859,637\n",
            "Non-trainable params: 292,032\n",
            "_________________________________________________________________\n"
          ]
        }
      ]
    },
    {
      "cell_type": "code",
      "metadata": {
        "id": "59-ogqTMDNeD"
      },
      "source": [
        "#taken from https://ecode.dev/cnn-for-medical-imaging-using-tensorflow-2/\n",
        "from tensorflow.keras.metrics import TruePositives, FalsePositives, TrueNegatives, FalseNegatives, BinaryAccuracy, Precision, Recall, AUC\n",
        "from tensorflow.keras.metrics import SpecificityAtSensitivity, SensitivityAtSpecificity\n",
        "\n",
        "METRICS = [\n",
        "      TruePositives(name='tp'),\n",
        "      FalsePositives(name='fp'),\n",
        "      TrueNegatives(name='tn'),\n",
        "      FalseNegatives(name='fn'), \n",
        "      BinaryAccuracy(name='accuracy'),\n",
        "      Precision(name='precision'),\n",
        "      Recall(name='recall'),\n",
        "      AUC(name='auc'),\n",
        "      SpecificityAtSensitivity(.5, name='specificity'),\n",
        "      SensitivityAtSpecificity(.5, name='sensitivity'),\n",
        "]"
      ],
      "execution_count": null,
      "outputs": []
    },
    {
      "cell_type": "code",
      "metadata": {
        "id": "4ty_wZtlazSz"
      },
      "source": [
        "model.compile(\n",
        "  optimizer=tf.keras.optimizers.SGD(learning_rate=0.00001, momentum=.9), \n",
        "  loss=tf.keras.losses.BinaryCrossentropy(),\n",
        "  metrics=METRICS)"
      ],
      "execution_count": null,
      "outputs": []
    },
    {
      "cell_type": "code",
      "metadata": {
        "id": "bTl6LPchTKEz"
      },
      "source": [
        "BetterDir = '/content/drive/MyDrive/AP PA Stuff/Datasets/Tensorflow/fiddy/'\n",
        "checkpoint_path = BetterDir + \"cp.ckpt\"\n",
        "checkpoint_dir = os.path.dirname(checkpoint_path)\n",
        "\n",
        "# Create a callback that saves the model's weights\n",
        "cp_callback = tf.keras.callbacks.ModelCheckpoint(filepath=checkpoint_path,\n",
        "                                                 save_weights_only=True,\n",
        "                                                 verbose=1, moniter=['tp','fp', 'tn', 'fn', 'accuracy', 'precision', 'recall', 'auc', 'specificity', 'sensitivity','val_tp','val_fp', 'val_tn', 'val_fn', 'val_accuracy', 'val_precision', 'val_recall', 'val_auc', 'val_specificity', 'val_sensitivity'])"
      ],
      "execution_count": null,
      "outputs": []
    },
    {
      "cell_type": "code",
      "metadata": {
        "id": "d86nrk3d1Uye"
      },
      "source": [
        "class ClearStuff(tf.keras.callbacks.Callback):\n",
        "    def on_epoch_end(self, epoch, logs=None):\n",
        "        gc.collect()\n",
        "        tf.keras.backend.clear_session()"
      ],
      "execution_count": null,
      "outputs": []
    },
    {
      "cell_type": "code",
      "metadata": {
        "colab": {
          "base_uri": "https://localhost:8080/"
        },
        "id": "Z0u3769n4fKP",
        "outputId": "c4c440de-4d86-48fe-96f7-7bde5c1a46aa"
      },
      "source": [
        "latest = tf.train.latest_checkpoint(checkpoint_dir)\n",
        "model.load_weights(latest)"
      ],
      "execution_count": null,
      "outputs": [
        {
          "output_type": "execute_result",
          "data": {
            "text/plain": [
              "<tensorflow.python.training.tracking.util.CheckpointLoadStatus at 0x7f10d9c96a50>"
            ]
          },
          "metadata": {},
          "execution_count": 11
        }
      ]
    },
    {
      "cell_type": "code",
      "metadata": {
        "colab": {
          "base_uri": "https://localhost:8080/"
        },
        "id": "k04LX9OkazS0",
        "outputId": "cf2acb02-46f7-4b88-f181-7320bb25a070"
      },
      "source": [
        "steps_per_epoch = dataset_length*.8 // BATCH_SIZE\n",
        "validation_steps = dataset_length*.2 // BATCH_SIZE\n",
        "\n",
        "lnadlmclkamdclkamdvmadvmlkadvmlkadvmladmvladmvlmad\n",
        "\n",
        "def train(): \n",
        "  hist = model.fit(\n",
        "    train_ds,\n",
        "    epochs=epoch_number, steps_per_epoch=steps_per_epoch,\n",
        "    validation_data=valid_ds,\n",
        "    validation_steps=validation_steps,\n",
        "    callbacks=[cp_callback, ClearStuff()]).history \n",
        "  return hist\n",
        "hist=train()"
      ],
      "execution_count": null,
      "outputs": [
        {
          "name": "stdout",
          "output_type": "stream",
          "text": [
            "Epoch 1/2\n",
            "2373/2373 [==============================] - 7890s 3s/step - loss: 0.0161 - tp: 19773.0000 - fp: 66.0000 - tn: 17981.0000 - fn: 148.0000 - accuracy: 0.9944 - precision: 0.9967 - recall: 0.9926 - auc: 0.9997 - specificity: 0.9998 - sensitivity: 0.9999 - val_loss: 1.2930 - val_tp: 4837.0000 - val_fp: 5.0000 - val_tn: 4599.0000 - val_fn: 47.0000 - val_accuracy: 0.9945 - val_precision: 0.9990 - val_recall: 0.9904 - val_auc: 0.9994 - val_specificity: 0.9998 - val_sensitivity: 0.9992\n",
            "\n",
            "Epoch 00001: saving model to /content/drive/MyDrive/AP PA Stuff/Datasets/Tensorflow/fiddy/cp.ckpt\n",
            "Epoch 2/2\n",
            "2373/2373 [==============================] - 1647s 690ms/step - loss: 0.0141 - tp: 19744.0000 - fp: 57.0000 - tn: 18024.0000 - fn: 131.0000 - accuracy: 0.9950 - precision: 0.9971 - recall: 0.9934 - auc: 0.9998 - specificity: 0.9999 - sensitivity: 0.9999 - val_loss: 0.0121 - val_tp: 4892.0000 - val_fp: 6.0000 - val_tn: 4556.0000 - val_fn: 34.0000 - val_accuracy: 0.9958 - val_precision: 0.9988 - val_recall: 0.9931 - val_auc: 0.9997 - val_specificity: 1.0000 - val_sensitivity: 0.9994\n",
            "\n",
            "Epoch 00002: saving model to /content/drive/MyDrive/AP PA Stuff/Datasets/Tensorflow/fiddy/cp.ckpt\n"
          ]
        }
      ]
    },
    {
      "cell_type": "code",
      "metadata": {
        "id": "7TAE7NRW8UlO"
      },
      "source": [
        "#before times \n",
        "epochs = [i for i in range(1,51)]\n",
        "accuracies = []\n",
        "val_accuracies = []\n",
        "losses = []\n",
        "val_losses = []"
      ],
      "execution_count": null,
      "outputs": []
    },
    {
      "cell_type": "code",
      "metadata": {
        "colab": {
          "base_uri": "https://localhost:8080/",
          "height": 549
        },
        "id": "yU0HxMW7HDkj",
        "outputId": "bb2c2a98-f317-474c-c836-6a295cd07c63"
      },
      "source": [
        "plt.figure()\n",
        "plt.ylabel(\"Loss (training and validation)\")\n",
        "plt.xlabel(\"Epochs\")\n",
        "plt.ylim([0,2])\n",
        "plt.plot(losses, 'b', label='Training Loss')\n",
        "plt.plot(val_losses, 'r', label='Validatiton Loss')\n",
        "plt.legend()\n",
        "plt.show()\n",
        "\n",
        "plt.figure()\n",
        "plt.ylabel(\"Accuracy (training and validation)\")\n",
        "plt.xlabel(\"Epochs\")\n",
        "plt.ylim([0,1])\n",
        "plt.plot(accuracies, 'b', label='Training Accuracy')\n",
        "plt.plot(val_accuracies,'r', label='Validatiton Accuracy')\n",
        "plt.legend()\n",
        "plt.show()"
      ],
      "execution_count": null,
      "outputs": [
        {
          "data": {
            "image/png": "[encoded data removed]",
            "text/plain": [
              "<Figure size 432x288 with 1 Axes>"
            ]
          },
          "metadata": {},
          "output_type": "display_data"
        },
        {
          "data": {
            "image/png": "[encoded data removed]",
            "text/plain": [
              "<Figure size 432x288 with 1 Axes>"
            ]
          },
          "metadata": {},
          "output_type": "display_data"
        }
      ]
    },
    {
      "cell_type": "markdown",
      "metadata": {
        "id": "xEhZN4Nflh5a"
      },
      "source": [
        "#Testing AP/PA Classifier"
      ]
    },
    {
      "cell_type": "code",
      "metadata": {
        "id": "9Ffaai3GVdjc"
      },
      "source": [
        "test_dses = {\n",
        "    'CheXpert': cheXpert_ds,\n",
        "    'CX-Net': CXNet_ds,\n",
        "    'ActualMed': ActualMed_ds,\n",
        "    'Shenzhen': Shenzhen_ds,\n",
        "    'Montgomery': Montgomery_ds,\n",
        "    'RICORD': RICORD_ds,\n",
        "    'Kaggle': Kaggle_Test_ds\n",
        "}\n",
        "\n",
        "# fiddy_predictions = {}"
      ],
      "execution_count": null,
      "outputs": []
    },
    {
      "cell_type": "code",
      "metadata": {
        "id": "rAG_O5-pT-Yw"
      },
      "source": [
        "#taken from https://stackoverflow.com/questions/28719067/roc-curve-and-cut-off-point-python\n",
        "\n",
        "def Find_Optimal_Cutoff(target, predicted):\n",
        "    \"\"\" Find the optimal probability cutoff point for a classification model related to event rate\n",
        "    Parameters\n",
        "    ----------\n",
        "    target : Matrix with dependent or target data, where rows are observations\n",
        "\n",
        "    predicted : Matrix with predicted data, where rows are observations\n",
        "\n",
        "    Returns\n",
        "    -------     \n",
        "    list type, with optimal cutoff value\n",
        "        \n",
        "    \"\"\"\n",
        "    fpr, tpr, threshold = roc_curve(target, predicted)\n",
        "    i = np.arange(len(tpr)) \n",
        "    roc = pd.DataFrame({'tf' : pd.Series(tpr-(1-fpr), index=i), 'threshold' : pd.Series(threshold, index=i)})\n",
        "    roc_t = roc.iloc[(roc.tf-0).abs().argsort()[:1]]\n",
        "\n",
        "    return list(roc_t['threshold']) "
      ],
      "execution_count": null,
      "outputs": []
    },
    {
      "cell_type": "code",
      "metadata": {
        "id": "i__abHgZ33Sp"
      },
      "source": [
        "fiddy_predictions['CheXpert'] = [cheXpert_predictions_all, cheXpert_ds[1]]"
      ],
      "execution_count": null,
      "outputs": []
    },
    {
      "cell_type": "code",
      "metadata": {
        "colab": {
          "base_uri": "https://localhost:8080/"
        },
        "id": "HSJHOlCwT8Mm",
        "outputId": "8d5a7ec2-1ec6-4956-b033-eaa612a2ba5e"
      },
      "source": [
        "#adapted from https://ecode.dev/cnn-for-medical-imaging-using-tensorflow-2/\n",
        "\n",
        "import time\n",
        "\n",
        "# Evaluate the model on the test data using `evaluate`\n",
        "print(\"Evaluate on test data\")\n",
        "# for test_ds_name in test_dses:\n",
        "#   print('-'*40)\n",
        "#   print('Now evaluating '+ test_ds_name)\n",
        "#   test_ds = test_dses[test_ds_name][2]\n",
        "#   score_test = model.evaluate(test_ds)\n",
        "\n",
        "#   #Checking to see if the images are already decoded (DICOM datsets already were)\n",
        "#   if not test_dses[test_ds_name][3]:\n",
        "#     pixel_arrays = list(map(read_test_image, test_dses[test_ds_name][0]))\n",
        "#     pixel_arrays = tf.convert_to_tensor(pixel_arrays)\n",
        "#     start_time = time.time()\n",
        "#     fiddy_predictions[test_ds_name] = [model.predict(pixel_arrays)]\n",
        "#   else:\n",
        "#     start_time = time.time()\n",
        "#     pixel_arrays = tf.convert_to_tensor(list(map(read_test_dicom_image, test_dses[test_ds_name][0])))\n",
        "#     fiddy_predictions[test_ds_name] = [model.predict(pixel_arrays)]\n",
        "\n",
        "#   print(\"--- Prediction Time: %s seconds ---\" % (time.time() - start_time))\n",
        "#   print(f\"--- Average Prediction Time: {(time.time() - start_time)/len(pixel_arrays)}\")\n",
        "#   fiddy_predictions[test_ds_name].append(test_dses[test_ds_name][1])\n",
        "\n",
        "#   for name, value in zip(model.metrics_names, score_test):\n",
        "#     print(name, ': ', value)\n",
        "#   print('-'*40)\n",
        "# %cache fiddy_predictions=fiddy_predictions\n",
        "\n",
        "from sklearn.metrics import confusion_matrix, roc_auc_score, roc_curve, plot_confusion_matrix\n",
        "from itertools import cycle\n",
        "import seaborn as sns\n",
        "\n",
        "# notice the threshold\n",
        "def plot_cm(dataset_name, labels: np.ndarray, predictions: np.ndarray, p: float=0.5) -> ():\n",
        "    cm = confusion_matrix(labels, predictions > p)\n",
        "    # you can normalize the confusion matrix\n",
        "\n",
        "    plt.figure(figsize=(5,5))\n",
        "    sns.heatmap(cm, annot=True, fmt=\"d\", cmap='Blues', xticklabels=['AP','PA'], yticklabels=['AP','PA'])\n",
        "    plt.title(f'{name}')\n",
        "    plt.ylabel('Actual label')\n",
        "    plt.xlabel('Predicted label')\n",
        "\n",
        "    TN = cm[0][0]\n",
        "    FP = cm[0][1]\n",
        "    FN = cm[1][0]\n",
        "    TP = cm[1][1]\n",
        "    precision = TP / (TP+FP)\n",
        "    recall = TP / (TP+FN)\n",
        "    print('AP (True Negatives): ', TN)\n",
        "    print('Missed AP (False Positives): ', FP)\n",
        "    print('Missed PA (False Negatives): ', FN)\n",
        "    print('PA (True Positives): ', TP)\n",
        "    print(f'True Accuracy: {(TP+TN)/(TN+FP+FN+TP)}')\n",
        "    print(f'Sensitivity: {recall}')\n",
        "    print(f'Specificity: {TN/(TN+FP)}')\n",
        "    print(f'PPV: {precision}')\n",
        "    print(f'NPV: {TN/(TN+FN)}')\n",
        "    print(f'F-1 Score: {2 / (1/precision + 1/recall)}')\n",
        "    print(f'Yo the Youden J thing is: {TN/(TN+FP)+recall-1}')\n",
        "\n",
        "\n",
        "\n",
        "def plot_roc(test_ds_names, predictions_list, **kwargs) -> ():\n",
        "  # fp, tp, _ = roc_curve(labels, predictions)\n",
        "  colors = cycle(['darkorange','cornflowerblue', 'purple', 'forestgreen','hotpink', 'crimson', 'tomato'])\n",
        "  plt.figure(figsize=(10,10))\n",
        "  for name, predictions, color in zip(test_ds_names, predictions_list, colors):\n",
        "    fpr, tpr, _ = roc_curve(predictions[1], predictions[0])\n",
        "    try:\n",
        "      auc_score = roc_auc_score(predictions[1], predictions[0])\n",
        "    except:\n",
        "      auc_score = 'NA'\n",
        "    plt.plot(fpr, tpr, color=color, lw=2, label=f'ROC curve of {name}(area = {auc_score})')\n",
        "  plt.plot([0, 1], [0, 1], 'k--', lw=2)\n",
        "  plt.xlim([0.0, 1.0])\n",
        "  plt.ylim([0.0, 1.01])\n",
        "  plt.xlabel('False Positive Rate')\n",
        "  plt.ylabel('True Positive Rate')\n",
        "  plt.title('Reciving Operator Characteristic')\n",
        "  plt.legend(loc=\"lower right\")\n",
        "  plt.show()\n",
        "\n",
        "# colors = plt.rcParams['axes.prop_cycle'].by_key()['color']\n",
        "# for name, testXY in zip(test_dses.keys(), fiddy_predictions.values()):\n",
        "#   print('-'*40)\n",
        "#   print('NOW SHOWING PLOTS FOR: ' + name)\n",
        "#   p=Find_Optimal_Cutoff(testXY[1], testXY[0])[0]\n",
        "#   plot_cm(name, testXY[1], testXY[0], p=p)\n",
        "#   print(f'Yo optimal threshold is {p}')\n",
        "#   print('-'*40)\n",
        "\n",
        "# plot_roc(test_dses.keys(), fiddy_predictions.values())"
      ],
      "execution_count": null,
      "outputs": [
        {
          "output_type": "stream",
          "name": "stdout",
          "text": [
            "Evaluate on test data\n"
          ]
        }
      ]
    },
    {
      "cell_type": "code",
      "metadata": {
        "colab": {
          "base_uri": "https://localhost:8080/"
        },
        "id": "V7DhSB-4_u6g",
        "outputId": "79d19581-6c9c-4f41-b4e8-1ef9c95bc821"
      },
      "source": [
        ""
      ],
      "execution_count": null,
      "outputs": [
        {
          "output_type": "stream",
          "name": "stdout",
          "text": [
            "Creating new value for variable 'fiddy_predictions'\n"
          ]
        }
      ]
    },
    {
      "cell_type": "code",
      "metadata": {
        "id": "PyJS4VGXAPRT"
      },
      "source": [
        "fiddy_predictions['CheXpert'][0] = np.array(cheXpert_predictions_all)"
      ],
      "execution_count": null,
      "outputs": []
    },
    {
      "cell_type": "code",
      "metadata": {
        "colab": {
          "base_uri": "https://localhost:8080/",
          "height": 1000
        },
        "id": "wiLR7FuV9wBV",
        "outputId": "4ad84e26-88a5-494d-e25d-a0d442e06953"
      },
      "source": [
        "# colors = plt.rcParams['axes.prop_cycle'].by_key()['color']\n",
        "for name, testXY in zip(test_dses.keys(), fiddy_predictions.values()):\n",
        "  print('-'*40)\n",
        "  print('NOW SHOWING PLOTS FOR: ' + name)\n",
        "  p=Find_Optimal_Cutoff(testXY[1], testXY[0])[0]\n",
        "  plot_cm(name, testXY[1], testXY[0], p=p)\n",
        "  print(f'Yo optimal threshold is {p}')\n",
        "  print('-'*40)\n",
        "\n",
        "plot_roc(test_dses.keys(), fiddy_predictions.values())"
      ],
      "execution_count": null,
      "outputs": [
        {
          "output_type": "stream",
          "name": "stdout",
          "text": [
            "----------------------------------------\n",
            "NOW SHOWING PLOTS FOR: CheXpert\n",
            "AP (True Negatives):  148284\n",
            "Missed AP (False Positives):  3475\n",
            "Missed PA (False Negatives):  442\n",
            "PA (True Positives):  19011\n",
            "True Accuracy: 0.9771219307057917\n",
            "Sensitivity: 0.9772785688582738\n",
            "Specificity: 0.9771018522789423\n",
            "PPV: 0.8454593969581072\n",
            "NPV: 0.997028091927437\n",
            "F-1 Score: 0.9066024464102623\n",
            "Yo the Youden J thing is: 0.9543804211372162\n",
            "Yo optimal threshold is 0.007537547033280134\n",
            "----------------------------------------\n",
            "----------------------------------------\n",
            "NOW SHOWING PLOTS FOR: CX-Net\n",
            "AP (True Negatives):  101\n",
            "Missed AP (False Positives):  86\n",
            "Missed PA (False Negatives):  16\n",
            "PA (True Positives):  18\n",
            "True Accuracy: 0.5384615384615384\n",
            "Sensitivity: 0.5294117647058824\n",
            "Specificity: 0.5401069518716578\n",
            "PPV: 0.17307692307692307\n",
            "NPV: 0.8632478632478633\n",
            "F-1 Score: 0.2608695652173913\n",
            "Yo the Youden J thing is: 0.06951871657754016\n",
            "Yo optimal threshold is 0.19019317626953125\n",
            "----------------------------------------\n",
            "----------------------------------------\n",
            "NOW SHOWING PLOTS FOR: ActualMed\n",
            "AP (True Negatives):  36\n",
            "Missed AP (False Positives):  3\n",
            "Missed PA (False Negatives):  16\n",
            "PA (True Positives):  183\n",
            "True Accuracy: 0.9201680672268907\n",
            "Sensitivity: 0.9195979899497487\n",
            "Specificity: 0.9230769230769231\n",
            "PPV: 0.9838709677419355\n",
            "NPV: 0.6923076923076923\n",
            "F-1 Score: 0.9506493506493507\n",
            "Yo the Youden J thing is: 0.8426749130266717\n",
            "Yo optimal threshold is 0.020396007224917412\n",
            "----------------------------------------\n",
            "----------------------------------------\n",
            "NOW SHOWING PLOTS FOR: Shenzhen\n"
          ]
        },
        {
          "output_type": "stream",
          "name": "stderr",
          "text": [
            "/usr/local/lib/python3.7/dist-packages/sklearn/metrics/_ranking.py:800: UndefinedMetricWarning: No negative samples in y_true, false positive value should be meaningless\n",
            "  UndefinedMetricWarning)\n",
            "/usr/local/lib/python3.7/dist-packages/ipykernel_launcher.py:60: RuntimeWarning: invalid value encountered in long_scalars\n",
            "/usr/local/lib/python3.7/dist-packages/ipykernel_launcher.py:64: RuntimeWarning: invalid value encountered in long_scalars\n"
          ]
        },
        {
          "output_type": "stream",
          "name": "stdout",
          "text": [
            "AP (True Negatives):  0\n",
            "Missed AP (False Positives):  0\n",
            "Missed PA (False Negatives):  1\n",
            "PA (True Positives):  661\n",
            "True Accuracy: 0.9984894259818731\n",
            "Sensitivity: 0.9984894259818731\n",
            "Specificity: nan\n",
            "PPV: 1.0\n",
            "NPV: 0.0\n",
            "F-1 Score: 0.999244142101285\n",
            "Yo the Youden J thing is: nan\n",
            "Yo optimal threshold is 0.0010623078560456634\n",
            "----------------------------------------\n",
            "----------------------------------------\n",
            "NOW SHOWING PLOTS FOR: Montgomery\n",
            "AP (True Negatives):  0\n",
            "Missed AP (False Positives):  0\n",
            "Missed PA (False Negatives):  1\n",
            "PA (True Positives):  137\n",
            "True Accuracy: 0.9927536231884058\n",
            "Sensitivity: 0.9927536231884058\n",
            "Specificity: nan\n",
            "PPV: 1.0\n",
            "NPV: 0.0\n",
            "F-1 Score: 0.9963636363636362\n",
            "Yo the Youden J thing is: nan\n",
            "Yo optimal threshold is 0.038424089550971985\n",
            "----------------------------------------\n",
            "----------------------------------------\n",
            "NOW SHOWING PLOTS FOR: RICORD\n",
            "AP (True Negatives):  691\n",
            "Missed AP (False Positives):  0\n",
            "Missed PA (False Negatives):  1\n",
            "PA (True Positives):  2\n",
            "True Accuracy: 0.9985590778097982\n",
            "Sensitivity: 0.6666666666666666\n",
            "Specificity: 1.0\n",
            "PPV: 1.0\n",
            "NPV: 0.9985549132947977\n",
            "F-1 Score: 0.8\n",
            "Yo the Youden J thing is: 0.6666666666666665\n",
            "Yo optimal threshold is 0.9999994039535522\n",
            "----------------------------------------\n",
            "----------------------------------------\n",
            "NOW SHOWING PLOTS FOR: Kaggle\n",
            "AP (True Negatives):  1374\n",
            "Missed AP (False Positives):  8\n",
            "Missed PA (False Negatives):  7\n",
            "PA (True Positives):  1611\n",
            "True Accuracy: 0.995\n",
            "Sensitivity: 0.9956736711990112\n",
            "Specificity: 0.9942112879884226\n",
            "PPV: 0.9950586781964176\n",
            "NPV: 0.9949312092686459\n",
            "F-1 Score: 0.9953660797034292\n",
            "Yo the Youden J thing is: 0.9898849591874339\n",
            "Yo optimal threshold is 0.3278709650039673\n",
            "----------------------------------------\n"
          ]
        },
        {
          "output_type": "stream",
          "name": "stderr",
          "text": [
            "/usr/local/lib/python3.7/dist-packages/sklearn/metrics/_ranking.py:800: UndefinedMetricWarning: No negative samples in y_true, false positive value should be meaningless\n",
            "  UndefinedMetricWarning)\n",
            "/usr/local/lib/python3.7/dist-packages/sklearn/metrics/_ranking.py:800: UndefinedMetricWarning: No negative samples in y_true, false positive value should be meaningless\n",
            "  UndefinedMetricWarning)\n"
          ]
        },
        {
          "output_type": "display_data",
          "data": {
            "image/png": "[encoded data removed]",
            "text/plain": [
              "<Figure size 360x360 with 2 Axes>"
            ]
          },
          "metadata": {
            "needs_background": "light"
          }
        },
        {
          "output_type": "display_data",
          "data": {
            "image/png": "[encoded data removed]",
            "text/plain": [
              "<Figure size 360x360 with 2 Axes>"
            ]
          },
          "metadata": {
            "needs_background": "light"
          }
        },
        {
          "output_type": "display_data",
          "data": {
            "image/png": "[encoded data removed]",
            "text/plain": [
              "<Figure size 360x360 with 2 Axes>"
            ]
          },
          "metadata": {
            "needs_background": "light"
          }
        },
        {
          "output_type": "display_data",
          "data": {
            "image/png": "[encoded data removed]",
            "text/plain": [
              "<Figure size 360x360 with 2 Axes>"
            ]
          },
          "metadata": {
            "needs_background": "light"
          }
        },
        {
          "output_type": "display_data",
          "data": {
            "image/png": "[encoded data removed]",
            "text/plain": [
              "<Figure size 360x360 with 2 Axes>"
            ]
          },
          "metadata": {
            "needs_background": "light"
          }
        },
        {
          "output_type": "display_data",
          "data": {
            "image/png": "[encoded data removed]",
            "text/plain": [
              "<Figure size 360x360 with 2 Axes>"
            ]
          },
          "metadata": {
            "needs_background": "light"
          }
        },
        {
          "output_type": "display_data",
          "data": {
            "image/png": "[encoded data removed]",
            "text/plain": [
              "<Figure size 360x360 with 2 Axes>"
            ]
          },
          "metadata": {
            "needs_background": "light"
          }
        },
        {
          "output_type": "display_data",
          "data": {
            "image/png": "[encoded data removed]",
            "text/plain": [
              "<Figure size 1440x1440 with 1 Axes>"
            ]
          },
          "metadata": {
            "needs_background": "light"
          }
        }
      ]
    },
    {
      "cell_type": "code",
      "metadata": {
        "id": "6D526RA9xPlw",
        "colab": {
          "base_uri": "https://localhost:8080/",
          "height": 719
        },
        "outputId": "3adfa808-9176-4ca5-f0c0-d96957c355a1"
      },
      "source": [
        "plt.rcParams.update({'font.size': 12})\n",
        "\n",
        "plot_roc(test_dses.keys(), fiddy_predictions.values())"
      ],
      "execution_count": null,
      "outputs": [
        {
          "output_type": "stream",
          "name": "stderr",
          "text": [
            "/usr/local/lib/python3.7/dist-packages/sklearn/metrics/_ranking.py:800: UndefinedMetricWarning: No negative samples in y_true, false positive value should be meaningless\n",
            "  UndefinedMetricWarning)\n",
            "/usr/local/lib/python3.7/dist-packages/sklearn/metrics/_ranking.py:800: UndefinedMetricWarning: No negative samples in y_true, false positive value should be meaningless\n",
            "  UndefinedMetricWarning)\n"
          ]
        },
        {
          "output_type": "display_data",
          "data": {
            "image/png": "[encoded data removed]",
            "text/plain": [
              "<Figure size 720x720 with 1 Axes>"
            ]
          },
          "metadata": {
            "needs_background": "light"
          }
        }
      ]
    },
    {
      "cell_type": "code",
      "metadata": {
        "colab": {
          "base_uri": "https://localhost:8080/",
          "height": 399
        },
        "id": "yhezg7O7l4tU",
        "outputId": "f30e4298-98d7-42d1-d4c3-89e4d1b301ed"
      },
      "source": [
        "#taken from https://keras.io/examples/vision/grad_cam/\n",
        "import keras\n",
        "import matplotlib.cm as cm\n",
        "def make_gradcam_heatmap(img_array, dmodel, pred_index=None):\n",
        "    # First, we create a model that maps the input image to the activations\n",
        "    # of the last conv layer as well as the output predictions\n",
        "    img_array = tf.expand_dims(img_array, axis=0)\n",
        "    grad_model = tf.keras.models.Model(\n",
        "        [dmodel.inputs], [dmodel.layers[-3].output, dmodel.output]\n",
        "    )\n",
        "\n",
        "    # Then, we compute the gradient of the top predicted class for our input image\n",
        "    # with respect to the activations of the last conv layer\n",
        "    with tf.GradientTape() as tape:\n",
        "        last_conv_layer_output, preds = grad_model(img_array)\n",
        "        if pred_index is None:\n",
        "            pred_index = tf.argmax(preds[0])\n",
        "        class_channel = preds[:, pred_index]\n",
        "\n",
        "    # This is the gradient of the output neuron (top predicted or chosen)\n",
        "    # with regard to the output feature map of the last conv layer\n",
        "    grads = tape.gradient(class_channel, last_conv_layer_output)\n",
        "    print(grads)\n",
        "    # This is a vector where each entry is the mean intensity of the gradient\n",
        "    # over a specific feature map channel\n",
        "    # pooled_grads = tf.reduce_mean(grads, axis=(0, 1, 2))\n",
        "\n",
        "    # We multiply each channel in the feature map array\n",
        "    # by \"how important this channel is\" with regard to the top predicted class\n",
        "    # then sum all the channels to obtain the heatmap class activation\n",
        "    last_conv_layer_output = last_conv_layer_output[0]\n",
        "    print(last_conv_layer_output)\n",
        "    heatmap = last_conv_layer_output @ grads[..., tf.newaxis]\n",
        "    heatmap = tf.squeeze(heatmap)\n",
        "\n",
        "    # For visualization purpose, we will also normalize the heatmap between 0 & 1\n",
        "    heatmap = tf.maximum(heatmap, 0) / tf.math.reduce_max(heatmap)\n",
        "    return heatmap.numpy()\n",
        "\n",
        "def save_and_display_gradcam(img, heatmap, cam_path=\"cam.jpg\", alpha=0.4):\n",
        "    # Rescale heatmap to a range 0-255\n",
        "    img=tf.expand_dims(img, axis=0)\n",
        "    heatmap = np.uint8(255 * heatmap)\n",
        "\n",
        "    # Use jet colormap to colorize heatmap\n",
        "    jet = cm.get_cmap(\"jet\")\n",
        "\n",
        "    # Use RGB values of the colormap\n",
        "    jet_colors = jet(np.arange(256))[:, :3]\n",
        "    jet_heatmap = jet_colors[heatmap]\n",
        "\n",
        "    # Create an image with RGB colorized heatmap\n",
        "    jet_heatmap = keras.preprocessing.image.array_to_img(jet_heatmap)\n",
        "    jet_heatmap = jet_heatmap.resize((img.shape[1], img.shape[0]))\n",
        "    jet_heatmap = keras.preprocessing.image.img_to_array(jet_heatmap)\n",
        "\n",
        "    # Superimpose the heatmap on original image\n",
        "    superimposed_img = jet_heatmap * alpha + img\n",
        "    superimposed_img = keras.preprocessing.image.array_to_img(superimposed_img)\n",
        "\n",
        "    # Save the superimposed image\n",
        "    superimposed_img.save(cam_path)\n",
        "\n",
        "    # Display Grad CAM\n",
        "    display(Image(cam_path))\n",
        "\n",
        "image = read_test_image(cheXpert_ds[0][0])\n",
        "heatmap = make_gradcam_heatmap(image, unwrapped)\n",
        "save_and_display_gradcam(image, heatmap)\n"
      ],
      "execution_count": 116,
      "outputs": [
        {
          "output_type": "error",
          "ename": "ValueError",
          "evalue": "ignored",
          "traceback": [
            "\u001b[0;31m---------------------------------------------------------------------------\u001b[0m",
            "\u001b[0;31mValueError\u001b[0m                                Traceback (most recent call last)",
            "\u001b[0;32m<ipython-input-116-28d45a5e0fd2>\u001b[0m in \u001b[0;36m<module>\u001b[0;34m()\u001b[0m\n\u001b[1;32m     66\u001b[0m \u001b[0;34m\u001b[0m\u001b[0m\n\u001b[1;32m     67\u001b[0m \u001b[0mimage\u001b[0m \u001b[0;34m=\u001b[0m \u001b[0mread_test_image\u001b[0m\u001b[0;34m(\u001b[0m\u001b[0mcheXpert_ds\u001b[0m\u001b[0;34m[\u001b[0m\u001b[0;36m0\u001b[0m\u001b[0;34m]\u001b[0m\u001b[0;34m[\u001b[0m\u001b[0;36m0\u001b[0m\u001b[0;34m]\u001b[0m\u001b[0;34m)\u001b[0m\u001b[0;34m\u001b[0m\u001b[0;34m\u001b[0m\u001b[0m\n\u001b[0;32m---> 68\u001b[0;31m \u001b[0mheatmap\u001b[0m \u001b[0;34m=\u001b[0m \u001b[0mmake_gradcam_heatmap\u001b[0m\u001b[0;34m(\u001b[0m\u001b[0mimage\u001b[0m\u001b[0;34m,\u001b[0m \u001b[0munwrapped\u001b[0m\u001b[0;34m)\u001b[0m\u001b[0;34m\u001b[0m\u001b[0;34m\u001b[0m\u001b[0m\n\u001b[0m\u001b[1;32m     69\u001b[0m \u001b[0msave_and_display_gradcam\u001b[0m\u001b[0;34m(\u001b[0m\u001b[0mimage\u001b[0m\u001b[0;34m,\u001b[0m \u001b[0mheatmap\u001b[0m\u001b[0;34m)\u001b[0m\u001b[0;34m\u001b[0m\u001b[0;34m\u001b[0m\u001b[0m\n",
            "\u001b[0;32m<ipython-input-116-28d45a5e0fd2>\u001b[0m in \u001b[0;36mmake_gradcam_heatmap\u001b[0;34m(img_array, dmodel, pred_index)\u001b[0m\n\u001b[1;32m      7\u001b[0m     \u001b[0mimg_array\u001b[0m \u001b[0;34m=\u001b[0m \u001b[0mtf\u001b[0m\u001b[0;34m.\u001b[0m\u001b[0mexpand_dims\u001b[0m\u001b[0;34m(\u001b[0m\u001b[0mimg_array\u001b[0m\u001b[0;34m,\u001b[0m \u001b[0maxis\u001b[0m\u001b[0;34m=\u001b[0m\u001b[0;36m0\u001b[0m\u001b[0;34m)\u001b[0m\u001b[0;34m\u001b[0m\u001b[0;34m\u001b[0m\u001b[0m\n\u001b[1;32m      8\u001b[0m     grad_model = tf.keras.models.Model(\n\u001b[0;32m----> 9\u001b[0;31m         \u001b[0;34m[\u001b[0m\u001b[0mdmodel\u001b[0m\u001b[0;34m.\u001b[0m\u001b[0minputs\u001b[0m\u001b[0;34m]\u001b[0m\u001b[0;34m,\u001b[0m \u001b[0;34m[\u001b[0m\u001b[0mdmodel\u001b[0m\u001b[0;34m.\u001b[0m\u001b[0mlayers\u001b[0m\u001b[0;34m[\u001b[0m\u001b[0;34m-\u001b[0m\u001b[0;36m3\u001b[0m\u001b[0;34m]\u001b[0m\u001b[0;34m.\u001b[0m\u001b[0moutput\u001b[0m\u001b[0;34m,\u001b[0m \u001b[0mdmodel\u001b[0m\u001b[0;34m.\u001b[0m\u001b[0moutput\u001b[0m\u001b[0;34m]\u001b[0m\u001b[0;34m\u001b[0m\u001b[0;34m\u001b[0m\u001b[0m\n\u001b[0m\u001b[1;32m     10\u001b[0m     )\n\u001b[1;32m     11\u001b[0m \u001b[0;34m\u001b[0m\u001b[0m\n",
            "\u001b[0;32m/usr/local/lib/python3.7/dist-packages/tensorflow/python/training/tracking/base.py\u001b[0m in \u001b[0;36m_method_wrapper\u001b[0;34m(self, *args, **kwargs)\u001b[0m\n\u001b[1;32m    528\u001b[0m     \u001b[0mself\u001b[0m\u001b[0;34m.\u001b[0m\u001b[0m_self_setattr_tracking\u001b[0m \u001b[0;34m=\u001b[0m \u001b[0;32mFalse\u001b[0m  \u001b[0;31m# pylint: disable=protected-access\u001b[0m\u001b[0;34m\u001b[0m\u001b[0;34m\u001b[0m\u001b[0m\n\u001b[1;32m    529\u001b[0m     \u001b[0;32mtry\u001b[0m\u001b[0;34m:\u001b[0m\u001b[0;34m\u001b[0m\u001b[0;34m\u001b[0m\u001b[0m\n\u001b[0;32m--> 530\u001b[0;31m       \u001b[0mresult\u001b[0m \u001b[0;34m=\u001b[0m \u001b[0mmethod\u001b[0m\u001b[0;34m(\u001b[0m\u001b[0mself\u001b[0m\u001b[0;34m,\u001b[0m \u001b[0;34m*\u001b[0m\u001b[0margs\u001b[0m\u001b[0;34m,\u001b[0m \u001b[0;34m**\u001b[0m\u001b[0mkwargs\u001b[0m\u001b[0;34m)\u001b[0m\u001b[0;34m\u001b[0m\u001b[0;34m\u001b[0m\u001b[0m\n\u001b[0m\u001b[1;32m    531\u001b[0m     \u001b[0;32mfinally\u001b[0m\u001b[0;34m:\u001b[0m\u001b[0;34m\u001b[0m\u001b[0;34m\u001b[0m\u001b[0m\n\u001b[1;32m    532\u001b[0m       \u001b[0mself\u001b[0m\u001b[0;34m.\u001b[0m\u001b[0m_self_setattr_tracking\u001b[0m \u001b[0;34m=\u001b[0m \u001b[0mprevious_value\u001b[0m  \u001b[0;31m# pylint: disable=protected-access\u001b[0m\u001b[0;34m\u001b[0m\u001b[0;34m\u001b[0m\u001b[0m\n",
            "\u001b[0;32m/usr/local/lib/python3.7/dist-packages/keras/engine/functional.py\u001b[0m in \u001b[0;36m__init__\u001b[0;34m(self, inputs, outputs, name, trainable, **kwargs)\u001b[0m\n\u001b[1;32m    107\u001b[0m     \u001b[0mgeneric_utils\u001b[0m\u001b[0;34m.\u001b[0m\u001b[0mvalidate_kwargs\u001b[0m\u001b[0;34m(\u001b[0m\u001b[0mkwargs\u001b[0m\u001b[0;34m,\u001b[0m \u001b[0;34m{\u001b[0m\u001b[0;34m}\u001b[0m\u001b[0;34m)\u001b[0m\u001b[0;34m\u001b[0m\u001b[0;34m\u001b[0m\u001b[0m\n\u001b[1;32m    108\u001b[0m     \u001b[0msuper\u001b[0m\u001b[0;34m(\u001b[0m\u001b[0mFunctional\u001b[0m\u001b[0;34m,\u001b[0m \u001b[0mself\u001b[0m\u001b[0;34m)\u001b[0m\u001b[0;34m.\u001b[0m\u001b[0m__init__\u001b[0m\u001b[0;34m(\u001b[0m\u001b[0mname\u001b[0m\u001b[0;34m=\u001b[0m\u001b[0mname\u001b[0m\u001b[0;34m,\u001b[0m \u001b[0mtrainable\u001b[0m\u001b[0;34m=\u001b[0m\u001b[0mtrainable\u001b[0m\u001b[0;34m)\u001b[0m\u001b[0;34m\u001b[0m\u001b[0;34m\u001b[0m\u001b[0m\n\u001b[0;32m--> 109\u001b[0;31m     \u001b[0mself\u001b[0m\u001b[0;34m.\u001b[0m\u001b[0m_init_graph_network\u001b[0m\u001b[0;34m(\u001b[0m\u001b[0minputs\u001b[0m\u001b[0;34m,\u001b[0m \u001b[0moutputs\u001b[0m\u001b[0;34m)\u001b[0m\u001b[0;34m\u001b[0m\u001b[0;34m\u001b[0m\u001b[0m\n\u001b[0m\u001b[1;32m    110\u001b[0m \u001b[0;34m\u001b[0m\u001b[0m\n\u001b[1;32m    111\u001b[0m   \u001b[0;34m@\u001b[0m\u001b[0mtf\u001b[0m\u001b[0;34m.\u001b[0m\u001b[0m__internal__\u001b[0m\u001b[0;34m.\u001b[0m\u001b[0mtracking\u001b[0m\u001b[0;34m.\u001b[0m\u001b[0mno_automatic_dependency_tracking\u001b[0m\u001b[0;34m\u001b[0m\u001b[0;34m\u001b[0m\u001b[0m\n",
            "\u001b[0;32m/usr/local/lib/python3.7/dist-packages/tensorflow/python/training/tracking/base.py\u001b[0m in \u001b[0;36m_method_wrapper\u001b[0;34m(self, *args, **kwargs)\u001b[0m\n\u001b[1;32m    528\u001b[0m     \u001b[0mself\u001b[0m\u001b[0;34m.\u001b[0m\u001b[0m_self_setattr_tracking\u001b[0m \u001b[0;34m=\u001b[0m \u001b[0;32mFalse\u001b[0m  \u001b[0;31m# pylint: disable=protected-access\u001b[0m\u001b[0;34m\u001b[0m\u001b[0;34m\u001b[0m\u001b[0m\n\u001b[1;32m    529\u001b[0m     \u001b[0;32mtry\u001b[0m\u001b[0;34m:\u001b[0m\u001b[0;34m\u001b[0m\u001b[0;34m\u001b[0m\u001b[0m\n\u001b[0;32m--> 530\u001b[0;31m       \u001b[0mresult\u001b[0m \u001b[0;34m=\u001b[0m \u001b[0mmethod\u001b[0m\u001b[0;34m(\u001b[0m\u001b[0mself\u001b[0m\u001b[0;34m,\u001b[0m \u001b[0;34m*\u001b[0m\u001b[0margs\u001b[0m\u001b[0;34m,\u001b[0m \u001b[0;34m**\u001b[0m\u001b[0mkwargs\u001b[0m\u001b[0;34m)\u001b[0m\u001b[0;34m\u001b[0m\u001b[0;34m\u001b[0m\u001b[0m\n\u001b[0m\u001b[1;32m    531\u001b[0m     \u001b[0;32mfinally\u001b[0m\u001b[0;34m:\u001b[0m\u001b[0;34m\u001b[0m\u001b[0;34m\u001b[0m\u001b[0m\n\u001b[1;32m    532\u001b[0m       \u001b[0mself\u001b[0m\u001b[0;34m.\u001b[0m\u001b[0m_self_setattr_tracking\u001b[0m \u001b[0;34m=\u001b[0m \u001b[0mprevious_value\u001b[0m  \u001b[0;31m# pylint: disable=protected-access\u001b[0m\u001b[0;34m\u001b[0m\u001b[0;34m\u001b[0m\u001b[0m\n",
            "\u001b[0;32m/usr/local/lib/python3.7/dist-packages/keras/engine/functional.py\u001b[0m in \u001b[0;36m_init_graph_network\u001b[0;34m(self, inputs, outputs)\u001b[0m\n\u001b[1;32m    191\u001b[0m     \u001b[0;31m# Keep track of the network's nodes and layers.\u001b[0m\u001b[0;34m\u001b[0m\u001b[0;34m\u001b[0m\u001b[0;34m\u001b[0m\u001b[0m\n\u001b[1;32m    192\u001b[0m     nodes, nodes_by_depth, layers, _ = _map_graph_network(\n\u001b[0;32m--> 193\u001b[0;31m         self.inputs, self.outputs)\n\u001b[0m\u001b[1;32m    194\u001b[0m     \u001b[0mself\u001b[0m\u001b[0;34m.\u001b[0m\u001b[0m_network_nodes\u001b[0m \u001b[0;34m=\u001b[0m \u001b[0mnodes\u001b[0m\u001b[0;34m\u001b[0m\u001b[0;34m\u001b[0m\u001b[0m\n\u001b[1;32m    195\u001b[0m     \u001b[0mself\u001b[0m\u001b[0;34m.\u001b[0m\u001b[0m_nodes_by_depth\u001b[0m \u001b[0;34m=\u001b[0m \u001b[0mnodes_by_depth\u001b[0m\u001b[0;34m\u001b[0m\u001b[0;34m\u001b[0m\u001b[0m\n",
            "\u001b[0;32m/usr/local/lib/python3.7/dist-packages/keras/engine/functional.py\u001b[0m in \u001b[0;36m_map_graph_network\u001b[0;34m(inputs, outputs)\u001b[0m\n\u001b[1;32m    982\u001b[0m                              \u001b[0;34m'The following previous layers '\u001b[0m\u001b[0;34m\u001b[0m\u001b[0;34m\u001b[0m\u001b[0m\n\u001b[1;32m    983\u001b[0m                              \u001b[0;34m'were accessed without issue: '\u001b[0m \u001b[0;34m+\u001b[0m\u001b[0;34m\u001b[0m\u001b[0;34m\u001b[0m\u001b[0m\n\u001b[0;32m--> 984\u001b[0;31m                              str(layers_with_complete_input))\n\u001b[0m\u001b[1;32m    985\u001b[0m         \u001b[0;32mfor\u001b[0m \u001b[0mx\u001b[0m \u001b[0;32min\u001b[0m \u001b[0mtf\u001b[0m\u001b[0;34m.\u001b[0m\u001b[0mnest\u001b[0m\u001b[0;34m.\u001b[0m\u001b[0mflatten\u001b[0m\u001b[0;34m(\u001b[0m\u001b[0mnode\u001b[0m\u001b[0;34m.\u001b[0m\u001b[0moutputs\u001b[0m\u001b[0;34m)\u001b[0m\u001b[0;34m:\u001b[0m\u001b[0;34m\u001b[0m\u001b[0;34m\u001b[0m\u001b[0m\n\u001b[1;32m    986\u001b[0m           \u001b[0mcomputable_tensors\u001b[0m\u001b[0;34m.\u001b[0m\u001b[0madd\u001b[0m\u001b[0;34m(\u001b[0m\u001b[0mid\u001b[0m\u001b[0;34m(\u001b[0m\u001b[0mx\u001b[0m\u001b[0;34m)\u001b[0m\u001b[0;34m)\u001b[0m\u001b[0;34m\u001b[0m\u001b[0;34m\u001b[0m\u001b[0m\n",
            "\u001b[0;31mValueError\u001b[0m: Graph disconnected: cannot obtain value for tensor KerasTensor(type_spec=TensorSpec(shape=(None, 224, 224, 3), dtype=tf.float32, name='input_2'), name='input_2', description=\"created by layer 'input_2'\") at layer \"stem\". The following previous layers were accessed without issue: ['stem']"
          ]
        }
      ]
    },
    {
      "cell_type": "code",
      "metadata": {
        "id": "p9iCXYHbn5kG"
      },
      "source": [
        "def unwrap_model(model):\n",
        "    inception = model.get_layer('efficientnetv2-m')\n",
        "    unwrapped = tf.keras.Sequential()\n",
        "    unwrapped.add(inception.input)\n",
        "    unwrapped.add(inception.get_layer('stem'))\n",
        "    for layer in inception.layers[:-2]:\n",
        "      unwrapped.add(layer)\n",
        "    unwrapped.add(inception.get_layer('head'))\n",
        "    unwrapped.add(model.get_layer('dense_1'))\n",
        "    unwrapped.build((None,)+(None,None)+(3,))\n",
        "    return unwrapped"
      ],
      "execution_count": 104,
      "outputs": []
    },
    {
      "cell_type": "code",
      "metadata": {
        "id": "y4UGtS_KpmxC"
      },
      "source": [
        "from tensorflow.keras.models import Model\n",
        "unwrapped = unwrap_model(diag_model)"
      ],
      "execution_count": 105,
      "outputs": []
    },
    {
      "cell_type": "code",
      "metadata": {
        "colab": {
          "base_uri": "https://localhost:8080/"
        },
        "id": "oUdDUdhoY5na",
        "outputId": "0d48612e-e67c-40f8-c7d8-66cc4189b3aa"
      },
      "source": [
        "unwrapped.inputs"
      ],
      "execution_count": 115,
      "outputs": [
        {
          "output_type": "execute_result",
          "data": {
            "text/plain": [
              "[<KerasTensor: shape=(None, None, None, 3) dtype=float32 (created by layer 'input_1')>]"
            ]
          },
          "metadata": {},
          "execution_count": 115
        }
      ]
    },
    {
      "cell_type": "code",
      "metadata": {
        "id": "OEZIChRt88XA"
      },
      "source": [
        "k=model(np.array([read_test_image(cheXpert_ds[0][0])]))"
      ],
      "execution_count": null,
      "outputs": []
    },
    {
      "cell_type": "code",
      "metadata": {
        "id": "uC5PYe6G9QXf"
      },
      "source": [
        ""
      ],
      "execution_count": null,
      "outputs": []
    },
    {
      "cell_type": "markdown",
      "metadata": {
        "id": "mtG3DupyuKIM"
      },
      "source": [
        "# Diagnosis Model\n"
      ]
    },
    {
      "cell_type": "code",
      "metadata": {
        "colab": {
          "base_uri": "https://localhost:8080/"
        },
        "id": "FUFFZD4gMa9l",
        "outputId": "deb28d2c-5b64-4884-d1b2-01d6a3346847"
      },
      "source": [
        "import sys\n",
        "# Download source code.\n",
        "if \"efficientnetv2\" not in os.getcwd():\n",
        "  !git clone --depth 1 https://github.com/google/automl\n",
        "  os.chdir('automl/efficientnetv2')\n",
        "  sys.path.append('.')\n",
        "else:\n",
        "  !git pull"
      ],
      "execution_count": 8,
      "outputs": [
        {
          "output_type": "stream",
          "name": "stdout",
          "text": [
            "Already up to date.\n"
          ]
        }
      ]
    },
    {
      "cell_type": "code",
      "metadata": {
        "colab": {
          "base_uri": "https://localhost:8080/"
        },
        "id": "67UuHJ7-NrM-",
        "outputId": "6732875a-cc42-481d-dced-2230310e8d4a"
      },
      "source": [
        "!pip install tensorflow_addons"
      ],
      "execution_count": 10,
      "outputs": [
        {
          "output_type": "stream",
          "name": "stdout",
          "text": [
            "Collecting tensorflow_addons\n",
            "  Downloading tensorflow_addons-0.14.0-cp37-cp37m-manylinux_2_12_x86_64.manylinux2010_x86_64.whl (1.1 MB)\n",
            "\u001b[K     |████████████████████████████████| 1.1 MB 5.2 MB/s \n",
            "\u001b[?25hRequirement already satisfied: typeguard>=2.7 in /usr/local/lib/python3.7/dist-packages (from tensorflow_addons) (2.7.1)\n",
            "Installing collected packages: tensorflow-addons\n",
            "Successfully installed tensorflow-addons-0.14.0\n"
          ]
        }
      ]
    },
    {
      "cell_type": "code",
      "metadata": {
        "colab": {
          "base_uri": "https://localhost:8080/"
        },
        "id": "JUoLU3frM5ga",
        "outputId": "b19e37d0-f12b-4da6-8a5e-50394be1de91"
      },
      "source": [
        "import tensorflow_addons\n",
        "import effnetv2_model\n",
        "model_name = 'efficientnetv2-m'\n",
        "efficientnet = effnetv2_model.get_model(model_name=model_name, include_top=False, weights='imagenet21k', training=True)"
      ],
      "execution_count": 11,
      "outputs": [
        {
          "output_type": "stream",
          "name": "stdout",
          "text": [
            "Downloading data from https://storage.googleapis.com/cloud-tpu-checkpoints/efficientnet/v2/efficientnetv2-m-21k.tgz\n",
            "1195982848/1195979495 [==============================] - 11s 0us/step\n",
            "1195991040/1195979495 [==============================] - 11s 0us/step\n",
            "WARNING:tensorflow:From /usr/local/lib/python3.7/dist-packages/tensorflow/python/training/tracking/util.py:1361: NameBasedSaverStatus.__init__ (from tensorflow.python.training.tracking.util) is deprecated and will be removed in a future version.\n",
            "Instructions for updating:\n",
            "Restoring a name-based tf.train.Saver checkpoint using the object-based restore API. This mode uses global names to match variables, and so is somewhat fragile. It also adds new restore ops to the graph each time it is called when graph building. Prefer re-encoding training checkpoints in the object-based format: run save() on the object-based saver (the same one this message is coming from) and use that checkpoint in the future.\n"
          ]
        },
        {
          "output_type": "stream",
          "name": "stderr",
          "text": [
            "WARNING:tensorflow:From /usr/local/lib/python3.7/dist-packages/tensorflow/python/training/tracking/util.py:1361: NameBasedSaverStatus.__init__ (from tensorflow.python.training.tracking.util) is deprecated and will be removed in a future version.\n",
            "Instructions for updating:\n",
            "Restoring a name-based tf.train.Saver checkpoint using the object-based restore API. This mode uses global names to match variables, and so is somewhat fragile. It also adds new restore ops to the graph each time it is called when graph building. Prefer re-encoding training checkpoints in the object-based format: run save() on the object-based saver (the same one this message is coming from) and use that checkpoint in the future.\n"
          ]
        }
      ]
    },
    {
      "cell_type": "code",
      "metadata": {
        "colab": {
          "base_uri": "https://localhost:8080/"
        },
        "id": "Zt8QBBqwOAHU",
        "outputId": "2efdc113-8eef-45b1-9afa-e23cfe9cb028"
      },
      "source": [
        "model.summary()"
      ],
      "execution_count": 12,
      "outputs": [
        {
          "output_type": "stream",
          "name": "stdout",
          "text": [
            "Model: \"model\"\n",
            "_________________________________________________________________\n",
            "Layer (type)                 Output Shape              Param #   \n",
            "=================================================================\n",
            "input_2 (InputLayer)         [(None, 224, 224, 3)]     0         \n",
            "_________________________________________________________________\n",
            "stem (Stem)                  (None, 112, 112, 24)      744       \n",
            "_________________________________________________________________\n",
            "blocks_0 (FusedMBConvBlock)  (None, 112, 112, 24)      5280      \n",
            "_________________________________________________________________\n",
            "blocks_1 (FusedMBConvBlock)  (None, 112, 112, 24)      5280      \n",
            "_________________________________________________________________\n",
            "blocks_2 (FusedMBConvBlock)  (None, 112, 112, 24)      5280      \n",
            "_________________________________________________________________\n",
            "blocks_3 (FusedMBConvBlock)  (None, 56, 56, 48)        25920     \n",
            "_________________________________________________________________\n",
            "blocks_4 (FusedMBConvBlock)  (None, 56, 56, 48)        93120     \n",
            "_________________________________________________________________\n",
            "blocks_5 (FusedMBConvBlock)  (None, 56, 56, 48)        93120     \n",
            "_________________________________________________________________\n",
            "blocks_6 (FusedMBConvBlock)  (None, 56, 56, 48)        93120     \n",
            "_________________________________________________________________\n",
            "blocks_7 (FusedMBConvBlock)  (None, 56, 56, 48)        93120     \n",
            "_________________________________________________________________\n",
            "blocks_8 (FusedMBConvBlock)  (None, 28, 28, 80)        99392     \n",
            "_________________________________________________________________\n",
            "blocks_9 (FusedMBConvBlock)  (None, 28, 28, 80)        257600    \n",
            "_________________________________________________________________\n",
            "blocks_10 (FusedMBConvBlock) (None, 28, 28, 80)        257600    \n",
            "_________________________________________________________________\n",
            "blocks_11 (FusedMBConvBlock) (None, 28, 28, 80)        257600    \n",
            "_________________________________________________________________\n",
            "blocks_12 (FusedMBConvBlock) (None, 28, 28, 80)        257600    \n",
            "_________________________________________________________________\n",
            "blocks_13 (MBConvBlock)      (None, 14, 14, 160)       96020     \n",
            "_________________________________________________________________\n",
            "blocks_14 (MBConvBlock)      (None, 14, 14, 160)       268200    \n",
            "_________________________________________________________________\n",
            "blocks_15 (MBConvBlock)      (None, 14, 14, 160)       268200    \n",
            "_________________________________________________________________\n",
            "blocks_16 (MBConvBlock)      (None, 14, 14, 160)       268200    \n",
            "_________________________________________________________________\n",
            "blocks_17 (MBConvBlock)      (None, 14, 14, 160)       268200    \n",
            "_________________________________________________________________\n",
            "blocks_18 (MBConvBlock)      (None, 14, 14, 160)       268200    \n",
            "_________________________________________________________________\n",
            "blocks_19 (MBConvBlock)      (None, 14, 14, 160)       268200    \n",
            "_________________________________________________________________\n",
            "blocks_20 (MBConvBlock)      (None, 14, 14, 176)       417384    \n",
            "_________________________________________________________________\n",
            "blocks_21 (MBConvBlock)      (None, 14, 14, 176)       484396    \n",
            "_________________________________________________________________\n",
            "blocks_22 (MBConvBlock)      (None, 14, 14, 176)       484396    \n",
            "_________________________________________________________________\n",
            "blocks_23 (MBConvBlock)      (None, 14, 14, 176)       484396    \n",
            "_________________________________________________________________\n",
            "blocks_24 (MBConvBlock)      (None, 14, 14, 176)       484396    \n",
            "_________________________________________________________________\n",
            "blocks_25 (MBConvBlock)      (None, 14, 14, 176)       484396    \n",
            "_________________________________________________________________\n",
            "blocks_26 (MBConvBlock)      (None, 14, 14, 176)       484396    \n",
            "_________________________________________________________________\n",
            "blocks_27 (MBConvBlock)      (None, 14, 14, 176)       484396    \n",
            "_________________________________________________________________\n",
            "blocks_28 (MBConvBlock)      (None, 14, 14, 176)       484396    \n",
            "_________________________________________________________________\n",
            "blocks_29 (MBConvBlock)      (None, 14, 14, 176)       484396    \n",
            "_________________________________________________________________\n",
            "blocks_30 (MBConvBlock)      (None, 14, 14, 176)       484396    \n",
            "_________________________________________________________________\n",
            "blocks_31 (MBConvBlock)      (None, 14, 14, 176)       484396    \n",
            "_________________________________________________________________\n",
            "blocks_32 (MBConvBlock)      (None, 14, 14, 176)       484396    \n",
            "_________________________________________________________________\n",
            "blocks_33 (MBConvBlock)      (None, 14, 14, 176)       484396    \n",
            "_________________________________________________________________\n",
            "blocks_34 (MBConvBlock)      (None, 7, 7, 304)         620076    \n",
            "_________________________________________________________________\n",
            "blocks_35 (MBConvBlock)      (None, 7, 7, 304)         1420364   \n",
            "_________________________________________________________________\n",
            "blocks_36 (MBConvBlock)      (None, 7, 7, 304)         1420364   \n",
            "_________________________________________________________________\n",
            "blocks_37 (MBConvBlock)      (None, 7, 7, 304)         1420364   \n",
            "_________________________________________________________________\n",
            "blocks_38 (MBConvBlock)      (None, 7, 7, 304)         1420364   \n",
            "_________________________________________________________________\n",
            "blocks_39 (MBConvBlock)      (None, 7, 7, 304)         1420364   \n",
            "_________________________________________________________________\n",
            "blocks_40 (MBConvBlock)      (None, 7, 7, 304)         1420364   \n",
            "_________________________________________________________________\n",
            "blocks_41 (MBConvBlock)      (None, 7, 7, 304)         1420364   \n",
            "_________________________________________________________________\n",
            "blocks_42 (MBConvBlock)      (None, 7, 7, 304)         1420364   \n",
            "_________________________________________________________________\n",
            "blocks_43 (MBConvBlock)      (None, 7, 7, 304)         1420364   \n",
            "_________________________________________________________________\n",
            "blocks_44 (MBConvBlock)      (None, 7, 7, 304)         1420364   \n",
            "_________________________________________________________________\n",
            "blocks_45 (MBConvBlock)      (None, 7, 7, 304)         1420364   \n",
            "_________________________________________________________________\n",
            "blocks_46 (MBConvBlock)      (None, 7, 7, 304)         1420364   \n",
            "_________________________________________________________________\n",
            "blocks_47 (MBConvBlock)      (None, 7, 7, 304)         1420364   \n",
            "_________________________________________________________________\n",
            "blocks_48 (MBConvBlock)      (None, 7, 7, 304)         1420364   \n",
            "_________________________________________________________________\n",
            "blocks_49 (MBConvBlock)      (None, 7, 7, 304)         1420364   \n",
            "_________________________________________________________________\n",
            "blocks_50 (MBConvBlock)      (None, 7, 7, 304)         1420364   \n",
            "_________________________________________________________________\n",
            "blocks_51 (MBConvBlock)      (None, 7, 7, 304)         1420364   \n",
            "_________________________________________________________________\n",
            "blocks_52 (MBConvBlock)      (None, 7, 7, 512)         1800588   \n",
            "_________________________________________________________________\n",
            "blocks_53 (MBConvBlock)      (None, 7, 7, 512)         3989632   \n",
            "_________________________________________________________________\n",
            "blocks_54 (MBConvBlock)      (None, 7, 7, 512)         3989632   \n",
            "_________________________________________________________________\n",
            "blocks_55 (MBConvBlock)      (None, 7, 7, 512)         3989632   \n",
            "_________________________________________________________________\n",
            "blocks_56 (MBConvBlock)      (None, 7, 7, 512)         3989632   \n",
            "_________________________________________________________________\n",
            "head (Head)                  (None, 1280)              660480    \n",
            "=================================================================\n",
            "Total params: 53,150,388\n",
            "Trainable params: 52,858,356\n",
            "Non-trainable params: 292,032\n",
            "_________________________________________________________________\n"
          ]
        }
      ]
    },
    {
      "cell_type": "code",
      "metadata": {
        "id": "yFA-a84guOFE",
        "colab": {
          "base_uri": "https://localhost:8080/"
        },
        "outputId": "31fdf436-005a-403c-9ced-63b6f56ee52f"
      },
      "source": [
        "diag_model = tf.keras.Sequential()\n",
        "# densenet = tf.keras.applications.densenet.DenseNet121(weights='imagenet')\n",
        "# model_handle = 'https://tfhub.dev/google/imagenet/efficientnet_v2_imagenet21k_m/feature_vector/2'\n",
        "# efficientNet = hub.KerasLayer(model_handle, trainable=True)\n",
        "\n",
        "diag_model.add(model)\n",
        "diag_model.add(tf.keras.layers.Dense(1, activation=tf.keras.activations.sigmoid))\n",
        "diag_model.build((None,)+(IMG_SIZE,IMG_SIZE)+(3,))\n",
        "diag_model.summary()"
      ],
      "execution_count": 18,
      "outputs": [
        {
          "output_type": "stream",
          "name": "stdout",
          "text": [
            "Model: \"sequential_2\"\n",
            "_________________________________________________________________\n",
            "Layer (type)                 Output Shape              Param #   \n",
            "=================================================================\n",
            "efficientnetv2-m (EffNetV2Mo (None, 1280)              53150388  \n",
            "_________________________________________________________________\n",
            "dense_1 (Dense)              (None, 1)                 1281      \n",
            "=================================================================\n",
            "Total params: 53,151,669\n",
            "Trainable params: 52,859,637\n",
            "Non-trainable params: 292,032\n",
            "_________________________________________________________________\n"
          ]
        }
      ]
    },
    {
      "cell_type": "code",
      "metadata": {
        "id": "EJ8bYNTPucYs"
      },
      "source": [
        "#taken from https://ecode.dev/cnn-for-medical-imaging-using-tensorflow-2/\n",
        "from tensorflow.keras.metrics import TruePositives, FalsePositives, TrueNegatives, FalseNegatives, BinaryAccuracy, Precision, Recall, AUC\n",
        "from tensorflow.keras.metrics import SpecificityAtSensitivity, SensitivityAtSpecificity\n",
        "\n",
        "METRICS = [\n",
        "      TruePositives(name='tp'),\n",
        "      FalsePositives(name='fp'),\n",
        "      TrueNegatives(name='tn'),\n",
        "      FalseNegatives(name='fn'), \n",
        "      BinaryAccuracy(name='accuracy'),\n",
        "      Precision(name='precision'),\n",
        "      Recall(name='recall'),\n",
        "      AUC(name='auc'),\n",
        "      SpecificityAtSensitivity(.5, name='specificity'),\n",
        "      SensitivityAtSpecificity(.5, name='sensitivity'),\n",
        "]"
      ],
      "execution_count": 22,
      "outputs": []
    },
    {
      "cell_type": "code",
      "metadata": {
        "id": "TpW0p1BiucYs"
      },
      "source": [
        "diag_model.compile(\n",
        "  optimizer=tf.keras.optimizers.SGD(learning_rate=0.001, momentum=.9), \n",
        "  loss=tf.keras.losses.BinaryCrossentropy(),\n",
        "  metrics=METRICS)"
      ],
      "execution_count": 23,
      "outputs": []
    },
    {
      "cell_type": "code",
      "metadata": {
        "id": "4xXjzjmOucYt"
      },
      "source": [
        "BetterDir = '/content/drive/MyDrive/AP PA Stuff/Datasets/Tensorflow/daignosis/'\n",
        "checkpoint_path = BetterDir + \"cp.ckpt\"\n",
        "checkpoint_dir = os.path.dirname(checkpoint_path)\n",
        "\n",
        "# Create a callback that saves the model's weights\n",
        "cp_callback = tf.keras.callbacks.ModelCheckpoint(filepath=checkpoint_path,\n",
        "                                                 save_weights_only=True,\n",
        "                                                 verbose=1, moniter=['tp','fp', 'tn', 'fn', 'accuracy', 'precision', 'recall', 'auc', 'specificity', 'sensitivity','val_tp','val_fp', 'val_tn', 'val_fn', 'val_accuracy', 'val_precision', 'val_recall', 'val_auc', 'val_specificity', 'val_sensitivity'])"
      ],
      "execution_count": 24,
      "outputs": []
    },
    {
      "cell_type": "code",
      "metadata": {
        "id": "WlfykyGTucYt"
      },
      "source": [
        "class ClearStuff(tf.keras.callbacks.Callback):\n",
        "    def on_epoch_end(self, epoch, logs=None):\n",
        "        gc.collect()\n",
        "        tf.keras.backend.clear_session()\n",
        "\n",
        "reduce_lr = tf.keras.callbacks.ReduceLROnPlateau(monitor='val_loss', factor=0.1,\n",
        "                              patience=5)"
      ],
      "execution_count": 31,
      "outputs": []
    },
    {
      "cell_type": "code",
      "metadata": {
        "id": "A6o60tQFvXVU"
      },
      "source": [
        "steps_per_epoch = dataset_length*.8 // BATCH_SIZE\n",
        "validation_steps = dataset_length*.2 // BATCH_SIZE\n",
        "\n",
        "def train(): \n",
        "  hist = diag_model.fit(\n",
        "    train_ds,\n",
        "    epochs=epoch_number, steps_per_epoch=steps_per_epoch,\n",
        "    validation_data=valid_ds,\n",
        "    validation_steps=validation_steps,\n",
        "    callbacks=[cp_callback, ClearStuff(), reduce_lr]).history \n",
        "  return hist\n",
        "hist=train()"
      ],
      "execution_count": null,
      "outputs": []
    },
    {
      "cell_type": "markdown",
      "metadata": {
        "id": "c9jS-WwGuxW-"
      },
      "source": [
        "###Training\n"
      ]
    },
    {
      "cell_type": "code",
      "metadata": {
        "id": "oXCrrs7muxW_"
      },
      "source": [
        "import gc\n",
        "# kaggle_metadata_path = colabDir + 'stage_2_train_images/stage_2_detailed_class_info.csv'\n",
        "# kaggle_metadata = pd.read_csv(kaggle_metadata_path)\n",
        "IMG_SIZE= 256\n",
        "BATCH_SIZE = 32\n",
        "\n",
        "def read_training_dataset(file_name, label):\n",
        "  image = tf.io.read_file(file_name)\n",
        "  if label == 999.0:\n",
        "    # print(kaggle_metadata.loc[kaggle_metadata['patientId'] == id]['class'])\n",
        "    image = tfio.image.decode_dicom_image(image)[0,:,:,:]\n",
        "    image = tf.image.resize(image, [IMG_SIZE, IMG_SIZE])\n",
        "    image = tf.image.grayscale_to_rgb(image)\n",
        "  else:\n",
        "    image = tf.image.decode_jpeg(image, channels=3)\n",
        "    image = tf.image.resize(image, [IMG_SIZE, IMG_SIZE])\n",
        "  time.sleep(.002)\n",
        "  gc.collect()\n",
        "  return image, label\n"
      ],
      "execution_count": 25,
      "outputs": []
    },
    {
      "cell_type": "code",
      "metadata": {
        "id": "l94mUFQ0uxW_"
      },
      "source": [
        "#TEST ON 13-24 FILE GROUPS AND KAGGLE TEST"
      ],
      "execution_count": 26,
      "outputs": []
    },
    {
      "cell_type": "code",
      "metadata": {
        "id": "GSdFi3truxW_"
      },
      "source": [
        "Kaggle_AP = 0\n",
        "Kaggle_PA = 0\n",
        "IEEE_PA = 0\n",
        "IEEE_AP = 0\n",
        "epoch_number = 50\n",
        "num_shards = 4\n",
        "\n",
        "def train_gen(half=None):\n",
        "  global file_count\n",
        "  global Kaggle_AP\n",
        "  global Kaggle_PA\n",
        "  global IEEE_AP\n",
        "  global IEEE_PA\n",
        "\n",
        "  dataDir = 'NIH/'\n",
        "\n",
        "  #Getting dcm file paths from premade folders\n",
        "  #I manually Separated dcm into seperate folders bc google couldnt read 26k files in one line\n",
        "  file_paths = []\n",
        "  labels = []\n",
        "  metadata_path = 'NIH Metadata.csv'\n",
        "  file_dir_names = [str(i) for i in range(1,22)] #23-74 have rest of files\n",
        "  metadata = pd.read_csv(colabDir + dataDir + metadata_path)\n",
        "  for name in file_dir_names:\n",
        "    file_dir = colabDir + dataDir + name + '/'\n",
        "    files = os.listdir(file_dir)\n",
        "    for file_ in files:\n",
        "      file_paths.append(file_dir + file_)\n",
        "      label = (metadata.loc[metadata['Image Index'] == file_]['Finding Labels'])\n",
        "      if label.any() == 'No Finding':\n",
        "        label = 0.0\n",
        "      else:\n",
        "        label = 1.0\n",
        "      labels.append(label)\n",
        "\n",
        "\n",
        "  #oop cheXpert time (run that cell first)\n",
        "  name ='CheXpert Dataset'\n",
        "  dataDir = 'CheXpert-v1.0-small/'\n",
        "\n",
        "  #/content/drive/MyDrive/AP PA Stuff/Datasets/Original/CheXpert-v1.0-small/train.csv\n",
        "  #/content/drive/MyDrive/AP PA Stuff/Datasets/Original/CheXpert-v1.0-small/valid.csv\n",
        "  METADATA_CSV_PATH = colabDir + dataDir + 'train.csv' #train metadata path\n",
        "  METADATA_CSV_PATH2 = colabDir + dataDir + 'valid.csv' #validation metadata path\n",
        "  metadata = pd.read_csv(METADATA_CSV_PATH)\n",
        "  metadata2 = pd.read_csv(METADATA_CSV_PATH2)\n",
        "  metadata = pd.concat([metadata, metadata2], ignore_index=True)\n",
        "\n",
        "  #Only take 20k images\n",
        "  metadata = metadata[:25000]\n",
        "\n",
        "  #Getting image file paths from csv\n",
        "  chexpert_file_paths = list(metadata['Path'].values)\n",
        "\n",
        "  #Colab file path example: /content/drive/MyDrive/AP PA Stuff/Datasets/Original/CheXpert-v1.0-small/train/patient00001/study1/view1_frontal.jpg\n",
        "  #Change file paths to work with colab\n",
        "  for ind, path in enumerate(chexpert_file_paths):\n",
        "    chexpert_file_paths[ind] = colabDir + path\n",
        "  #Get AP/PA label\n",
        "  chexpert_labels = list(metadata['No Finding'].values)\n",
        "  for ind, label in enumerate(chexpert_labels):\n",
        "    if label != 1:\n",
        "      chexpert_labels[ind] = 0.0\n",
        "    else:\n",
        "      chexpert_labels[ind] = 1.0\n",
        "\n",
        "  labels.extend(chexpert_labels)\n",
        "  file_paths.extend(chexpert_file_paths)\n",
        "\n",
        "  for ind, label in enumerate(labels):\n",
        "    if label == 999.0 or label == 0.0 or label == 1.0:\n",
        "      continue\n",
        "    elif int(label) == 1:\n",
        "      labels[ind] = 1.0\n",
        "    elif int(label) == 0:\n",
        "      labels[ind] = 0.0\n",
        "    else:\n",
        "      raise\n",
        "\n",
        "\n",
        "  zipped = list(zip(file_paths, labels))\n",
        "  random.shuffle(zipped)\n",
        "\n",
        "  ind=0\n",
        "  # return labels\n",
        "  while ind<len(zipped):\n",
        "    image = tf.io.read_file(file_paths[ind])\n",
        "    image = tf.image.decode_jpeg(image, channels=3)\n",
        "    image = tf.image.resize(image, [IMG_SIZE, IMG_SIZE])\n",
        "    label = labels[ind]\n",
        "    yield zipped[ind][0], zipped[ind][1]\n",
        "    ind+=1"
      ],
      "execution_count": 27,
      "outputs": []
    },
    {
      "cell_type": "code",
      "metadata": {
        "colab": {
          "base_uri": "https://localhost:8080/"
        },
        "id": "b1NqA7QLuxXA",
        "outputId": "4643460d-c200-4fe5-ca8f-393b0689c090"
      },
      "source": [
        "def create_train():\n",
        "  dataset = tf.data.Dataset.from_generator(train_gen, output_signature=(tf.TensorSpec(shape=(), dtype=tf.string), tf.TensorSpec(shape=(), dtype=tf.float32)))\n",
        "  dataset = dataset.apply(tf.data.experimental.assert_cardinality(59999)) #34999(NIH) --20353 no finding, 14646 diseased + 25000(CheXpert)\n",
        "  dataset_length = dataset.cardinality().numpy()\n",
        "  buffer_size = int(.1 * dataset_length)\n",
        "  # shard_size = -(-dataset_size // num_shards)\n",
        "  \n",
        "  # shuffled_shards = []\n",
        "  # for i in shards:\n",
        "  #     subshard = shard(i)\n",
        "  #     subshard = subshard.interleave(lambda x: x, cycle_length=4, block_length=1)\n",
        "  #     shuffled_shards.append(subshard.shuffle(buffer_size=buffer_size))\n",
        "  # shuffled_shards = tf.data.Dataset.from_tensor_slices(shuffled_shards)\n",
        "  # dataset = shuffled_shards.interleave(lambda x: x, cycle_length=4, block_length=1)\n",
        "  # dataset = dataset.shuffle(num_shards)\n",
        "  # print(dataset)\n",
        "  dataset = dataset.shuffle(buffer_size=buffer_size)\n",
        "  dataset = dataset.map(read_training_dataset, num_parallel_calls=tf.data.AUTOTUNE)\n",
        "\n",
        "  print(dataset)\n",
        "  dataset = dataset.map(normalize)\n",
        "  train_ds, valid_ds, test_ds = training_split(dataset, training_prop=.8, validation_prop=.2, testing_prop=0, train=True)\n",
        "  train_ds = train_ds.map(lambda images, labels: (preprocessing_model(images), labels))\n",
        "  train_ds = train_ds.batch(BATCH_SIZE).repeat(epoch_number).prefetch(tf.data.AUTOTUNE)\n",
        "  valid_ds = valid_ds.batch(BATCH_SIZE).repeat(epoch_number).prefetch(tf.data.AUTOTUNE)\n",
        "  # test_ds = test_ds.batch(BATCH_SIZE).prefetch(tf.data.AUTOTUNE)\n",
        "  return dataset_length, train_ds, valid_ds, test_ds\n",
        "dataset_length, train_ds, valid_ds, test_ds = create_train()"
      ],
      "execution_count": 28,
      "outputs": [
        {
          "output_type": "stream",
          "name": "stdout",
          "text": [
            "<ParallelMapDataset shapes: ((224, 224, 3), ()), types: (tf.float32, tf.float32)>\n",
            "c\n",
            "d\n",
            "e\n",
            "f\n",
            "g\n",
            "h\n",
            "i\n",
            "j\n"
          ]
        }
      ]
    },
    {
      "cell_type": "code",
      "metadata": {
        "colab": {
          "base_uri": "https://localhost:8080/"
        },
        "id": "ySecEVanuxXA",
        "outputId": "ef65bf88-6fcf-4fc4-da24-6f0751728c84"
      },
      "source": [
        "from google.colab import drive \n",
        "drive.mount('/content/drive')"
      ],
      "execution_count": 29,
      "outputs": [
        {
          "output_type": "stream",
          "name": "stdout",
          "text": [
            "Drive already mounted at /content/drive; to attempt to forcibly remount, call drive.mount(\"/content/drive\", force_remount=True).\n"
          ]
        }
      ]
    }
  ]
}